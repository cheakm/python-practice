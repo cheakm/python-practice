{
 "cells": [
  {
   "cell_type": "markdown",
   "metadata": {},
   "source": [
    "# 이미지 수집\n",
    "\n",
    "## google images download 라이브러리\n",
    "- 다운받고 싶은 이미지 keyword를 입력하면 구글에서 이미지 검색해서 다운로드 하는 라이브러리\n",
    "- CLI (Command Line Interface) 환경에서 명령어를 이용해 다운받는 방법과 python 코드로 작성해 다운받는 2가지 방식을 다 지원한다.\n",
    "- doc: https://google-images-download.readthedocs.io/en/latest/installation.html\n",
    "- github : https://github.com/Joeclinton1/google-images-download\n",
    "\n",
    "### 설치\n",
    "- `!pip install git+https://github.com/Joeclinton1/google-images-download.git`\n",
    "- 100개 이상의 이미지를 다운받기 위해서는 Chromedriver를 받아서 옵션에 설정한다.\n",
    "    - https://chromedriver.chromium.org/downloads"
   ]
  },
  {
   "cell_type": "markdown",
   "metadata": {},
   "source": [
    "### 명령프롬프트에서 실행\n",
    "- 구문\n",
    "```\n",
    "googleimagesdownload --옵션 옵션값\n",
    "ex) googleimagesdownload --keywords \"Polar bears, baloons, Beaches\" --limit 20 -f jpg\n",
    "```\n",
    "- chrome driver 연동시 `--chromedriver 드라이버경로`  설정\n",
    "```\n",
    "googleimagesdownload keywords \"Polar bears, baloons, Beaches\" --limit 1000 --chromedriver C:\\Users\\domain\\Downloads\\chromedriver_win32\\chromedriver.exe\n",
    "```\n",
    "- 옵션: https://google-images-download.readthedocs.io/en/latest/arguments.html"
   ]
  },
  {
   "cell_type": "markdown",
   "metadata": {},
   "source": [
    "### 설정파일\n",
    "- 매직커맨드 : 단어별로 옵션 다르게 줄때, 옵션을 키값으로 입력\n",
    "- 자바스크립트는 true 소문자로"
   ]
  },
  {
   "cell_type": "code",
   "execution_count": 1,
   "metadata": {},
   "outputs": [
    {
     "name": "stdout",
     "output_type": "stream",
     "text": [
      "Writing config2.json\n"
     ]
    }
   ],
   "source": [
    "%%writefile config2.json\n",
    "{\n",
    "    \"Records\":[\n",
    "        {\"keywords\":\"apple\",\n",
    "         \"limit\":5,\n",
    "         \"format\":\"jpg\",\n",
    "         \"color-type\":\"full-color\",\n",
    "         \"print_url\":true,\n",
    "         \"print_size\":true\n",
    "        },\n",
    "        {\"keywords\":\"strawberry\",\n",
    "         \"limit\":10,\n",
    "         \"format\":\"jpg\",\n",
    "         \"color-type\":\"full-color\",\n",
    "         \"print_url\":true,\n",
    "         \"print_size\":true\n",
    "        }\n",
    "    ]\n",
    "}"
   ]
  },
  {
   "cell_type": "code",
   "execution_count": 2,
   "metadata": {},
   "outputs": [
    {
     "name": "stdout",
     "output_type": "stream",
     "text": [
      "\n",
      "Item no.: 1 --> Item name = apple\n",
      "Evaluating...\n",
      "Starting Download...\n",
      "Image Size: 28.3 KB\n",
      "Completed Image ====> 1.og-default.jpg\n",
      "URLError on an image...trying next one... Error: <urlopen error [SSL: CERTIFICATE_VERIFY_FAILED] certificate verify failed: self signed certificate in certificate chain (_ssl.c:1091)>\n",
      "Image Size: 15.9 KB\n",
      "Completed Image ====> 2.aauvwnjmqg0vnjympsea4x60oqgj6a_ko4clp0duhrg0ca=s900-c-k-c0x00ffffff-no-rj.jpg\n",
      "Image Size: 5.0 KB\n",
      "Completed Image ====> 3.p7zz5dxz_400x400.jpg\n",
      "Image Size: 57.5 KB\n",
      "Completed Image ====> 4.airtag-og-202104.jpg\n",
      "Image Size: 291.3 KB\n",
      "Completed Image ====> 5.untitled.png.jpg\n",
      "\n",
      "Errors: 1\n",
      "\n",
      "\n",
      "Everything downloaded!\n",
      "Total errors: 1\n",
      "Total time taken: 5.126995325088501 Seconds\n",
      "\n",
      "Item no.: 1 --> Item name = strawberry\n",
      "Evaluating...\n",
      "Starting Download...\n",
      "Image Size: 14.2 MB\n",
      "Completed Image ====> 1.garden_strawberry_%28fragaria_%c3%97_ananassa%29_single.jpg\n",
      "Image Size: 64.3 KB\n",
      "Completed Image ====> 2.fraise-large.jpg\n",
      "Image Size: 64.4 KB\n",
      "Completed Image ====> 3.38549598_303.jpg\n",
      "Image Size: 400.2 KB\n",
      "Completed Image ====> 4.flowers-fruits-garden-strawberry-plant-species.jpg\n",
      "Image Size: 45.1 KB\n",
      "Completed Image ====> 5.product-packshot-strawberrie-558x600.jpg\n",
      "Image Size: 288.0 KB\n",
      "Completed Image ====> 6.1598531754blobid0.jpg\n",
      "Image Size: 138.5 KB\n",
      "Completed Image ====> 7.strawberries-header-og.jpg\n",
      "Image Size: 1.2 MB\n",
      "Completed Image ====> 8.1432664914-strawberry-facts1.jpg\n",
      "Image Size: 98.9 KB\n",
      "Completed Image ====> 9.strawberries-1296x728-feature.jpg\n",
      "Image Size: 71.3 KB\n",
      "Completed Image ====> 10.shutterstock_142361884.jpg\n",
      "\n",
      "Errors: 0\n",
      "\n",
      "\n",
      "Everything downloaded!\n",
      "Total errors: 1\n",
      "Total time taken: 23.860039234161377 Seconds\n"
     ]
    }
   ],
   "source": [
    "!googleimagesdownload --config_file config2.json"
   ]
  },
  {
   "cell_type": "code",
   "execution_count": 3,
   "metadata": {},
   "outputs": [],
   "source": [
    "# 파이썬 코드로 다운로드"
   ]
  },
  {
   "cell_type": "code",
   "execution_count": 4,
   "metadata": {},
   "outputs": [],
   "source": [
    "from google_images_download import google_images_download\n",
    "\n",
    "response = google_images_download.googleimagesdownload()"
   ]
  },
  {
   "cell_type": "code",
   "execution_count": 8,
   "metadata": {},
   "outputs": [],
   "source": [
    "args = {\n",
    "    \"kewords\":\"퐁키\",\n",
    "    \"limit\":10,\n",
    "    \"format\":\"jpg\",\n",
    "    \"print_url\":True,\n",
    "    \"print_size\":True\n",
    "}"
   ]
  },
  {
   "cell_type": "code",
   "execution_count": 9,
   "metadata": {},
   "outputs": [
    {
     "name": "stdout",
     "output_type": "stream",
     "text": [
      "-------------------------------\n",
      "Uh oh! Keywords is a required argument \n",
      "\n",
      "Please refer to the documentation on guide to writing queries \n",
      "https://github.com/hardikvasa/google-images-download#examples\n",
      "\n",
      "exiting!\n",
      "-------------------------------\n"
     ]
    },
    {
     "ename": "SystemExit",
     "evalue": "",
     "output_type": "error",
     "traceback": [
      "An exception has occurred, use %tb to see the full traceback.\n",
      "\u001b[1;31mSystemExit\u001b[0m\n"
     ]
    }
   ],
   "source": [
    "path = response.download(args)"
   ]
  },
  {
   "cell_type": "markdown",
   "metadata": {},
   "source": [
    "## 영상 무료 제공 사이트\n",
    "\n",
    "다음 사이트들은 영상에 저자권 없이 무료로 다운 받아 사용할 수 있는 사이트들\n",
    "- pixabay: https://pixabay.com/ko/\n",
    "- Unsplash: https://unsplash.com/"
   ]
  },
  {
   "cell_type": "markdown",
   "metadata": {},
   "source": [
    "## 이미지 캡쳐를 이용한 데이터 수집\n",
    "- OpenCV의 VideoCapture를 이용해 이미지 수집"
   ]
  },
  {
   "cell_type": "code",
   "execution_count": 11,
   "metadata": {},
   "outputs": [],
   "source": [
    "import cv2\n",
    "import sys\n",
    "import time\n",
    "import uuid\n",
    "import os"
   ]
  },
  {
   "cell_type": "code",
   "execution_count": 12,
   "metadata": {},
   "outputs": [],
   "source": [
    "IMAGE_DIR = 'images'\n",
    "if not os.path.isdir(IMAGE_DIR):\n",
    "    os.mkdir(IMAGE_DIR)"
   ]
  },
  {
   "cell_type": "code",
   "execution_count": 13,
   "metadata": {},
   "outputs": [],
   "source": [
    "labels =['one','two','three','four','five']\n",
    "n_images = 15 # 카테고리별로 몇장씩 만들지"
   ]
  },
  {
   "cell_type": "code",
   "execution_count": null,
   "metadata": {},
   "outputs": [],
   "source": [
    "cap = cv2.VideoCapture(0)\n",
    "if not cap.isOpened():\n",
    "    print('웹캠 연결 실패')\n",
    "    \n",
    "#웸캠 이미지 사이즈 설정\n",
    "cap.set(cv2.CAP_PROP_FRAME_WIDTH,640)\n",
    "cap.set(cv2.CAP_PROP_FRAME_HEIGHT,480)\n",
    "\n",
    "break_all = False #중복 반복문 전체를 빠져나오기 위해\n",
    "\n",
    "#라벨별로 반복해서 캡쳐\n",
    "for label in labels:\n",
    "    print(f\"{label}라벨 캡쳐\")\n",
    "    time.sleep(2) #2초 대기시간\n",
    "    \n",
    "    #이미지 n_images 개수만큼 캡쳐\n",
    "    #한번 반복할때마다 한장씩 캡쳐\n",
    "    for img_num in range(n_images):\n",
    "        ret, frame = cap.read() #캡쳐: 성공여부, 캡쳐이미지-엔디어래이로 반환\n",
    "        \n",
    "        frame = cv2.flip(frame,1)\n",
    "        filename = \"{}-{}\".format(label, str(uuid.uuid1())) #uuid1이라는 함수: 난수개념\n",
    "        file_path = os.path.join(IMAGE_DIR,filename)\n",
    "        #화면에 출력\n",
    "        cv2.imshow('frame',frame)\n",
    "        #캡쳐, 이미지파일로 저장\n",
    "        cv2.imwrite(file_path, frame)\n",
    "        print(f\"{img_num}번째,\", end =\" \")\n",
    "        \n",
    "        if cv2.waitKey(2000) ==27: #esc 누르면 강제종료/웨이트키 : 2초후에 다음동작을 캡쳐\n",
    "            #2초기다렸는데도 esc안누르면 반복문 다시 돌아감\n",
    "            print(\"강제종료\")\n",
    "            break_all = True\n",
    "            break\n",
    "    if break_all:\n",
    "        break\n",
    "    print()\n",
    "    \n",
    "#종료\n",
    "cap.release()\n",
    "cv2.destroyAllWindows()"
   ]
  },
  {
   "cell_type": "markdown",
   "metadata": {},
   "source": [
    "# LabelImg 를 이용한 Object Detection 데이터 Labelling\n",
    "- github에서 다운 받은 뒤 압축풀기\n",
    "    - https://github.com/tzutalin/labelImg\n",
    "- 의존 라이브러리 설치\n",
    "    - conda install pyqt=5\n",
    "    - conda install -c anaconda lxml\n",
    "    - pyrcc5 -o libs/resources.py resources.qrc\n",
    "- data\\predefined_classes.txt 변경\n",
    "    - Labeling할 대상 클래스들로 변경\n",
    "- 실행\n",
    "    - `python labelImg.py`\n",
    "    - 메뉴: view > Auto save mode 체크\n",
    "    - open dir - labeling할 이미지 디렉토리 열기\n",
    "    - change save dir: annotation 파일 저장 디렉토리 설정\n",
    "    - Labelling Format 지정: Pascal VOC, YOLO\n",
    "- 주요 단축키\n",
    "|단축키|설명|\n",
    "|-|-|\n",
    "|w|BBox 그리기|\n",
    "|d|다음 이미지|\n",
    "|a|이전 이미지|\n",
    "|del|BBox 삭제|\n",
    "|ctrl+shift+d|현재 이미지 삭제|\n"
   ]
  },
  {
   "cell_type": "code",
   "execution_count": null,
   "metadata": {},
   "outputs": [],
   "source": []
  }
 ],
 "metadata": {
  "kernelspec": {
   "display_name": "Python 3",
   "language": "python",
   "name": "python3"
  },
  "language_info": {
   "codemirror_mode": {
    "name": "ipython",
    "version": 3
   },
   "file_extension": ".py",
   "mimetype": "text/x-python",
   "name": "python",
   "nbconvert_exporter": "python",
   "pygments_lexer": "ipython3",
   "version": "3.7.10"
  }
 },
 "nbformat": 4,
 "nbformat_minor": 4
}
