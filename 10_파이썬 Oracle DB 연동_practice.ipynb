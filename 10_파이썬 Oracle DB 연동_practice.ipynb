{
 "cells": [
  {
   "cell_type": "markdown",
   "metadata": {},
   "source": [
    "## 코딩절차\n",
    "1.cx_Oracle 모듈 import(파이썬에서 오라클dbms와 연동하는 다양한 함수를 제공하는 모듈)\n",
    "\n",
    "2. cx_Oracle모듈의 connect()함수를 이용해 db연결\n",
    "\n",
    "3. connection 객체의 cursor 메소드를 이용해 cursor 객체 조회\n",
    "    - 커서객체: sql문을 전송하고 select결과 조회 기능을 제공하는 객체/\n",
    "    \n",
    "4. cursor의 execute()메소드를 이용해 sql문 전송\n",
    "\n",
    "5. select의 경우 결과 조회 : cursor의 fetch 메소드사용\n",
    "\n",
    "6. insert,delete,upgrade의 경우 sql문 실행 후 커넥션의 커밋 메소드를 통해 transaction\n",
    "\n",
    "7. connection, cursor 연결닫기\n"
   ]
  },
  {
   "cell_type": "markdown",
   "metadata": {},
   "source": [
    "## connection : db연결\n"
   ]
  },
  {
   "cell_type": "code",
   "execution_count": 2,
   "metadata": {},
   "outputs": [
    {
     "name": "stdout",
     "output_type": "stream",
     "text": [
      "<class 'cx_Oracle.Connection'>\n"
     ]
    }
   ],
   "source": [
    "import cx_Oracle\n",
    "username = \"c##scott_join\"\n",
    "password = \"tiger\"\n",
    "url = \"localhost:1521/XE\" #HOST:PORT/SID\n",
    "conn = cx_Oracle.connect(username,password,url)\n",
    "print(type(conn))\n",
    "conn.close()"
   ]
  },
  {
   "cell_type": "code",
   "execution_count": 3,
   "metadata": {},
   "outputs": [
    {
     "name": "stdout",
     "output_type": "stream",
     "text": [
      "<class 'cx_Oracle.Connection'>\n"
     ]
    }
   ],
   "source": [
    "conn2 = cx_Oracle.connect(\"c##scott_join/tiger@localhost:1521/XE\")\n",
    "print(type(conn2))\n",
    "conn2.close()"
   ]
  },
  {
   "cell_type": "code",
   "execution_count": 4,
   "metadata": {},
   "outputs": [
    {
     "name": "stdout",
     "output_type": "stream",
     "text": [
      "(DESCRIPTION=(ADDRESS=(PROTOCOL=TCP)(HOST=localhost)(PORT=1521))(CONNECT_DATA=(SID=XE)))\n",
      "<class 'cx_Oracle.Connection'>\n"
     ]
    }
   ],
   "source": [
    "username = \"c##scott_join\" # 연결방법 3\n",
    "password = \"tiger\"\n",
    "host = \"localhost\"\n",
    "port = 1521\n",
    "sid = 'XE'\n",
    "\n",
    "dsn = cx_Oracle.makedsn(host,port,sid) #dsn 생성\n",
    "print(dsn)\n",
    "conn3 = cx_Oracle.connect(username, password, dsn)\n",
    "print(type(conn3))\n",
    "conn3.close()"
   ]
  },
  {
   "cell_type": "code",
   "execution_count": 6,
   "metadata": {},
   "outputs": [],
   "source": [
    "#with문 : 빠져나올 때 자동 close\n",
    "with cx_Oracle.connect(\"c##scott_join/tiger@localhost:1521/XE\") as conn4:\n",
    "    pass"
   ]
  },
  {
   "cell_type": "markdown",
   "metadata": {},
   "source": [
    "## cursor 객체\n",
    "- sql문을 전송하고 select 결과를 조회하는 메소드를 제공\n",
    "- connection 객체의 cursor()메소드로 받아온다."
   ]
  },
  {
   "cell_type": "markdown",
   "metadata": {},
   "source": [
    "### CURSOR의 주요 메소드\n",
    "- SQL 실행 메소드 : EXECUTE(SQL), EXECUTEMANY(SQL) - 배치처리\n",
    "- SELECT 결과조회 메소드 : fetchall(), fetchone(), fetchmany(n)"
   ]
  },
  {
   "cell_type": "code",
   "execution_count": 8,
   "metadata": {},
   "outputs": [],
   "source": [
    "import cx_Oracle\n",
    "from pprint import pprint"
   ]
  },
  {
   "cell_type": "code",
   "execution_count": 14,
   "metadata": {},
   "outputs": [
    {
     "name": "stdout",
     "output_type": "stream",
     "text": [
      "연결완료\n",
      "<class 'list'> <class 'tuple'>\n",
      "[(1000, '홍길동', 'FI_ACCOUNT'),\n",
      " (1100, '이순신', None),\n",
      " (1200, '박영희', 'FI_ACCOUNT'),\n",
      " (1300, '박영희', 'FI_ACCOUNT'),\n",
      " (1500, '홍길동', 'FI_ACCOUNT'),\n",
      " (1501, '홍길동', 'FI_ACCOUNT'),\n",
      " (100, 'Steven', None),\n",
      " (101, 'Neena', 'AD_VP'),\n",
      " (102, 'Lex', 'AD_VP'),\n",
      " (103, 'Alexander', 'IT_PROG'),\n",
      " (104, 'Bruce', 'IT_PROG'),\n",
      " (105, 'David', 'IT_PROG'),\n",
      " (106, 'Valli', 'IT_PROG'),\n",
      " (107, 'Diana', 'IT_PROG'),\n",
      " (108, 'Nancy', 'FI_MGR'),\n",
      " (109, 'Daniel', 'FI_ACCOUNT'),\n",
      " (110, 'John', 'FI_ACCOUNT'),\n",
      " (111, 'Ismael', 'FI_ACCOUNT'),\n",
      " (112, 'Jose Manuel', 'FI_ACCOUNT'),\n",
      " (113, 'Luis', 'FI_ACCOUNT'),\n",
      " (114, 'Den', 'PU_MAN'),\n",
      " (115, 'Alexander', 'PU_MAN'),\n",
      " (116, 'Shelli', 'PU_CLERK'),\n",
      " (117, 'Sigal', 'PU_CLERK'),\n",
      " (118, 'Guy', 'PU_CLERK'),\n",
      " (119, 'Karen', 'PU_CLERK'),\n",
      " (120, 'Matthew', 'ST_MAN'),\n",
      " (121, 'Adam', 'ST_MAN'),\n",
      " (122, 'Payam', 'ST_MAN'),\n",
      " (123, 'Shanta', 'ST_MAN'),\n",
      " (124, 'Kevin', 'ST_MAN'),\n",
      " (125, 'Julia', 'ST_CLERK'),\n",
      " (126, 'Irene', 'ST_CLERK'),\n",
      " (127, 'James', 'ST_CLERK'),\n",
      " (128, 'Steven', 'ST_CLERK'),\n",
      " (129, 'Laura', 'ST_CLERK'),\n",
      " (130, 'Mozhe', None),\n",
      " (131, 'James', None),\n",
      " (132, 'TJ', 'ST_CLERK'),\n",
      " (133, 'Jason', 'ST_CLERK'),\n",
      " (134, 'Michael', 'ST_CLERK'),\n",
      " (135, 'Ki', 'ST_CLERK'),\n",
      " (136, 'Hazel', 'ST_CLERK'),\n",
      " (137, 'Renske', 'ST_CLERK'),\n",
      " (138, 'Stephen', 'ST_CLERK'),\n",
      " (139, 'John', 'ST_CLERK'),\n",
      " (140, 'Joshua', None),\n",
      " (141, 'Trenna', 'ST_CLERK'),\n",
      " (142, 'Curtis', 'ST_CLERK'),\n",
      " (143, 'Randall', 'ST_CLERK'),\n",
      " (144, 'Peter', 'ST_CLERK'),\n",
      " (145, 'John', 'SA_MAN'),\n",
      " (146, 'Karen', 'SA_MAN'),\n",
      " (147, 'Alberto', 'SA_MAN'),\n",
      " (148, 'Gerald', 'SA_MAN'),\n",
      " (149, 'Eleni', 'SA_MAN'),\n",
      " (150, 'Peter', 'SA_REP'),\n",
      " (151, 'David', 'SA_REP'),\n",
      " (152, 'Peter', 'SA_REP'),\n",
      " (153, 'Christopher', 'SA_REP'),\n",
      " (154, 'Nanette', 'SA_REP'),\n",
      " (155, 'Oliver', 'SA_REP'),\n",
      " (156, 'Janette', 'SA_REP'),\n",
      " (157, 'Patrick', 'SA_REP'),\n",
      " (158, 'Allan', 'SA_REP'),\n",
      " (159, 'Lindsey', 'SA_REP'),\n",
      " (160, 'Louise', 'SA_REP'),\n",
      " (161, 'Sarath', 'SA_REP'),\n",
      " (162, 'Clara', 'SA_REP'),\n",
      " (163, 'Danielle', 'SA_REP'),\n",
      " (164, 'Mattea', 'SA_REP'),\n",
      " (165, 'David', 'SA_REP'),\n",
      " (166, 'Sundar', 'SA_REP'),\n",
      " (167, 'Amit', 'SA_REP'),\n",
      " (168, 'Lisa', 'SA_REP'),\n",
      " (169, 'Harrison', 'SA_REP'),\n",
      " (170, 'Tayler', 'SA_REP'),\n",
      " (171, 'William', 'SA_REP'),\n",
      " (172, 'Elizabeth', 'SA_REP'),\n",
      " (173, 'Sundita', 'SA_REP'),\n",
      " (174, 'Ellen', 'SA_REP'),\n",
      " (175, 'Alyssa', 'SA_REP'),\n",
      " (176, 'Jonathon', 'SA_REP'),\n",
      " (177, 'Jack', 'SA_REP'),\n",
      " (178, 'Kimberely', 'SA_REP'),\n",
      " (179, 'Charles', 'SA_REP'),\n",
      " (180, 'Winston', 'SH_CLERK'),\n",
      " (181, 'Jean', 'SH_CLERK'),\n",
      " (182, 'Martha', 'SH_CLERK'),\n",
      " (183, 'Girard', 'SH_CLERK'),\n",
      " (184, 'Nandita', 'SH_CLERK'),\n",
      " (185, 'Alexis', 'SH_CLERK'),\n",
      " (186, 'Julia', 'SH_CLERK'),\n",
      " (187, 'Anthony', None),\n",
      " (188, 'Kelly', 'SH_CLERK'),\n",
      " (189, 'Jennifer', 'SH_CLERK'),\n",
      " (190, 'Timothy', None),\n",
      " (191, 'Randall', None),\n",
      " (192, 'Sarah', 'SH_CLERK'),\n",
      " (193, 'Britney', 'SH_CLERK'),\n",
      " (194, 'Samuel', 'SH_CLERK'),\n",
      " (195, 'Vance', 'SH_CLERK'),\n",
      " (196, 'Alana', 'SH_CLERK'),\n",
      " (197, 'Kevin', 'SH_CLERK'),\n",
      " (198, 'Donald', 'SH_CLERK'),\n",
      " (199, 'Douglas', 'SH_CLERK'),\n",
      " (200, 'Jennifer', 'AD_ASST'),\n",
      " (201, 'Michael', 'MK_MAN'),\n",
      " (202, 'Pat', 'MK_REP'),\n",
      " (203, 'Susan', 'HR_REP'),\n",
      " (204, 'Hermann', 'PR_REP'),\n",
      " (205, 'Shelley', 'AC_MGR'),\n",
      " (206, 'William', 'AC_ACCOUNT')]\n"
     ]
    },
    {
     "ename": "InterfaceError",
     "evalue": "not connected",
     "output_type": "error",
     "traceback": [
      "\u001b[1;31m---------------------------------------------------------------------------\u001b[0m",
      "\u001b[1;31mInterfaceError\u001b[0m                            Traceback (most recent call last)",
      "\u001b[1;32m<ipython-input-14-4bb2f78671ce>\u001b[0m in \u001b[0;36m<module>\u001b[1;34m\u001b[0m\n\u001b[0;32m     27\u001b[0m         \u001b[0mconn\u001b[0m\u001b[1;33m.\u001b[0m\u001b[0mclose\u001b[0m\u001b[1;33m(\u001b[0m\u001b[1;33m)\u001b[0m\u001b[1;33m\u001b[0m\u001b[1;33m\u001b[0m\u001b[0m\n\u001b[0;32m     28\u001b[0m     \u001b[1;32mif\u001b[0m \u001b[0mcursor\u001b[0m \u001b[1;33m!=\u001b[0m\u001b[1;32mNone\u001b[0m\u001b[1;33m:\u001b[0m\u001b[1;33m\u001b[0m\u001b[1;33m\u001b[0m\u001b[0m\n\u001b[1;32m---> 29\u001b[1;33m         \u001b[0mconn\u001b[0m\u001b[1;33m.\u001b[0m\u001b[0mclose\u001b[0m\u001b[1;33m(\u001b[0m\u001b[1;33m)\u001b[0m\u001b[1;33m\u001b[0m\u001b[1;33m\u001b[0m\u001b[0m\n\u001b[0m",
      "\u001b[1;31mInterfaceError\u001b[0m: not connected"
     ]
    }
   ],
   "source": [
    "select_sql = \"SELECT emp_id,emp_name,job_id FROM emp\"\n",
    "insert_sql = \"INSERT INTO emp Values (1501,'홍길동','FI_ACCOUNT',101, to_date('2021/02/15','yyyy/mm/dd'), 30000, 0.2, 100,'M')\"\n",
    "\n",
    "conn = None\n",
    "cursor = None\n",
    "\n",
    "#insert 후 SELECT\n",
    "\n",
    "try:\n",
    "    \n",
    "    conn = cx_Oracle.connect('c##scott_join/tiger@localhost:1521/XE') \n",
    "    print(\"연결완료\")\n",
    "    cursor = conn.cursor()\n",
    "#sql 실행\n",
    "    cursor.execute(insert_sql)\n",
    "    cursor.execute(select_sql)\n",
    "#select 결과 조회\n",
    "    result = cursor.fetchall()\n",
    "    print(type(result),type(result[0]))\n",
    "    pprint(result)\n",
    "\n",
    "except exception as e:\n",
    "     print(e)\n",
    "    \n",
    "finally:\n",
    "    if conn != None:\n",
    "        conn.close()\n",
    "    if cursor !=None:\n",
    "        conn.close()"
   ]
  },
  {
   "cell_type": "markdown",
   "metadata": {},
   "source": [
    "## placeholder(자리표시자)를 이용해 sql 실행\n",
    "- SQL에 값이 들어갈 자리에 값을 대신할 문자 **`:순번` 또는 `:이름`** 를 넣고 SQL 실행시 값을 전달\n",
    "> placehold 는 DBMS마다 다르다. \n",
    "- execute(SQL, placeholder에 들어갈 값)\n",
    "    - 딕셔너리: placeholder의 이름-값 형식\n",
    "    - 리스트나 튜플: placeholder 순서\n"
   ]
  },
  {
   "cell_type": "code",
   "execution_count": 16,
   "metadata": {},
   "outputs": [
    {
     "name": "stdout",
     "output_type": "stream",
     "text": [
      "15000~20000사이조회\n",
      "[(2001,\n",
      "  '이순신',\n",
      "  'FI_ACCOUNT',\n",
      "  101,\n",
      "  datetime.datetime(2021, 2, 13, 0, 0),\n",
      "  19990.0,\n",
      "  None,\n",
      "  110,\n",
      "  'M'),\n",
      " (101,\n",
      "  'Neena',\n",
      "  'AD_VP',\n",
      "  100,\n",
      "  datetime.datetime(2005, 9, 21, 0, 0),\n",
      "  17000.0,\n",
      "  None,\n",
      "  90,\n",
      "  None),\n",
      " (102,\n",
      "  'Lex',\n",
      "  'AD_VP',\n",
      "  100,\n",
      "  datetime.datetime(2001, 1, 13, 0, 0),\n",
      "  17000.0,\n",
      "  None,\n",
      "  90,\n",
      "  None),\n",
      " (104,\n",
      "  'Bruce',\n",
      "  'IT_PROG',\n",
      "  103,\n",
      "  datetime.datetime(2007, 5, 21, 0, 0),\n",
      "  18000.0,\n",
      "  None,\n",
      "  60,\n",
      "  None)]\n"
     ]
    }
   ],
   "source": [
    "select_sql = \"SELECT * FROM emp WHERE salary BETWEEN :1 AND :2\" #:1과 :2는 나중에 알려줄께(1부터 시작 0번인덱스 값이 1번으로 들어감)\n",
    "insert_sql = \"INSERT INTO emp VALUES\\\n",
    "(:id, :name, :job_id, :mgr_id, to_date(:hire_date, 'yyyymmdd'), :salary, :comm_pct, :dept_id, :gender)\"\n",
    "\n",
    "conn = None\n",
    "cursor = None\n",
    "\n",
    "\n",
    "try:\n",
    "    conn = cx_Oracle.connect('c##scott_join/tiger@localhost:1521/XE')\n",
    "    cursor = conn.cursor()\n",
    "    \n",
    "    param_dict ={\n",
    "        'id':2001,\n",
    "        'name':'이순신',\n",
    "        'job_id':'FI_ACCOUNT',\n",
    "        'mgr_id':101,\n",
    "        'hire_date':'20210213',\n",
    "        'salary':19990,\n",
    "        'comm_pct':None,\n",
    "        'dept_id':110,\n",
    "        'gender':'M'\n",
    "        \n",
    "    }\n",
    "    cursor.execute(insert_sql, param_dict)\n",
    "    cursor.execute(select_sql, [15000,20000])\n",
    "    result1 = cursor.fetchall()\n",
    "    print(\"15000~20000사이조회\")\n",
    "    pprint(result1)\n",
    "except exception as e:\n",
    "    print(e)\n",
    "    \n",
    "finally:\n",
    "    if cursor:\n",
    "        cursor.close()\n",
    "    if conn:\n",
    "        conn.close()"
   ]
  },
  {
   "cell_type": "markdown",
   "metadata": {},
   "source": [
    "## SELECT  결과 조회\n",
    "\n",
    "### fetchone()\n",
    "- 조회결과 한행씩 반환한다.\n",
    "- PK로 조회시 사용한다.\n",
    "- 한행 조회시 사용, 반환타입 : tuple"
   ]
  },
  {
   "cell_type": "code",
   "execution_count": 20,
   "metadata": {},
   "outputs": [],
   "source": [
    "#emp_id(pk)로 직원정보 조회하는 함수\n",
    "def select_emp_by_id(emp_id):\n",
    "    sql = \"SELECT * from emp WHERE emp_id = :1\"\n",
    "    with cx_Oracle.connect('c##scott_join/tiger@localhost:1521/XE') as conn:\n",
    "        with conn.cursor() as cursor:\n",
    "            \n",
    "            #sql 실행\n",
    "            cursor.execute(sql, [emp_id])\n",
    "            result = cursor.fetchone()\n",
    "            return result"
   ]
  },
  {
   "cell_type": "code",
   "execution_count": 21,
   "metadata": {},
   "outputs": [
    {
     "name": "stdout",
     "output_type": "stream",
     "text": [
      "(100, 'Steven', None, 100, datetime.datetime(2003, 6, 17, 0, 0), 27000.0, 0.2, 90, None) id: 100 이름: Steven\n"
     ]
    }
   ],
   "source": [
    "r = select_emp_by_id(100)\n",
    "\n",
    "if r!=None:\n",
    "    print(r, \"id:\", r[0], \"이름:\",r[1])\n",
    "else:\n",
    "    (\"조회결과 없음\")"
   ]
  },
  {
   "cell_type": "code",
   "execution_count": 22,
   "metadata": {},
   "outputs": [
    {
     "name": "stdout",
     "output_type": "stream",
     "text": [
      "(101, 'Neena', 'AD_VP', 100, datetime.datetime(2005, 9, 21, 0, 0), 17000.0, None, 90, None) id: 101 이름: Neena\n"
     ]
    }
   ],
   "source": [
    "r = select_emp_by_id(101)\n",
    "\n",
    "if r:\n",
    "    print(r, \"id:\", r[0], \"이름:\",r[1])\n",
    "    \n",
    "else:\n",
    "    (\"조회결과 없음\")"
   ]
  },
  {
   "cell_type": "code",
   "execution_count": 28,
   "metadata": {},
   "outputs": [
    {
     "name": "stdout",
     "output_type": "stream",
     "text": [
      "10\n",
      "[(100, 'Steven', None, 100, datetime.datetime(2003, 6, 17, 0, 0), 27000.0, 0.2, 90, None), (101, 'Neena', 'AD_VP', 100, datetime.datetime(2005, 9, 21, 0, 0), 17000.0, None, 90, None), (102, 'Lex', 'AD_VP', 100, datetime.datetime(2001, 1, 13, 0, 0), 17000.0, None, 90, None), (103, 'Alexander', 'IT_PROG', 102, datetime.datetime(2006, 1, 3, 0, 0), 27000.0, None, 60, None), (104, 'Bruce', 'IT_PROG', 103, datetime.datetime(2007, 5, 21, 0, 0), 18000.0, None, 60, None), (105, 'David', 'IT_PROG', 103, datetime.datetime(2005, 6, 25, 0, 0), 14400.0, None, 60, None), (106, 'Valli', 'IT_PROG', 103, datetime.datetime(2006, 2, 5, 0, 0), 14400.0, None, 60, None), (107, 'Diana', 'IT_PROG', 103, datetime.datetime(2007, 2, 7, 0, 0), 12600.0, None, 60, None), (108, 'Nancy', 'FI_MGR', 101, datetime.datetime(2002, 8, 17, 0, 0), 12008.0, None, 100, None), (109, 'Daniel', 'FI_ACCOUNT', 108, datetime.datetime(2002, 8, 16, 0, 0), 9000.0, None, 100, None)]\n",
      "10\n",
      "[(100, 'Steven', None, 100, datetime.datetime(2003, 6, 17, 0, 0), 27000.0, 0.2, 90, None), (101, 'Neena', 'AD_VP', 100, datetime.datetime(2005, 9, 21, 0, 0), 17000.0, None, 90, None), (102, 'Lex', 'AD_VP', 100, datetime.datetime(2001, 1, 13, 0, 0), 17000.0, None, 90, None), (103, 'Alexander', 'IT_PROG', 102, datetime.datetime(2006, 1, 3, 0, 0), 27000.0, None, 60, None), (104, 'Bruce', 'IT_PROG', 103, datetime.datetime(2007, 5, 21, 0, 0), 18000.0, None, 60, None), (105, 'David', 'IT_PROG', 103, datetime.datetime(2005, 6, 25, 0, 0), 14400.0, None, 60, None), (106, 'Valli', 'IT_PROG', 103, datetime.datetime(2006, 2, 5, 0, 0), 14400.0, None, 60, None), (107, 'Diana', 'IT_PROG', 103, datetime.datetime(2007, 2, 7, 0, 0), 12600.0, None, 60, None), (108, 'Nancy', 'FI_MGR', 101, datetime.datetime(2002, 8, 17, 0, 0), 12008.0, None, 100, None), (109, 'Daniel', 'FI_ACCOUNT', 108, datetime.datetime(2002, 8, 16, 0, 0), 9000.0, None, 100, None)]\n",
      "10\n",
      "[(100, 'Steven', None, 100, datetime.datetime(2003, 6, 17, 0, 0), 27000.0, 0.2, 90, None), (101, 'Neena', 'AD_VP', 100, datetime.datetime(2005, 9, 21, 0, 0), 17000.0, None, 90, None), (102, 'Lex', 'AD_VP', 100, datetime.datetime(2001, 1, 13, 0, 0), 17000.0, None, 90, None), (103, 'Alexander', 'IT_PROG', 102, datetime.datetime(2006, 1, 3, 0, 0), 27000.0, None, 60, None), (104, 'Bruce', 'IT_PROG', 103, datetime.datetime(2007, 5, 21, 0, 0), 18000.0, None, 60, None), (105, 'David', 'IT_PROG', 103, datetime.datetime(2005, 6, 25, 0, 0), 14400.0, None, 60, None), (106, 'Valli', 'IT_PROG', 103, datetime.datetime(2006, 2, 5, 0, 0), 14400.0, None, 60, None), (107, 'Diana', 'IT_PROG', 103, datetime.datetime(2007, 2, 7, 0, 0), 12600.0, None, 60, None), (108, 'Nancy', 'FI_MGR', 101, datetime.datetime(2002, 8, 17, 0, 0), 12008.0, None, 100, None), (109, 'Daniel', 'FI_ACCOUNT', 108, datetime.datetime(2002, 8, 16, 0, 0), 9000.0, None, 100, None)]\n",
      "30\n",
      "[(100, 'Steven', None, 100, datetime.datetime(2003, 6, 17, 0, 0), 27000.0, 0.2, 90, None), (101, 'Neena', 'AD_VP', 100, datetime.datetime(2005, 9, 21, 0, 0), 17000.0, None, 90, None), (102, 'Lex', 'AD_VP', 100, datetime.datetime(2001, 1, 13, 0, 0), 17000.0, None, 90, None), (103, 'Alexander', 'IT_PROG', 102, datetime.datetime(2006, 1, 3, 0, 0), 27000.0, None, 60, None), (104, 'Bruce', 'IT_PROG', 103, datetime.datetime(2007, 5, 21, 0, 0), 18000.0, None, 60, None), (105, 'David', 'IT_PROG', 103, datetime.datetime(2005, 6, 25, 0, 0), 14400.0, None, 60, None), (106, 'Valli', 'IT_PROG', 103, datetime.datetime(2006, 2, 5, 0, 0), 14400.0, None, 60, None), (107, 'Diana', 'IT_PROG', 103, datetime.datetime(2007, 2, 7, 0, 0), 12600.0, None, 60, None), (108, 'Nancy', 'FI_MGR', 101, datetime.datetime(2002, 8, 17, 0, 0), 12008.0, None, 100, None), (109, 'Daniel', 'FI_ACCOUNT', 108, datetime.datetime(2002, 8, 16, 0, 0), 9000.0, None, 100, None), (110, 'John', 'FI_ACCOUNT', 108, datetime.datetime(2005, 9, 28, 0, 0), 8200.0, None, 100, None), (111, 'Ismael', 'FI_ACCOUNT', 108, datetime.datetime(2005, 9, 30, 0, 0), 7700.0, None, 100, None), (112, 'Jose Manuel', 'FI_ACCOUNT', 108, datetime.datetime(2006, 3, 7, 0, 0), 7800.0, None, 100, None), (113, 'Luis', 'FI_ACCOUNT', 108, datetime.datetime(2007, 12, 7, 0, 0), 6900.0, None, 100, None), (114, 'Den', 'PU_MAN', 100, datetime.datetime(2002, 12, 7, 0, 0), 11000.0, None, 30, None), (115, 'Alexander', 'PU_MAN', 100, datetime.datetime(2003, 5, 18, 0, 0), 9100.0, None, 30, None), (116, 'Shelli', 'PU_CLERK', 114, datetime.datetime(2005, 12, 24, 0, 0), 2900.0, None, 30, None), (117, 'Sigal', 'PU_CLERK', 114, datetime.datetime(2005, 7, 24, 0, 0), 2800.0, None, 30, None), (118, 'Guy', 'PU_CLERK', 114, datetime.datetime(2006, 11, 15, 0, 0), 2600.0, None, 30, None), (119, 'Karen', 'PU_CLERK', 114, datetime.datetime(2007, 8, 10, 0, 0), 2500.0, None, 30, None), (120, 'Matthew', 'ST_MAN', 100, datetime.datetime(2004, 7, 18, 0, 0), 8000.0, None, 50, None), (121, 'Adam', 'ST_MAN', 100, datetime.datetime(2004, 7, 18, 0, 0), 8200.0, None, 50, None), (122, 'Payam', 'ST_MAN', 100, datetime.datetime(2003, 5, 1, 0, 0), 7900.0, None, 50, None), (123, 'Shanta', 'ST_MAN', 100, datetime.datetime(2005, 10, 10, 0, 0), 6500.0, None, 50, None), (124, 'Kevin', 'ST_MAN', 100, datetime.datetime(2007, 11, 16, 0, 0), 5800.0, None, 50, None), (125, 'Julia', 'ST_CLERK', 120, datetime.datetime(2005, 7, 16, 0, 0), 3200.0, None, 50, None), (126, 'Irene', 'ST_CLERK', 120, datetime.datetime(2006, 9, 28, 0, 0), 2700.0, None, 50, None), (127, 'James', 'ST_CLERK', 120, datetime.datetime(2007, 1, 14, 0, 0), 2400.0, None, 50, None), (128, 'Steven', 'ST_CLERK', 120, datetime.datetime(2008, 3, 8, 0, 0), 2200.0, None, 50, None), (129, 'Laura', 'ST_CLERK', 121, datetime.datetime(2005, 7, 16, 0, 0), 3300.0, None, 50, None)]\n",
      "10\n",
      "[(100, 'Steven', None, 100, datetime.datetime(2003, 6, 17, 0, 0), 27000.0, 0.2, 90, None), (101, 'Neena', 'AD_VP', 100, datetime.datetime(2005, 9, 21, 0, 0), 17000.0, None, 90, None), (102, 'Lex', 'AD_VP', 100, datetime.datetime(2001, 1, 13, 0, 0), 17000.0, None, 90, None), (103, 'Alexander', 'IT_PROG', 102, datetime.datetime(2006, 1, 3, 0, 0), 27000.0, None, 60, None), (104, 'Bruce', 'IT_PROG', 103, datetime.datetime(2007, 5, 21, 0, 0), 18000.0, None, 60, None), (105, 'David', 'IT_PROG', 103, datetime.datetime(2005, 6, 25, 0, 0), 14400.0, None, 60, None), (106, 'Valli', 'IT_PROG', 103, datetime.datetime(2006, 2, 5, 0, 0), 14400.0, None, 60, None), (107, 'Diana', 'IT_PROG', 103, datetime.datetime(2007, 2, 7, 0, 0), 12600.0, None, 60, None), (108, 'Nancy', 'FI_MGR', 101, datetime.datetime(2002, 8, 17, 0, 0), 12008.0, None, 100, None), (109, 'Daniel', 'FI_ACCOUNT', 108, datetime.datetime(2002, 8, 16, 0, 0), 9000.0, None, 100, None)]\n",
      "10\n",
      "[(100, 'Steven', None, 100, datetime.datetime(2003, 6, 17, 0, 0), 27000.0, 0.2, 90, None), (101, 'Neena', 'AD_VP', 100, datetime.datetime(2005, 9, 21, 0, 0), 17000.0, None, 90, None), (102, 'Lex', 'AD_VP', 100, datetime.datetime(2001, 1, 13, 0, 0), 17000.0, None, 90, None), (103, 'Alexander', 'IT_PROG', 102, datetime.datetime(2006, 1, 3, 0, 0), 27000.0, None, 60, None), (104, 'Bruce', 'IT_PROG', 103, datetime.datetime(2007, 5, 21, 0, 0), 18000.0, None, 60, None), (105, 'David', 'IT_PROG', 103, datetime.datetime(2005, 6, 25, 0, 0), 14400.0, None, 60, None), (106, 'Valli', 'IT_PROG', 103, datetime.datetime(2006, 2, 5, 0, 0), 14400.0, None, 60, None), (107, 'Diana', 'IT_PROG', 103, datetime.datetime(2007, 2, 7, 0, 0), 12600.0, None, 60, None), (108, 'Nancy', 'FI_MGR', 101, datetime.datetime(2002, 8, 17, 0, 0), 12008.0, None, 100, None), (109, 'Daniel', 'FI_ACCOUNT', 108, datetime.datetime(2002, 8, 16, 0, 0), 9000.0, None, 100, None)]\n",
      "10\n",
      "[(100, 'Steven', None, 100, datetime.datetime(2003, 6, 17, 0, 0), 27000.0, 0.2, 90, None), (101, 'Neena', 'AD_VP', 100, datetime.datetime(2005, 9, 21, 0, 0), 17000.0, None, 90, None), (102, 'Lex', 'AD_VP', 100, datetime.datetime(2001, 1, 13, 0, 0), 17000.0, None, 90, None), (103, 'Alexander', 'IT_PROG', 102, datetime.datetime(2006, 1, 3, 0, 0), 27000.0, None, 60, None), (104, 'Bruce', 'IT_PROG', 103, datetime.datetime(2007, 5, 21, 0, 0), 18000.0, None, 60, None), (105, 'David', 'IT_PROG', 103, datetime.datetime(2005, 6, 25, 0, 0), 14400.0, None, 60, None), (106, 'Valli', 'IT_PROG', 103, datetime.datetime(2006, 2, 5, 0, 0), 14400.0, None, 60, None), (107, 'Diana', 'IT_PROG', 103, datetime.datetime(2007, 2, 7, 0, 0), 12600.0, None, 60, None), (108, 'Nancy', 'FI_MGR', 101, datetime.datetime(2002, 8, 17, 0, 0), 12008.0, None, 100, None), (109, 'Daniel', 'FI_ACCOUNT', 108, datetime.datetime(2002, 8, 16, 0, 0), 9000.0, None, 100, None)]\n",
      "10\n",
      "[(100, 'Steven', None, 100, datetime.datetime(2003, 6, 17, 0, 0), 27000.0, 0.2, 90, None), (101, 'Neena', 'AD_VP', 100, datetime.datetime(2005, 9, 21, 0, 0), 17000.0, None, 90, None), (102, 'Lex', 'AD_VP', 100, datetime.datetime(2001, 1, 13, 0, 0), 17000.0, None, 90, None), (103, 'Alexander', 'IT_PROG', 102, datetime.datetime(2006, 1, 3, 0, 0), 27000.0, None, 60, None), (104, 'Bruce', 'IT_PROG', 103, datetime.datetime(2007, 5, 21, 0, 0), 18000.0, None, 60, None), (105, 'David', 'IT_PROG', 103, datetime.datetime(2005, 6, 25, 0, 0), 14400.0, None, 60, None), (106, 'Valli', 'IT_PROG', 103, datetime.datetime(2006, 2, 5, 0, 0), 14400.0, None, 60, None), (107, 'Diana', 'IT_PROG', 103, datetime.datetime(2007, 2, 7, 0, 0), 12600.0, None, 60, None), (108, 'Nancy', 'FI_MGR', 101, datetime.datetime(2002, 8, 17, 0, 0), 12008.0, None, 100, None), (109, 'Daniel', 'FI_ACCOUNT', 108, datetime.datetime(2002, 8, 16, 0, 0), 9000.0, None, 100, None)]\n"
     ]
    }
   ],
   "source": [
    "sql = \"SELECT * FROM emp ORDER BY emp_id\"\n",
    "\n",
    "with cx_Oracle.connect('c##scott_join/tiger@localhost:1521/XE') as conn:\n",
    "    with conn.cursor() as cursor:\n",
    "        \n",
    "        cursor.execute(sql)\n",
    "        result = cursor.fetchmany(10)\n",
    "        print(len(result))\n",
    "        print(result)\n",
    "        \n",
    "        cursor.execute(sql)\n",
    "        result = cursor.fetchmany(10)\n",
    "        print(len(result))\n",
    "        print(result)\n",
    "        cursor.execute(sql)\n",
    "        result = cursor.fetchmany(10)\n",
    "        print(len(result))\n",
    "        print(result)\n",
    "        cursor.execute(sql)\n",
    "        result = cursor.fetchmany(30)\n",
    "        print(len(result))\n",
    "        print(result)\n",
    "        cursor.execute(sql)\n",
    "        result = cursor.fetchmany(10)\n",
    "        print(len(result))\n",
    "        print(result)\n",
    "        cursor.execute(sql)\n",
    "        result = cursor.fetchmany(10)\n",
    "        print(len(result))\n",
    "        print(result)\n",
    "        cursor.execute(sql)\n",
    "        result = cursor.fetchmany(10)\n",
    "        print(len(result))\n",
    "        print(result)\n",
    "        cursor.execute(sql)\n",
    "        result = cursor.fetchmany(10)\n",
    "        print(len(result))\n",
    "        print(result)\n",
    "     "
   ]
  },
  {
   "cell_type": "code",
   "execution_count": 32,
   "metadata": {},
   "outputs": [
    {
     "name": "stdout",
     "output_type": "stream",
     "text": [
      "1,(100, 'Steven', None, 100, datetime.datetime(2003, 6, 17, 0, 0), 27000.0, 0.2, 90, None)\n",
      "2,(145, 'John', 'SA_MAN', 100, datetime.datetime(2004, 10, 1, 0, 0), 14000.0, 0.4, 80, None)\n",
      "3,(146, 'Karen', 'SA_MAN', 100, datetime.datetime(2004, 10, 1, 0, 0), 13500.0, 0.3, 80, None)\n",
      "4,(147, 'Alberto', 'SA_MAN', 100, datetime.datetime(2005, 3, 10, 0, 0), 12000.0, 0.3, 80, None)\n",
      "5,(148, 'Gerald', 'SA_MAN', 100, datetime.datetime(2007, 10, 15, 0, 0), 11000.0, 0.3, 80, None)\n",
      "6,(149, 'Eleni', 'SA_MAN', 100, datetime.datetime(2007, 10, 15, 0, 0), 10500.0, 0.2, 80, None)\n",
      "7,(150, 'Peter', 'SA_REP', 145, datetime.datetime(2007, 10, 15, 0, 0), 10000.0, 0.3, 80, None)\n",
      "8,(151, 'David', 'SA_REP', 145, datetime.datetime(2005, 3, 24, 0, 0), 9500.0, 0.25, 80, None)\n",
      "9,(152, 'Peter', 'SA_REP', 145, datetime.datetime(2005, 8, 20, 0, 0), 9000.0, 0.25, 80, None)\n",
      "10,(153, 'Christopher', 'SA_REP', 145, datetime.datetime(2006, 3, 30, 0, 0), 8000.0, 0.2, 80, None)\n",
      "11,(154, 'Nanette', 'SA_REP', 145, datetime.datetime(2006, 12, 9, 0, 0), 7500.0, 0.2, 80, None)\n",
      "12,(155, 'Oliver', 'SA_REP', 145, datetime.datetime(2007, 11, 23, 0, 0), 7000.0, 0.15, 80, None)\n",
      "13,(156, 'Janette', 'SA_REP', 146, datetime.datetime(2004, 1, 30, 0, 0), 10000.0, 0.35, 80, None)\n",
      "14,(157, 'Patrick', 'SA_REP', 146, datetime.datetime(2004, 3, 4, 0, 0), 9500.0, 0.35, 80, None)\n",
      "15,(158, 'Allan', 'SA_REP', 146, datetime.datetime(2004, 8, 1, 0, 0), 9000.0, 0.35, 80, None)\n",
      "16,(159, 'Lindsey', 'SA_REP', 146, datetime.datetime(2005, 3, 10, 0, 0), 8000.0, 0.3, 80, None)\n",
      "17,(160, 'Louise', 'SA_REP', 146, datetime.datetime(2005, 12, 15, 0, 0), 7500.0, 0.3, 80, None)\n",
      "18,(161, 'Sarath', 'SA_REP', 146, datetime.datetime(2006, 11, 3, 0, 0), 7000.0, 0.25, 80, None)\n",
      "19,(162, 'Clara', 'SA_REP', 147, datetime.datetime(2005, 11, 11, 0, 0), 10500.0, 0.25, 80, None)\n",
      "20,(163, 'Danielle', 'SA_REP', 147, datetime.datetime(2007, 3, 19, 0, 0), 9500.0, 0.15, 80, None)\n",
      "21,(164, 'Mattea', 'SA_REP', 147, datetime.datetime(2008, 1, 24, 0, 0), 7200.0, 0.1, 80, None)\n",
      "22,(165, 'David', 'SA_REP', 147, datetime.datetime(2008, 2, 23, 0, 0), 6800.0, 0.1, 80, None)\n",
      "23,(166, 'Sundar', 'SA_REP', 147, datetime.datetime(2008, 3, 24, 0, 0), 6400.0, 0.1, 80, None)\n",
      "24,(167, 'Amit', 'SA_REP', 147, datetime.datetime(2008, 4, 21, 0, 0), 6200.0, 0.1, 80, None)\n",
      "25,(168, 'Lisa', 'SA_REP', 148, datetime.datetime(2005, 3, 11, 0, 0), 11500.0, 0.25, 80, None)\n",
      "26,(169, 'Harrison', 'SA_REP', 148, datetime.datetime(2006, 3, 23, 0, 0), 10000.0, 0.2, 80, None)\n",
      "27,(170, 'Tayler', 'SA_REP', 148, datetime.datetime(2006, 1, 24, 0, 0), 9600.0, 0.2, 80, None)\n",
      "28,(171, 'William', 'SA_REP', 148, datetime.datetime(2007, 2, 23, 0, 0), 7400.0, 0.15, 80, None)\n",
      "29,(172, 'Elizabeth', 'SA_REP', 148, datetime.datetime(2007, 3, 24, 0, 0), 7300.0, 0.15, 80, None)\n",
      "30,(173, 'Sundita', 'SA_REP', 148, datetime.datetime(2008, 4, 21, 0, 0), 6100.0, 0.1, 80, None)\n",
      "31,(174, 'Ellen', 'SA_REP', 149, datetime.datetime(2004, 5, 11, 0, 0), 11000.0, 0.3, 80, None)\n",
      "32,(175, 'Alyssa', 'SA_REP', 149, datetime.datetime(2005, 3, 19, 0, 0), 8800.0, 0.25, None, None)\n",
      "33,(176, 'Jonathon', 'SA_REP', 149, datetime.datetime(2006, 3, 24, 0, 0), 8600.0, 0.2, 80, None)\n",
      "34,(177, 'Jack', 'SA_REP', 149, datetime.datetime(2006, 4, 23, 0, 0), 8400.0, 0.2, 80, None)\n",
      "35,(178, 'Kimberely', 'SA_REP', 149, datetime.datetime(2007, 5, 24, 0, 0), 7000.0, 0.15, None, None)\n",
      "36,(179, 'Charles', 'SA_REP', 149, datetime.datetime(2008, 1, 4, 0, 0), 6200.0, 0.1, 80, None)\n",
      "37,(1000, '홍길동', 'FI_ACCOUNT', 100, datetime.datetime(2017, 10, 20, 0, 0), 5000.0, 0.1, 20, None)\n",
      "38,(1500, '홍길동', 'FI_ACCOUNT', 101, datetime.datetime(2021, 2, 15, 0, 0), 30000.0, 0.2, 100, 'M')\n"
     ]
    }
   ],
   "source": [
    "sql = \"SELECT * FROM emp WHERE comm_pct IS NOT NULL ORDER BY emp_id\"\n",
    "with cx_Oracle.connect('c##scott_join/tiger@localhost:1521/XE') as conn:\n",
    "    with conn.cursor() as cursor:\n",
    "        cursor.execute(sql)\n",
    "        for idx, row in enumerate(cursor, start = 1): #   한번 반복시마다 cursor.fetchone 실행\n",
    "            print(f\"{idx},{row}\")"
   ]
  },
  {
   "cell_type": "code",
   "execution_count": null,
   "metadata": {},
   "outputs": [],
   "source": []
  }
 ],
 "metadata": {
  "kernelspec": {
   "display_name": "Python 3",
   "language": "python",
   "name": "python3"
  },
  "language_info": {
   "codemirror_mode": {
    "name": "ipython",
    "version": 3
   },
   "file_extension": ".py",
   "mimetype": "text/x-python",
   "name": "python",
   "nbconvert_exporter": "python",
   "pygments_lexer": "ipython3",
   "version": "3.8.5"
  }
 },
 "nbformat": 4,
 "nbformat_minor": 4
}
