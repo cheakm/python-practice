{
 "cells": [
  {
   "cell_type": "markdown",
   "metadata": {},
   "source": [
    "## 난수를 원소로 하는 ndarray 생성\n",
    "- 난수 : 임의의 수\n",
    "- numpy의 서브패키지(서브모듈)인 random 패키지에서 제공하는 함수들\n",
    "- np.random.seed(정수) : 시드값 설정\n"
   ]
  },
  {
   "cell_type": "markdown",
   "metadata": {},
   "source": [
    "### np.random.seed(시드값)\n",
    "- 난수 발생 알고리즘이 사용할 시작값(시드값)을 설정 : 시드값(시작값)을 고정시키겠다\n",
    "- 시드값을 설정하면 항상 일정한 순서의 난수(random value)가 발생한다.\n",
    "> 랜덤함수는 특정숫자부터 시작하는 일렬의 수열을 만들어 값을 제공하는 함수이다.    \n",
    "> 시작 숫자는 실행할때 마다 바뀌므로 다른 값들이 나오는데 시드값은 시작값을 고정시키면 항상 시작 값이 같으므로 같은 값들이 순서대로 제공된다.    \n",
    "> 매번 실행할때 마다 같은 순서의 임의의 값이(난수) 나오도록 할때 시드값을 설정한다.\n",
    "- 시드값 설정의 장점 : 결과값을 통일.\n",
    "- 개발할때 알고리즘의 성능을테스트하기 위해서 시드값을 사용`"
   ]
  },
  {
   "cell_type": "markdown",
   "metadata": {},
   "source": [
    "### np.random.rand(axis0[, axis1, axis2, ...])    \n",
    "- [API](https://numpy.org/doc/stable/reference/random/generated/numpy.random.rand.html?highlight=rand#numpy.random.rand)\n",
    "- 0~1사이의 실수를 리턴\n",
    "- 축의 크기는 순서대로 나열한다."
   ]
  },
  {
   "cell_type": "code",
   "execution_count": 10,
   "metadata": {},
   "outputs": [],
   "source": [
    "import numpy as np"
   ]
  },
  {
   "cell_type": "code",
   "execution_count": null,
   "metadata": {},
   "outputs": [],
   "source": []
  },
  {
   "cell_type": "code",
   "execution_count": 26,
   "metadata": {},
   "outputs": [],
   "source": [
    "np.random.seed(1)"
   ]
  },
  {
   "cell_type": "code",
   "execution_count": 29,
   "metadata": {
    "scrolled": true
   },
   "outputs": [
    {
     "data": {
      "text/plain": [
       "0.00011437481734488664"
      ]
     },
     "execution_count": 29,
     "metadata": {},
     "output_type": "execute_result"
    }
   ],
   "source": [
    "\n",
    "np.random.rand() #실행할때마다 다른 값이 나오는 건 맞는데, seed(1)을 하고 실행하면, 나오는 값의 순서가 같음."
   ]
  },
  {
   "cell_type": "code",
   "execution_count": 35,
   "metadata": {},
   "outputs": [
    {
     "data": {
      "text/plain": [
       "array([[0.01936696, 0.67883553, 0.21162812, 0.26554666, 0.49157316],\n",
       "       [0.05336255, 0.57411761, 0.14672857, 0.58930554, 0.69975836],\n",
       "       [0.10233443, 0.41405599, 0.69440016, 0.41417927, 0.04995346]])"
      ]
     },
     "execution_count": 35,
     "metadata": {},
     "output_type": "execute_result"
    }
   ],
   "source": [
    "#random-> 튜플이나 리스트로 묶어서 줘야 vs rand: 그냥 가변인수로 넣어 : shape 정하는 방법이 다른 것.\n",
    "np.random.random([3,5]) #2*3짜리 만들겠다\n",
    "np.random.rand(3,5) # 원하는 쉐입을 쭉 나열하기만 하면 되"
   ]
  },
  {
   "cell_type": "code",
   "execution_count": 32,
   "metadata": {},
   "outputs": [
    {
     "data": {
      "text/plain": [
       "array([[0.14038694, 0.19810149, 0.80074457, 0.96826158, 0.31342418],\n",
       "       [0.69232262, 0.87638915, 0.89460666, 0.08504421, 0.03905478],\n",
       "       [0.16983042, 0.8781425 , 0.09834683, 0.42110763, 0.95788953]])"
      ]
     },
     "execution_count": 32,
     "metadata": {},
     "output_type": "execute_result"
    }
   ],
   "source": [
    "np.random.rand(3,5)"
   ]
  },
  {
   "cell_type": "code",
   "execution_count": 33,
   "metadata": {},
   "outputs": [
    {
     "data": {
      "text/plain": [
       "0.5331652849730171"
      ]
     },
     "execution_count": 33,
     "metadata": {},
     "output_type": "execute_result"
    }
   ],
   "source": [
    "np.random.rand()"
   ]
  },
  {
   "cell_type": "code",
   "execution_count": 34,
   "metadata": {},
   "outputs": [
    {
     "data": {
      "text/plain": [
       "0.6918771139504734"
      ]
     },
     "execution_count": 34,
     "metadata": {},
     "output_type": "execute_result"
    }
   ],
   "source": [
    "np.random.random()"
   ]
  },
  {
   "cell_type": "markdown",
   "metadata": {},
   "source": [
    "### np.random.normal(loc=0.0, scale=1.0, size=None) \n",
    "정규분포를 따르는 난수를 제공.(평균과 표준편차에 따라 정규분표가 결정됨)\n",
    "/종모양의 분포를 정규분포(정규분포일때 1표준편차 내 68%에 있고, 2표준편차 내 95%가 있음)\n",
    "\n",
    "- 이 정규분포를 따르는 것 중에 하나의 임의의 값을 뽑겠다.\n",
    "- 즉, 평균으로부터 표준편차\\*2 범위에 있는 애들을 많이 뽑고싶을 때 정규분포 사용.\n",
    "- [API](https://numpy.org/doc/stable/reference/random/generated/numpy.random.normal.html?highlight=normal#numpy.random.normal)\n",
    "- loc: 평균-> 대표값. 값의 분포가 평균 근처에 제일 많이 몰려잇음.\n",
    "- scale: 표준편차 (편차 : 평균이 각각의 값으로 부터 얼마나 떨어져 있는지/ 편차의 평균이 표준편차)\n",
    "- 편차를 제곱해서 평군 구한것이 분산-> 즉 표준편차 제곱 = 분산\n",
    "- loc, scale 생략시 표준정규 분포를 따르는 난수를 제공 \n",
    "> #### 표준정규분포 : 디폴트값임. \n",
    "> 평균 : 0, 표준편차 : 1 인 분포"
   ]
  },
  {
   "cell_type": "code",
   "execution_count": 37,
   "metadata": {},
   "outputs": [
    {
     "ename": "SyntaxError",
     "evalue": "invalid syntax (<ipython-input-37-89cc94c18b18>, line 1)",
     "output_type": "error",
     "traceback": [
      "\u001b[1;36m  File \u001b[1;32m\"<ipython-input-37-89cc94c18b18>\"\u001b[1;36m, line \u001b[1;32m1\u001b[0m\n\u001b[1;33m    - 정규분표는 확률분포 중 하나\u001b[0m\n\u001b[1;37m            ^\u001b[0m\n\u001b[1;31mSyntaxError\u001b[0m\u001b[1;31m:\u001b[0m invalid syntax\n"
     ]
    }
   ],
   "source": [
    "- 정규분표는 확률분포 중 하나\n",
    "    - 예) 800개 점수 중 하나의 값을 뽑았을때, 평균근처에 있는 값이 나올 가능성이 가장 높음!\n",
    "    - 가능성이라는 것이 확률. 그래서 확률분포\n",
    "- N = (70,5) :평균이 70이고 표준편차가 5인 정규분포를 얘기함\n",
    "- 정규분포를 따를때, 평균을 대표값으로 쓴다\n",
    "- 포아송 분포처럼 다양한 분포가 있음, 실생활에서는 정규분표가 많이 쓰임.(무조건 평균이 대표값이 아니다)"
   ]
  },
  {
   "cell_type": "code",
   "execution_count": 41,
   "metadata": {},
   "outputs": [
    {
     "data": {
      "text/plain": [
       "0.6833842305946876"
      ]
     },
     "execution_count": 41,
     "metadata": {},
     "output_type": "execute_result"
    }
   ],
   "source": [
    "np.random.normal() # 표준정규분포 따르는 난수 반환"
   ]
  },
  {
   "cell_type": "code",
   "execution_count": 43,
   "metadata": {
    "scrolled": true
   },
   "outputs": [
    {
     "data": {
      "text/plain": [
       "14.286171374215517"
      ]
     },
     "execution_count": 43,
     "metadata": {},
     "output_type": "execute_result"
    }
   ],
   "source": [
    "np.random.normal(loc = 10, scale = 5) # 0~20"
   ]
  },
  {
   "cell_type": "code",
   "execution_count": 56,
   "metadata": {},
   "outputs": [],
   "source": [
    "np.random.seed(1)"
   ]
  },
  {
   "cell_type": "code",
   "execution_count": 60,
   "metadata": {},
   "outputs": [
    {
     "data": {
      "text/plain": [
       "array([[ 6.54169624,  8.01623237,  6.5641365 ,  5.77397179,  6.64376935],\n",
       "       [ 9.93667701,  4.41344826, 11.17207849, 18.29901089, 13.7102208 ]])"
      ]
     },
     "execution_count": 60,
     "metadata": {},
     "output_type": "execute_result"
    }
   ],
   "source": [
    "np.random.normal(10,5,(2,5))"
   ]
  },
  {
   "cell_type": "code",
   "execution_count": 61,
   "metadata": {},
   "outputs": [
    {
     "name": "stdout",
     "output_type": "stream",
     "text": [
      "[44.24493343 23.37113108 27.58525119 ... 25.68234525 28.82888145\n",
      " 77.16301368]\n"
     ]
    },
    {
     "data": {
      "text/plain": [
       "(array([  5.,   7.,  16.,  24.,  49.,  78.,  86., 189., 219., 280., 372.,\n",
       "        396., 459., 491., 475., 441., 382., 308., 229., 147., 144.,  95.,\n",
       "         58.,  24.,  10.,   9.,   2.,   3.,   0.,   2.]),\n",
       " array([-47.59102705, -40.37939011, -33.16775317, -25.95611623,\n",
       "        -18.74447929, -11.53284235,  -4.32120542,   2.89043152,\n",
       "         10.10206846,  17.3137054 ,  24.52534234,  31.73697928,\n",
       "         38.94861622,  46.16025316,  53.3718901 ,  60.58352704,\n",
       "         67.79516397,  75.00680091,  82.21843785,  89.43007479,\n",
       "         96.64171173, 103.85334867, 111.06498561, 118.27662255,\n",
       "        125.48825949, 132.69989643, 139.91153337, 147.1231703 ,\n",
       "        154.33480724, 161.54644418, 168.75808112]),\n",
       " <BarContainer object of 30 artists>)"
      ]
     },
     "execution_count": 61,
     "metadata": {},
     "output_type": "execute_result"
    },
    {
     "data": {
      "image/png": "[encoded data removed]",
      "text/plain": [
       "<Figure size 504x504 with 1 Axes>"
      ]
     },
     "metadata": {
      "needs_background": "light"
     },
     "output_type": "display_data"
    }
   ],
   "source": [
    "import matplotlib.pyplot as plt\n",
    "v = np.random.normal(50,30,size = 5000)\n",
    "\n",
    "plt.figure(figsize=(7,7))\n",
    "plt.hist(v, bins = 30)"
   ]
  },
  {
   "cell_type": "code",
   "execution_count": 62,
   "metadata": {},
   "outputs": [
    {
     "name": "stdout",
     "output_type": "stream",
     "text": [
      "[44.24493343 23.37113108 27.58525119 ... 25.68234525 28.82888145\n",
      " 77.16301368]\n"
     ]
    }
   ],
   "source": [
    "print(v)"
   ]
  },
  {
   "cell_type": "markdown",
   "metadata": {},
   "source": [
    "### np.random.randint(low, high=None, size=None, dtype='l')\n",
    "임의의 정수를 가지는 배열\n",
    "- [API](https://numpy.org/doc/stable/reference/random/generated/numpy.random.randint.html?highlight=randint#numpy.random.randint)\n",
    "- low ~ high 사이의 정수 리턴. high는 포함안됨\n",
    "- high 생략시 0 ~ low 사이 정수 리턴. low는 포함안됨\n",
    "- size : 배열의 크기. 다차원은 튜플로 지정 기본 1개, 추출된 확률은 동일\n",
    "- dtype : 원소의 타입"
   ]
  },
  {
   "cell_type": "code",
   "execution_count": 63,
   "metadata": {},
   "outputs": [
    {
     "data": {
      "text/plain": [
       "4"
      ]
     },
     "execution_count": 63,
     "metadata": {},
     "output_type": "execute_result"
    }
   ],
   "source": [
    "np.random.randint(1,10) # 1~9사이 정수 난수 발생"
   ]
  },
  {
   "cell_type": "code",
   "execution_count": 64,
   "metadata": {},
   "outputs": [
    {
     "data": {
      "text/plain": [
       "0"
      ]
     },
     "execution_count": 64,
     "metadata": {},
     "output_type": "execute_result"
    }
   ],
   "source": [
    "\n",
    "np.random.randint(2)"
   ]
  },
  {
   "cell_type": "code",
   "execution_count": 65,
   "metadata": {},
   "outputs": [
    {
     "data": {
      "text/plain": [
       "67"
      ]
     },
     "execution_count": 65,
     "metadata": {},
     "output_type": "execute_result"
    }
   ],
   "source": [
    "np.random.randint(-100,100)"
   ]
  },
  {
   "cell_type": "code",
   "execution_count": 66,
   "metadata": {},
   "outputs": [
    {
     "data": {
      "text/plain": [
       "array([[ -1,   0,   5,   4, -10],\n",
       "       [ -9,  10,  -5,  10,  13]])"
      ]
     },
     "execution_count": 66,
     "metadata": {},
     "output_type": "execute_result"
    }
   ],
   "source": [
    "np.random.randint(-10,19,(2,5))"
   ]
  },
  {
   "cell_type": "markdown",
   "metadata": {},
   "source": [
    "### np.random.choice(a, size=None, replace=True, p=None)\n",
    "- [API](https://numpy.org/doc/stable/reference/random/generated/numpy.random.choice.html?highlight=choice#numpy.random.choice)\n",
    "- 샘플링 메소드\n",
    "- a : 샘플링대상. 1차원 배열 또는 정수 (정수일 경우 0 ~ 정수, 정수 불포함)\n",
    "- size : 샘플 개수-> a 안에서 몇개 뽑아 낼 것인지\n",
    "- replace : True-복원추출(기본)-같은 값을 여러번 뽑을 수 있어, False-비복원추출\n",
    "- p: 샘플링할 대상 값들이 추출될 확률 지정한 배열"
   ]
  },
  {
   "cell_type": "code",
   "execution_count": 67,
   "metadata": {},
   "outputs": [
    {
     "data": {
      "text/plain": [
       "6"
      ]
     },
     "execution_count": 67,
     "metadata": {},
     "output_type": "execute_result"
    }
   ],
   "source": [
    "np.random.choice(a=10)"
   ]
  },
  {
   "cell_type": "code",
   "execution_count": 73,
   "metadata": {},
   "outputs": [
    {
     "ename": "SyntaxError",
     "evalue": "positional argument follows keyword argument (<ipython-input-73-dd8cbc63bbc7>, line 1)",
     "output_type": "error",
     "traceback": [
      "\u001b[1;36m  File \u001b[1;32m\"<ipython-input-73-dd8cbc63bbc7>\"\u001b[1;36m, line \u001b[1;32m1\u001b[0m\n\u001b[1;33m    np.random.choice(a=[10,100], 2)\u001b[0m\n\u001b[1;37m                                 ^\u001b[0m\n\u001b[1;31mSyntaxError\u001b[0m\u001b[1;31m:\u001b[0m positional argument follows keyword argument\n"
     ]
    }
   ],
   "source": [
    "np.random.choice(a=[10,100], 2)"
   ]
  },
  {
   "cell_type": "code",
   "execution_count": 74,
   "metadata": {},
   "outputs": [
    {
     "data": {
      "text/plain": [
       "array([5, 1, 9, 8, 3])"
      ]
     },
     "execution_count": 74,
     "metadata": {},
     "output_type": "execute_result"
    }
   ],
   "source": [
    "np.random.choice(a=10, size = 5, replace= False)"
   ]
  },
  {
   "cell_type": "code",
   "execution_count": 76,
   "metadata": {
    "scrolled": true
   },
   "outputs": [
    {
     "data": {
      "text/plain": [
       "array([ True,  True, False,  True, False, False,  True,  True, False,\n",
       "       False,  True, False,  True,  True, False,  True,  True,  True,\n",
       "        True,  True])"
      ]
     },
     "execution_count": 76,
     "metadata": {},
     "output_type": "execute_result"
    }
   ],
   "source": [
    "a = np.random.choice([True,False],size = 20)\n",
    "a"
   ]
  },
  {
   "cell_type": "code",
   "execution_count": 84,
   "metadata": {},
   "outputs": [
    {
     "data": {
      "text/plain": [
       "array([False,  True])"
      ]
     },
     "execution_count": 84,
     "metadata": {},
     "output_type": "execute_result"
    }
   ],
   "source": [
    "np.unique(a, return_counts = False)"
   ]
  },
  {
   "cell_type": "code",
   "execution_count": 79,
   "metadata": {},
   "outputs": [
    {
     "data": {
      "text/plain": [
       "array([ True,  True,  True,  True,  True,  True,  True,  True,  True,\n",
       "        True,  True,  True,  True,  True, False,  True,  True,  True,\n",
       "        True,  True])"
      ]
     },
     "execution_count": 79,
     "metadata": {},
     "output_type": "execute_result"
    }
   ],
   "source": [
    "b = np.random.choice([True,False], size = 20, p =[0.9,0.1])\n",
    "b"
   ]
  },
  {
   "cell_type": "code",
   "execution_count": 83,
   "metadata": {},
   "outputs": [
    {
     "data": {
      "text/plain": [
       "(array([False,  True]), array([ 1, 19], dtype=int64))"
      ]
     },
     "execution_count": 83,
     "metadata": {},
     "output_type": "execute_result"
    }
   ],
   "source": [
    "np.unique(b, return_counts=True)"
   ]
  },
  {
   "cell_type": "code",
   "execution_count": 85,
   "metadata": {},
   "outputs": [
    {
     "data": {
      "text/plain": [
       "array([296, 274, 297, 149, 272, 880, 700, 884, 307, 229, 490, 840, 908,\n",
       "       987,  80, 454, 530, 332, 734, 592])"
      ]
     },
     "execution_count": 85,
     "metadata": {},
     "output_type": "execute_result"
    }
   ],
   "source": [
    "a = np.arange(1000)\n",
    "r= np.random.choice(a,size = 20, replace = False)\n",
    "r"
   ]
  },
  {
   "cell_type": "code",
   "execution_count": 86,
   "metadata": {},
   "outputs": [
    {
     "data": {
      "text/plain": [
       "array([1, 4, 1, 3, 4, 3, 3, 4, 2, 2])"
      ]
     },
     "execution_count": 86,
     "metadata": {},
     "output_type": "execute_result"
    }
   ],
   "source": [
    "np.random.choice([1,2,3,4,5], 10)"
   ]
  },
  {
   "cell_type": "markdown",
   "metadata": {},
   "source": [
    "## 배열의 값 섞기\n",
    "- np.random.shuffle(배열) : 원본을 섞어\n",
    "- np. random.permutation(배열) : 원본을 섞은 카피배열을 반환(원번은 그대로임\n",
    "- 다차원 배열의 경우 0번 축을 기준으로 섞는다 -> 축지정불가m"
   ]
  },
  {
   "cell_type": "code",
   "execution_count": 87,
   "metadata": {},
   "outputs": [],
   "source": [
    "a = np.arange(10)"
   ]
  },
  {
   "cell_type": "code",
   "execution_count": 88,
   "metadata": {},
   "outputs": [
    {
     "data": {
      "text/plain": [
       "array([0, 1, 2, 3, 4, 5, 6, 7, 8, 9])"
      ]
     },
     "execution_count": 88,
     "metadata": {},
     "output_type": "execute_result"
    }
   ],
   "source": [
    "a"
   ]
  },
  {
   "cell_type": "code",
   "execution_count": 90,
   "metadata": {},
   "outputs": [
    {
     "data": {
      "text/plain": [
       "array([7, 9, 1, 4, 0, 3, 2, 5, 6, 8])"
      ]
     },
     "execution_count": 90,
     "metadata": {},
     "output_type": "execute_result"
    }
   ],
   "source": [
    "b = np.random.permutation(a)\n",
    "b"
   ]
  },
  {
   "cell_type": "code",
   "execution_count": 91,
   "metadata": {},
   "outputs": [
    {
     "data": {
      "text/plain": [
       "array([0, 1, 2, 3, 4, 5, 6, 7, 8, 9])"
      ]
     },
     "execution_count": 91,
     "metadata": {},
     "output_type": "execute_result"
    }
   ],
   "source": [
    "a"
   ]
  },
  {
   "cell_type": "code",
   "execution_count": 93,
   "metadata": {},
   "outputs": [],
   "source": [
    "np.random.shuffle(a)"
   ]
  },
  {
   "cell_type": "code",
   "execution_count": 94,
   "metadata": {},
   "outputs": [
    {
     "data": {
      "text/plain": [
       "array([6, 5, 1, 0, 9, 2, 4, 7, 8, 3])"
      ]
     },
     "execution_count": 94,
     "metadata": {},
     "output_type": "execute_result"
    }
   ],
   "source": [
    "a"
   ]
  },
  {
   "cell_type": "code",
   "execution_count": 95,
   "metadata": {},
   "outputs": [
    {
     "data": {
      "text/plain": [
       "array([[0, 1, 2],\n",
       "       [3, 4, 5]])"
      ]
     },
     "execution_count": 95,
     "metadata": {},
     "output_type": "execute_result"
    }
   ],
   "source": [
    "c = np.arange(6).reshape(2,3)\n",
    "c"
   ]
  },
  {
   "cell_type": "code",
   "execution_count": 96,
   "metadata": {},
   "outputs": [
    {
     "data": {
      "text/plain": [
       "array([[3, 4, 5],\n",
       "       [0, 1, 2]])"
      ]
     },
     "execution_count": 96,
     "metadata": {},
     "output_type": "execute_result"
    }
   ],
   "source": [
    "np.random.permutation(c)"
   ]
  },
  {
   "cell_type": "code",
   "execution_count": 97,
   "metadata": {},
   "outputs": [],
   "source": [
    "np.random.shuffle(c)"
   ]
  },
  {
   "cell_type": "code",
   "execution_count": 98,
   "metadata": {},
   "outputs": [
    {
     "data": {
      "text/plain": [
       "array([[0, 1, 2],\n",
       "       [3, 4, 5]])"
      ]
     },
     "execution_count": 98,
     "metadata": {},
     "output_type": "execute_result"
    }
   ],
   "source": [
    "c"
   ]
  },
  {
   "cell_type": "code",
   "execution_count": null,
   "metadata": {},
   "outputs": [],
   "source": []
  }
 ],
 "metadata": {
  "kernelspec": {
   "display_name": "Python 3",
   "language": "python",
   "name": "python3"
  },
  "language_info": {
   "codemirror_mode": {
    "name": "ipython",
    "version": 3
   },
   "file_extension": ".py",
   "mimetype": "text/x-python",
   "name": "python",
   "nbconvert_exporter": "python",
   "pygments_lexer": "ipython3",
   "version": "3.8.5"
  }
 },
 "nbformat": 4,
 "nbformat_minor": 4
}
