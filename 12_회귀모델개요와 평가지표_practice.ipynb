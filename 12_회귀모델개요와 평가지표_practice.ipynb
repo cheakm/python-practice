{
 "cells": [
  {
   "cell_type": "markdown",
   "metadata": {},
   "source": [
    "# 회귀의 주요 평가지표(accuracy 아님)\n",
    "- MSE : 오차의 제곱의 합의 평균\n",
    "    - mean_squared_error()\n",
    "    - neg_mean_squared_error : 그리드서치에서 스코어링 지정할때 문자열로 줘야할때.\n",
    "- ASE : 오차의 절대값의 평균. 잘 안씀\n",
    "- RMSE : MSE의 제곱근.\n",
    "    - MSE 구한후 np.sqrt() 로 계산\n",
    "- R2 :결정게수\n",
    " - r2_score()\n",
    " - 분자 : 평균으로 예측한 부분보다 모델이 더 잘 예측한 부분/\n",
    " - 분모 : 실제값 - 평균, 즉 평균으로 예측할 때 오차\n",
    " - 높을수록 예측 잘해"
   ]
  },
  {
   "cell_type": "code",
   "execution_count": 1,
   "metadata": {},
   "outputs": [],
   "source": [
    "import pandas as pd\n",
    "import numpy as np\n",
    "import matplotlib.pyplot as plt\n",
    "import seaborn as sns"
   ]
  },
  {
   "cell_type": "code",
   "execution_count": 2,
   "metadata": {},
   "outputs": [],
   "source": [
    "from sklearn.datasets import make_regression\n",
    "from sklearn.model_selection import cross_val_score\n",
    "from sklearn.linear_model import LinearRegression"
   ]
  },
  {
   "cell_type": "code",
   "execution_count": 7,
   "metadata": {},
   "outputs": [],
   "source": [
    "X,y = make_regression(n_samples = 100,\n",
    "                     n_features = 1,\n",
    "                     n_informative = 1,\n",
    "                     noise = 50,\n",
    "                     coef = False,\n",
    "                     random_state = 1)"
   ]
  },
  {
   "cell_type": "code",
   "execution_count": 8,
   "metadata": {
    "scrolled": true
   },
   "outputs": [
    {
     "data": {
      "text/plain": [
       "((100, 1), (100,))"
      ]
     },
     "execution_count": 8,
     "metadata": {},
     "output_type": "execute_result"
    }
   ],
   "source": [
    "X.shape, y.shape"
   ]
  },
  {
   "cell_type": "code",
   "execution_count": 10,
   "metadata": {},
   "outputs": [
    {
     "data": {
      "text/plain": [
       "<matplotlib.collections.PathCollection at 0x1b7d54f2820>"
      ]
     },
     "execution_count": 10,
     "metadata": {},
     "output_type": "execute_result"
    },
    {
     "data": {
      "image/png": "[encoded data removed]",
      "text/plain": [
       "<Figure size 432x288 with 1 Axes>"
      ]
     },
     "metadata": {
      "needs_background": "light"
     },
     "output_type": "display_data"
    }
   ],
   "source": [
    "plt.scatter(X,y)"
   ]
  },
  {
   "cell_type": "code",
   "execution_count": 9,
   "metadata": {},
   "outputs": [
    {
     "data": {
      "text/plain": [
       "(15.293427290684107,\n",
       " -255.11169199137663,\n",
       " 247.19463389209255,\n",
       " 20.62597485010551)"
      ]
     },
     "execution_count": 9,
     "metadata": {},
     "output_type": "execute_result"
    }
   ],
   "source": [
    "np.mean(y), np.min(y), np.max(y), np.median(y)"
   ]
  },
  {
   "cell_type": "code",
   "execution_count": 12,
   "metadata": {},
   "outputs": [
    {
     "data": {
      "text/plain": [
       "LinearRegression()"
      ]
     },
     "execution_count": 12,
     "metadata": {},
     "output_type": "execute_result"
    }
   ],
   "source": [
    "#선형회귀 모델 생성\n",
    "lr = LinearRegression()\n",
    "lr.fit(X,y) # 직선 방정식 찾도록 학습"
   ]
  },
  {
   "cell_type": "code",
   "execution_count": 13,
   "metadata": {},
   "outputs": [],
   "source": [
    "#예측\n",
    "pred = lr.predict(X)"
   ]
  },
  {
   "cell_type": "code",
   "execution_count": 14,
   "metadata": {},
   "outputs": [
    {
     "data": {
      "text/plain": [
       "100"
      ]
     },
     "execution_count": 14,
     "metadata": {},
     "output_type": "execute_result"
    }
   ],
   "source": [
    "pred.size"
   ]
  },
  {
   "cell_type": "code",
   "execution_count": 15,
   "metadata": {},
   "outputs": [
    {
     "data": {
      "text/plain": [
       "array([-6.47837150e+01,  3.53525698e+00, -2.24930988e+00,  1.60486845e+02,\n",
       "        1.76846086e+02,  3.75120284e+01,  2.04399290e+01,  1.65475124e+01,\n",
       "       -8.00299319e+01,  2.12950877e+01, -3.68533417e+01,  2.71863822e+01,\n",
       "       -1.05041229e+02, -1.80445868e+01, -8.50723156e+01,  6.89340357e+01,\n",
       "       -2.50673768e+01, -9.59581539e+01, -8.21563475e+01, -6.22450275e+00,\n",
       "       -3.50170055e+01,  1.82489231e+02,  5.79386310e+01,  4.26634726e+01,\n",
       "        1.30913351e-01, -2.09715557e+01, -4.01151102e+00,  4.08451522e+01,\n",
       "        1.38282568e+02, -7.02177235e+01, -2.25347306e+01, -4.47436142e+01,\n",
       "        2.42126703e+01,  8.16001763e+01,  1.91435758e+02,  4.32788040e+00,\n",
       "       -9.92775395e+01,  2.47194634e+02, -2.02799798e+02,  5.85334904e+01,\n",
       "        1.59536038e+02,  8.54897401e+01, -7.37592095e+01, -4.06447270e+01,\n",
       "       -6.49055955e+01,  7.59577622e+01,  8.30410079e+01,  6.41532713e+01,\n",
       "       -2.65508208e+01,  2.47503948e+01, -7.89972479e+01,  2.13397064e+01,\n",
       "        1.27320816e+02,  2.91983014e+01, -1.49819398e+01,  8.25052252e+01,\n",
       "        9.36791817e+01,  3.32075339e+01, -6.39364756e+01,  5.14020686e+01,\n",
       "        7.92951311e+01, -1.96514023e+01,  2.55162469e+01,  4.80842807e+01,\n",
       "        5.39131601e+01, -5.06850039e+01,  2.68654102e+01, -6.57129269e+01,\n",
       "        2.53019418e+01, -5.65030259e+01, -1.21012923e+02, -4.76451909e+01,\n",
       "        1.81054320e+02,  5.75844468e+01, -6.56860939e+01,  6.74404512e+01,\n",
       "       -7.18544164e+01, -3.46370248e+01,  1.12885224e+02,  1.65204374e+02,\n",
       "        1.95849271e+02, -2.05230375e+02, -1.96949084e+01, -3.65752004e+01,\n",
       "        9.82123058e+01,  1.07928957e+02, -8.31690754e+00, -4.07394013e+01,\n",
       "        6.19072274e+01, -2.55111692e+02, -5.16569648e+01,  2.37511719e+01,\n",
       "       -2.43370994e+01,  5.17725460e+01,  2.08120207e+01, -2.38112047e+01,\n",
       "        1.29269644e+02,  4.62408701e+01,  1.22667384e+02, -4.25403786e+01])"
      ]
     },
     "execution_count": 15,
     "metadata": {},
     "output_type": "execute_result"
    }
   ],
   "source": [
    "y"
   ]
  },
  {
   "cell_type": "code",
   "execution_count": 16,
   "metadata": {},
   "outputs": [
    {
     "data": {
      "text/plain": [
       "array([ -41.95321474,  -11.0976856 ,   51.73017859,   75.01687119,\n",
       "        139.5405874 ,   42.28291757,   53.80872201,  -47.01849461,\n",
       "       -108.77026334,   37.00995752,  -44.10222106,  -23.64669313,\n",
       "        -83.57766397,   86.83887415,  -83.51568574,   80.63336112,\n",
       "          3.700483  ,  -19.8574064 ,  -46.96878289,  -81.22334449,\n",
       "        -15.93681229,  196.22691473,   83.82061032,   27.01939459,\n",
       "        -22.56541616,  -48.08125722,   14.46112205,   59.75914659,\n",
       "        116.81111848,  -54.09849447,  -19.60987796,  -65.4425124 ,\n",
       "         26.01992906,   84.73688556,   81.57070811,  -32.8179105 ,\n",
       "        -19.14251049,  154.23991252, -185.83051957,   89.41419524,\n",
       "        188.96228033,  134.62693781,  -61.83035871,  -64.61059467,\n",
       "        -17.31729207,   85.50083141,   23.76150326,  106.48818675,\n",
       "        -21.8187411 ,   52.92018804,   -7.6513255 ,   20.36606229,\n",
       "         60.08337862,   37.29980537,  -48.75670707,   69.56933678,\n",
       "        112.21749699,   -6.95856797,   55.29243684,   73.31676993,\n",
       "         45.04911171,   20.26811889,  -54.67824655,   46.19369729,\n",
       "         35.69321458,  -87.14517574,   25.90030193,  -69.54145531,\n",
       "        -42.65519063,  -84.99884159, -112.82467515,   -8.79516201,\n",
       "        148.44071957,   62.68712012,  -48.37456982,   16.72022833,\n",
       "          9.05673873,  -44.24992809,  106.67040272,  158.69788773,\n",
       "         86.9014366 , -165.27657474,   30.09450645,   -4.54640864,\n",
       "         20.50760118,  107.60310897,   -0.32847393,  -53.48207131,\n",
       "         34.45153866, -162.04619877,   29.72659608,  -12.67438421,\n",
       "        -34.83635956,  106.30550889,   26.3906604 ,  -15.24618227,\n",
       "        151.45970658,   13.84714676,   13.7293812 ,   -6.19885611])"
      ]
     },
     "execution_count": 16,
     "metadata": {},
     "output_type": "execute_result"
    }
   ],
   "source": [
    "pred # 예측값"
   ]
  },
  {
   "cell_type": "code",
   "execution_count": 18,
   "metadata": {},
   "outputs": [
    {
     "name": "stdout",
     "output_type": "stream",
     "text": [
      "MSE: 2078.5472792307764\n",
      "RMSE: 45.59108771712709\n",
      "MAE: 34.84147804463735\n",
      "R^2: 0.7321024057172182\n"
     ]
    }
   ],
   "source": [
    "#평가 함수 생성\n",
    "from sklearn.metrics import mean_squared_error, r2_score, mean_absolute_error\n",
    "\n",
    "mse = mean_squared_error(y,pred)\n",
    "r2 = r2_score(y,pred)\n",
    "print('MSE:', mse)\n",
    "print('RMSE:', np.sqrt(mse))\n",
    "print('MAE:', mean_absolute_error(y,pred))\n",
    "print('R^2:', r2)"
   ]
  },
  {
   "cell_type": "code",
   "execution_count": 20,
   "metadata": {},
   "outputs": [
    {
     "name": "stdout",
     "output_type": "stream",
     "text": [
      "[0.58124097 0.82853824 0.52826294 0.76611492 0.7184243 ]\n",
      "0.6845162761863837\n"
     ]
    }
   ],
   "source": [
    "#교차검증\n",
    "score = cross_val_score(lr,\n",
    "                       X,\n",
    "                       y, \n",
    "                       cv = 5)\n",
    "\n",
    "print(score)\n",
    "print(np.mean(score)) # r2값 나옴 : 평균으로 에측한 것보다 68% 더 좋다"
   ]
  },
  {
   "cell_type": "code",
   "execution_count": 23,
   "metadata": {},
   "outputs": [
    {
     "data": {
      "text/plain": [
       "array([1882.70290581, 2859.09589717,  420.87862081, 3244.99975507,\n",
       "       1404.5936989 , 2794.10631553, 1863.97405357, 1262.61248332,\n",
       "       3714.70549983, 2626.12950655])"
      ]
     },
     "execution_count": 23,
     "metadata": {},
     "output_type": "execute_result"
    }
   ],
   "source": [
    "#mse\n",
    "cross = cross_val_score(lr,X,y, scoring = 'neg_mean_squared_error', cv = 10)*-1\n",
    "cross"
   ]
  },
  {
   "cell_type": "code",
   "execution_count": 24,
   "metadata": {},
   "outputs": [
    {
     "data": {
      "text/plain": [
       "(array([85.14546889]), 10.135071944054275)"
      ]
     },
     "execution_count": 24,
     "metadata": {},
     "output_type": "execute_result"
    }
   ],
   "source": [
    "lr.fit(X,y)\n",
    "lr.coef_, lr.intercept_"
   ]
  },
  {
   "cell_type": "code",
   "execution_count": 25,
   "metadata": {},
   "outputs": [
    {
     "data": {
      "text/plain": [
       "((100, 1), (100,))"
      ]
     },
     "execution_count": 25,
     "metadata": {},
     "output_type": "execute_result"
    }
   ],
   "source": [
    "X.shape, y.shape"
   ]
  },
  {
   "cell_type": "code",
   "execution_count": 26,
   "metadata": {},
   "outputs": [
    {
     "data": {
      "image/png": "[encoded data removed]",
      "text/plain": [
       "<Figure size 432x288 with 1 Axes>"
      ]
     },
     "metadata": {
      "needs_background": "light"
     },
     "output_type": "display_data"
    }
   ],
   "source": [
    "plt.scatter(X,y, label = 'truth')\n",
    "y_hat = X*lr.coef_ + lr.intercept_\n",
    "plt.plot(X, y_hat, color = 'red', label = 'prediction')\n",
    "plt.legend()\n",
    "plt.show()"
   ]
  },
  {
   "cell_type": "code",
   "execution_count": 29,
   "metadata": {},
   "outputs": [
    {
     "data": {
      "text/plain": [
       "array([10.13507194])"
      ]
     },
     "execution_count": 29,
     "metadata": {},
     "output_type": "execute_result"
    }
   ],
   "source": [
    "lr.predict([[0]])"
   ]
  },
  {
   "cell_type": "markdown",
   "metadata": {},
   "source": [
    "# 기준 분류모델의 회귀 모델"
   ]
  },
  {
   "cell_type": "code",
   "execution_count": 31,
   "metadata": {},
   "outputs": [],
   "source": [
    "from sklearn.model_selection import train_test_split\n",
    "\n",
    "from sklearn.neighbors import KNeighborsRegressor\n",
    "from sklearn.tree import DecisionTreeRegressor\n",
    "from sklearn.ensemble import RandomForestRegressor, VotingRegressor\n",
    "from sklearn.linear_model import LinearRegression"
   ]
  },
  {
   "cell_type": "code",
   "execution_count": 32,
   "metadata": {},
   "outputs": [],
   "source": [
    "X_train, X_test, y_train, y_test = train_test_split(X, y, test_size=0.2, random_state=12)"
   ]
  },
  {
   "cell_type": "code",
   "execution_count": 34,
   "metadata": {},
   "outputs": [],
   "source": [
    "knn_reg = KNeighborsRegressor(n_neighbors = 3)\n",
    "tree_reg = DecisionTreeRegressor(max_depth = 5)\n",
    "rf_rg = RandomForestRegressor(n_estimators = 300, max_depth = 2)\n",
    "lr_reg = LinearRegression()\n",
    "\n",
    "estimators = [('knn', knn_reg),('tree', tree_reg),('random_forest',rf_rg),('linear reg',lr_reg)]"
   ]
  },
  {
   "cell_type": "code",
   "execution_count": 36,
   "metadata": {},
   "outputs": [],
   "source": [
    "# 평기지표 출력 함수\n",
    "def print_metrics(y, y_pred, title = None):\n",
    "    mse = mean_squared_error(y, y_pred)\n",
    "    rmse = np.sqrt(mse)\n",
    "    r2 = r2_score(y, y_pred)\n",
    "    if title:\n",
    "        print(title)\n",
    "    print(f'mse:{mse}, rmse:{rmse}, r2{r2}')\n",
    "    "
   ]
  },
  {
   "cell_type": "code",
   "execution_count": 39,
   "metadata": {},
   "outputs": [
    {
     "name": "stdout",
     "output_type": "stream",
     "text": [
      "knn-train\n",
      "mse:1427.767659021123, rmse:37.785812933178015, r20.8019417941941395\n",
      "knn-test\n",
      "mse:2864.855454376287, rmse:53.52434450207015, r20.6640766473771966\n",
      "----------------------------------\n",
      "tree-train\n",
      "mse:817.4625116301221, rmse:28.59130132802846, r20.8866025873719422\n",
      "tree-test\n",
      "mse:3301.0727964279786, rmse:57.45496320099751, r20.6129272632816158\n",
      "----------------------------------\n",
      "random_forest-train\n",
      "mse:1709.1924066973406, rmse:41.34238027372566, r20.7629028929822064\n",
      "random_forest-test\n",
      "mse:2948.00279308986, rmse:54.295513563183654, r20.6543270690032998\n",
      "----------------------------------\n",
      "linear reg-train\n",
      "mse:2017.1792010802012, rmse:44.9130181693482, r20.7201793367215267\n",
      "linear reg-test\n",
      "mse:2368.5811126977082, rmse:48.6680707723011, r20.7222681140435795\n",
      "----------------------------------\n"
     ]
    }
   ],
   "source": [
    "#반복문 돌려서 모델별로 학습\n",
    "\n",
    "for name, model in estimators:\n",
    "    model.fit(X_train, y_train)\n",
    "    pred_train = model.predict(X_train)\n",
    "    pred_test = model.predict(X_test)\n",
    "    \n",
    "    print_metrics(y_train, pred_train, name+'-train')\n",
    "    print_metrics(y_test, pred_test, name +'-test')\n",
    "    print(\"----------------------------------\")\n",
    "    \n",
    "    "
   ]
  },
  {
   "cell_type": "code",
   "execution_count": 40,
   "metadata": {},
   "outputs": [],
   "source": [
    "#votingregressor : 각 모델이 예측한 값(예측값 자체가 숫자)의 평균을 반환\n",
    "knn_reg = KNeighborsRegressor(n_neighbors = 3)\n",
    "tree_reg = DecisionTreeRegressor(max_depth = 5)\n",
    "rf_rg = RandomForestRegressor(n_estimators = 300, max_depth = 2)\n",
    "lr_reg = LinearRegression()\n",
    "\n",
    "estimators = [('knn', knn_reg),('tree', tree_reg),('random_forest',rf_rg),('linear reg',lr_reg)]\n",
    "\n",
    "vote_reg = VotingRegressor(estimators)\n",
    "vote_reg.fit(X_train, y_train)\n",
    "pred_train = vote_reg.predict(X_train)\n",
    "pred_test = vote_reg.predict(X_test)"
   ]
  },
  {
   "cell_type": "code",
   "execution_count": 41,
   "metadata": {},
   "outputs": [
    {
     "name": "stdout",
     "output_type": "stream",
     "text": [
      "mse:2540.4034949689735, rmse:50.40241556680566, r20.7021207971449102\n"
     ]
    }
   ],
   "source": [
    "print_metrics(y_test, pred_test)"
   ]
  },
  {
   "cell_type": "code",
   "execution_count": 42,
   "metadata": {},
   "outputs": [],
   "source": [
    "tree_reg = DecisionTreeRegressor(max_depth = 3)"
   ]
  },
  {
   "cell_type": "code",
   "execution_count": 43,
   "metadata": {},
   "outputs": [
    {
     "data": {
      "text/plain": [
       "DecisionTreeRegressor(max_depth=3)"
      ]
     },
     "execution_count": 43,
     "metadata": {},
     "output_type": "execute_result"
    }
   ],
   "source": [
    "\n",
    "tree_reg.fit(X_train,y_train)"
   ]
  },
  {
   "cell_type": "code",
   "execution_count": 45,
   "metadata": {},
   "outputs": [
    {
     "data": {
      "image/svg+xml": [
       "<?xml version=\"1.0\" encoding=\"UTF-8\" standalone=\"no\"?>\r\n",
       "<!DOCTYPE svg PUBLIC \"-//W3C//DTD SVG 1.1//EN\"\r\n",
       " \"http://www.w3.org/Graphics/SVG/1.1/DTD/svg11.dtd\">\r\n",
       "<!-- Generated by graphviz version 2.47.0 (20210316.0004)\r\n",
       " -->\r\n",
       "<!-- Title: Tree Pages: 1 -->\r\n",
       "<svg width=\"1078pt\" height=\"373pt\"\r\n",
       " viewBox=\"0.00 0.00 1077.50 373.00\" xmlns=\"http://www.w3.org/2000/svg\" xmlns:xlink=\"http://www.w3.org/1999/xlink\">\r\n",
       "<g id=\"graph0\" class=\"graph\" transform=\"scale(1 1) rotate(0) translate(4 369)\">\r\n",
       "<title>Tree</title>\r\n",
       "<polygon fill=\"white\" stroke=\"transparent\" points=\"-4,4 -4,-369 1073.5,-369 1073.5,4 -4,4\"/>\r\n",
       "<!-- 0 -->\r\n",
       "<g id=\"node1\" class=\"node\">\r\n",
       "<title>0</title>\r\n",
       "<path fill=\"#efb287\" stroke=\"black\" d=\"M568.5,-365C568.5,-365 470.5,-365 470.5,-365 464.5,-365 458.5,-359 458.5,-353 458.5,-353 458.5,-309 458.5,-309 458.5,-303 464.5,-297 470.5,-297 470.5,-297 568.5,-297 568.5,-297 574.5,-297 580.5,-303 580.5,-309 580.5,-309 580.5,-353 580.5,-353 580.5,-359 574.5,-365 568.5,-365\"/>\r\n",
       "<text text-anchor=\"middle\" x=\"519.5\" y=\"-349.8\" font-family=\"Helvetica,sans-Serif\" font-size=\"14.00\">X[0] &lt;= 0.015</text>\r\n",
       "<text text-anchor=\"middle\" x=\"519.5\" y=\"-334.8\" font-family=\"Helvetica,sans-Serif\" font-size=\"14.00\">mse = 7208.829</text>\r\n",
       "<text text-anchor=\"middle\" x=\"519.5\" y=\"-319.8\" font-family=\"Helvetica,sans-Serif\" font-size=\"14.00\">samples = 80</text>\r\n",
       "<text text-anchor=\"middle\" x=\"519.5\" y=\"-304.8\" font-family=\"Helvetica,sans-Serif\" font-size=\"14.00\">value = 23.749</text>\r\n",
       "</g>\r\n",
       "<!-- 1 -->\r\n",
       "<g id=\"node2\" class=\"node\">\r\n",
       "<title>1</title>\r\n",
       "<path fill=\"#f4caab\" stroke=\"black\" d=\"M435.5,-261C435.5,-261 337.5,-261 337.5,-261 331.5,-261 325.5,-255 325.5,-249 325.5,-249 325.5,-205 325.5,-205 325.5,-199 331.5,-193 337.5,-193 337.5,-193 435.5,-193 435.5,-193 441.5,-193 447.5,-199 447.5,-205 447.5,-205 447.5,-249 447.5,-249 447.5,-255 441.5,-261 435.5,-261\"/>\r\n",
       "<text text-anchor=\"middle\" x=\"386.5\" y=\"-245.8\" font-family=\"Helvetica,sans-Serif\" font-size=\"14.00\">X[0] &lt;= &#45;1.601</text>\r\n",
       "<text text-anchor=\"middle\" x=\"386.5\" y=\"-230.8\" font-family=\"Helvetica,sans-Serif\" font-size=\"14.00\">mse = 2661.791</text>\r\n",
       "<text text-anchor=\"middle\" x=\"386.5\" y=\"-215.8\" font-family=\"Helvetica,sans-Serif\" font-size=\"14.00\">samples = 34</text>\r\n",
       "<text text-anchor=\"middle\" x=\"386.5\" y=\"-200.8\" font-family=\"Helvetica,sans-Serif\" font-size=\"14.00\">value = &#45;46.023</text>\r\n",
       "</g>\r\n",
       "<!-- 0&#45;&gt;1 -->\r\n",
       "<g id=\"edge1\" class=\"edge\">\r\n",
       "<title>0&#45;&gt;1</title>\r\n",
       "<path fill=\"none\" stroke=\"black\" d=\"M476.32,-296.88C464.12,-287.53 450.73,-277.26 438.09,-267.57\"/>\r\n",
       "<polygon fill=\"black\" stroke=\"black\" points=\"439.98,-264.61 429.92,-261.3 435.72,-270.16 439.98,-264.61\"/>\r\n",
       "<text text-anchor=\"middle\" x=\"433.19\" y=\"-282.38\" font-family=\"Helvetica,sans-Serif\" font-size=\"14.00\">True</text>\r\n",
       "</g>\r\n",
       "<!-- 8 -->\r\n",
       "<g id=\"node9\" class=\"node\">\r\n",
       "<title>8</title>\r\n",
       "<path fill=\"#eca16b\" stroke=\"black\" d=\"M707.5,-261C707.5,-261 609.5,-261 609.5,-261 603.5,-261 597.5,-255 597.5,-249 597.5,-249 597.5,-205 597.5,-205 597.5,-199 603.5,-193 609.5,-193 609.5,-193 707.5,-193 707.5,-193 713.5,-193 719.5,-199 719.5,-205 719.5,-205 719.5,-249 719.5,-249 719.5,-255 713.5,-261 707.5,-261\"/>\r\n",
       "<text text-anchor=\"middle\" x=\"658.5\" y=\"-245.8\" font-family=\"Helvetica,sans-Serif\" font-size=\"14.00\">X[0] &lt;= 0.585</text>\r\n",
       "<text text-anchor=\"middle\" x=\"658.5\" y=\"-230.8\" font-family=\"Helvetica,sans-Serif\" font-size=\"14.00\">mse = 4311.951</text>\r\n",
       "<text text-anchor=\"middle\" x=\"658.5\" y=\"-215.8\" font-family=\"Helvetica,sans-Serif\" font-size=\"14.00\">samples = 46</text>\r\n",
       "<text text-anchor=\"middle\" x=\"658.5\" y=\"-200.8\" font-family=\"Helvetica,sans-Serif\" font-size=\"14.00\">value = 75.32</text>\r\n",
       "</g>\r\n",
       "<!-- 0&#45;&gt;8 -->\r\n",
       "<g id=\"edge8\" class=\"edge\">\r\n",
       "<title>0&#45;&gt;8</title>\r\n",
       "<path fill=\"none\" stroke=\"black\" d=\"M564.63,-296.88C577.5,-287.44 591.64,-277.06 604.96,-267.29\"/>\r\n",
       "<polygon fill=\"black\" stroke=\"black\" points=\"607.13,-270.04 613.12,-261.3 602.99,-264.39 607.13,-270.04\"/>\r\n",
       "<text text-anchor=\"middle\" x=\"609.33\" y=\"-282.31\" font-family=\"Helvetica,sans-Serif\" font-size=\"14.00\">False</text>\r\n",
       "</g>\r\n",
       "<!-- 2 -->\r\n",
       "<g id=\"node3\" class=\"node\">\r\n",
       "<title>2</title>\r\n",
       "<path fill=\"#fffffe\" stroke=\"black\" d=\"M232,-157C232,-157 133,-157 133,-157 127,-157 121,-151 121,-145 121,-145 121,-101 121,-101 121,-95 127,-89 133,-89 133,-89 232,-89 232,-89 238,-89 244,-95 244,-101 244,-101 244,-145 244,-145 244,-151 238,-157 232,-157\"/>\r\n",
       "<text text-anchor=\"middle\" x=\"182.5\" y=\"-141.8\" font-family=\"Helvetica,sans-Serif\" font-size=\"14.00\">X[0] &lt;= &#45;2.181</text>\r\n",
       "<text text-anchor=\"middle\" x=\"182.5\" y=\"-126.8\" font-family=\"Helvetica,sans-Serif\" font-size=\"14.00\">mse = 1.477</text>\r\n",
       "<text text-anchor=\"middle\" x=\"182.5\" y=\"-111.8\" font-family=\"Helvetica,sans-Serif\" font-size=\"14.00\">samples = 2</text>\r\n",
       "<text text-anchor=\"middle\" x=\"182.5\" y=\"-96.8\" font-family=\"Helvetica,sans-Serif\" font-size=\"14.00\">value = &#45;204.015</text>\r\n",
       "</g>\r\n",
       "<!-- 1&#45;&gt;2 -->\r\n",
       "<g id=\"edge2\" class=\"edge\">\r\n",
       "<title>1&#45;&gt;2</title>\r\n",
       "<path fill=\"none\" stroke=\"black\" d=\"M325.29,-195.4C302.6,-184.05 276.69,-171.09 253.22,-159.36\"/>\r\n",
       "<polygon fill=\"black\" stroke=\"black\" points=\"254.53,-156.1 244.02,-154.76 251.39,-162.36 254.53,-156.1\"/>\r\n",
       "</g>\r\n",
       "<!-- 5 -->\r\n",
       "<g id=\"node6\" class=\"node\">\r\n",
       "<title>5</title>\r\n",
       "<path fill=\"#f3c6a6\" stroke=\"black\" d=\"M435.5,-157C435.5,-157 337.5,-157 337.5,-157 331.5,-157 325.5,-151 325.5,-145 325.5,-145 325.5,-101 325.5,-101 325.5,-95 331.5,-89 337.5,-89 337.5,-89 435.5,-89 435.5,-89 441.5,-89 447.5,-95 447.5,-101 447.5,-101 447.5,-145 447.5,-145 447.5,-151 441.5,-157 435.5,-157\"/>\r\n",
       "<text text-anchor=\"middle\" x=\"386.5\" y=\"-141.8\" font-family=\"Helvetica,sans-Serif\" font-size=\"14.00\">X[0] &lt;= &#45;0.558</text>\r\n",
       "<text text-anchor=\"middle\" x=\"386.5\" y=\"-126.8\" font-family=\"Helvetica,sans-Serif\" font-size=\"14.00\">mse = 1170.454</text>\r\n",
       "<text text-anchor=\"middle\" x=\"386.5\" y=\"-111.8\" font-family=\"Helvetica,sans-Serif\" font-size=\"14.00\">samples = 32</text>\r\n",
       "<text text-anchor=\"middle\" x=\"386.5\" y=\"-96.8\" font-family=\"Helvetica,sans-Serif\" font-size=\"14.00\">value = &#45;36.148</text>\r\n",
       "</g>\r\n",
       "<!-- 1&#45;&gt;5 -->\r\n",
       "<g id=\"edge5\" class=\"edge\">\r\n",
       "<title>1&#45;&gt;5</title>\r\n",
       "<path fill=\"none\" stroke=\"black\" d=\"M386.5,-192.88C386.5,-184.78 386.5,-175.98 386.5,-167.47\"/>\r\n",
       "<polygon fill=\"black\" stroke=\"black\" points=\"390,-167.3 386.5,-157.3 383,-167.3 390,-167.3\"/>\r\n",
       "</g>\r\n",
       "<!-- 3 -->\r\n",
       "<g id=\"node4\" class=\"node\">\r\n",
       "<title>3</title>\r\n",
       "<path fill=\"#fffefe\" stroke=\"black\" d=\"M95,-53C95,-53 12,-53 12,-53 6,-53 0,-47 0,-41 0,-41 0,-12 0,-12 0,-6 6,0 12,0 12,0 95,0 95,0 101,0 107,-6 107,-12 107,-12 107,-41 107,-41 107,-47 101,-53 95,-53\"/>\r\n",
       "<text text-anchor=\"middle\" x=\"53.5\" y=\"-37.8\" font-family=\"Helvetica,sans-Serif\" font-size=\"14.00\">mse = 0.0</text>\r\n",
       "<text text-anchor=\"middle\" x=\"53.5\" y=\"-22.8\" font-family=\"Helvetica,sans-Serif\" font-size=\"14.00\">samples = 1</text>\r\n",
       "<text text-anchor=\"middle\" x=\"53.5\" y=\"-7.8\" font-family=\"Helvetica,sans-Serif\" font-size=\"14.00\">value = &#45;202.8</text>\r\n",
       "</g>\r\n",
       "<!-- 2&#45;&gt;3 -->\r\n",
       "<g id=\"edge3\" class=\"edge\">\r\n",
       "<title>2&#45;&gt;3</title>\r\n",
       "<path fill=\"none\" stroke=\"black\" d=\"M137.38,-88.95C124.27,-79.34 109.98,-68.87 96.97,-59.34\"/>\r\n",
       "<polygon fill=\"black\" stroke=\"black\" points=\"98.77,-56.32 88.63,-53.24 94.63,-61.97 98.77,-56.32\"/>\r\n",
       "</g>\r\n",
       "<!-- 4 -->\r\n",
       "<g id=\"node5\" class=\"node\">\r\n",
       "<title>4</title>\r\n",
       "<path fill=\"#ffffff\" stroke=\"black\" d=\"M228,-53C228,-53 137,-53 137,-53 131,-53 125,-47 125,-41 125,-41 125,-12 125,-12 125,-6 131,0 137,0 137,0 228,0 228,0 234,0 240,-6 240,-12 240,-12 240,-41 240,-41 240,-47 234,-53 228,-53\"/>\r\n",
       "<text text-anchor=\"middle\" x=\"182.5\" y=\"-37.8\" font-family=\"Helvetica,sans-Serif\" font-size=\"14.00\">mse = &#45;0.0</text>\r\n",
       "<text text-anchor=\"middle\" x=\"182.5\" y=\"-22.8\" font-family=\"Helvetica,sans-Serif\" font-size=\"14.00\">samples = 1</text>\r\n",
       "<text text-anchor=\"middle\" x=\"182.5\" y=\"-7.8\" font-family=\"Helvetica,sans-Serif\" font-size=\"14.00\">value = &#45;205.23</text>\r\n",
       "</g>\r\n",
       "<!-- 2&#45;&gt;4 -->\r\n",
       "<g id=\"edge4\" class=\"edge\">\r\n",
       "<title>2&#45;&gt;4</title>\r\n",
       "<path fill=\"none\" stroke=\"black\" d=\"M182.5,-88.95C182.5,-80.72 182.5,-71.85 182.5,-63.48\"/>\r\n",
       "<polygon fill=\"black\" stroke=\"black\" points=\"186,-63.24 182.5,-53.24 179,-63.24 186,-63.24\"/>\r\n",
       "</g>\r\n",
       "<!-- 6 -->\r\n",
       "<g id=\"node7\" class=\"node\">\r\n",
       "<title>6</title>\r\n",
       "<path fill=\"#f4c9aa\" stroke=\"black\" d=\"M359,-53C359,-53 270,-53 270,-53 264,-53 258,-47 258,-41 258,-41 258,-12 258,-12 258,-6 264,0 270,0 270,0 359,0 359,0 365,0 371,-6 371,-12 371,-12 371,-41 371,-41 371,-47 365,-53 359,-53\"/>\r\n",
       "<text text-anchor=\"middle\" x=\"314.5\" y=\"-37.8\" font-family=\"Helvetica,sans-Serif\" font-size=\"14.00\">mse = 774.659</text>\r\n",
       "<text text-anchor=\"middle\" x=\"314.5\" y=\"-22.8\" font-family=\"Helvetica,sans-Serif\" font-size=\"14.00\">samples = 16</text>\r\n",
       "<text text-anchor=\"middle\" x=\"314.5\" y=\"-7.8\" font-family=\"Helvetica,sans-Serif\" font-size=\"14.00\">value = &#45;43.69</text>\r\n",
       "</g>\r\n",
       "<!-- 5&#45;&gt;6 -->\r\n",
       "<g id=\"edge6\" class=\"edge\">\r\n",
       "<title>5&#45;&gt;6</title>\r\n",
       "<path fill=\"none\" stroke=\"black\" d=\"M361.32,-88.95C354.49,-79.98 347.08,-70.27 340.22,-61.26\"/>\r\n",
       "<polygon fill=\"black\" stroke=\"black\" points=\"342.95,-59.07 334.11,-53.24 337.39,-63.31 342.95,-59.07\"/>\r\n",
       "</g>\r\n",
       "<!-- 7 -->\r\n",
       "<g id=\"node8\" class=\"node\">\r\n",
       "<title>7</title>\r\n",
       "<path fill=\"#f3c4a2\" stroke=\"black\" d=\"M499.5,-53C499.5,-53 401.5,-53 401.5,-53 395.5,-53 389.5,-47 389.5,-41 389.5,-41 389.5,-12 389.5,-12 389.5,-6 395.5,0 401.5,0 401.5,0 499.5,0 499.5,0 505.5,0 511.5,-6 511.5,-12 511.5,-12 511.5,-41 511.5,-41 511.5,-47 505.5,-53 499.5,-53\"/>\r\n",
       "<text text-anchor=\"middle\" x=\"450.5\" y=\"-37.8\" font-family=\"Helvetica,sans-Serif\" font-size=\"14.00\">mse = 1452.491</text>\r\n",
       "<text text-anchor=\"middle\" x=\"450.5\" y=\"-22.8\" font-family=\"Helvetica,sans-Serif\" font-size=\"14.00\">samples = 16</text>\r\n",
       "<text text-anchor=\"middle\" x=\"450.5\" y=\"-7.8\" font-family=\"Helvetica,sans-Serif\" font-size=\"14.00\">value = &#45;28.606</text>\r\n",
       "</g>\r\n",
       "<!-- 5&#45;&gt;7 -->\r\n",
       "<g id=\"edge7\" class=\"edge\">\r\n",
       "<title>5&#45;&gt;7</title>\r\n",
       "<path fill=\"none\" stroke=\"black\" d=\"M408.88,-88.95C414.89,-80.07 421.4,-70.46 427.45,-61.54\"/>\r\n",
       "<polygon fill=\"black\" stroke=\"black\" points=\"430.36,-63.48 433.07,-53.24 424.56,-59.55 430.36,-63.48\"/>\r\n",
       "</g>\r\n",
       "<!-- 9 -->\r\n",
       "<g id=\"node10\" class=\"node\">\r\n",
       "<title>9</title>\r\n",
       "<path fill=\"#eeaf81\" stroke=\"black\" d=\"M707.5,-157C707.5,-157 609.5,-157 609.5,-157 603.5,-157 597.5,-151 597.5,-145 597.5,-145 597.5,-101 597.5,-101 597.5,-95 603.5,-89 609.5,-89 609.5,-89 707.5,-89 707.5,-89 713.5,-89 719.5,-95 719.5,-101 719.5,-101 719.5,-145 719.5,-145 719.5,-151 713.5,-157 707.5,-157\"/>\r\n",
       "<text text-anchor=\"middle\" x=\"658.5\" y=\"-141.8\" font-family=\"Helvetica,sans-Serif\" font-size=\"14.00\">X[0] &lt;= 0.043</text>\r\n",
       "<text text-anchor=\"middle\" x=\"658.5\" y=\"-126.8\" font-family=\"Helvetica,sans-Serif\" font-size=\"14.00\">mse = 1469.287</text>\r\n",
       "<text text-anchor=\"middle\" x=\"658.5\" y=\"-111.8\" font-family=\"Helvetica,sans-Serif\" font-size=\"14.00\">samples = 23</text>\r\n",
       "<text text-anchor=\"middle\" x=\"658.5\" y=\"-96.8\" font-family=\"Helvetica,sans-Serif\" font-size=\"14.00\">value = 33.604</text>\r\n",
       "</g>\r\n",
       "<!-- 8&#45;&gt;9 -->\r\n",
       "<g id=\"edge9\" class=\"edge\">\r\n",
       "<title>8&#45;&gt;9</title>\r\n",
       "<path fill=\"none\" stroke=\"black\" d=\"M658.5,-192.88C658.5,-184.78 658.5,-175.98 658.5,-167.47\"/>\r\n",
       "<polygon fill=\"black\" stroke=\"black\" points=\"662,-167.3 658.5,-157.3 655,-167.3 662,-167.3\"/>\r\n",
       "</g>\r\n",
       "<!-- 12 -->\r\n",
       "<g id=\"node13\" class=\"node\">\r\n",
       "<title>12</title>\r\n",
       "<path fill=\"#e99355\" stroke=\"black\" d=\"M917.5,-157C917.5,-157 819.5,-157 819.5,-157 813.5,-157 807.5,-151 807.5,-145 807.5,-145 807.5,-101 807.5,-101 807.5,-95 813.5,-89 819.5,-89 819.5,-89 917.5,-89 917.5,-89 923.5,-89 929.5,-95 929.5,-101 929.5,-101 929.5,-145 929.5,-145 929.5,-151 923.5,-157 917.5,-157\"/>\r\n",
       "<text text-anchor=\"middle\" x=\"868.5\" y=\"-141.8\" font-family=\"Helvetica,sans-Serif\" font-size=\"14.00\">X[0] &lt;= 1.226</text>\r\n",
       "<text text-anchor=\"middle\" x=\"868.5\" y=\"-126.8\" font-family=\"Helvetica,sans-Serif\" font-size=\"14.00\">mse = 3674.072</text>\r\n",
       "<text text-anchor=\"middle\" x=\"868.5\" y=\"-111.8\" font-family=\"Helvetica,sans-Serif\" font-size=\"14.00\">samples = 23</text>\r\n",
       "<text text-anchor=\"middle\" x=\"868.5\" y=\"-96.8\" font-family=\"Helvetica,sans-Serif\" font-size=\"14.00\">value = 117.037</text>\r\n",
       "</g>\r\n",
       "<!-- 8&#45;&gt;12 -->\r\n",
       "<g id=\"edge12\" class=\"edge\">\r\n",
       "<title>8&#45;&gt;12</title>\r\n",
       "<path fill=\"none\" stroke=\"black\" d=\"M719.52,-196.36C744.11,-184.42 772.63,-170.56 798.1,-158.2\"/>\r\n",
       "<polygon fill=\"black\" stroke=\"black\" points=\"799.86,-161.23 807.33,-153.71 796.8,-154.93 799.86,-161.23\"/>\r\n",
       "</g>\r\n",
       "<!-- 10 -->\r\n",
       "<g id=\"node11\" class=\"node\">\r\n",
       "<title>10</title>\r\n",
       "<path fill=\"#e89152\" stroke=\"black\" d=\"M637,-53C637,-53 542,-53 542,-53 536,-53 530,-47 530,-41 530,-41 530,-12 530,-12 530,-6 536,0 542,0 542,0 637,0 637,0 643,0 649,-6 649,-12 649,-12 649,-41 649,-41 649,-47 643,-53 637,-53\"/>\r\n",
       "<text text-anchor=\"middle\" x=\"589.5\" y=\"-37.8\" font-family=\"Helvetica,sans-Serif\" font-size=\"14.00\">mse = 0.0</text>\r\n",
       "<text text-anchor=\"middle\" x=\"589.5\" y=\"-22.8\" font-family=\"Helvetica,sans-Serif\" font-size=\"14.00\">samples = 1</text>\r\n",
       "<text text-anchor=\"middle\" x=\"589.5\" y=\"-7.8\" font-family=\"Helvetica,sans-Serif\" font-size=\"14.00\">value = 122.667</text>\r\n",
       "</g>\r\n",
       "<!-- 9&#45;&gt;10 -->\r\n",
       "<g id=\"edge10\" class=\"edge\">\r\n",
       "<title>9&#45;&gt;10</title>\r\n",
       "<path fill=\"none\" stroke=\"black\" d=\"M634.37,-88.95C627.89,-80.07 620.87,-70.46 614.35,-61.54\"/>\r\n",
       "<polygon fill=\"black\" stroke=\"black\" points=\"617.02,-59.25 608.29,-53.24 611.36,-63.38 617.02,-59.25\"/>\r\n",
       "</g>\r\n",
       "<!-- 11 -->\r\n",
       "<g id=\"node12\" class=\"node\">\r\n",
       "<title>11</title>\r\n",
       "<path fill=\"#efb083\" stroke=\"black\" d=\"M777.5,-53C777.5,-53 679.5,-53 679.5,-53 673.5,-53 667.5,-47 667.5,-41 667.5,-41 667.5,-12 667.5,-12 667.5,-6 673.5,0 679.5,0 679.5,0 777.5,0 777.5,0 783.5,0 789.5,-6 789.5,-12 789.5,-12 789.5,-41 789.5,-41 789.5,-47 783.5,-53 777.5,-53\"/>\r\n",
       "<text text-anchor=\"middle\" x=\"728.5\" y=\"-37.8\" font-family=\"Helvetica,sans-Serif\" font-size=\"14.00\">mse = 1159.121</text>\r\n",
       "<text text-anchor=\"middle\" x=\"728.5\" y=\"-22.8\" font-family=\"Helvetica,sans-Serif\" font-size=\"14.00\">samples = 22</text>\r\n",
       "<text text-anchor=\"middle\" x=\"728.5\" y=\"-7.8\" font-family=\"Helvetica,sans-Serif\" font-size=\"14.00\">value = 29.555</text>\r\n",
       "</g>\r\n",
       "<!-- 9&#45;&gt;11 -->\r\n",
       "<g id=\"edge11\" class=\"edge\">\r\n",
       "<title>9&#45;&gt;11</title>\r\n",
       "<path fill=\"none\" stroke=\"black\" d=\"M682.98,-88.95C689.56,-80.07 696.67,-70.46 703.29,-61.54\"/>\r\n",
       "<polygon fill=\"black\" stroke=\"black\" points=\"706.3,-63.36 709.44,-53.24 700.67,-59.19 706.3,-63.36\"/>\r\n",
       "</g>\r\n",
       "<!-- 13 -->\r\n",
       "<g id=\"node14\" class=\"node\">\r\n",
       "<title>13</title>\r\n",
       "<path fill=\"#ea9b62\" stroke=\"black\" d=\"M917.5,-53C917.5,-53 819.5,-53 819.5,-53 813.5,-53 807.5,-47 807.5,-41 807.5,-41 807.5,-12 807.5,-12 807.5,-6 813.5,0 819.5,0 819.5,0 917.5,0 917.5,0 923.5,0 929.5,-6 929.5,-12 929.5,-12 929.5,-41 929.5,-41 929.5,-47 923.5,-53 917.5,-53\"/>\r\n",
       "<text text-anchor=\"middle\" x=\"868.5\" y=\"-37.8\" font-family=\"Helvetica,sans-Serif\" font-size=\"14.00\">mse = 2888.959</text>\r\n",
       "<text text-anchor=\"middle\" x=\"868.5\" y=\"-22.8\" font-family=\"Helvetica,sans-Serif\" font-size=\"14.00\">samples = 16</text>\r\n",
       "<text text-anchor=\"middle\" x=\"868.5\" y=\"-7.8\" font-family=\"Helvetica,sans-Serif\" font-size=\"14.00\">value = 93.403</text>\r\n",
       "</g>\r\n",
       "<!-- 12&#45;&gt;13 -->\r\n",
       "<g id=\"edge13\" class=\"edge\">\r\n",
       "<title>12&#45;&gt;13</title>\r\n",
       "<path fill=\"none\" stroke=\"black\" d=\"M868.5,-88.95C868.5,-80.72 868.5,-71.85 868.5,-63.48\"/>\r\n",
       "<polygon fill=\"black\" stroke=\"black\" points=\"872,-63.24 868.5,-53.24 865,-63.24 872,-63.24\"/>\r\n",
       "</g>\r\n",
       "<!-- 14 -->\r\n",
       "<g id=\"node15\" class=\"node\">\r\n",
       "<title>14</title>\r\n",
       "<path fill=\"#e58139\" stroke=\"black\" d=\"M1057.5,-53C1057.5,-53 959.5,-53 959.5,-53 953.5,-53 947.5,-47 947.5,-41 947.5,-41 947.5,-12 947.5,-12 947.5,-6 953.5,0 959.5,0 959.5,0 1057.5,0 1057.5,0 1063.5,0 1069.5,-6 1069.5,-12 1069.5,-12 1069.5,-41 1069.5,-41 1069.5,-47 1063.5,-53 1057.5,-53\"/>\r\n",
       "<text text-anchor=\"middle\" x=\"1008.5\" y=\"-37.8\" font-family=\"Helvetica,sans-Serif\" font-size=\"14.00\">mse = 1273.962</text>\r\n",
       "<text text-anchor=\"middle\" x=\"1008.5\" y=\"-22.8\" font-family=\"Helvetica,sans-Serif\" font-size=\"14.00\">samples = 7</text>\r\n",
       "<text text-anchor=\"middle\" x=\"1008.5\" y=\"-7.8\" font-family=\"Helvetica,sans-Serif\" font-size=\"14.00\">value = 171.055</text>\r\n",
       "</g>\r\n",
       "<!-- 12&#45;&gt;14 -->\r\n",
       "<g id=\"edge14\" class=\"edge\">\r\n",
       "<title>12&#45;&gt;14</title>\r\n",
       "<path fill=\"none\" stroke=\"black\" d=\"M917.47,-88.95C931.83,-79.25 947.5,-68.68 961.73,-59.07\"/>\r\n",
       "<polygon fill=\"black\" stroke=\"black\" points=\"964.04,-61.73 970.37,-53.24 960.12,-55.93 964.04,-61.73\"/>\r\n",
       "</g>\r\n",
       "</g>\r\n",
       "</svg>\r\n"
      ],
      "text/plain": [
       "<graphviz.files.Source at 0x1b7d5bc0970>"
      ]
     },
     "execution_count": 45,
     "metadata": {},
     "output_type": "execute_result"
    }
   ],
   "source": [
    "from sklearn.tree import export_graphviz\n",
    "from graphviz import Source\n",
    "\n",
    "graph = Source(export_graphviz(tree_reg,\n",
    "                              out_file = None,\n",
    "                              rounded = True, filled = True))\n",
    "graph"
   ]
  },
  {
   "cell_type": "code",
   "execution_count": 51,
   "metadata": {},
   "outputs": [
    {
     "data": {
      "text/plain": [
       "-46.0226932531074"
      ]
     },
     "execution_count": 51,
     "metadata": {},
     "output_type": "execute_result"
    }
   ],
   "source": [
    "np.mean(y_train[np.where(X_train<=0.015)[0]])"
   ]
  },
  {
   "cell_type": "code",
   "execution_count": null,
   "metadata": {},
   "outputs": [],
   "source": []
  }
 ],
 "metadata": {
  "kernelspec": {
   "display_name": "Python 3",
   "language": "python",
   "name": "python3"
  },
  "language_info": {
   "codemirror_mode": {
    "name": "ipython",
    "version": 3
   },
   "file_extension": ".py",
   "mimetype": "text/x-python",
   "name": "python",
   "nbconvert_exporter": "python",
   "pygments_lexer": "ipython3",
   "version": "3.8.5"
  }
 },
 "nbformat": 4,
 "nbformat_minor": 4
}
