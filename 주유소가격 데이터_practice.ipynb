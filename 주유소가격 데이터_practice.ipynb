{
 "cells": [
  {
   "cell_type": "code",
   "execution_count": 1,
   "metadata": {},
   "outputs": [],
   "source": [
    "import numpy as np\n",
    "import pandas as pd\n",
    "import matplotlib.pyplot as plt\n",
    "import seaborn as sns"
   ]
  },
  {
   "cell_type": "code",
   "execution_count": 2,
   "metadata": {},
   "outputs": [],
   "source": [
    "# 상반기, 하반기 주유소 가격 데이터 조회\n",
    "df1 = pd.read_csv('data/2019년 상반기 주유소 판매가격.csv')\n",
    "df2 = pd.read_csv('data/2019년 하반기 주유소 판매가격.csv')"
   ]
  },
  {
   "cell_type": "code",
   "execution_count": 3,
   "metadata": {
    "scrolled": true
   },
   "outputs": [
    {
     "data": {
      "text/plain": [
       "(181714, 11)"
      ]
     },
     "execution_count": 3,
     "metadata": {},
     "output_type": "execute_result"
    }
   ],
   "source": [
    "df11 = pd.concat([df1,df2])\n",
    "df11.shape"
   ]
  },
  {
   "cell_type": "code",
   "execution_count": 4,
   "metadata": {},
   "outputs": [
    {
     "name": "stdout",
     "output_type": "stream",
     "text": [
      "<class 'pandas.core.frame.DataFrame'>\n",
      "Int64Index: 181714 entries, 0 to 91123\n",
      "Data columns (total 11 columns):\n",
      " #   Column  Non-Null Count   Dtype \n",
      "---  ------  --------------   ----- \n",
      " 0   번호      181714 non-null  object\n",
      " 1   지역      181714 non-null  object\n",
      " 2   상호      181714 non-null  object\n",
      " 3   주소      181714 non-null  object\n",
      " 4   기간      181714 non-null  int64 \n",
      " 5   상표      181714 non-null  object\n",
      " 6   셀프여부    181714 non-null  object\n",
      " 7   고급휘발유   181714 non-null  int64 \n",
      " 8   휘발유     181714 non-null  int64 \n",
      " 9   경유      181714 non-null  int64 \n",
      " 10  실내등유    181714 non-null  int64 \n",
      "dtypes: int64(5), object(6)\n",
      "memory usage: 16.6+ MB\n"
     ]
    }
   ],
   "source": [
    "df11.info()"
   ]
  },
  {
   "cell_type": "code",
   "execution_count": 5,
   "metadata": {},
   "outputs": [
    {
     "data": {
      "text/plain": [
       "((90590, 11), (91124, 11))"
      ]
     },
     "execution_count": 5,
     "metadata": {},
     "output_type": "execute_result"
    }
   ],
   "source": [
    "first = pd.read_csv('data/2019년 상반기 주유소 판매가격.csv', encoding = 'utf-8')\n",
    "second = pd.read_csv('data/2019년 하반기 주유소 판매가격.csv', encoding = 'utf-8')\n",
    "first.shape, second.shape\n"
   ]
  },
  {
   "cell_type": "code",
   "execution_count": 6,
   "metadata": {},
   "outputs": [
    {
     "data": {
      "text/plain": [
       "(181714, 11)"
      ]
     },
     "execution_count": 6,
     "metadata": {},
     "output_type": "execute_result"
    }
   ],
   "source": [
    "df = pd.concat([first,second], ignore_index= True)\n",
    "df.shape"
   ]
  },
  {
   "cell_type": "code",
   "execution_count": 7,
   "metadata": {},
   "outputs": [
    {
     "name": "stdout",
     "output_type": "stream",
     "text": [
      "<class 'pandas.core.frame.DataFrame'>\n",
      "RangeIndex: 181714 entries, 0 to 181713\n",
      "Data columns (total 11 columns):\n",
      " #   Column  Non-Null Count   Dtype \n",
      "---  ------  --------------   ----- \n",
      " 0   번호      181714 non-null  object\n",
      " 1   지역      181714 non-null  object\n",
      " 2   상호      181714 non-null  object\n",
      " 3   주소      181714 non-null  object\n",
      " 4   기간      181714 non-null  int64 \n",
      " 5   상표      181714 non-null  object\n",
      " 6   셀프여부    181714 non-null  object\n",
      " 7   고급휘발유   181714 non-null  int64 \n",
      " 8   휘발유     181714 non-null  int64 \n",
      " 9   경유      181714 non-null  int64 \n",
      " 10  실내등유    181714 non-null  int64 \n",
      "dtypes: int64(5), object(6)\n",
      "memory usage: 15.3+ MB\n"
     ]
    }
   ],
   "source": [
    "df.info()"
   ]
  },
  {
   "cell_type": "code",
   "execution_count": 8,
   "metadata": {},
   "outputs": [
    {
     "data": {
      "text/html": [
       "<div>\n",
       "<style scoped>\n",
       "    .dataframe tbody tr th:only-of-type {\n",
       "        vertical-align: middle;\n",
       "    }\n",
       "\n",
       "    .dataframe tbody tr th {\n",
       "        vertical-align: top;\n",
       "    }\n",
       "\n",
       "    .dataframe thead th {\n",
       "        text-align: right;\n",
       "    }\n",
       "</style>\n",
       "<table border=\"1\" class=\"dataframe\">\n",
       "  <thead>\n",
       "    <tr style=\"text-align: right;\">\n",
       "      <th></th>\n",
       "      <th>번호</th>\n",
       "      <th>지역</th>\n",
       "      <th>상호</th>\n",
       "      <th>주소</th>\n",
       "      <th>상표</th>\n",
       "      <th>셀프여부</th>\n",
       "    </tr>\n",
       "  </thead>\n",
       "  <tbody>\n",
       "    <tr>\n",
       "      <th>count</th>\n",
       "      <td>181714</td>\n",
       "      <td>181714</td>\n",
       "      <td>181714</td>\n",
       "      <td>181714</td>\n",
       "      <td>181714</td>\n",
       "      <td>181714</td>\n",
       "    </tr>\n",
       "    <tr>\n",
       "      <th>unique</th>\n",
       "      <td>512</td>\n",
       "      <td>25</td>\n",
       "      <td>507</td>\n",
       "      <td>512</td>\n",
       "      <td>8</td>\n",
       "      <td>2</td>\n",
       "    </tr>\n",
       "    <tr>\n",
       "      <th>top</th>\n",
       "      <td>A0001202</td>\n",
       "      <td>서울 강남구</td>\n",
       "      <td>신성주유소</td>\n",
       "      <td>서울 중랑구 망우로 311 (상봉동)</td>\n",
       "      <td>SK에너지</td>\n",
       "      <td>일반</td>\n",
       "    </tr>\n",
       "    <tr>\n",
       "      <th>freq</th>\n",
       "      <td>365</td>\n",
       "      <td>14597</td>\n",
       "      <td>1095</td>\n",
       "      <td>365</td>\n",
       "      <td>71062</td>\n",
       "      <td>108492</td>\n",
       "    </tr>\n",
       "  </tbody>\n",
       "</table>\n",
       "</div>"
      ],
      "text/plain": [
       "              번호      지역      상호                    주소      상표    셀프여부\n",
       "count     181714  181714  181714                181714  181714  181714\n",
       "unique       512      25     507                   512       8       2\n",
       "top     A0001202  서울 강남구   신성주유소  서울 중랑구 망우로 311 (상봉동)   SK에너지      일반\n",
       "freq         365   14597    1095                   365   71062  108492"
      ]
     },
     "execution_count": 8,
     "metadata": {},
     "output_type": "execute_result"
    }
   ],
   "source": [
    "df.describe(include='object')"
   ]
  },
  {
   "cell_type": "code",
   "execution_count": 9,
   "metadata": {},
   "outputs": [],
   "source": [
    "#str accessor 부터 보기"
   ]
  },
  {
   "cell_type": "code",
   "execution_count": 10,
   "metadata": {},
   "outputs": [
    {
     "data": {
      "text/plain": [
       "0         강남구\n",
       "1         강남구\n",
       "2         강남구\n",
       "3         강남구\n",
       "4         강남구\n",
       "         ... \n",
       "181709    중랑구\n",
       "181710    중랑구\n",
       "181711    중랑구\n",
       "181712    중랑구\n",
       "181713    중랑구\n",
       "Name: 지역, Length: 181714, dtype: object"
      ]
     },
     "execution_count": 10,
     "metadata": {},
     "output_type": "execute_result"
    }
   ],
   "source": [
    "df['지역'].str.split(\" \").str[1] #뛰어쓰기 기준으로 1번 인덱스만 뽑아"
   ]
  },
  {
   "cell_type": "code",
   "execution_count": 14,
   "metadata": {
    "scrolled": true
   },
   "outputs": [
    {
     "data": {
      "text/plain": [
       "0         강남구\n",
       "1         강남구\n",
       "2         강남구\n",
       "3         강남구\n",
       "4         강남구\n",
       "         ... \n",
       "181709    중랑구\n",
       "181710    중랑구\n",
       "181711    중랑구\n",
       "181712    중랑구\n",
       "181713    중랑구\n",
       "Name: 구, Length: 181714, dtype: object"
      ]
     },
     "execution_count": 14,
     "metadata": {},
     "output_type": "execute_result"
    }
   ],
   "source": [
    "df['구'] = df['지역'].str.slice(start=3,stop = 6)\n",
    "df['구']"
   ]
  },
  {
   "cell_type": "code",
   "execution_count": 15,
   "metadata": {},
   "outputs": [
    {
     "data": {
      "text/plain": [
       "0         20190101\n",
       "1         20190102\n",
       "2         20190103\n",
       "3         20190104\n",
       "4         20190105\n",
       "            ...   \n",
       "181709    20191227\n",
       "181710    20191228\n",
       "181711    20191229\n",
       "181712    20191230\n",
       "181713    20191231\n",
       "Name: 기간, Length: 181714, dtype: int64"
      ]
     },
     "execution_count": 15,
     "metadata": {},
     "output_type": "execute_result"
    }
   ],
   "source": [
    "df['기간']"
   ]
  },
  {
   "cell_type": "code",
   "execution_count": 17,
   "metadata": {},
   "outputs": [],
   "source": [
    "df['기간']= pd.to_datetime(df['기간'], format ='%Y%m%d')"
   ]
  },
  {
   "cell_type": "code",
   "execution_count": 18,
   "metadata": {},
   "outputs": [
    {
     "name": "stdout",
     "output_type": "stream",
     "text": [
      "<class 'pandas.core.frame.DataFrame'>\n",
      "RangeIndex: 90590 entries, 0 to 90589\n",
      "Data columns (total 11 columns):\n",
      " #   Column  Non-Null Count  Dtype         \n",
      "---  ------  --------------  -----         \n",
      " 0   번호      90590 non-null  object        \n",
      " 1   지역      90590 non-null  object        \n",
      " 2   상호      90590 non-null  object        \n",
      " 3   주소      90590 non-null  object        \n",
      " 4   기간      90590 non-null  datetime64[ns]\n",
      " 5   상표      90590 non-null  object        \n",
      " 6   셀프여부    90590 non-null  object        \n",
      " 7   고급휘발유   90590 non-null  int64         \n",
      " 8   휘발유     90590 non-null  int64         \n",
      " 9   경유      90590 non-null  int64         \n",
      " 10  실내등유    90590 non-null  int64         \n",
      "dtypes: datetime64[ns](1), int64(4), object(6)\n",
      "memory usage: 7.6+ MB\n"
     ]
    }
   ],
   "source": [
    "from datetime import datetime\n",
    "\n",
    "def parser(x):\n",
    "    return datetime.strptime(x, '%Y%m%d')\n",
    "\n",
    "first2 = pd.read_csv('data/2019년 상반기 주유소 판매가격.csv',\n",
    "                    parse_dates=['기간'],\n",
    "                    date_parser = parser)\n",
    "\n",
    "first2.info()"
   ]
  },
  {
   "cell_type": "code",
   "execution_count": 19,
   "metadata": {},
   "outputs": [
    {
     "name": "stdout",
     "output_type": "stream",
     "text": [
      "<class 'pandas.core.frame.DataFrame'>\n",
      "RangeIndex: 91124 entries, 0 to 91123\n",
      "Data columns (total 11 columns):\n",
      " #   Column  Non-Null Count  Dtype         \n",
      "---  ------  --------------  -----         \n",
      " 0   번호      91124 non-null  object        \n",
      " 1   지역      91124 non-null  object        \n",
      " 2   상호      91124 non-null  object        \n",
      " 3   주소      91124 non-null  object        \n",
      " 4   기간      91124 non-null  datetime64[ns]\n",
      " 5   상표      91124 non-null  object        \n",
      " 6   셀프여부    91124 non-null  object        \n",
      " 7   고급휘발유   91124 non-null  int64         \n",
      " 8   휘발유     91124 non-null  int64         \n",
      " 9   경유      91124 non-null  int64         \n",
      " 10  실내등유    91124 non-null  int64         \n",
      "dtypes: datetime64[ns](1), int64(4), object(6)\n",
      "memory usage: 7.6+ MB\n"
     ]
    }
   ],
   "source": [
    "first3 = pd.read_csv('data/2019년 하반기 주유소 판매가격.csv',\n",
    "                    parse_dates=['기간'],\n",
    "                    date_parser = lambda x: datetime.strptime(x, '%Y%m%d'))\n",
    "\n",
    "first3.info()"
   ]
  },
  {
   "cell_type": "code",
   "execution_count": 20,
   "metadata": {},
   "outputs": [],
   "source": [
    "df.head()\n",
    "df['년'] = df['기간'].dt.year #연도만 뽑아내\n",
    "df['요일'] = df['기간'].dt.dayofweek #요일을 뽑아내 -> 월요일이 0\n",
    "df['월'] = df['기간'].dt.month\n",
    "df['일'] = df['기간'].dt.day # 일"
   ]
  },
  {
   "cell_type": "code",
   "execution_count": 21,
   "metadata": {},
   "outputs": [],
   "source": [
    "#요일을 월,화,수로 변환#요일을 월,화,수로 변환\n",
    "\n",
    "def change_month_str(x):\n",
    "    if x == 0:\n",
    "        return '월'\n",
    "    elif x == 1:\n",
    "        return '화'\n",
    "    elif x == 2:\n",
    "        return '수'\n",
    "    elif x == 3:\n",
    "        return '목'\n",
    "    elif x == 4:\n",
    "        return '금'\n",
    "    elif x == 5:\n",
    "        return '토'\n",
    "    elif x == 6:\n",
    "        return '일'\n",
    "    "
   ]
  },
  {
   "cell_type": "code",
   "execution_count": 22,
   "metadata": {},
   "outputs": [
    {
     "data": {
      "text/html": [
       "<div>\n",
       "<style scoped>\n",
       "    .dataframe tbody tr th:only-of-type {\n",
       "        vertical-align: middle;\n",
       "    }\n",
       "\n",
       "    .dataframe tbody tr th {\n",
       "        vertical-align: top;\n",
       "    }\n",
       "\n",
       "    .dataframe thead th {\n",
       "        text-align: right;\n",
       "    }\n",
       "</style>\n",
       "<table border=\"1\" class=\"dataframe\">\n",
       "  <thead>\n",
       "    <tr style=\"text-align: right;\">\n",
       "      <th></th>\n",
       "      <th>번호</th>\n",
       "      <th>지역</th>\n",
       "      <th>상호</th>\n",
       "      <th>주소</th>\n",
       "      <th>기간</th>\n",
       "      <th>상표</th>\n",
       "      <th>셀프여부</th>\n",
       "      <th>고급휘발유</th>\n",
       "      <th>휘발유</th>\n",
       "      <th>경유</th>\n",
       "      <th>실내등유</th>\n",
       "      <th>구</th>\n",
       "      <th>년</th>\n",
       "      <th>요일</th>\n",
       "      <th>월</th>\n",
       "      <th>일</th>\n",
       "    </tr>\n",
       "  </thead>\n",
       "  <tbody>\n",
       "    <tr>\n",
       "      <th>0</th>\n",
       "      <td>A0006039</td>\n",
       "      <td>서울 강남구</td>\n",
       "      <td>(주)동하힐탑셀프주유소</td>\n",
       "      <td>서울 강남구 논현로 640</td>\n",
       "      <td>2019-01-01</td>\n",
       "      <td>SK에너지</td>\n",
       "      <td>셀프</td>\n",
       "      <td>1673</td>\n",
       "      <td>1465</td>\n",
       "      <td>1365</td>\n",
       "      <td>0</td>\n",
       "      <td>강남구</td>\n",
       "      <td>2019</td>\n",
       "      <td>화</td>\n",
       "      <td>1</td>\n",
       "      <td>1</td>\n",
       "    </tr>\n",
       "    <tr>\n",
       "      <th>1</th>\n",
       "      <td>A0006039</td>\n",
       "      <td>서울 강남구</td>\n",
       "      <td>(주)동하힐탑셀프주유소</td>\n",
       "      <td>서울 강남구 논현로 640</td>\n",
       "      <td>2019-01-02</td>\n",
       "      <td>SK에너지</td>\n",
       "      <td>셀프</td>\n",
       "      <td>1673</td>\n",
       "      <td>1465</td>\n",
       "      <td>1365</td>\n",
       "      <td>0</td>\n",
       "      <td>강남구</td>\n",
       "      <td>2019</td>\n",
       "      <td>수</td>\n",
       "      <td>1</td>\n",
       "      <td>2</td>\n",
       "    </tr>\n",
       "    <tr>\n",
       "      <th>2</th>\n",
       "      <td>A0006039</td>\n",
       "      <td>서울 강남구</td>\n",
       "      <td>(주)동하힐탑셀프주유소</td>\n",
       "      <td>서울 강남구 논현로 640</td>\n",
       "      <td>2019-01-03</td>\n",
       "      <td>SK에너지</td>\n",
       "      <td>셀프</td>\n",
       "      <td>1673</td>\n",
       "      <td>1465</td>\n",
       "      <td>1365</td>\n",
       "      <td>0</td>\n",
       "      <td>강남구</td>\n",
       "      <td>2019</td>\n",
       "      <td>목</td>\n",
       "      <td>1</td>\n",
       "      <td>3</td>\n",
       "    </tr>\n",
       "    <tr>\n",
       "      <th>3</th>\n",
       "      <td>A0006039</td>\n",
       "      <td>서울 강남구</td>\n",
       "      <td>(주)동하힐탑셀프주유소</td>\n",
       "      <td>서울 강남구 논현로 640</td>\n",
       "      <td>2019-01-04</td>\n",
       "      <td>SK에너지</td>\n",
       "      <td>셀프</td>\n",
       "      <td>1673</td>\n",
       "      <td>1465</td>\n",
       "      <td>1365</td>\n",
       "      <td>0</td>\n",
       "      <td>강남구</td>\n",
       "      <td>2019</td>\n",
       "      <td>금</td>\n",
       "      <td>1</td>\n",
       "      <td>4</td>\n",
       "    </tr>\n",
       "    <tr>\n",
       "      <th>4</th>\n",
       "      <td>A0006039</td>\n",
       "      <td>서울 강남구</td>\n",
       "      <td>(주)동하힐탑셀프주유소</td>\n",
       "      <td>서울 강남구 논현로 640</td>\n",
       "      <td>2019-01-05</td>\n",
       "      <td>SK에너지</td>\n",
       "      <td>셀프</td>\n",
       "      <td>1673</td>\n",
       "      <td>1465</td>\n",
       "      <td>1365</td>\n",
       "      <td>0</td>\n",
       "      <td>강남구</td>\n",
       "      <td>2019</td>\n",
       "      <td>토</td>\n",
       "      <td>1</td>\n",
       "      <td>5</td>\n",
       "    </tr>\n",
       "  </tbody>\n",
       "</table>\n",
       "</div>"
      ],
      "text/plain": [
       "         번호      지역            상호              주소         기간     상표 셀프여부  \\\n",
       "0  A0006039  서울 강남구  (주)동하힐탑셀프주유소  서울 강남구 논현로 640 2019-01-01  SK에너지   셀프   \n",
       "1  A0006039  서울 강남구  (주)동하힐탑셀프주유소  서울 강남구 논현로 640 2019-01-02  SK에너지   셀프   \n",
       "2  A0006039  서울 강남구  (주)동하힐탑셀프주유소  서울 강남구 논현로 640 2019-01-03  SK에너지   셀프   \n",
       "3  A0006039  서울 강남구  (주)동하힐탑셀프주유소  서울 강남구 논현로 640 2019-01-04  SK에너지   셀프   \n",
       "4  A0006039  서울 강남구  (주)동하힐탑셀프주유소  서울 강남구 논현로 640 2019-01-05  SK에너지   셀프   \n",
       "\n",
       "   고급휘발유   휘발유    경유  실내등유    구     년 요일  월  일  \n",
       "0   1673  1465  1365     0  강남구  2019  화  1  1  \n",
       "1   1673  1465  1365     0  강남구  2019  수  1  2  \n",
       "2   1673  1465  1365     0  강남구  2019  목  1  3  \n",
       "3   1673  1465  1365     0  강남구  2019  금  1  4  \n",
       "4   1673  1465  1365     0  강남구  2019  토  1  5  "
      ]
     },
     "execution_count": 22,
     "metadata": {},
     "output_type": "execute_result"
    }
   ],
   "source": [
    "df['요일'] = df['요일'].apply(change_month_str)\n",
    "df.head()"
   ]
  },
  {
   "cell_type": "code",
   "execution_count": 23,
   "metadata": {},
   "outputs": [
    {
     "data": {
      "text/html": [
       "<div>\n",
       "<style scoped>\n",
       "    .dataframe tbody tr th:only-of-type {\n",
       "        vertical-align: middle;\n",
       "    }\n",
       "\n",
       "    .dataframe tbody tr th {\n",
       "        vertical-align: top;\n",
       "    }\n",
       "\n",
       "    .dataframe thead th {\n",
       "        text-align: right;\n",
       "    }\n",
       "</style>\n",
       "<table border=\"1\" class=\"dataframe\">\n",
       "  <thead>\n",
       "    <tr style=\"text-align: right;\">\n",
       "      <th></th>\n",
       "      <th>번호</th>\n",
       "      <th>지역</th>\n",
       "      <th>상호</th>\n",
       "      <th>주소</th>\n",
       "      <th>기간</th>\n",
       "      <th>상표</th>\n",
       "      <th>셀프여부</th>\n",
       "      <th>고급휘발유</th>\n",
       "      <th>휘발유</th>\n",
       "      <th>경유</th>\n",
       "      <th>실내등유</th>\n",
       "      <th>구</th>\n",
       "      <th>년</th>\n",
       "      <th>요일</th>\n",
       "      <th>월</th>\n",
       "      <th>일</th>\n",
       "    </tr>\n",
       "  </thead>\n",
       "  <tbody>\n",
       "    <tr>\n",
       "      <th>177210</th>\n",
       "      <td>A0000767</td>\n",
       "      <td>서울 중구</td>\n",
       "      <td>서남주유소</td>\n",
       "      <td>서울 중구 통일로 30</td>\n",
       "      <td>2019-09-24</td>\n",
       "      <td>SK에너지</td>\n",
       "      <td>일반</td>\n",
       "      <td>2649</td>\n",
       "      <td>2356</td>\n",
       "      <td>2196</td>\n",
       "      <td>0</td>\n",
       "      <td>중구</td>\n",
       "      <td>2019</td>\n",
       "      <td>화</td>\n",
       "      <td>9</td>\n",
       "      <td>24</td>\n",
       "    </tr>\n",
       "    <tr>\n",
       "      <th>177211</th>\n",
       "      <td>A0000767</td>\n",
       "      <td>서울 중구</td>\n",
       "      <td>서남주유소</td>\n",
       "      <td>서울 중구 통일로 30</td>\n",
       "      <td>2019-09-25</td>\n",
       "      <td>SK에너지</td>\n",
       "      <td>일반</td>\n",
       "      <td>2649</td>\n",
       "      <td>2356</td>\n",
       "      <td>2196</td>\n",
       "      <td>0</td>\n",
       "      <td>중구</td>\n",
       "      <td>2019</td>\n",
       "      <td>수</td>\n",
       "      <td>9</td>\n",
       "      <td>25</td>\n",
       "    </tr>\n",
       "    <tr>\n",
       "      <th>177212</th>\n",
       "      <td>A0000767</td>\n",
       "      <td>서울 중구</td>\n",
       "      <td>서남주유소</td>\n",
       "      <td>서울 중구 통일로 30</td>\n",
       "      <td>2019-09-26</td>\n",
       "      <td>SK에너지</td>\n",
       "      <td>일반</td>\n",
       "      <td>2699</td>\n",
       "      <td>2356</td>\n",
       "      <td>2196</td>\n",
       "      <td>0</td>\n",
       "      <td>중구</td>\n",
       "      <td>2019</td>\n",
       "      <td>목</td>\n",
       "      <td>9</td>\n",
       "      <td>26</td>\n",
       "    </tr>\n",
       "    <tr>\n",
       "      <th>177213</th>\n",
       "      <td>A0000767</td>\n",
       "      <td>서울 중구</td>\n",
       "      <td>서남주유소</td>\n",
       "      <td>서울 중구 통일로 30</td>\n",
       "      <td>2019-09-27</td>\n",
       "      <td>SK에너지</td>\n",
       "      <td>일반</td>\n",
       "      <td>2699</td>\n",
       "      <td>2356</td>\n",
       "      <td>2196</td>\n",
       "      <td>0</td>\n",
       "      <td>중구</td>\n",
       "      <td>2019</td>\n",
       "      <td>금</td>\n",
       "      <td>9</td>\n",
       "      <td>27</td>\n",
       "    </tr>\n",
       "    <tr>\n",
       "      <th>177214</th>\n",
       "      <td>A0000767</td>\n",
       "      <td>서울 중구</td>\n",
       "      <td>서남주유소</td>\n",
       "      <td>서울 중구 통일로 30</td>\n",
       "      <td>2019-09-28</td>\n",
       "      <td>SK에너지</td>\n",
       "      <td>일반</td>\n",
       "      <td>2699</td>\n",
       "      <td>2356</td>\n",
       "      <td>2196</td>\n",
       "      <td>0</td>\n",
       "      <td>중구</td>\n",
       "      <td>2019</td>\n",
       "      <td>토</td>\n",
       "      <td>9</td>\n",
       "      <td>28</td>\n",
       "    </tr>\n",
       "    <tr>\n",
       "      <th>177215</th>\n",
       "      <td>A0000767</td>\n",
       "      <td>서울 중구</td>\n",
       "      <td>서남주유소</td>\n",
       "      <td>서울 중구 통일로 30</td>\n",
       "      <td>2019-09-29</td>\n",
       "      <td>SK에너지</td>\n",
       "      <td>일반</td>\n",
       "      <td>2699</td>\n",
       "      <td>2356</td>\n",
       "      <td>2196</td>\n",
       "      <td>0</td>\n",
       "      <td>중구</td>\n",
       "      <td>2019</td>\n",
       "      <td>일</td>\n",
       "      <td>9</td>\n",
       "      <td>29</td>\n",
       "    </tr>\n",
       "    <tr>\n",
       "      <th>177216</th>\n",
       "      <td>A0000767</td>\n",
       "      <td>서울 중구</td>\n",
       "      <td>서남주유소</td>\n",
       "      <td>서울 중구 통일로 30</td>\n",
       "      <td>2019-09-30</td>\n",
       "      <td>SK에너지</td>\n",
       "      <td>일반</td>\n",
       "      <td>2699</td>\n",
       "      <td>2356</td>\n",
       "      <td>2196</td>\n",
       "      <td>0</td>\n",
       "      <td>중구</td>\n",
       "      <td>2019</td>\n",
       "      <td>월</td>\n",
       "      <td>9</td>\n",
       "      <td>30</td>\n",
       "    </tr>\n",
       "    <tr>\n",
       "      <th>177217</th>\n",
       "      <td>A0000767</td>\n",
       "      <td>서울 중구</td>\n",
       "      <td>서남주유소</td>\n",
       "      <td>서울 중구 통일로 30</td>\n",
       "      <td>2019-10-01</td>\n",
       "      <td>SK에너지</td>\n",
       "      <td>일반</td>\n",
       "      <td>2699</td>\n",
       "      <td>2356</td>\n",
       "      <td>2196</td>\n",
       "      <td>0</td>\n",
       "      <td>중구</td>\n",
       "      <td>2019</td>\n",
       "      <td>화</td>\n",
       "      <td>10</td>\n",
       "      <td>1</td>\n",
       "    </tr>\n",
       "    <tr>\n",
       "      <th>177280</th>\n",
       "      <td>A0000767</td>\n",
       "      <td>서울 중구</td>\n",
       "      <td>서남주유소</td>\n",
       "      <td>서울 중구 통일로 30</td>\n",
       "      <td>2019-12-03</td>\n",
       "      <td>SK에너지</td>\n",
       "      <td>일반</td>\n",
       "      <td>2675</td>\n",
       "      <td>2332</td>\n",
       "      <td>2155</td>\n",
       "      <td>1594</td>\n",
       "      <td>중구</td>\n",
       "      <td>2019</td>\n",
       "      <td>화</td>\n",
       "      <td>12</td>\n",
       "      <td>3</td>\n",
       "    </tr>\n",
       "    <tr>\n",
       "      <th>177281</th>\n",
       "      <td>A0000767</td>\n",
       "      <td>서울 중구</td>\n",
       "      <td>서남주유소</td>\n",
       "      <td>서울 중구 통일로 30</td>\n",
       "      <td>2019-12-04</td>\n",
       "      <td>SK에너지</td>\n",
       "      <td>일반</td>\n",
       "      <td>2675</td>\n",
       "      <td>2332</td>\n",
       "      <td>2155</td>\n",
       "      <td>1594</td>\n",
       "      <td>중구</td>\n",
       "      <td>2019</td>\n",
       "      <td>수</td>\n",
       "      <td>12</td>\n",
       "      <td>4</td>\n",
       "    </tr>\n",
       "  </tbody>\n",
       "</table>\n",
       "</div>"
      ],
      "text/plain": [
       "              번호     지역     상호            주소         기간     상표 셀프여부  고급휘발유  \\\n",
       "177210  A0000767  서울 중구  서남주유소  서울 중구 통일로 30 2019-09-24  SK에너지   일반   2649   \n",
       "177211  A0000767  서울 중구  서남주유소  서울 중구 통일로 30 2019-09-25  SK에너지   일반   2649   \n",
       "177212  A0000767  서울 중구  서남주유소  서울 중구 통일로 30 2019-09-26  SK에너지   일반   2699   \n",
       "177213  A0000767  서울 중구  서남주유소  서울 중구 통일로 30 2019-09-27  SK에너지   일반   2699   \n",
       "177214  A0000767  서울 중구  서남주유소  서울 중구 통일로 30 2019-09-28  SK에너지   일반   2699   \n",
       "177215  A0000767  서울 중구  서남주유소  서울 중구 통일로 30 2019-09-29  SK에너지   일반   2699   \n",
       "177216  A0000767  서울 중구  서남주유소  서울 중구 통일로 30 2019-09-30  SK에너지   일반   2699   \n",
       "177217  A0000767  서울 중구  서남주유소  서울 중구 통일로 30 2019-10-01  SK에너지   일반   2699   \n",
       "177280  A0000767  서울 중구  서남주유소  서울 중구 통일로 30 2019-12-03  SK에너지   일반   2675   \n",
       "177281  A0000767  서울 중구  서남주유소  서울 중구 통일로 30 2019-12-04  SK에너지   일반   2675   \n",
       "\n",
       "         휘발유    경유  실내등유   구     년 요일   월   일  \n",
       "177210  2356  2196     0  중구  2019  화   9  24  \n",
       "177211  2356  2196     0  중구  2019  수   9  25  \n",
       "177212  2356  2196     0  중구  2019  목   9  26  \n",
       "177213  2356  2196     0  중구  2019  금   9  27  \n",
       "177214  2356  2196     0  중구  2019  토   9  28  \n",
       "177215  2356  2196     0  중구  2019  일   9  29  \n",
       "177216  2356  2196     0  중구  2019  월   9  30  \n",
       "177217  2356  2196     0  중구  2019  화  10   1  \n",
       "177280  2332  2155  1594  중구  2019  화  12   3  \n",
       "177281  2332  2155  1594  중구  2019  수  12   4  "
      ]
     },
     "execution_count": 23,
     "metadata": {},
     "output_type": "execute_result"
    }
   ],
   "source": [
    "df.sort_values(['휘발유','경유'], ascending = [False,True]).head(10)"
   ]
  },
  {
   "cell_type": "code",
   "execution_count": 26,
   "metadata": {},
   "outputs": [
    {
     "data": {
      "text/html": [
       "<div>\n",
       "<style scoped>\n",
       "    .dataframe tbody tr th:only-of-type {\n",
       "        vertical-align: middle;\n",
       "    }\n",
       "\n",
       "    .dataframe tbody tr th {\n",
       "        vertical-align: top;\n",
       "    }\n",
       "\n",
       "    .dataframe thead th {\n",
       "        text-align: right;\n",
       "    }\n",
       "</style>\n",
       "<table border=\"1\" class=\"dataframe\">\n",
       "  <thead>\n",
       "    <tr style=\"text-align: right;\">\n",
       "      <th></th>\n",
       "      <th>번호</th>\n",
       "      <th>지역</th>\n",
       "      <th>상호</th>\n",
       "      <th>주소</th>\n",
       "      <th>기간</th>\n",
       "      <th>상표</th>\n",
       "      <th>셀프여부</th>\n",
       "      <th>고급휘발유</th>\n",
       "      <th>휘발유</th>\n",
       "      <th>경유</th>\n",
       "      <th>실내등유</th>\n",
       "      <th>구</th>\n",
       "      <th>년</th>\n",
       "      <th>요일</th>\n",
       "      <th>월</th>\n",
       "      <th>일</th>\n",
       "    </tr>\n",
       "  </thead>\n",
       "  <tbody>\n",
       "    <tr>\n",
       "      <th>13148</th>\n",
       "      <td>A0033328</td>\n",
       "      <td>서울 강서구</td>\n",
       "      <td>KH에너지(주)직영 KH외발산주유소</td>\n",
       "      <td>서울 강서구 방화대로 30</td>\n",
       "      <td>2019-02-07</td>\n",
       "      <td>SK에너지</td>\n",
       "      <td>셀프</td>\n",
       "      <td>1788</td>\n",
       "      <td>1255</td>\n",
       "      <td>1155</td>\n",
       "      <td>0</td>\n",
       "      <td>강서구</td>\n",
       "      <td>2019</td>\n",
       "      <td>목</td>\n",
       "      <td>2</td>\n",
       "      <td>7</td>\n",
       "    </tr>\n",
       "    <tr>\n",
       "      <th>82475</th>\n",
       "      <td>A0000605</td>\n",
       "      <td>서울 은평구</td>\n",
       "      <td>삼융주유소</td>\n",
       "      <td>서울 은평구 수색로 299 (수색동)</td>\n",
       "      <td>2019-01-31</td>\n",
       "      <td>SK에너지</td>\n",
       "      <td>일반</td>\n",
       "      <td>0</td>\n",
       "      <td>1260</td>\n",
       "      <td>1160</td>\n",
       "      <td>0</td>\n",
       "      <td>은평구</td>\n",
       "      <td>2019</td>\n",
       "      <td>목</td>\n",
       "      <td>1</td>\n",
       "      <td>31</td>\n",
       "    </tr>\n",
       "    <tr>\n",
       "      <th>82474</th>\n",
       "      <td>A0000605</td>\n",
       "      <td>서울 은평구</td>\n",
       "      <td>삼융주유소</td>\n",
       "      <td>서울 은평구 수색로 299 (수색동)</td>\n",
       "      <td>2019-01-30</td>\n",
       "      <td>SK에너지</td>\n",
       "      <td>일반</td>\n",
       "      <td>0</td>\n",
       "      <td>1260</td>\n",
       "      <td>1160</td>\n",
       "      <td>0</td>\n",
       "      <td>은평구</td>\n",
       "      <td>2019</td>\n",
       "      <td>수</td>\n",
       "      <td>1</td>\n",
       "      <td>30</td>\n",
       "    </tr>\n",
       "    <tr>\n",
       "      <th>82476</th>\n",
       "      <td>A0000605</td>\n",
       "      <td>서울 은평구</td>\n",
       "      <td>삼융주유소</td>\n",
       "      <td>서울 은평구 수색로 299 (수색동)</td>\n",
       "      <td>2019-02-01</td>\n",
       "      <td>SK에너지</td>\n",
       "      <td>일반</td>\n",
       "      <td>0</td>\n",
       "      <td>1260</td>\n",
       "      <td>1160</td>\n",
       "      <td>0</td>\n",
       "      <td>은평구</td>\n",
       "      <td>2019</td>\n",
       "      <td>금</td>\n",
       "      <td>2</td>\n",
       "      <td>1</td>\n",
       "    </tr>\n",
       "    <tr>\n",
       "      <th>82998</th>\n",
       "      <td>A0000690</td>\n",
       "      <td>서울 은평구</td>\n",
       "      <td>지에스칼텍스(주)수색뉴타운주유소</td>\n",
       "      <td>서울 은평구 수색로 350 (수색동)</td>\n",
       "      <td>2019-01-26</td>\n",
       "      <td>GS칼텍스</td>\n",
       "      <td>셀프</td>\n",
       "      <td>0</td>\n",
       "      <td>1265</td>\n",
       "      <td>1165</td>\n",
       "      <td>0</td>\n",
       "      <td>은평구</td>\n",
       "      <td>2019</td>\n",
       "      <td>토</td>\n",
       "      <td>1</td>\n",
       "      <td>26</td>\n",
       "    </tr>\n",
       "  </tbody>\n",
       "</table>\n",
       "</div>"
      ],
      "text/plain": [
       "             번호      지역                   상호                    주소         기간  \\\n",
       "13148  A0033328  서울 강서구  KH에너지(주)직영 KH외발산주유소        서울 강서구 방화대로 30 2019-02-07   \n",
       "82475  A0000605  서울 은평구                삼융주유소  서울 은평구 수색로 299 (수색동) 2019-01-31   \n",
       "82474  A0000605  서울 은평구                삼융주유소  서울 은평구 수색로 299 (수색동) 2019-01-30   \n",
       "82476  A0000605  서울 은평구                삼융주유소  서울 은평구 수색로 299 (수색동) 2019-02-01   \n",
       "82998  A0000690  서울 은평구    지에스칼텍스(주)수색뉴타운주유소  서울 은평구 수색로 350 (수색동) 2019-01-26   \n",
       "\n",
       "          상표 셀프여부  고급휘발유   휘발유    경유  실내등유    구     년 요일  월   일  \n",
       "13148  SK에너지   셀프   1788  1255  1155     0  강서구  2019  목  2   7  \n",
       "82475  SK에너지   일반      0  1260  1160     0  은평구  2019  목  1  31  \n",
       "82474  SK에너지   일반      0  1260  1160     0  은평구  2019  수  1  30  \n",
       "82476  SK에너지   일반      0  1260  1160     0  은평구  2019  금  2   1  \n",
       "82998  GS칼텍스   셀프      0  1265  1165     0  은평구  2019  토  1  26  "
      ]
     },
     "execution_count": 26,
     "metadata": {},
     "output_type": "execute_result"
    }
   ],
   "source": [
    "df[df['휘발유']!=0].sort_values('휘발유').head(5)"
   ]
  },
  {
   "cell_type": "code",
   "execution_count": 30,
   "metadata": {},
   "outputs": [
    {
     "data": {
      "text/plain": [
       "상표\n",
       "GS칼텍스     1564.313469\n",
       "NH-OIL    1449.088889\n",
       "S-OIL     1532.472987\n",
       "SK에너지     1612.782625\n",
       "알뜰(ex)    1431.347945\n",
       "알뜰주유소     1447.875902\n",
       "자가상표      1492.085540\n",
       "현대오일뱅크    1515.670352\n",
       "Name: 휘발유, dtype: float64"
      ]
     },
     "execution_count": 30,
     "metadata": {},
     "output_type": "execute_result"
    }
   ],
   "source": [
    "상표_mean= df.loc[df['휘발유']!=0].groupby('상표')['휘발유'].mean()\n",
    "상표_mean"
   ]
  },
  {
   "cell_type": "code",
   "execution_count": null,
   "metadata": {},
   "outputs": [],
   "source": [
    "#plt.figure(figsize=(7,7))\n",
    "#\n",
    "#sns.countplot(x = 'day', data= tips) #color = 'red') # x:  범주형 컬럼 주면 알아서 지정\n",
    "#plt.show() # 컬러 통일 가능"
   ]
  },
  {
   "cell_type": "code",
   "execution_count": 59,
   "metadata": {
    "scrolled": true
   },
   "outputs": [
    {
     "data": {
      "image/png": "[encoded data removed]",
      "text/plain": [
       "<Figure size 720x360 with 1 Axes>"
      ]
     },
     "metadata": {
      "needs_background": "light"
     },
     "output_type": "display_data"
    }
   ],
   "source": [
    "상표_mean.plot(kind ='bar', rot = 30, figsize= (10,5), label ='휘발유가격')\n",
    "\n",
    "\n",
    "for i in range(상표_mean.size):\n",
    "    plt.text(i-0.35,\n",
    "            상표_mean[i]+1,\n",
    "            np.round(상표_mean[i],1),\n",
    "            fontsize = 15)\n",
    "    \n",
    "#기준선 긋기\n",
    "\n",
    "plt.axhline(y = 1500, color = 'Salmon', linestyle='--', label = '1500기준선')\n",
    "\n",
    "plt.legend(bbox_to_anchor=(1,1),loc='upper left')\n",
    "plt.show()"
   ]
  },
  {
   "cell_type": "code",
   "execution_count": 39,
   "metadata": {},
   "outputs": [
    {
     "name": "stdout",
     "output_type": "stream",
     "text": [
      "0\n",
      "1\n",
      "2\n",
      "3\n",
      "4\n",
      "5\n",
      "6\n",
      "7\n"
     ]
    }
   ],
   "source": [
    "for i in range(상표_mean.size):\n",
    "    print(i)"
   ]
  },
  {
   "cell_type": "code",
   "execution_count": 40,
   "metadata": {},
   "outputs": [
    {
     "data": {
      "text/plain": [
       "상표\n",
       "GS칼텍스     1564.313469\n",
       "NH-OIL    1449.088889\n",
       "S-OIL     1532.472987\n",
       "SK에너지     1612.782625\n",
       "알뜰(ex)    1431.347945\n",
       "알뜰주유소     1447.875902\n",
       "자가상표      1492.085540\n",
       "현대오일뱅크    1515.670352\n",
       "Name: 휘발유, dtype: float64"
      ]
     },
     "execution_count": 40,
     "metadata": {},
     "output_type": "execute_result"
    }
   ],
   "source": [
    "상표_mean"
   ]
  },
  {
   "cell_type": "code",
   "execution_count": 61,
   "metadata": {},
   "outputs": [
    {
     "data": {
      "text/plain": [
       "일반    0.597048\n",
       "셀프    0.402952\n",
       "Name: 셀프여부, dtype: float64"
      ]
     },
     "execution_count": 61,
     "metadata": {},
     "output_type": "execute_result"
    }
   ],
   "source": [
    "self_count =df['셀프여부'].value_counts(normalize = True)\n",
    "self_count"
   ]
  },
  {
   "cell_type": "code",
   "execution_count": 62,
   "metadata": {},
   "outputs": [
    {
     "data": {
      "image/png": "[encoded data removed]",
      "text/plain": [
       "<Figure size 504x504 with 1 Axes>"
      ]
     },
     "metadata": {
      "needs_background": "light"
     },
     "output_type": "display_data"
    }
   ],
   "source": [
    "# 셀프여부별 휘발유 가격의 분포\n",
    "\n",
    "plt.figure(figsize=(7,7))\n",
    "sns.boxplot(x = '셀프여부', y = '휘발유', data = df[df['휘발유']!=0])\n",
    "\n",
    "plt.show()"
   ]
  },
  {
   "cell_type": "code",
   "execution_count": 63,
   "metadata": {},
   "outputs": [
    {
     "data": {
      "image/png": "[encoded data removed]",
      "text/plain": [
       "<Figure size 504x504 with 1 Axes>"
      ]
     },
     "metadata": {
      "needs_background": "light"
     },
     "output_type": "display_data"
    }
   ],
   "source": [
    "plt.figure(figsize=(7,7))\n",
    "sns.boxplot(x= '상표', hue = '셀프여부', y = '휘발유', data = df[df['휘발유']!=0])\n",
    "\n",
    "plt.show()"
   ]
  },
  {
   "cell_type": "code",
   "execution_count": 64,
   "metadata": {},
   "outputs": [
    {
     "data": {
      "image/png": "[encoded data removed]",
      "text/plain": [
       "<Figure size 1440x720 with 1 Axes>"
      ]
     },
     "metadata": {
      "needs_background": "light"
     },
     "output_type": "display_data"
    }
   ],
   "source": [
    "#상표별 후ㅣ발유 가격의 분포를 박스플롯으로 시각화\n",
    "\n",
    "plt.figure(figsize = (20,10))\n",
    "\n",
    "sns.boxplot(x ='상표',  y ='휘발유',data =df[df['휘발유']!=0])\n",
    "\n",
    "plt.show()"
   ]
  },
  {
   "cell_type": "code",
   "execution_count": 65,
   "metadata": {},
   "outputs": [
    {
     "data": {
      "text/plain": [
       "구\n",
       "강북구    1453.517525\n",
       "중랑구    1469.009092\n",
       "금천구    1477.121992\n",
       "은평구    1481.964026\n",
       "강서구    1488.818088\n",
       "광진구    1490.597054\n",
       "도봉구    1494.171062\n",
       "동대문    1506.833542\n",
       "성북구    1507.948267\n",
       "동작구    1512.470911\n",
       "양천구    1512.890261\n",
       "관악구    1518.128564\n",
       "송파구    1518.957954\n",
       "구로구    1525.410383\n",
       "서대문    1528.943332\n",
       "노원구    1531.221551\n",
       "영등포    1568.279506\n",
       "강동구    1576.685264\n",
       "서초구    1577.131304\n",
       "성동구    1583.659561\n",
       "마포구    1689.755616\n",
       "강남구    1713.093581\n",
       "종로구    1838.554945\n",
       "용산구    1882.049825\n",
       "중구     1976.948052\n",
       "Name: 휘발유, dtype: float64"
      ]
     },
     "execution_count": 65,
     "metadata": {},
     "output_type": "execute_result"
    }
   ],
   "source": [
    "#구별 휘발유 평균\n",
    "구_휘발유_평균 = df.groupby('구')['휘발유'].mean().sort_values()\n",
    "구_휘발유_평균"
   ]
  },
  {
   "cell_type": "code",
   "execution_count": 70,
   "metadata": {},
   "outputs": [
    {
     "data": {
      "image/png": "[encoded data removed]",
      "text/plain": [
       "<Figure size 720x432 with 1 Axes>"
      ]
     },
     "metadata": {
      "needs_background": "light"
     },
     "output_type": "display_data"
    }
   ],
   "source": [
    "구_휘발유_평균.plot(kind ='bar', figsize= (10,6), rot = 30)\n",
    "\n",
    "\n",
    "#평균가격을 기준선\n",
    "\n",
    "plt.axhline(y = 구_휘발유_평균.mean(), color = 'r', label = '구별 평균기준선')\n",
    "\n",
    "plt.legend()\n",
    "plt.show()"
   ]
  },
  {
   "cell_type": "code",
   "execution_count": 73,
   "metadata": {},
   "outputs": [
    {
     "data": {
      "image/png": "[encoded data removed]",
      "text/plain": [
       "<Figure size 720x432 with 1 Axes>"
      ]
     },
     "metadata": {
      "needs_background": "light"
     },
     "output_type": "display_data"
    }
   ],
   "source": [
    "df.groupby('월')['휘발유'].mean().plot(kind = 'line', figsize= (10,6))\n",
    "\n",
    "\n",
    "plt.xticks(range(1,13), labels = [f'{m}월' for m in range(1,13)])\n",
    "plt.show()"
   ]
  },
  {
   "cell_type": "code",
   "execution_count": 76,
   "metadata": {},
   "outputs": [
    {
     "data": {
      "text/plain": [
       "상호\n",
       "서남주유소          2207.252055\n",
       "장충주유소          2139.323288\n",
       "뉴서울(강남)        2130.060274\n",
       "SC(주) 역전주유소    2125.778082\n",
       "필동주유소          2098.095890\n",
       "Name: 휘발유, dtype: float64"
      ]
     },
     "execution_count": 76,
     "metadata": {},
     "output_type": "execute_result"
    }
   ],
   "source": [
    "# 휘발유 비싼 주유소의 상위 5개의 상호, 지역, 주소 조회(중복제거-drop_duplicates())\n",
    "\n",
    "비싼주유소 = df.groupby('상호')['휘발유'].mean().sort_values(ascending = False).head(5)\n",
    "비싼주유소"
   ]
  },
  {
   "cell_type": "code",
   "execution_count": 80,
   "metadata": {},
   "outputs": [
    {
     "data": {
      "text/html": [
       "<div>\n",
       "<style scoped>\n",
       "    .dataframe tbody tr th:only-of-type {\n",
       "        vertical-align: middle;\n",
       "    }\n",
       "\n",
       "    .dataframe tbody tr th {\n",
       "        vertical-align: top;\n",
       "    }\n",
       "\n",
       "    .dataframe thead th {\n",
       "        text-align: right;\n",
       "    }\n",
       "</style>\n",
       "<table border=\"1\" class=\"dataframe\">\n",
       "  <thead>\n",
       "    <tr style=\"text-align: right;\">\n",
       "      <th></th>\n",
       "      <th>상호</th>\n",
       "      <th>지역</th>\n",
       "      <th>주소</th>\n",
       "    </tr>\n",
       "  </thead>\n",
       "  <tbody>\n",
       "    <tr>\n",
       "      <th>2896</th>\n",
       "      <td>뉴서울(강남)</td>\n",
       "      <td>서울 강남구</td>\n",
       "      <td>서울 강남구 언주로 716 (논현동)</td>\n",
       "    </tr>\n",
       "    <tr>\n",
       "      <th>85869</th>\n",
       "      <td>SC(주) 역전주유소</td>\n",
       "      <td>서울 중구</td>\n",
       "      <td>서울 중구 퇴계로 15</td>\n",
       "    </tr>\n",
       "    <tr>\n",
       "      <th>86231</th>\n",
       "      <td>서남주유소</td>\n",
       "      <td>서울 중구</td>\n",
       "      <td>서울 중구 통일로 30</td>\n",
       "    </tr>\n",
       "    <tr>\n",
       "      <th>86955</th>\n",
       "      <td>장충주유소</td>\n",
       "      <td>서울 중구</td>\n",
       "      <td>서울 중구 장충단로 202 (장충동1가)</td>\n",
       "    </tr>\n",
       "    <tr>\n",
       "      <th>87317</th>\n",
       "      <td>필동주유소</td>\n",
       "      <td>서울 중구</td>\n",
       "      <td>서울 중구  퇴계로 196 (필동2가)</td>\n",
       "    </tr>\n",
       "  </tbody>\n",
       "</table>\n",
       "</div>"
      ],
      "text/plain": [
       "                상호      지역                      주소\n",
       "2896       뉴서울(강남)  서울 강남구    서울 강남구 언주로 716 (논현동)\n",
       "85869  SC(주) 역전주유소   서울 중구            서울 중구 퇴계로 15\n",
       "86231        서남주유소   서울 중구            서울 중구 통일로 30\n",
       "86955        장충주유소   서울 중구  서울 중구 장충단로 202 (장충동1가)\n",
       "87317        필동주유소   서울 중구   서울 중구  퇴계로 196 (필동2가)"
      ]
     },
     "execution_count": 80,
     "metadata": {},
     "output_type": "execute_result"
    }
   ],
   "source": [
    "df.loc[df['상호'].isin(비싼주유소.index), ['상호','지역','주소']].drop_duplicates()"
   ]
  },
  {
   "cell_type": "code",
   "execution_count": null,
   "metadata": {},
   "outputs": [],
   "source": []
  }
 ],
 "metadata": {
  "kernelspec": {
   "display_name": "Python 3",
   "language": "python",
   "name": "python3"
  },
  "language_info": {
   "codemirror_mode": {
    "name": "ipython",
    "version": 3
   },
   "file_extension": ".py",
   "mimetype": "text/x-python",
   "name": "python",
   "nbconvert_exporter": "python",
   "pygments_lexer": "ipython3",
   "version": "3.8.5"
  }
 },
 "nbformat": 4,
 "nbformat_minor": 4
}
