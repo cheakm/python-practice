{
 "cells": [
  {
   "cell_type": "markdown",
   "metadata": {},
   "source": [
    "- ### 인공지능 (AI - Artificial Intelligence)\n",
    "> - 지능: 어떤 문제를 해결하기 위한 지적 활동 능력\n",
    "> - 인공지능\n",
    ">      - 기계가 사람의 지능을 모방하게 하는 기술\n",
    ">      - 규칙기반, 데이터 학습 기반\n",
    "- ### 머신러닝(Machine Learning)\n",
    "> - 데이터 학습 기반의 인공 지능 분야\n",
    "> - 기계에게 어떻게 동작할지 일일이 코드로 명시하지 않고 데이터를 이용해 학습할 수 있도록 하는 알고리즘과 기술을 개발하는 인공지능의 한분야\n",
    "> - 데이터를 통해 패턴을 찾는게 목적이라 전처리를 잘해서 데이터를 패턴을 잘 찾게 숫자로 바꾸든 해저야\n",
    "머신러닝에 비해 딥러닝은 전처리가 그렇게 중요하지 않음(비정형, 대용량이라는 것이 관련되잇음= 데이터가 많으면 많은 것들이 해결도니까)\n",
    "- ### 딥러닝 (Deep Learning)\n",
    "> - 인공신경망을 기반으로 하는 머신러닝의 한 분야. 비정형의 대용량 데이터(이미지, 음성, 텍스트) 학습에 뛰어난 성능을 나타낸다. \n",
    "     - 57년도 퍼셉트론이라는 알고리즘이 있었는데, 잊혀지고 80년대 잠깐 살아났다가 또 과적합등의 문제점으로 다시 사라졌음. 많이 쓰기시작한 것은 2000년데 중 후반부터 자리잡기 시작함.\n",
    "     - 역사는 오래됬지만 본격적으로 연구되기 시작한건 10~20년정도.\n",
    "- 딥러닝은 모델을 쉽게 말해 1000000만개를 만들어서 학습시키는 개념인데, 성능이 당연히 좋지만, (많은 모델을 합쳐놓은 것) 그러다보니 데이터가 많지 않으면 과적합이 엄청 심해지는 것!"
   ]
  },
  {
   "cell_type": "code",
   "execution_count": null,
   "metadata": {},
   "outputs": [],
   "source": [
    "# 머신러닝과 딥러닝의 가장 큰 차이 : 딥러닝은 퓨처를 추출하는 것 자체도 모델이 진행!\n",
    "# 머신러닝은 사람이 먼저 개랑 고양이를 분류하기 위한 특징들을 잘 분류해줘야해(전처리필요전처리필요)"
   ]
  },
  {
   "cell_type": "code",
   "execution_count": null,
   "metadata": {},
   "outputs": [],
   "source": []
  },
  {
   "cell_type": "code",
   "execution_count": null,
   "metadata": {},
   "outputs": [],
   "source": []
  },
  {
   "cell_type": "markdown",
   "metadata": {},
   "source": [
    "# tensorflow\n",
    "- https://www.tensorflow.org/?hl=ko\n",
    "- 구글에서 오픈소스로 공개한 다양한 수치 연산과 딥러닝을 위한 라이브러리. 구글내 연구와 제품개발을 목적으로 사용하던 라이브러리를 2015년 공개.\n",
    "- 파이토치도 많이 사용하는데 우리는 텐서플로우 사용 할 것. 페이스북에서 만든 라이브러리\n",
    "## Keras : 딥러닝 알고리즘 위에 추상화 시켜준 라이브러리\n",
    "\n",
    "- 딥러닝과 관련된 함수를 제공하는데, 백엔드 단에서 실제 텐서플로우 알고리즘이 돌아가는 것\n",
    "- 원래 텐서플로우라는 알고리즘을 써야하는데 이걸 직접쓰는게 아니라 위에서 케라스를 써서 아래 텐서플로우의 내용을 호출해주는 것. \n",
    "- 1.0까지만 해도 텐서플로우가 되게 어렵고 파이썬스럽지도 않았음, 이거 말고 다른것도 있는데 걔내들 다 사용법이 다르니까 위에 케라스를 가지고 아래 딥러닝 모델들을 구현시켜주는 것.\n",
    "- 텐서플로우만 설치하면 그안애 케라스 도 같이 제공됨.\n",
    "- https://keras.io/\n",
    "- 파이썬으로 구현된 쉽고 간결한 딥러닝 라이브러리로 구글 개발자인 프랑소와 숄레(François Chollet)가 개발. 딥러닝 비전문가라도 쉽게 딥러닝 모델을 개발하고 활용할 수 있도록 직관적인 API를 제공한다. 내부적으로는 텐서플로우(TensorFlow), 티아노(Theano), CNTK 등의 딥러닝 전용 엔진위에서 작동된다. \n",
    "- Tensorflow 2.0 부터 Keras가 텐서플로에 포함됨."
   ]
  },
  {
   "cell_type": "markdown",
   "metadata": {},
   "source": [
    "# Keras를 사용한 개발 과정\n",
    "1. 입력 텐서(X)와 출력 텐서(y)로 이뤄진 훈련 데이터를 정의\n",
    "2. 입력과 출력을 연결하는 Layer(층)으로 이뤄진 네트워크(모델)을 정의 : 아래가 모델을 만드는 세가지 방법(아예처음부터는 아니지만 어느정도는 만들어줘야)-> 모델의 구조를 짜\n",
    "    - Sequential 방식: 순서대로 쌓아올린 네트워크로 이뤄진 모델을 생성하는 방식\n",
    "    - Functional API 방식: 다양한 구조의 네트워크로 이뤄진 모델을 생성하는 방식\n",
    "    - Subclass 방식: 네트워크를 정의하는 클래스를 구현.\n",
    "    \n",
    "3. 모델 컴파일 : 모델이 어떻게 일할지 셋팅해주는 것\n",
    "    - 모델이 Train(학습)할때 사용할 손실함수(Loss Function), 최적화기법(Optimizer), 학습과정을 모니터링할 평가지표(Metrics)를 설정\n",
    "4. Training(훈련)\n",
    "    - 모델의 fit() 메소드에 훈련데이터(X,y)를 넣어 Train.\n",
    "![image-2.png](attachment:image-2.png)\n",
    "\n",
    "\n",
    "- 모델을 만드는 과정에서 가장 중요한 게 손실함수 ; 오차를 잘 체크하는게 중요!"
   ]
  },
  {
   "cell_type": "markdown",
   "metadata": {},
   "source": [
    "# MNIST 이미지 분류 \n",
    "- ### [MNIST](https://ko.wikipedia.org/wiki/MNIST_%EB%8D%B0%EC%9D%B4%ED%84%B0%EB%B2%A0%EC%9D%B4%EC%8A%A4)(Modified National Institute of Standards and Technology) database\n",
    "- 흑백 손글씨 숫자 0-9까지 10개의 범주로 구분해놓은 데이터셋\n",
    "- 하나의 이미지는 28 * 28 pixel 의 크기\n",
    "- 6만개의 Train 이미지와 1만개의 Test 이미지로 구성됨."
   ]
  },
  {
   "cell_type": "code",
   "execution_count": 130,
   "metadata": {},
   "outputs": [],
   "source": [
    "import tensorflow as tf\n",
    "from tensorflow import keras"
   ]
  },
  {
   "cell_type": "code",
   "execution_count": 131,
   "metadata": {},
   "outputs": [
    {
     "data": {
      "text/plain": [
       "'2.1.0'"
      ]
     },
     "execution_count": 131,
     "metadata": {},
     "output_type": "execute_result"
    }
   ],
   "source": [
    "tf.__version__ #버전확인 : 잘나오면 설치 완!"
   ]
  },
  {
   "cell_type": "code",
   "execution_count": 132,
   "metadata": {},
   "outputs": [
    {
     "data": {
      "text/plain": [
       "'2.2.4-tf'"
      ]
     },
     "execution_count": 132,
     "metadata": {},
     "output_type": "execute_result"
    }
   ],
   "source": [
    "keras.__version__"
   ]
  },
  {
   "cell_type": "code",
   "execution_count": 133,
   "metadata": {},
   "outputs": [],
   "source": [
    "(X_train, y_train), (X_test,y_test) = keras.datasets.mnist.load_data()\n",
    "#train, test값으로 튜플을 나눠서 준다train, test값으로 튜플을 나눠서 준다"
   ]
  },
  {
   "cell_type": "code",
   "execution_count": 134,
   "metadata": {},
   "outputs": [
    {
     "data": {
      "text/plain": [
       "(numpy.ndarray, numpy.ndarray)"
      ]
     },
     "execution_count": 134,
     "metadata": {},
     "output_type": "execute_result"
    }
   ],
   "source": [
    "type(X_train), type(y_train)"
   ]
  },
  {
   "cell_type": "code",
   "execution_count": 135,
   "metadata": {},
   "outputs": [
    {
     "data": {
      "text/plain": [
       "((60000, 28, 28), (10000, 28, 28))"
      ]
     },
     "execution_count": 135,
     "metadata": {},
     "output_type": "execute_result"
    }
   ],
   "source": [
    "X_train.shape, X_test.shape"
   ]
  },
  {
   "cell_type": "code",
   "execution_count": 136,
   "metadata": {},
   "outputs": [
    {
     "data": {
      "text/plain": [
       "((60000,), (10000,))"
      ]
     },
     "execution_count": 136,
     "metadata": {},
     "output_type": "execute_result"
    }
   ],
   "source": [
    "y_train.shape, y_test.shape # 답, 이미지가 어떤 숫자인지"
   ]
  },
  {
   "cell_type": "code",
   "execution_count": 137,
   "metadata": {
    "scrolled": true
   },
   "outputs": [
    {
     "data": {
      "text/plain": [
       "array([[  0,   0,   0,   0,   0,   0,   0,   0,   0,   0,   0,   0,   0,\n",
       "          0,   0,   0,   0,   0,   0,   0,   0,   0,   0,   0,   0,   0,\n",
       "          0,   0],\n",
       "       [  0,   0,   0,   0,   0,   0,   0,   0,   0,   0,   0,   0,   0,\n",
       "          0,   0,   0,   0,   0,   0,   0,   0,   0,   0,   0,   0,   0,\n",
       "          0,   0],\n",
       "       [  0,   0,   0,   0,   0,   0,   0,   0,   0,   0,   0,   0,   0,\n",
       "          0,   0,   0,   0,   0,   0,   0,   0,   0,   0,   0,   0,   0,\n",
       "          0,   0],\n",
       "       [  0,   0,   0,   0,   0,   0,   0,   0,   0,   0,   0,   0,   0,\n",
       "          0,   0,   0,   0,   0,   0,   0,   0,   0,   0,   0,   0,   0,\n",
       "          0,   0],\n",
       "       [  0,   0,   0,   0,   0,   0,   0,   0,   0,   0,   0,   0,   0,\n",
       "          0,   0,   0,   0,   0,   0,   0,   0,   0,   0,   0,   0,   0,\n",
       "          0,   0],\n",
       "       [  0,   0,   0,   0,   0,   0,   0,   0,   0,   0,   0,   0,   3,\n",
       "         18,  18,  18, 126, 136, 175,  26, 166, 255, 247, 127,   0,   0,\n",
       "          0,   0],\n",
       "       [  0,   0,   0,   0,   0,   0,   0,   0,  30,  36,  94, 154, 170,\n",
       "        253, 253, 253, 253, 253, 225, 172, 253, 242, 195,  64,   0,   0,\n",
       "          0,   0],\n",
       "       [  0,   0,   0,   0,   0,   0,   0,  49, 238, 253, 253, 253, 253,\n",
       "        253, 253, 253, 253, 251,  93,  82,  82,  56,  39,   0,   0,   0,\n",
       "          0,   0],\n",
       "       [  0,   0,   0,   0,   0,   0,   0,  18, 219, 253, 253, 253, 253,\n",
       "        253, 198, 182, 247, 241,   0,   0,   0,   0,   0,   0,   0,   0,\n",
       "          0,   0],\n",
       "       [  0,   0,   0,   0,   0,   0,   0,   0,  80, 156, 107, 253, 253,\n",
       "        205,  11,   0,  43, 154,   0,   0,   0,   0,   0,   0,   0,   0,\n",
       "          0,   0],\n",
       "       [  0,   0,   0,   0,   0,   0,   0,   0,   0,  14,   1, 154, 253,\n",
       "         90,   0,   0,   0,   0,   0,   0,   0,   0,   0,   0,   0,   0,\n",
       "          0,   0],\n",
       "       [  0,   0,   0,   0,   0,   0,   0,   0,   0,   0,   0, 139, 253,\n",
       "        190,   2,   0,   0,   0,   0,   0,   0,   0,   0,   0,   0,   0,\n",
       "          0,   0],\n",
       "       [  0,   0,   0,   0,   0,   0,   0,   0,   0,   0,   0,  11, 190,\n",
       "        253,  70,   0,   0,   0,   0,   0,   0,   0,   0,   0,   0,   0,\n",
       "          0,   0],\n",
       "       [  0,   0,   0,   0,   0,   0,   0,   0,   0,   0,   0,   0,  35,\n",
       "        241, 225, 160, 108,   1,   0,   0,   0,   0,   0,   0,   0,   0,\n",
       "          0,   0],\n",
       "       [  0,   0,   0,   0,   0,   0,   0,   0,   0,   0,   0,   0,   0,\n",
       "         81, 240, 253, 253, 119,  25,   0,   0,   0,   0,   0,   0,   0,\n",
       "          0,   0],\n",
       "       [  0,   0,   0,   0,   0,   0,   0,   0,   0,   0,   0,   0,   0,\n",
       "          0,  45, 186, 253, 253, 150,  27,   0,   0,   0,   0,   0,   0,\n",
       "          0,   0],\n",
       "       [  0,   0,   0,   0,   0,   0,   0,   0,   0,   0,   0,   0,   0,\n",
       "          0,   0,  16,  93, 252, 253, 187,   0,   0,   0,   0,   0,   0,\n",
       "          0,   0],\n",
       "       [  0,   0,   0,   0,   0,   0,   0,   0,   0,   0,   0,   0,   0,\n",
       "          0,   0,   0,   0, 249, 253, 249,  64,   0,   0,   0,   0,   0,\n",
       "          0,   0],\n",
       "       [  0,   0,   0,   0,   0,   0,   0,   0,   0,   0,   0,   0,   0,\n",
       "          0,  46, 130, 183, 253, 253, 207,   2,   0,   0,   0,   0,   0,\n",
       "          0,   0],\n",
       "       [  0,   0,   0,   0,   0,   0,   0,   0,   0,   0,   0,   0,  39,\n",
       "        148, 229, 253, 253, 253, 250, 182,   0,   0,   0,   0,   0,   0,\n",
       "          0,   0],\n",
       "       [  0,   0,   0,   0,   0,   0,   0,   0,   0,   0,  24, 114, 221,\n",
       "        253, 253, 253, 253, 201,  78,   0,   0,   0,   0,   0,   0,   0,\n",
       "          0,   0],\n",
       "       [  0,   0,   0,   0,   0,   0,   0,   0,  23,  66, 213, 253, 253,\n",
       "        253, 253, 198,  81,   2,   0,   0,   0,   0,   0,   0,   0,   0,\n",
       "          0,   0],\n",
       "       [  0,   0,   0,   0,   0,   0,  18, 171, 219, 253, 253, 253, 253,\n",
       "        195,  80,   9,   0,   0,   0,   0,   0,   0,   0,   0,   0,   0,\n",
       "          0,   0],\n",
       "       [  0,   0,   0,   0,  55, 172, 226, 253, 253, 253, 253, 244, 133,\n",
       "         11,   0,   0,   0,   0,   0,   0,   0,   0,   0,   0,   0,   0,\n",
       "          0,   0],\n",
       "       [  0,   0,   0,   0, 136, 253, 253, 253, 212, 135, 132,  16,   0,\n",
       "          0,   0,   0,   0,   0,   0,   0,   0,   0,   0,   0,   0,   0,\n",
       "          0,   0],\n",
       "       [  0,   0,   0,   0,   0,   0,   0,   0,   0,   0,   0,   0,   0,\n",
       "          0,   0,   0,   0,   0,   0,   0,   0,   0,   0,   0,   0,   0,\n",
       "          0,   0],\n",
       "       [  0,   0,   0,   0,   0,   0,   0,   0,   0,   0,   0,   0,   0,\n",
       "          0,   0,   0,   0,   0,   0,   0,   0,   0,   0,   0,   0,   0,\n",
       "          0,   0],\n",
       "       [  0,   0,   0,   0,   0,   0,   0,   0,   0,   0,   0,   0,   0,\n",
       "          0,   0,   0,   0,   0,   0,   0,   0,   0,   0,   0,   0,   0,\n",
       "          0,   0]], dtype=uint8)"
      ]
     },
     "execution_count": 137,
     "metadata": {},
     "output_type": "execute_result"
    }
   ],
   "source": [
    "X_train[0] #첫번째 사진의 데이터 : 28+28"
   ]
  },
  {
   "cell_type": "code",
   "execution_count": 138,
   "metadata": {},
   "outputs": [
    {
     "data": {
      "image/png": "[encoded data removed]",
      "text/plain": [
       "<Figure size 1080x360 with 5 Axes>"
      ]
     },
     "metadata": {
      "needs_background": "light"
     },
     "output_type": "display_data"
    }
   ],
   "source": [
    "import matplotlib.pyplot as plt\n",
    "plt.figure(figsize = (15,5))\n",
    "\n",
    "#5가지 이미지를 확인#5가지 이미지를 확인\n",
    "for i in range(5):\n",
    "    plt.subplot(1,5,i+1) #5개 그릴 자리를 만드는\n",
    "    plt.imshow(X_train[i], cmap = 'gray')\n",
    "    plt.title(y_train[i]) #답\n",
    "    plt.axis('off')\n",
    "plt.show()"
   ]
  },
  {
   "cell_type": "markdown",
   "metadata": {},
   "source": [
    "## 신경망 구현\n",
    "## network : 전체 모델 구조 만들기"
   ]
  },
  {
   "cell_type": "code",
   "execution_count": 139,
   "metadata": {},
   "outputs": [],
   "source": [
    "#모델생성\n",
    "model3 = keras.Sequential()\n",
    "#총레이어를 모델에 추가\n",
    "model3.add(keras.layers.Input((28,28))) #클래스 객체 생성, input을 넣음  입력층\n",
    "model3.add(keras.layers.Flatten())\n",
    "model3.add(keras.layers.Dense(256, activation = 'relu')) #dense 3개 생성\n",
    "model3.add(keras.layers.Dense(128, activation = 'relu'))\n",
    "model3.add(keras.layers.Dense(10, activation = 'softmax')) #마지막에 쌓는 층 =>출력층\n",
    "#add한 순서대로 레이어를 거쳐서 하나의 에측결과를 도출함(레이어를 쌓는다)"
   ]
  },
  {
   "cell_type": "code",
   "execution_count": 140,
   "metadata": {},
   "outputs": [],
   "source": [
    "##모델생성\n",
    "#m = keras.Sequential()\n",
    "##총레이어를 모델에 추가\n",
    "#m.add(keras.layers.Input(28,28)) #클래스 객체 생성, input을 넣음  입력층\n",
    "#m.add(keras.layers.Flatten())\n",
    "#m.add(keras.layers.Dense(256, activation = 'relu')) #dense 3개 생성\n",
    "#m.add(keras.layers.Dense(128, activation = 'relu'))\n",
    "#m.add(keras.layers.Dense(10, activation = 'softmax')) #마지막에 쌓는 층 =>출력층\n",
    "##add한 순서대로 레이어를 거쳐서 하나의 에측결과를 도출함(레이어를 쌓는다)"
   ]
  },
  {
   "cell_type": "code",
   "execution_count": 141,
   "metadata": {},
   "outputs": [],
   "source": [
    "#LOGISTIG regression 모델을 n 개 만드는 것이 딥러닝\n",
    "# 머신러닝 알고리즘을 여러개 넣은 앙상블 같은 애 # 2:40~2:50\n",
    "#input :매개변수는 지정되어 있음.(어떤크기의 데이터를 받겟다고 선언)\n",
    "#flatten : 2차->1차로 배열을 변환, 실제 학습은 dense라는 레이어부터 실행(거기부터 예측하고 추론하는 애들)\n",
    "# 세번째 : dense 세번째 층에는 로지스틱리그레션 256개 만들어라\n",
    "# 네번째 ; dense 네번째 층에는 로지스틱리그레션 128개 만들어라\n",
    "# 마지막도 똑같음\n",
    "# 이렇게 단계별로 나눈 이유는 각각 단계별로 조금씩 패턴을 찾아라(컨베이어벨트 처럼)- 패턴을 찾는 것은 히든층에서\n",
    "# 마지막 출력층은 패턴을 찾진 않고 예측해\n",
    "# 뉴런 어쩌구 2:57~2:58\n",
    "#logistic regression은 시그모이드(로스틱?) 함수를 썻는데, 여기서는 relu라는 함수를 쓰겠다(시그모이드를 쓰겠다고 해도 됨\n",
    "#relu: 음수->0. 양수는 양수그대로 np.max(0.x)\n",
    "#출력층의 10 : 출력값의 갯수 0~9까지의 숫자를 예측해야한다/ softmax는 확률을 알려주는 것.\n",
    "\n",
    "\n",
    "\n",
    "# 입력층이 bottom, 출력층이 top(쌓는 개념이니까 아래서부터 쌓는것 생각)"
   ]
  },
  {
   "cell_type": "code",
   "execution_count": 142,
   "metadata": {
    "scrolled": true
   },
   "outputs": [
    {
     "name": "stdout",
     "output_type": "stream",
     "text": [
      "Model: \"sequential_11\"\n",
      "_________________________________________________________________\n",
      "Layer (type)                 Output Shape              Param #   \n",
      "=================================================================\n",
      "flatten_11 (Flatten)         (None, 784)               0         \n",
      "_________________________________________________________________\n",
      "dense_33 (Dense)             (None, 256)               200960    \n",
      "_________________________________________________________________\n",
      "dense_34 (Dense)             (None, 128)               32896     \n",
      "_________________________________________________________________\n",
      "dense_35 (Dense)             (None, 10)                1290      \n",
      "=================================================================\n",
      "Total params: 235,146\n",
      "Trainable params: 235,146\n",
      "Non-trainable params: 0\n",
      "_________________________________________________________________\n"
     ]
    }
   ],
   "source": [
    "model3.summary()"
   ]
  },
  {
   "cell_type": "code",
   "execution_count": 143,
   "metadata": {},
   "outputs": [],
   "source": [
    "#param : 찾아야할 파라미터의 갯수\n",
    "    #784개가 들어왔으니까 가중치도 784개인데, b도 해줘야하니까 총 785 근데 이 노드를 256개 만들어서, 총 찾아야 하는 파라미터 785*256\n",
    "    #총 파라미터 : 785*256+(257*128)+(129*10)\n",
    "    #20만개의 파라미터를 찾는 함수를 만들수 없다고 해서 망했던것(경사하강법이 나오면서 연구되기 시작!)\n",
    "# output shape(a,b) 에서 b :이 단계 지났을 때 나오는 출력값(= 노드의 갯수) : 1개의 데이터에 대한\n",
    " #                       a : 배치에 따라 달라짐 ###11:26~28"
   ]
  },
  {
   "cell_type": "code",
   "execution_count": 144,
   "metadata": {},
   "outputs": [
    {
     "data": {
      "image/png": "[encoded data removed]",
      "text/plain": [
       "<IPython.core.display.Image object>"
      ]
     },
     "execution_count": 144,
     "metadata": {},
     "output_type": "execute_result"
    }
   ],
   "source": [
    "from tensorflow.keras.utils import plot_model\n",
    "plot_model(model3, to_file = 'model_practice.png', show_shapes = True)"
   ]
  },
  {
   "cell_type": "markdown",
   "metadata": {},
   "source": [
    "## 컴파일 단계\n",
    "- 구축된 모델에 추가 설정 : 어떻게 학습할지에 대한 설정\n",
    "- 손실함수\n",
    "- Optimizer(최적화 함수)\n",
    "- 평가지표"
   ]
  },
  {
   "cell_type": "code",
   "execution_count": 145,
   "metadata": {},
   "outputs": [],
   "source": [
    "model3.compile(optimizer = 'adam', # 옴티마이저 등록 : 가중치 업데이트 하는 알고리즘\n",
    "             loss = 'categorical_crossentropy',# 다중분류일 때 손실함수\n",
    "             metrics = ['accuracy'])# 트레인 도중에 벨리데이션 결과 확인시 사용하는 검증짚"
   ]
  },
  {
   "cell_type": "markdown",
   "metadata": {},
   "source": [
    "## 데이터 준비\n",
    "- X\n",
    "    - 0 ~ 1 사이의 값으로 정규화 시킨다. \n",
    "- y\n",
    "    - one hot encoding 처리\n",
    "    - tensorflow.keras 의 to_categorical() 함수 이용"
   ]
  },
  {
   "cell_type": "code",
   "execution_count": 146,
   "metadata": {},
   "outputs": [
    {
     "data": {
      "text/plain": [
       "(0, 255)"
      ]
     },
     "execution_count": 146,
     "metadata": {},
     "output_type": "execute_result"
    }
   ],
   "source": [
    "# x-이미지는 기본적으로 8비트 기반이라 0~255로 구성되\n",
    "X_train.min(),X_train.max()"
   ]
  },
  {
   "cell_type": "code",
   "execution_count": 147,
   "metadata": {},
   "outputs": [],
   "source": [
    "#X 값 전처리 : 가중치 곱해서 예측하기 때문에 스케일링 해서 값의 단위 맞춰주면 성능 향상가능"
   ]
  },
  {
   "cell_type": "code",
   "execution_count": 148,
   "metadata": {},
   "outputs": [],
   "source": [
    "X_train = X_train/255\n",
    "X_test = X_test/255"
   ]
  },
  {
   "cell_type": "code",
   "execution_count": 149,
   "metadata": {},
   "outputs": [],
   "source": [
    "# y값 - 원핫인코딩\n",
    "y_train[:5]\n",
    "y_train = keras.utils.to_categorical(y_train)\n",
    "y_test = keras.utils.to_categorical(y_test)"
   ]
  },
  {
   "cell_type": "code",
   "execution_count": 150,
   "metadata": {},
   "outputs": [
    {
     "data": {
      "text/plain": [
       "array([[0., 0., 0., 0., 0., 1., 0., 0., 0., 0.],\n",
       "       [1., 0., 0., 0., 0., 0., 0., 0., 0., 0.],\n",
       "       [0., 0., 0., 0., 1., 0., 0., 0., 0., 0.],\n",
       "       [0., 1., 0., 0., 0., 0., 0., 0., 0., 0.],\n",
       "       [0., 0., 0., 0., 0., 0., 0., 0., 0., 1.]], dtype=float32)"
      ]
     },
     "execution_count": 150,
     "metadata": {},
     "output_type": "execute_result"
    }
   ],
   "source": [
    "#확인\n",
    "y_train[:5]"
   ]
  },
  {
   "cell_type": "code",
   "execution_count": 151,
   "metadata": {},
   "outputs": [
    {
     "data": {
      "text/plain": [
       "((60000, 10), (10000, 10))"
      ]
     },
     "execution_count": 151,
     "metadata": {},
     "output_type": "execute_result"
    }
   ],
   "source": [
    "y_train.shape, y_test.shape"
   ]
  },
  {
   "cell_type": "markdown",
   "metadata": {},
   "source": [
    "## 학습 (fit)"
   ]
  },
  {
   "cell_type": "code",
   "execution_count": 153,
   "metadata": {
    "scrolled": true
   },
   "outputs": [
    {
     "name": "stdout",
     "output_type": "stream",
     "text": [
      "Train on 48000 samples, validate on 12000 samples\n",
      "Epoch 1/10\n",
      "48000/48000 [==============================] - 3s 61us/sample - loss: 0.2803 - accuracy: 0.9199 - val_loss: 0.1486 - val_accuracy: 0.9574\n",
      "Epoch 2/10\n",
      "48000/48000 [==============================] - 2s 46us/sample - loss: 0.1081 - accuracy: 0.9685 - val_loss: 0.1014 - val_accuracy: 0.9690\n",
      "Epoch 3/10\n",
      "48000/48000 [==============================] - 2s 48us/sample - loss: 0.0705 - accuracy: 0.9781 - val_loss: 0.0913 - val_accuracy: 0.9720\n",
      "Epoch 4/10\n",
      "48000/48000 [==============================] - 2s 51us/sample - loss: 0.0503 - accuracy: 0.9843 - val_loss: 0.0968 - val_accuracy: 0.9721\n",
      "Epoch 5/10\n",
      "48000/48000 [==============================] - 2s 44us/sample - loss: 0.0362 - accuracy: 0.9889 - val_loss: 0.0814 - val_accuracy: 0.9758\n",
      "Epoch 6/10\n",
      "48000/48000 [==============================] - 2s 46us/sample - loss: 0.0280 - accuracy: 0.9915 - val_loss: 0.0993 - val_accuracy: 0.9727\n",
      "Epoch 7/10\n",
      "48000/48000 [==============================] - 2s 48us/sample - loss: 0.0220 - accuracy: 0.9927 - val_loss: 0.0997 - val_accuracy: 0.9729\n",
      "Epoch 8/10\n",
      "48000/48000 [==============================] - 2s 48us/sample - loss: 0.0227 - accuracy: 0.9924 - val_loss: 0.1047 - val_accuracy: 0.9734\n",
      "Epoch 9/10\n",
      "48000/48000 [==============================] - 2s 51us/sample - loss: 0.0131 - accuracy: 0.9957 - val_loss: 0.0960 - val_accuracy: 0.9772\n",
      "Epoch 10/10\n",
      "48000/48000 [==============================] - 2s 45us/sample - loss: 0.0139 - accuracy: 0.9953 - val_loss: 0.1025 - val_accuracy: 0.9766\n"
     ]
    },
    {
     "data": {
      "text/plain": [
       "<tensorflow.python.keras.callbacks.History at 0x1bf834daa08>"
      ]
     },
     "execution_count": 153,
     "metadata": {},
     "output_type": "execute_result"
    }
   ],
   "source": [
    "model3.fit(X_train, y_train,\n",
    "         epochs = 10,\n",
    "         batch_size = 100,\n",
    "         validation_split = 0.2)\n",
    "#epochs: 전체 트레인 셋을 1번 학습하는 것이 1에폭. 10번줬으니까 전체 트레인 셋을 10번 학습트레인 셋을 1번 학습하는 것이 1에폭. 10번줬으니까 전체 트레인 셋을 10번 학습\n",
    "#batch_size : 한번에 몇개 이미지 넣어서 학습할까?가중치 업데이트 시켜주는 x값의 단위값의 단위\n",
    "#내부적으로 shuffle이 되서 데이터를 학습함uffle이 되서 데이터를 학습함"
   ]
  },
  {
   "cell_type": "markdown",
   "metadata": {},
   "source": [
    "## 테스트셋 평가"
   ]
  },
  {
   "cell_type": "code",
   "execution_count": 154,
   "metadata": {},
   "outputs": [
    {
     "name": "stdout",
     "output_type": "stream",
     "text": [
      "10000/10000 [==============================] - 1s 58us/sample - loss: 0.0884 - accuracy: 0.9777\n",
      "0.08840733065531894 0.9777\n"
     ]
    }
   ],
   "source": [
    "test_loss, test_acc = model3.evaluate(X_test, y_test)\n",
    "print(test_loss, test_acc)"
   ]
  },
  {
   "cell_type": "markdown",
   "metadata": {},
   "source": [
    "### 추론 메소드\n",
    "- predict()\n",
    "    - 각 클래스 별 확률 반환\n",
    "    - 회귀문제일땐 이것만 사용하면 돼\n",
    "- <del>predict_class()</del>\n",
    "    - 클래스(범주값) 반환\n",
    "    - 분류문제일 때만 사용 가능!\n",
    "    - tensorflow 2.3 부터 deprecated 됨-> 언제 없어질 줄 몰라 협박해. argmax 써라(아직 쓸수는 있음)\n",
    "- 이진 분류(binary classification)\n",
    "    - `numpy.argmax(model.predict(x) > 0.5).astype(\"int32\")`\n",
    "- 다중클래스 분류(multi-class classification)\n",
    "    - `numpy.argmax(model.predict(x), axis=-1)` : 1을줘도되고 -1을 줘도 돼.(마지막 인덱스라서)"
   ]
  },
  {
   "cell_type": "code",
   "execution_count": 155,
   "metadata": {},
   "outputs": [
    {
     "data": {
      "text/plain": [
       "(10, 28, 28)"
      ]
     },
     "execution_count": 155,
     "metadata": {},
     "output_type": "execute_result"
    }
   ],
   "source": [
    "X_test[:10].shape #새로운 데이터"
   ]
  },
  {
   "cell_type": "code",
   "execution_count": 156,
   "metadata": {},
   "outputs": [
    {
     "data": {
      "text/plain": [
       "array([[0., 0., 0., 0., 0., 0., 0., 1., 0., 0.],\n",
       "       [0., 0., 1., 0., 0., 0., 0., 0., 0., 0.],\n",
       "       [0., 1., 0., 0., 0., 0., 0., 0., 0., 0.],\n",
       "       [1., 0., 0., 0., 0., 0., 0., 0., 0., 0.],\n",
       "       [0., 0., 0., 0., 1., 0., 0., 0., 0., 0.],\n",
       "       [0., 1., 0., 0., 0., 0., 0., 0., 0., 0.],\n",
       "       [0., 0., 0., 0., 1., 0., 0., 0., 0., 0.],\n",
       "       [0., 0., 0., 0., 0., 0., 0., 0., 0., 1.],\n",
       "       [0., 0., 0., 0., 0., 1., 0., 0., 0., 0.],\n",
       "       [0., 0., 0., 0., 0., 0., 0., 0., 0., 1.]], dtype=float32)"
      ]
     },
     "execution_count": 156,
     "metadata": {},
     "output_type": "execute_result"
    }
   ],
   "source": [
    "y_test[:10] #정답\n",
    "#원핫 인코딩 되어있어, 가장 높은 값이 실제 정답인데 다 1로 되어 있으니까 인덱스 값이 그 실제값이 됨"
   ]
  },
  {
   "cell_type": "code",
   "execution_count": 157,
   "metadata": {},
   "outputs": [
    {
     "data": {
      "text/plain": [
       "array([7, 2, 1, 0, 4, 1, 4, 9, 5, 9], dtype=int64)"
      ]
     },
     "execution_count": 157,
     "metadata": {},
     "output_type": "execute_result"
    }
   ],
   "source": [
    "import numpy as np\n",
    "np.argmax(y_test[:10], axis = -1) #예측 한거 아니고 정답을 본것"
   ]
  },
  {
   "cell_type": "code",
   "execution_count": 159,
   "metadata": {},
   "outputs": [],
   "source": [
    "#추론 : 클래스별 확률이 반환됨\n",
    "pred = model3.predict(X_test[:10])"
   ]
  },
  {
   "cell_type": "code",
   "execution_count": 160,
   "metadata": {},
   "outputs": [
    {
     "data": {
      "text/plain": [
       "(10, 10)"
      ]
     },
     "execution_count": 160,
     "metadata": {},
     "output_type": "execute_result"
    }
   ],
   "source": [
    "pred.shape # 10개 이미지라 10개 클래스가 나옴"
   ]
  },
  {
   "cell_type": "code",
   "execution_count": 161,
   "metadata": {},
   "outputs": [
    {
     "data": {
      "text/plain": [
       "array([7, 2, 1, 0, 4, 1, 4, 9, 5, 9], dtype=int64)"
      ]
     },
     "execution_count": 161,
     "metadata": {},
     "output_type": "execute_result"
    }
   ],
   "source": [
    "# 예측 뭘로 했는지 보려면\n",
    "np.argmax(pred, axis = -1)"
   ]
  },
  {
   "cell_type": "code",
   "execution_count": 163,
   "metadata": {},
   "outputs": [
    {
     "data": {
      "text/plain": [
       "array([7, 2, 1, 0, 4, 1, 4, 9, 5, 9], dtype=int64)"
      ]
     },
     "execution_count": 163,
     "metadata": {},
     "output_type": "execute_result"
    }
   ],
   "source": [
    "model3.predict_classes(X_test[:10])"
   ]
  },
  {
   "cell_type": "code",
   "execution_count": null,
   "metadata": {},
   "outputs": [],
   "source": []
  },
  {
   "cell_type": "code",
   "execution_count": null,
   "metadata": {},
   "outputs": [],
   "source": []
  },
  {
   "cell_type": "code",
   "execution_count": null,
   "metadata": {},
   "outputs": [],
   "source": []
  },
  {
   "cell_type": "code",
   "execution_count": null,
   "metadata": {},
   "outputs": [],
   "source": []
  },
  {
   "cell_type": "code",
   "execution_count": null,
   "metadata": {},
   "outputs": [],
   "source": []
  }
 ],
 "metadata": {
  "kernelspec": {
   "display_name": "Python 3",
   "language": "python",
   "name": "python3"
  },
  "language_info": {
   "codemirror_mode": {
    "name": "ipython",
    "version": 3
   },
   "file_extension": ".py",
   "mimetype": "text/x-python",
   "name": "python",
   "nbconvert_exporter": "python",
   "pygments_lexer": "ipython3",
   "version": "3.7.10"
  }
 },
 "nbformat": 4,
 "nbformat_minor": 4
}
