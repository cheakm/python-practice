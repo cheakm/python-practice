{
 "cells": [
  {
   "cell_type": "code",
   "execution_count": 2,
   "metadata": {},
   "outputs": [],
   "source": [
    "import numpy as np\n",
    "import pandas as pd\n",
    "\n",
    "from sklearn.datasets import load_breast_cancer\n",
    "from sklearn.model_selection import train_test_split, GridSearchCV\n",
    "\n",
    "from sklearn.preprocessing import StandardScaler\n",
    "from sklearn.svm import SVC\n",
    "from sklearn.metrics import accuracy_score"
   ]
  },
  {
   "cell_type": "code",
   "execution_count": 6,
   "metadata": {},
   "outputs": [],
   "source": [
    "X,y = load_breast_cancer(return_X_y = True)\n",
    "X_train, X_test, y_train,y_test = train_test_split(X, y, stratify = y, random_state = 1)"
   ]
  },
  {
   "cell_type": "code",
   "execution_count": 4,
   "metadata": {},
   "outputs": [],
   "source": [
    "scaler = StandardScaler()\n",
    "X_train_scaled = scaler.fit_transform(X_train)\n",
    "X_test_scaled = scaler.transform(X_test)"
   ]
  },
  {
   "cell_type": "code",
   "execution_count": 12,
   "metadata": {
    "scrolled": true
   },
   "outputs": [
    {
     "data": {
      "text/plain": [
       "SVC(C=200, kernel='linear', random_state=1)"
      ]
     },
     "execution_count": 12,
     "metadata": {},
     "output_type": "execute_result"
    }
   ],
   "source": [
    "svc = SVC(kernel = 'linear', random_state = 1, C = 200)\n",
    "svc.fit(X_train_scaled, y_train)"
   ]
  },
  {
   "cell_type": "code",
   "execution_count": 8,
   "metadata": {},
   "outputs": [
    {
     "data": {
      "text/plain": [
       "(0.9741784037558685, 0.972027972027972)"
      ]
     },
     "execution_count": 8,
     "metadata": {},
     "output_type": "execute_result"
    }
   ],
   "source": [
    "# C: 0.01\n",
    "pred_train = svc.predict(X_train_scaled)\n",
    "pred_test = svc.predict(X_test_scaled)\n",
    "\n",
    "accuracy_score(y_train, pred_train), accuracy_score(y_test, pred_test)"
   ]
  },
  {
   "cell_type": "code",
   "execution_count": 10,
   "metadata": {},
   "outputs": [
    {
     "data": {
      "text/plain": [
       "(0.9906103286384976, 0.965034965034965)"
      ]
     },
     "execution_count": 10,
     "metadata": {},
     "output_type": "execute_result"
    }
   ],
   "source": [
    "#C:1\n",
    "\n",
    "pred_train = svc.predict(X_train_scaled)\n",
    "pred_test = svc.predict(X_test_scaled)\n",
    "\n",
    "accuracy_score(y_train, pred_train), accuracy_score(y_test, pred_test)"
   ]
  },
  {
   "cell_type": "code",
   "execution_count": 13,
   "metadata": {},
   "outputs": [
    {
     "data": {
      "text/plain": [
       "(0.9976525821596244, 0.965034965034965)"
      ]
     },
     "execution_count": 13,
     "metadata": {},
     "output_type": "execute_result"
    }
   ],
   "source": [
    "#C:200\n",
    "\n",
    "pred_train = svc.predict(X_train_scaled)\n",
    "pred_test = svc.predict(X_test_scaled)\n",
    "\n",
    "accuracy_score(y_train, pred_train), accuracy_score(y_test, pred_test)"
   ]
  },
  {
   "cell_type": "markdown",
   "metadata": {},
   "source": [
    "## 커널 서포트 백터 머신 : 비선형 데이터셋에 svm 적용 "
   ]
  },
  {
   "cell_type": "code",
   "execution_count": 14,
   "metadata": {},
   "outputs": [],
   "source": [
    "from sklearn.svm import SVC"
   ]
  },
  {
   "cell_type": "code",
   "execution_count": 29,
   "metadata": {},
   "outputs": [],
   "source": [
    "rbf_svc = SVC(kernel = 'rbf',\n",
    "              C = 1,\n",
    "              gamma = 0.01,\n",
    "             random_state = 1,\n",
    "             probability = True)"
   ]
  },
  {
   "cell_type": "code",
   "execution_count": 30,
   "metadata": {},
   "outputs": [
    {
     "data": {
      "text/plain": [
       "SVC(C=1, gamma=0.01, probability=True, random_state=1)"
      ]
     },
     "execution_count": 30,
     "metadata": {},
     "output_type": "execute_result"
    }
   ],
   "source": [
    "rbf_svc.fit(X_train_scaled, y_train)"
   ]
  },
  {
   "cell_type": "code",
   "execution_count": 31,
   "metadata": {},
   "outputs": [],
   "source": [
    "pred_train = rbf_svc.predict(X_train_scaled)\n",
    "pred_test = rbf_svc.predict(X_test_scaled)"
   ]
  },
  {
   "cell_type": "code",
   "execution_count": 32,
   "metadata": {},
   "outputs": [
    {
     "data": {
      "text/plain": [
       "(0.9765258215962441, 0.965034965034965)"
      ]
     },
     "execution_count": 32,
     "metadata": {},
     "output_type": "execute_result"
    }
   ],
   "source": [
    "accuracy_score(y_train, pred_train), accuracy_score(y_test, pred_test)"
   ]
  },
  {
   "cell_type": "code",
   "execution_count": 34,
   "metadata": {},
   "outputs": [
    {
     "data": {
      "text/plain": [
       "(1.0, 0.9473684210526315)"
      ]
     },
     "execution_count": 34,
     "metadata": {},
     "output_type": "execute_result"
    }
   ],
   "source": [
    "from sklearn.metrics import recall_score, precision_score\n",
    "recall_score(y_test,pred_test), precision_score(y_test, pred_test)"
   ]
  },
  {
   "cell_type": "code",
   "execution_count": 38,
   "metadata": {},
   "outputs": [
    {
     "data": {
      "text/plain": [
       "(0.996019127034603, 0.9969714508587535)"
      ]
     },
     "execution_count": 38,
     "metadata": {},
     "output_type": "execute_result"
    }
   ],
   "source": [
    "from sklearn.metrics import roc_auc_score, average_precision_score\n",
    "\n",
    "pos_proba= rbf_svc.predict_proba(X_train_scaled)[:,1]\n",
    "pos_proba\n",
    "\n",
    "roc_auc_score(y_train, pos_proba), average_precision_score(y_train, pos_proba)"
   ]
  },
  {
   "cell_type": "code",
   "execution_count": 42,
   "metadata": {},
   "outputs": [],
   "source": [
    "#그리드서치\n",
    "param = {\n",
    "    'kernel':['rbf','linear'],\n",
    "    'C':[0.001,0.01,0.1,1,10,100],\n",
    "    'gamma':[0.001,0.01,0.1,1,10,100]\n",
    "}\n",
    "\n",
    "svc = SVC(random_state = 1, probability = True)\n",
    "gs_svc = GridSearchCV(svc,\n",
    "                     param_grid = param,\n",
    "                     cv = 3,\n",
    "                     scoring = ['accuracy', 'roc_auc'],\n",
    "                     refit = 'accuracy',\n",
    "                     n_jobs = -1)"
   ]
  },
  {
   "cell_type": "code",
   "execution_count": 43,
   "metadata": {},
   "outputs": [
    {
     "data": {
      "text/plain": [
       "GridSearchCV(cv=3, estimator=SVC(probability=True, random_state=1), n_jobs=-1,\n",
       "             param_grid={'C': [0.001, 0.01, 0.1, 1, 10, 100],\n",
       "                         'gamma': [0.001, 0.01, 0.1, 1, 10, 100],\n",
       "                         'kernel': ['rbf', 'linear']},\n",
       "             refit='accuracy', scoring=['accuracy', 'roc_auc'])"
      ]
     },
     "execution_count": 43,
     "metadata": {},
     "output_type": "execute_result"
    }
   ],
   "source": [
    "gs_svc.fit(X_train_scaled,y_train)"
   ]
  },
  {
   "cell_type": "code",
   "execution_count": 44,
   "metadata": {},
   "outputs": [
    {
     "data": {
      "text/plain": [
       "{'C': 10, 'gamma': 0.01, 'kernel': 'rbf'}"
      ]
     },
     "execution_count": 44,
     "metadata": {},
     "output_type": "execute_result"
    }
   ],
   "source": [
    "gs_svc.best_params_"
   ]
  },
  {
   "cell_type": "code",
   "execution_count": 45,
   "metadata": {},
   "outputs": [
    {
     "data": {
      "text/html": [
       "<div>\n",
       "<style scoped>\n",
       "    .dataframe tbody tr th:only-of-type {\n",
       "        vertical-align: middle;\n",
       "    }\n",
       "\n",
       "    .dataframe tbody tr th {\n",
       "        vertical-align: top;\n",
       "    }\n",
       "\n",
       "    .dataframe thead th {\n",
       "        text-align: right;\n",
       "    }\n",
       "</style>\n",
       "<table border=\"1\" class=\"dataframe\">\n",
       "  <thead>\n",
       "    <tr style=\"text-align: right;\">\n",
       "      <th></th>\n",
       "      <th>mean_fit_time</th>\n",
       "      <th>std_fit_time</th>\n",
       "      <th>mean_score_time</th>\n",
       "      <th>std_score_time</th>\n",
       "      <th>param_C</th>\n",
       "      <th>param_gamma</th>\n",
       "      <th>param_kernel</th>\n",
       "      <th>params</th>\n",
       "      <th>split0_test_accuracy</th>\n",
       "      <th>split1_test_accuracy</th>\n",
       "      <th>split2_test_accuracy</th>\n",
       "      <th>mean_test_accuracy</th>\n",
       "      <th>std_test_accuracy</th>\n",
       "      <th>rank_test_accuracy</th>\n",
       "      <th>split0_test_roc_auc</th>\n",
       "      <th>split1_test_roc_auc</th>\n",
       "      <th>split2_test_roc_auc</th>\n",
       "      <th>mean_test_roc_auc</th>\n",
       "      <th>std_test_roc_auc</th>\n",
       "      <th>rank_test_roc_auc</th>\n",
       "    </tr>\n",
       "  </thead>\n",
       "  <tbody>\n",
       "    <tr>\n",
       "      <th>0</th>\n",
       "      <td>0.043297</td>\n",
       "      <td>0.005226</td>\n",
       "      <td>0.011944</td>\n",
       "      <td>0.000377</td>\n",
       "      <td>0.001</td>\n",
       "      <td>0.001</td>\n",
       "      <td>rbf</td>\n",
       "      <td>{'C': 0.001, 'gamma': 0.001, 'kernel': 'rbf'}</td>\n",
       "      <td>0.626761</td>\n",
       "      <td>0.626761</td>\n",
       "      <td>0.626761</td>\n",
       "      <td>0.626761</td>\n",
       "      <td>0.00000</td>\n",
       "      <td>51</td>\n",
       "      <td>0.983676</td>\n",
       "      <td>0.988128</td>\n",
       "      <td>0.987492</td>\n",
       "      <td>0.986432</td>\n",
       "      <td>0.001966</td>\n",
       "      <td>41</td>\n",
       "    </tr>\n",
       "    <tr>\n",
       "      <th>1</th>\n",
       "      <td>0.023360</td>\n",
       "      <td>0.001178</td>\n",
       "      <td>0.006991</td>\n",
       "      <td>0.000830</td>\n",
       "      <td>0.001</td>\n",
       "      <td>0.001</td>\n",
       "      <td>linear</td>\n",
       "      <td>{'C': 0.001, 'gamma': 0.001, 'kernel': 'linear'}</td>\n",
       "      <td>0.901408</td>\n",
       "      <td>0.929577</td>\n",
       "      <td>0.922535</td>\n",
       "      <td>0.917840</td>\n",
       "      <td>0.01197</td>\n",
       "      <td>42</td>\n",
       "      <td>0.986220</td>\n",
       "      <td>0.989824</td>\n",
       "      <td>0.989188</td>\n",
       "      <td>0.988411</td>\n",
       "      <td>0.001571</td>\n",
       "      <td>35</td>\n",
       "    </tr>\n",
       "    <tr>\n",
       "      <th>2</th>\n",
       "      <td>0.036687</td>\n",
       "      <td>0.003498</td>\n",
       "      <td>0.011995</td>\n",
       "      <td>0.004019</td>\n",
       "      <td>0.001</td>\n",
       "      <td>0.01</td>\n",
       "      <td>rbf</td>\n",
       "      <td>{'C': 0.001, 'gamma': 0.01, 'kernel': 'rbf'}</td>\n",
       "      <td>0.626761</td>\n",
       "      <td>0.626761</td>\n",
       "      <td>0.626761</td>\n",
       "      <td>0.626761</td>\n",
       "      <td>0.00000</td>\n",
       "      <td>51</td>\n",
       "      <td>0.979224</td>\n",
       "      <td>0.988552</td>\n",
       "      <td>0.987492</td>\n",
       "      <td>0.985089</td>\n",
       "      <td>0.004170</td>\n",
       "      <td>50</td>\n",
       "    </tr>\n",
       "    <tr>\n",
       "      <th>3</th>\n",
       "      <td>0.027142</td>\n",
       "      <td>0.002936</td>\n",
       "      <td>0.006732</td>\n",
       "      <td>0.000422</td>\n",
       "      <td>0.001</td>\n",
       "      <td>0.01</td>\n",
       "      <td>linear</td>\n",
       "      <td>{'C': 0.001, 'gamma': 0.01, 'kernel': 'linear'}</td>\n",
       "      <td>0.901408</td>\n",
       "      <td>0.929577</td>\n",
       "      <td>0.922535</td>\n",
       "      <td>0.917840</td>\n",
       "      <td>0.01197</td>\n",
       "      <td>42</td>\n",
       "      <td>0.986220</td>\n",
       "      <td>0.989824</td>\n",
       "      <td>0.989188</td>\n",
       "      <td>0.988411</td>\n",
       "      <td>0.001571</td>\n",
       "      <td>35</td>\n",
       "    </tr>\n",
       "    <tr>\n",
       "      <th>4</th>\n",
       "      <td>0.045193</td>\n",
       "      <td>0.003728</td>\n",
       "      <td>0.013442</td>\n",
       "      <td>0.002111</td>\n",
       "      <td>0.001</td>\n",
       "      <td>0.1</td>\n",
       "      <td>rbf</td>\n",
       "      <td>{'C': 0.001, 'gamma': 0.1, 'kernel': 'rbf'}</td>\n",
       "      <td>0.626761</td>\n",
       "      <td>0.626761</td>\n",
       "      <td>0.626761</td>\n",
       "      <td>0.626761</td>\n",
       "      <td>0.00000</td>\n",
       "      <td>51</td>\n",
       "      <td>0.984524</td>\n",
       "      <td>0.982404</td>\n",
       "      <td>0.986008</td>\n",
       "      <td>0.984312</td>\n",
       "      <td>0.001479</td>\n",
       "      <td>54</td>\n",
       "    </tr>\n",
       "    <tr>\n",
       "      <th>...</th>\n",
       "      <td>...</td>\n",
       "      <td>...</td>\n",
       "      <td>...</td>\n",
       "      <td>...</td>\n",
       "      <td>...</td>\n",
       "      <td>...</td>\n",
       "      <td>...</td>\n",
       "      <td>...</td>\n",
       "      <td>...</td>\n",
       "      <td>...</td>\n",
       "      <td>...</td>\n",
       "      <td>...</td>\n",
       "      <td>...</td>\n",
       "      <td>...</td>\n",
       "      <td>...</td>\n",
       "      <td>...</td>\n",
       "      <td>...</td>\n",
       "      <td>...</td>\n",
       "      <td>...</td>\n",
       "      <td>...</td>\n",
       "    </tr>\n",
       "    <tr>\n",
       "      <th>67</th>\n",
       "      <td>0.034296</td>\n",
       "      <td>0.004501</td>\n",
       "      <td>0.004602</td>\n",
       "      <td>0.000403</td>\n",
       "      <td>100</td>\n",
       "      <td>1</td>\n",
       "      <td>linear</td>\n",
       "      <td>{'C': 100, 'gamma': 1, 'kernel': 'linear'}</td>\n",
       "      <td>0.971831</td>\n",
       "      <td>0.943662</td>\n",
       "      <td>0.957746</td>\n",
       "      <td>0.957746</td>\n",
       "      <td>0.01150</td>\n",
       "      <td>25</td>\n",
       "      <td>0.989612</td>\n",
       "      <td>0.996184</td>\n",
       "      <td>0.972228</td>\n",
       "      <td>0.986008</td>\n",
       "      <td>0.010107</td>\n",
       "      <td>44</td>\n",
       "    </tr>\n",
       "    <tr>\n",
       "      <th>68</th>\n",
       "      <td>0.080449</td>\n",
       "      <td>0.004079</td>\n",
       "      <td>0.014992</td>\n",
       "      <td>0.000816</td>\n",
       "      <td>100</td>\n",
       "      <td>10</td>\n",
       "      <td>rbf</td>\n",
       "      <td>{'C': 100, 'gamma': 10, 'kernel': 'rbf'}</td>\n",
       "      <td>0.626761</td>\n",
       "      <td>0.626761</td>\n",
       "      <td>0.626761</td>\n",
       "      <td>0.626761</td>\n",
       "      <td>0.00000</td>\n",
       "      <td>51</td>\n",
       "      <td>0.762879</td>\n",
       "      <td>0.762985</td>\n",
       "      <td>0.735637</td>\n",
       "      <td>0.753834</td>\n",
       "      <td>0.012867</td>\n",
       "      <td>61</td>\n",
       "    </tr>\n",
       "    <tr>\n",
       "      <th>69</th>\n",
       "      <td>0.028671</td>\n",
       "      <td>0.011005</td>\n",
       "      <td>0.005078</td>\n",
       "      <td>0.000170</td>\n",
       "      <td>100</td>\n",
       "      <td>10</td>\n",
       "      <td>linear</td>\n",
       "      <td>{'C': 100, 'gamma': 10, 'kernel': 'linear'}</td>\n",
       "      <td>0.971831</td>\n",
       "      <td>0.943662</td>\n",
       "      <td>0.957746</td>\n",
       "      <td>0.957746</td>\n",
       "      <td>0.01150</td>\n",
       "      <td>25</td>\n",
       "      <td>0.989612</td>\n",
       "      <td>0.996184</td>\n",
       "      <td>0.972228</td>\n",
       "      <td>0.986008</td>\n",
       "      <td>0.010107</td>\n",
       "      <td>44</td>\n",
       "    </tr>\n",
       "    <tr>\n",
       "      <th>70</th>\n",
       "      <td>0.107558</td>\n",
       "      <td>0.001697</td>\n",
       "      <td>0.016198</td>\n",
       "      <td>0.001088</td>\n",
       "      <td>100</td>\n",
       "      <td>100</td>\n",
       "      <td>rbf</td>\n",
       "      <td>{'C': 100, 'gamma': 100, 'kernel': 'rbf'}</td>\n",
       "      <td>0.626761</td>\n",
       "      <td>0.626761</td>\n",
       "      <td>0.626761</td>\n",
       "      <td>0.626761</td>\n",
       "      <td>0.00000</td>\n",
       "      <td>51</td>\n",
       "      <td>0.500000</td>\n",
       "      <td>0.500000</td>\n",
       "      <td>0.500000</td>\n",
       "      <td>0.500000</td>\n",
       "      <td>0.000000</td>\n",
       "      <td>67</td>\n",
       "    </tr>\n",
       "    <tr>\n",
       "      <th>71</th>\n",
       "      <td>0.025435</td>\n",
       "      <td>0.006461</td>\n",
       "      <td>0.003935</td>\n",
       "      <td>0.000746</td>\n",
       "      <td>100</td>\n",
       "      <td>100</td>\n",
       "      <td>linear</td>\n",
       "      <td>{'C': 100, 'gamma': 100, 'kernel': 'linear'}</td>\n",
       "      <td>0.971831</td>\n",
       "      <td>0.943662</td>\n",
       "      <td>0.957746</td>\n",
       "      <td>0.957746</td>\n",
       "      <td>0.01150</td>\n",
       "      <td>25</td>\n",
       "      <td>0.989612</td>\n",
       "      <td>0.996184</td>\n",
       "      <td>0.972228</td>\n",
       "      <td>0.986008</td>\n",
       "      <td>0.010107</td>\n",
       "      <td>44</td>\n",
       "    </tr>\n",
       "  </tbody>\n",
       "</table>\n",
       "<p>72 rows × 20 columns</p>\n",
       "</div>"
      ],
      "text/plain": [
       "    mean_fit_time  std_fit_time  mean_score_time  std_score_time param_C  \\\n",
       "0        0.043297      0.005226         0.011944        0.000377   0.001   \n",
       "1        0.023360      0.001178         0.006991        0.000830   0.001   \n",
       "2        0.036687      0.003498         0.011995        0.004019   0.001   \n",
       "3        0.027142      0.002936         0.006732        0.000422   0.001   \n",
       "4        0.045193      0.003728         0.013442        0.002111   0.001   \n",
       "..            ...           ...              ...             ...     ...   \n",
       "67       0.034296      0.004501         0.004602        0.000403     100   \n",
       "68       0.080449      0.004079         0.014992        0.000816     100   \n",
       "69       0.028671      0.011005         0.005078        0.000170     100   \n",
       "70       0.107558      0.001697         0.016198        0.001088     100   \n",
       "71       0.025435      0.006461         0.003935        0.000746     100   \n",
       "\n",
       "   param_gamma param_kernel                                            params  \\\n",
       "0        0.001          rbf     {'C': 0.001, 'gamma': 0.001, 'kernel': 'rbf'}   \n",
       "1        0.001       linear  {'C': 0.001, 'gamma': 0.001, 'kernel': 'linear'}   \n",
       "2         0.01          rbf      {'C': 0.001, 'gamma': 0.01, 'kernel': 'rbf'}   \n",
       "3         0.01       linear   {'C': 0.001, 'gamma': 0.01, 'kernel': 'linear'}   \n",
       "4          0.1          rbf       {'C': 0.001, 'gamma': 0.1, 'kernel': 'rbf'}   \n",
       "..         ...          ...                                               ...   \n",
       "67           1       linear        {'C': 100, 'gamma': 1, 'kernel': 'linear'}   \n",
       "68          10          rbf          {'C': 100, 'gamma': 10, 'kernel': 'rbf'}   \n",
       "69          10       linear       {'C': 100, 'gamma': 10, 'kernel': 'linear'}   \n",
       "70         100          rbf         {'C': 100, 'gamma': 100, 'kernel': 'rbf'}   \n",
       "71         100       linear      {'C': 100, 'gamma': 100, 'kernel': 'linear'}   \n",
       "\n",
       "    split0_test_accuracy  split1_test_accuracy  split2_test_accuracy  \\\n",
       "0               0.626761              0.626761              0.626761   \n",
       "1               0.901408              0.929577              0.922535   \n",
       "2               0.626761              0.626761              0.626761   \n",
       "3               0.901408              0.929577              0.922535   \n",
       "4               0.626761              0.626761              0.626761   \n",
       "..                   ...                   ...                   ...   \n",
       "67              0.971831              0.943662              0.957746   \n",
       "68              0.626761              0.626761              0.626761   \n",
       "69              0.971831              0.943662              0.957746   \n",
       "70              0.626761              0.626761              0.626761   \n",
       "71              0.971831              0.943662              0.957746   \n",
       "\n",
       "    mean_test_accuracy  std_test_accuracy  rank_test_accuracy  \\\n",
       "0             0.626761            0.00000                  51   \n",
       "1             0.917840            0.01197                  42   \n",
       "2             0.626761            0.00000                  51   \n",
       "3             0.917840            0.01197                  42   \n",
       "4             0.626761            0.00000                  51   \n",
       "..                 ...                ...                 ...   \n",
       "67            0.957746            0.01150                  25   \n",
       "68            0.626761            0.00000                  51   \n",
       "69            0.957746            0.01150                  25   \n",
       "70            0.626761            0.00000                  51   \n",
       "71            0.957746            0.01150                  25   \n",
       "\n",
       "    split0_test_roc_auc  split1_test_roc_auc  split2_test_roc_auc  \\\n",
       "0              0.983676             0.988128             0.987492   \n",
       "1              0.986220             0.989824             0.989188   \n",
       "2              0.979224             0.988552             0.987492   \n",
       "3              0.986220             0.989824             0.989188   \n",
       "4              0.984524             0.982404             0.986008   \n",
       "..                  ...                  ...                  ...   \n",
       "67             0.989612             0.996184             0.972228   \n",
       "68             0.762879             0.762985             0.735637   \n",
       "69             0.989612             0.996184             0.972228   \n",
       "70             0.500000             0.500000             0.500000   \n",
       "71             0.989612             0.996184             0.972228   \n",
       "\n",
       "    mean_test_roc_auc  std_test_roc_auc  rank_test_roc_auc  \n",
       "0            0.986432          0.001966                 41  \n",
       "1            0.988411          0.001571                 35  \n",
       "2            0.985089          0.004170                 50  \n",
       "3            0.988411          0.001571                 35  \n",
       "4            0.984312          0.001479                 54  \n",
       "..                ...               ...                ...  \n",
       "67           0.986008          0.010107                 44  \n",
       "68           0.753834          0.012867                 61  \n",
       "69           0.986008          0.010107                 44  \n",
       "70           0.500000          0.000000                 67  \n",
       "71           0.986008          0.010107                 44  \n",
       "\n",
       "[72 rows x 20 columns]"
      ]
     },
     "execution_count": 45,
     "metadata": {},
     "output_type": "execute_result"
    }
   ],
   "source": [
    "pd.DataFrame(gs_svc.cv_results_)"
   ]
  },
  {
   "cell_type": "code",
   "execution_count": 46,
   "metadata": {},
   "outputs": [],
   "source": [
    "#교차검증\n",
    "from sklearn.model_selection import cross_val_score\n",
    "svc2 = SVC(C= 10, gamma = 0.01)\n",
    "result = cross_val_score(svc2,\n",
    "                        X_train_scaled,\n",
    "                        y_train,\n",
    "                        scoring = 'accuracy',\n",
    "                        cv = 3)"
   ]
  },
  {
   "cell_type": "code",
   "execution_count": 47,
   "metadata": {},
   "outputs": [
    {
     "data": {
      "text/plain": [
       "array([0.97887324, 0.99295775, 0.97887324])"
      ]
     },
     "execution_count": 47,
     "metadata": {},
     "output_type": "execute_result"
    }
   ],
   "source": [
    "result"
   ]
  },
  {
   "cell_type": "code",
   "execution_count": 48,
   "metadata": {},
   "outputs": [
    {
     "data": {
      "text/plain": [
       "0.983568075117371"
      ]
     },
     "execution_count": 48,
     "metadata": {},
     "output_type": "execute_result"
    }
   ],
   "source": [
    "np.mean(result)"
   ]
  },
  {
   "cell_type": "code",
   "execution_count": null,
   "metadata": {},
   "outputs": [],
   "source": []
  }
 ],
 "metadata": {
  "kernelspec": {
   "display_name": "Python 3",
   "language": "python",
   "name": "python3"
  },
  "language_info": {
   "codemirror_mode": {
    "name": "ipython",
    "version": 3
   },
   "file_extension": ".py",
   "mimetype": "text/x-python",
   "name": "python",
   "nbconvert_exporter": "python",
   "pygments_lexer": "ipython3",
   "version": "3.8.5"
  }
 },
 "nbformat": 4,
 "nbformat_minor": 4
}
