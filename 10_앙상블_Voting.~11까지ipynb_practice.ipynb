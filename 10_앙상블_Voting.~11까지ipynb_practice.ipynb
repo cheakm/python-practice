{
 "cells": [
  {
   "cell_type": "markdown",
   "metadata": {},
   "source": [
    " ##앙상블 종류\n",
    "\n",
    " ###1. 투표방식\n",
    "- bagging : 랜덤포레스트\n",
    "- voting : 소프트보팅, 하드보팅"
   ]
  },
  {
   "cell_type": "code",
   "execution_count": 1,
   "metadata": {},
   "outputs": [],
   "source": [
    "# votingclassifier 이용\n",
    "# 매개변수 : estimators, voting 방식"
   ]
  },
  {
   "cell_type": "code",
   "execution_count": 2,
   "metadata": {},
   "outputs": [],
   "source": [
    "import numpy as np\n",
    "import pandas as pd\n",
    "from sklearn.model_selection import train_test_split\n",
    "from sklearn.preprocessing import LabelEncoder, StandardScaler, OneHotEncoder\n",
    "from sklearn.pipeline import Pipeline, make_pipeline"
   ]
  },
  {
   "cell_type": "code",
   "execution_count": 3,
   "metadata": {},
   "outputs": [],
   "source": [
    "wine = pd.read_csv('data/wine.csv')\n",
    "\n",
    "y = wine['color']\n",
    "X = wine.drop('color',axis = 1)"
   ]
  },
  {
   "cell_type": "code",
   "execution_count": 4,
   "metadata": {},
   "outputs": [
    {
     "data": {
      "text/plain": [
       "array([[0., 0., 1.],\n",
       "       [0., 0., 1.],\n",
       "       [0., 0., 1.],\n",
       "       ...,\n",
       "       [0., 1., 0.],\n",
       "       [1., 0., 0.],\n",
       "       [0., 1., 0.]])"
      ]
     },
     "execution_count": 4,
     "metadata": {},
     "output_type": "execute_result"
    }
   ],
   "source": [
    "ohe = OneHotEncoder()\n",
    "quality = ohe.fit_transform(np.array(X['quality']).reshape(-1,1)).toarray()\n",
    "quality"
   ]
  },
  {
   "cell_type": "code",
   "execution_count": 5,
   "metadata": {},
   "outputs": [
    {
     "data": {
      "text/plain": [
       "array(['x0_A', 'x0_B', 'x0_C'], dtype=object)"
      ]
     },
     "execution_count": 5,
     "metadata": {},
     "output_type": "execute_result"
    }
   ],
   "source": [
    "ohe.get_feature_names()"
   ]
  },
  {
   "cell_type": "code",
   "execution_count": 6,
   "metadata": {},
   "outputs": [
    {
     "data": {
      "text/html": [
       "<div>\n",
       "<style scoped>\n",
       "    .dataframe tbody tr th:only-of-type {\n",
       "        vertical-align: middle;\n",
       "    }\n",
       "\n",
       "    .dataframe tbody tr th {\n",
       "        vertical-align: top;\n",
       "    }\n",
       "\n",
       "    .dataframe thead th {\n",
       "        text-align: right;\n",
       "    }\n",
       "</style>\n",
       "<table border=\"1\" class=\"dataframe\">\n",
       "  <thead>\n",
       "    <tr style=\"text-align: right;\">\n",
       "      <th></th>\n",
       "      <th>fixed acidity</th>\n",
       "      <th>volatile acidity</th>\n",
       "      <th>citric acid</th>\n",
       "      <th>residual sugar</th>\n",
       "      <th>chlorides</th>\n",
       "      <th>free sulfur dioxide</th>\n",
       "      <th>total sulfur dioxide</th>\n",
       "      <th>density</th>\n",
       "      <th>pH</th>\n",
       "      <th>sulphates</th>\n",
       "      <th>alcohol</th>\n",
       "      <th>quality</th>\n",
       "      <th>x0_A</th>\n",
       "      <th>x0_B</th>\n",
       "      <th>x0_C</th>\n",
       "    </tr>\n",
       "  </thead>\n",
       "  <tbody>\n",
       "    <tr>\n",
       "      <th>0</th>\n",
       "      <td>7.4</td>\n",
       "      <td>0.70</td>\n",
       "      <td>0.00</td>\n",
       "      <td>1.9</td>\n",
       "      <td>0.076</td>\n",
       "      <td>11.0</td>\n",
       "      <td>34.0</td>\n",
       "      <td>0.99780</td>\n",
       "      <td>3.51</td>\n",
       "      <td>0.56</td>\n",
       "      <td>9.4</td>\n",
       "      <td>C</td>\n",
       "      <td>0.0</td>\n",
       "      <td>0.0</td>\n",
       "      <td>1.0</td>\n",
       "    </tr>\n",
       "    <tr>\n",
       "      <th>1</th>\n",
       "      <td>7.8</td>\n",
       "      <td>0.88</td>\n",
       "      <td>0.00</td>\n",
       "      <td>2.6</td>\n",
       "      <td>0.098</td>\n",
       "      <td>25.0</td>\n",
       "      <td>67.0</td>\n",
       "      <td>0.99680</td>\n",
       "      <td>3.20</td>\n",
       "      <td>0.68</td>\n",
       "      <td>9.8</td>\n",
       "      <td>C</td>\n",
       "      <td>0.0</td>\n",
       "      <td>0.0</td>\n",
       "      <td>1.0</td>\n",
       "    </tr>\n",
       "    <tr>\n",
       "      <th>2</th>\n",
       "      <td>7.8</td>\n",
       "      <td>0.76</td>\n",
       "      <td>0.04</td>\n",
       "      <td>2.3</td>\n",
       "      <td>0.092</td>\n",
       "      <td>15.0</td>\n",
       "      <td>54.0</td>\n",
       "      <td>0.99700</td>\n",
       "      <td>3.26</td>\n",
       "      <td>0.65</td>\n",
       "      <td>9.8</td>\n",
       "      <td>C</td>\n",
       "      <td>0.0</td>\n",
       "      <td>0.0</td>\n",
       "      <td>1.0</td>\n",
       "    </tr>\n",
       "    <tr>\n",
       "      <th>3</th>\n",
       "      <td>11.2</td>\n",
       "      <td>0.28</td>\n",
       "      <td>0.56</td>\n",
       "      <td>1.9</td>\n",
       "      <td>0.075</td>\n",
       "      <td>17.0</td>\n",
       "      <td>60.0</td>\n",
       "      <td>0.99800</td>\n",
       "      <td>3.16</td>\n",
       "      <td>0.58</td>\n",
       "      <td>9.8</td>\n",
       "      <td>B</td>\n",
       "      <td>0.0</td>\n",
       "      <td>1.0</td>\n",
       "      <td>0.0</td>\n",
       "    </tr>\n",
       "    <tr>\n",
       "      <th>4</th>\n",
       "      <td>7.4</td>\n",
       "      <td>0.70</td>\n",
       "      <td>0.00</td>\n",
       "      <td>1.9</td>\n",
       "      <td>0.076</td>\n",
       "      <td>11.0</td>\n",
       "      <td>34.0</td>\n",
       "      <td>0.99780</td>\n",
       "      <td>3.51</td>\n",
       "      <td>0.56</td>\n",
       "      <td>9.4</td>\n",
       "      <td>C</td>\n",
       "      <td>0.0</td>\n",
       "      <td>0.0</td>\n",
       "      <td>1.0</td>\n",
       "    </tr>\n",
       "    <tr>\n",
       "      <th>...</th>\n",
       "      <td>...</td>\n",
       "      <td>...</td>\n",
       "      <td>...</td>\n",
       "      <td>...</td>\n",
       "      <td>...</td>\n",
       "      <td>...</td>\n",
       "      <td>...</td>\n",
       "      <td>...</td>\n",
       "      <td>...</td>\n",
       "      <td>...</td>\n",
       "      <td>...</td>\n",
       "      <td>...</td>\n",
       "      <td>...</td>\n",
       "      <td>...</td>\n",
       "      <td>...</td>\n",
       "    </tr>\n",
       "    <tr>\n",
       "      <th>6492</th>\n",
       "      <td>6.2</td>\n",
       "      <td>0.21</td>\n",
       "      <td>0.29</td>\n",
       "      <td>1.6</td>\n",
       "      <td>0.039</td>\n",
       "      <td>24.0</td>\n",
       "      <td>92.0</td>\n",
       "      <td>0.99114</td>\n",
       "      <td>3.27</td>\n",
       "      <td>0.50</td>\n",
       "      <td>11.2</td>\n",
       "      <td>B</td>\n",
       "      <td>0.0</td>\n",
       "      <td>1.0</td>\n",
       "      <td>0.0</td>\n",
       "    </tr>\n",
       "    <tr>\n",
       "      <th>6493</th>\n",
       "      <td>6.6</td>\n",
       "      <td>0.32</td>\n",
       "      <td>0.36</td>\n",
       "      <td>8.0</td>\n",
       "      <td>0.047</td>\n",
       "      <td>57.0</td>\n",
       "      <td>168.0</td>\n",
       "      <td>0.99490</td>\n",
       "      <td>3.15</td>\n",
       "      <td>0.46</td>\n",
       "      <td>9.6</td>\n",
       "      <td>C</td>\n",
       "      <td>0.0</td>\n",
       "      <td>0.0</td>\n",
       "      <td>1.0</td>\n",
       "    </tr>\n",
       "    <tr>\n",
       "      <th>6494</th>\n",
       "      <td>6.5</td>\n",
       "      <td>0.24</td>\n",
       "      <td>0.19</td>\n",
       "      <td>1.2</td>\n",
       "      <td>0.041</td>\n",
       "      <td>30.0</td>\n",
       "      <td>111.0</td>\n",
       "      <td>0.99254</td>\n",
       "      <td>2.99</td>\n",
       "      <td>0.46</td>\n",
       "      <td>9.4</td>\n",
       "      <td>B</td>\n",
       "      <td>0.0</td>\n",
       "      <td>1.0</td>\n",
       "      <td>0.0</td>\n",
       "    </tr>\n",
       "    <tr>\n",
       "      <th>6495</th>\n",
       "      <td>5.5</td>\n",
       "      <td>0.29</td>\n",
       "      <td>0.30</td>\n",
       "      <td>1.1</td>\n",
       "      <td>0.022</td>\n",
       "      <td>20.0</td>\n",
       "      <td>110.0</td>\n",
       "      <td>0.98869</td>\n",
       "      <td>3.34</td>\n",
       "      <td>0.38</td>\n",
       "      <td>12.8</td>\n",
       "      <td>A</td>\n",
       "      <td>1.0</td>\n",
       "      <td>0.0</td>\n",
       "      <td>0.0</td>\n",
       "    </tr>\n",
       "    <tr>\n",
       "      <th>6496</th>\n",
       "      <td>6.0</td>\n",
       "      <td>0.21</td>\n",
       "      <td>0.38</td>\n",
       "      <td>0.8</td>\n",
       "      <td>0.020</td>\n",
       "      <td>22.0</td>\n",
       "      <td>98.0</td>\n",
       "      <td>0.98941</td>\n",
       "      <td>3.26</td>\n",
       "      <td>0.32</td>\n",
       "      <td>11.8</td>\n",
       "      <td>B</td>\n",
       "      <td>0.0</td>\n",
       "      <td>1.0</td>\n",
       "      <td>0.0</td>\n",
       "    </tr>\n",
       "  </tbody>\n",
       "</table>\n",
       "<p>6497 rows × 15 columns</p>\n",
       "</div>"
      ],
      "text/plain": [
       "      fixed acidity  volatile acidity  citric acid  residual sugar  chlorides  \\\n",
       "0               7.4              0.70         0.00             1.9      0.076   \n",
       "1               7.8              0.88         0.00             2.6      0.098   \n",
       "2               7.8              0.76         0.04             2.3      0.092   \n",
       "3              11.2              0.28         0.56             1.9      0.075   \n",
       "4               7.4              0.70         0.00             1.9      0.076   \n",
       "...             ...               ...          ...             ...        ...   \n",
       "6492            6.2              0.21         0.29             1.6      0.039   \n",
       "6493            6.6              0.32         0.36             8.0      0.047   \n",
       "6494            6.5              0.24         0.19             1.2      0.041   \n",
       "6495            5.5              0.29         0.30             1.1      0.022   \n",
       "6496            6.0              0.21         0.38             0.8      0.020   \n",
       "\n",
       "      free sulfur dioxide  total sulfur dioxide  density    pH  sulphates  \\\n",
       "0                    11.0                  34.0  0.99780  3.51       0.56   \n",
       "1                    25.0                  67.0  0.99680  3.20       0.68   \n",
       "2                    15.0                  54.0  0.99700  3.26       0.65   \n",
       "3                    17.0                  60.0  0.99800  3.16       0.58   \n",
       "4                    11.0                  34.0  0.99780  3.51       0.56   \n",
       "...                   ...                   ...      ...   ...        ...   \n",
       "6492                 24.0                  92.0  0.99114  3.27       0.50   \n",
       "6493                 57.0                 168.0  0.99490  3.15       0.46   \n",
       "6494                 30.0                 111.0  0.99254  2.99       0.46   \n",
       "6495                 20.0                 110.0  0.98869  3.34       0.38   \n",
       "6496                 22.0                  98.0  0.98941  3.26       0.32   \n",
       "\n",
       "      alcohol quality  x0_A  x0_B  x0_C  \n",
       "0         9.4       C   0.0   0.0   1.0  \n",
       "1         9.8       C   0.0   0.0   1.0  \n",
       "2         9.8       C   0.0   0.0   1.0  \n",
       "3         9.8       B   0.0   1.0   0.0  \n",
       "4         9.4       C   0.0   0.0   1.0  \n",
       "...       ...     ...   ...   ...   ...  \n",
       "6492     11.2       B   0.0   1.0   0.0  \n",
       "6493      9.6       C   0.0   0.0   1.0  \n",
       "6494      9.4       B   0.0   1.0   0.0  \n",
       "6495     12.8       A   1.0   0.0   0.0  \n",
       "6496     11.8       B   0.0   1.0   0.0  \n",
       "\n",
       "[6497 rows x 15 columns]"
      ]
     },
     "execution_count": 6,
     "metadata": {},
     "output_type": "execute_result"
    }
   ],
   "source": [
    "X = pd.concat([X, pd.DataFrame(quality, columns = ohe.get_feature_names())], axis = 1)\n",
    "X"
   ]
  },
  {
   "cell_type": "code",
   "execution_count": 7,
   "metadata": {},
   "outputs": [],
   "source": [
    "X.drop('quality', axis = 1, inplace = True)"
   ]
  },
  {
   "cell_type": "code",
   "execution_count": 8,
   "metadata": {},
   "outputs": [],
   "source": [
    "X_train, X_test, y_train, y_test = train_test_split(X,y, stratify = y, random_state = 1)"
   ]
  },
  {
   "cell_type": "code",
   "execution_count": 9,
   "metadata": {},
   "outputs": [],
   "source": [
    "from sklearn.neighbors import KNeighborsClassifier\n",
    "from sklearn.ensemble import RandomForestClassifier\n",
    "from sklearn.svm import SVC\n",
    "from sklearn.ensemble import VotingClassifier #from 절에는 모듈\n",
    "from sklearn.pipeline import make_pipeline"
   ]
  },
  {
   "cell_type": "code",
   "execution_count": 10,
   "metadata": {},
   "outputs": [],
   "source": [
    "knn = KNeighborsClassifier(n_neighbors = 5)\n",
    "rf = RandomForestClassifier(n_estimators = 200)\n",
    "svc = SVC(C = 0.1, gamma = 0.1, probability = True)\n",
    "\n",
    "knn_pipe = make_pipeline(StandardScaler(), knn)\n",
    "svc_pipe = make_pipeline(StandardScaler(), svc)\n",
    "estimators = [('knn', knn_pipe),\n",
    "              \n",
    "             ('random_forest', rf),\n",
    "             ('svm', svc_pipe)]\n",
    "\n",
    "voting = VotingClassifier(estimators) # (이름, 객채명)"
   ]
  },
  {
   "cell_type": "code",
   "execution_count": 11,
   "metadata": {},
   "outputs": [],
   "source": [
    "from sklearn.metrics import accuracy_score, recall_score, precision_score, f1_score\n",
    "\n",
    "def print_metrics(y,y_pred, title = None):\n",
    "    if title:\n",
    "        print(title)\n",
    "        metrics = f'정확도:{accuracy_score(y, y_pred)}, 재현율:{recall_score(y,y_pred)}, 정밀도:{precision_score(y,y_pred)}, f1_score :{f1_score(y, y_pred)}'\n",
    "        print(metrics)"
   ]
  },
  {
   "cell_type": "code",
   "execution_count": 12,
   "metadata": {},
   "outputs": [
    {
     "data": {
      "text/plain": [
       "VotingClassifier(estimators=[('knn',\n",
       "                              Pipeline(steps=[('standardscaler',\n",
       "                                               StandardScaler()),\n",
       "                                              ('kneighborsclassifier',\n",
       "                                               KNeighborsClassifier())])),\n",
       "                             ('random_forest',\n",
       "                              RandomForestClassifier(n_estimators=200)),\n",
       "                             ('svm',\n",
       "                              Pipeline(steps=[('standardscaler',\n",
       "                                               StandardScaler()),\n",
       "                                              ('svc',\n",
       "                                               SVC(C=0.1, gamma=0.1,\n",
       "                                                   probability=True))]))])"
      ]
     },
     "execution_count": 12,
     "metadata": {},
     "output_type": "execute_result"
    }
   ],
   "source": [
    "voting.fit(X_train, y_train)"
   ]
  },
  {
   "cell_type": "code",
   "execution_count": 13,
   "metadata": {},
   "outputs": [],
   "source": [
    "pred_train = voting.predict(X_train)\n",
    "pred_test = voting.predict(X_test)"
   ]
  },
  {
   "cell_type": "code",
   "execution_count": 14,
   "metadata": {
    "scrolled": false
   },
   "outputs": [
    {
     "name": "stdout",
     "output_type": "stream",
     "text": [
      "train\n",
      "정확도:0.9956896551724138, 재현율:0.9858215179316097, 정밀도:0.9966273187183811, f1_score :0.991194968553459\n"
     ]
    }
   ],
   "source": [
    "print_metrics(y_train, pred_train, 'train')"
   ]
  },
  {
   "cell_type": "code",
   "execution_count": 15,
   "metadata": {
    "scrolled": true
   },
   "outputs": [
    {
     "name": "stdout",
     "output_type": "stream",
     "text": [
      "test\n",
      "정확도:0.9969230769230769, 재현율:0.9925, 정밀도:0.9949874686716792, f1_score :0.9937421777221527\n"
     ]
    }
   ],
   "source": [
    "print_metrics(y_test, pred_test, 'test')"
   ]
  },
  {
   "cell_type": "code",
   "execution_count": 16,
   "metadata": {},
   "outputs": [],
   "source": [
    "from sklearn.ensemble import VotingClassifier"
   ]
  },
  {
   "cell_type": "code",
   "execution_count": 17,
   "metadata": {},
   "outputs": [],
   "source": [
    "voting_soft = VotingClassifier(estimators,\n",
    "                              voting= 'soft')"
   ]
  },
  {
   "cell_type": "code",
   "execution_count": 18,
   "metadata": {},
   "outputs": [
    {
     "data": {
      "text/plain": [
       "VotingClassifier(estimators=[('knn',\n",
       "                              Pipeline(steps=[('standardscaler',\n",
       "                                               StandardScaler()),\n",
       "                                              ('kneighborsclassifier',\n",
       "                                               KNeighborsClassifier())])),\n",
       "                             ('random_forest',\n",
       "                              RandomForestClassifier(n_estimators=200)),\n",
       "                             ('svm',\n",
       "                              Pipeline(steps=[('standardscaler',\n",
       "                                               StandardScaler()),\n",
       "                                              ('svc',\n",
       "                                               SVC(C=0.1, gamma=0.1,\n",
       "                                                   probability=True))]))],\n",
       "                 voting='soft')"
      ]
     },
     "execution_count": 18,
     "metadata": {},
     "output_type": "execute_result"
    }
   ],
   "source": [
    "voting_soft.fit(X_train,y_train)"
   ]
  },
  {
   "cell_type": "code",
   "execution_count": 19,
   "metadata": {},
   "outputs": [],
   "source": [
    "pred_train_soft = voting_soft.predict(X_train)\n",
    "pred_test_soft = voting_soft.predict(X_test)"
   ]
  },
  {
   "cell_type": "code",
   "execution_count": 20,
   "metadata": {},
   "outputs": [
    {
     "name": "stdout",
     "output_type": "stream",
     "text": [
      "test, soft보팅\n",
      "정확도:0.9963076923076923, 재현율:0.9925, 정밀도:0.9925, f1_score :0.9925\n"
     ]
    }
   ],
   "source": [
    "print_metrics(y_test, pred_test_soft, 'test, soft보팅')"
   ]
  },
  {
   "cell_type": "code",
   "execution_count": 1,
   "metadata": {},
   "outputs": [],
   "source": [
    "#랜덤 포레스트 연습\n",
    "from sklearn.datasets import load_breast_cancer\n",
    "import numpy as np\n",
    "import pandas as pd\n",
    "import matplotlib.pyplot as plt\n",
    "from sklearn.ensemble import RandomForestClassifier\n",
    "from sklearn.model_selection import train_test_split\n",
    "from sklearn.metrics import accuracy_score"
   ]
  },
  {
   "cell_type": "code",
   "execution_count": 2,
   "metadata": {},
   "outputs": [
    {
     "data": {
      "text/plain": [
       "((569, 30), (569,))"
      ]
     },
     "execution_count": 2,
     "metadata": {},
     "output_type": "execute_result"
    }
   ],
   "source": [
    "X,y = load_breast_cancer(return_X_y = True)\n",
    "X.shape, y.shape"
   ]
  },
  {
   "cell_type": "code",
   "execution_count": 4,
   "metadata": {},
   "outputs": [
    {
     "data": {
      "text/plain": [
       "((426, 30), (426,))"
      ]
     },
     "execution_count": 4,
     "metadata": {},
     "output_type": "execute_result"
    }
   ],
   "source": [
    "X_train, X_test, y_train,y_test = train_test_split(X,y, stratify = y, random_state = 1)\n",
    "X_train.shape, y_train.shape"
   ]
  },
  {
   "cell_type": "code",
   "execution_count": 6,
   "metadata": {},
   "outputs": [],
   "source": [
    "rf = RandomForestClassifier(n_estimators = 200,\n",
    "                           max_features = 15,\n",
    "                           max_depth = 5,\n",
    "                           n_jobs = -1,\n",
    "                           random_state = 1)"
   ]
  },
  {
   "cell_type": "code",
   "execution_count": 7,
   "metadata": {},
   "outputs": [
    {
     "data": {
      "text/plain": [
       "RandomForestClassifier(max_depth=5, max_features=15, n_estimators=200,\n",
       "                       n_jobs=-1, random_state=1)"
      ]
     },
     "execution_count": 7,
     "metadata": {},
     "output_type": "execute_result"
    }
   ],
   "source": [
    "rf.fit(X_train,y_train)"
   ]
  },
  {
   "cell_type": "code",
   "execution_count": 10,
   "metadata": {},
   "outputs": [],
   "source": [
    "pred_train = rf.predict(X_train)\n",
    "pred_test = rf.predict(X_test)"
   ]
  },
  {
   "cell_type": "code",
   "execution_count": 11,
   "metadata": {},
   "outputs": [
    {
     "data": {
      "text/plain": [
       "0.951048951048951"
      ]
     },
     "execution_count": 11,
     "metadata": {},
     "output_type": "execute_result"
    }
   ],
   "source": [
    "accuracy_score(y_test, pred_test)"
   ]
  },
  {
   "cell_type": "code",
   "execution_count": 12,
   "metadata": {},
   "outputs": [],
   "source": [
    "d = load_breast_cancer()"
   ]
  },
  {
   "cell_type": "code",
   "execution_count": 13,
   "metadata": {},
   "outputs": [],
   "source": [
    "ri = rf.feature_importances_"
   ]
  },
  {
   "cell_type": "code",
   "execution_count": 15,
   "metadata": {},
   "outputs": [
    {
     "name": "stdout",
     "output_type": "stream",
     "text": [
      "[0.00463955 0.01384115 0.00379319 0.01078856 0.00189817 0.00304166\n",
      " 0.02963914 0.11022216 0.0018731  0.00176271 0.00509571 0.0031751\n",
      " 0.0031342  0.01818324 0.0031701  0.00189934 0.00247902 0.00220542\n",
      " 0.00237803 0.00454188 0.11275583 0.02374541 0.20790111 0.13835278\n",
      " 0.00696561 0.00800956 0.01499553 0.25203332 0.00509586 0.00238357]\n"
     ]
    }
   ],
   "source": [
    "print(ri)"
   ]
  },
  {
   "cell_type": "code",
   "execution_count": 17,
   "metadata": {},
   "outputs": [
    {
     "data": {
      "text/plain": [
       "mean radius                0.004640\n",
       "mean texture               0.013841\n",
       "mean perimeter             0.003793\n",
       "mean area                  0.010789\n",
       "mean smoothness            0.001898\n",
       "mean compactness           0.003042\n",
       "mean concavity             0.029639\n",
       "mean concave points        0.110222\n",
       "mean symmetry              0.001873\n",
       "mean fractal dimension     0.001763\n",
       "radius error               0.005096\n",
       "texture error              0.003175\n",
       "perimeter error            0.003134\n",
       "area error                 0.018183\n",
       "smoothness error           0.003170\n",
       "compactness error          0.001899\n",
       "concavity error            0.002479\n",
       "concave points error       0.002205\n",
       "symmetry error             0.002378\n",
       "fractal dimension error    0.004542\n",
       "worst radius               0.112756\n",
       "worst texture              0.023745\n",
       "worst perimeter            0.207901\n",
       "worst area                 0.138353\n",
       "worst smoothness           0.006966\n",
       "worst compactness          0.008010\n",
       "worst concavity            0.014996\n",
       "worst concave points       0.252033\n",
       "worst symmetry             0.005096\n",
       "worst fractal dimension    0.002384\n",
       "dtype: float64"
      ]
     },
     "execution_count": 17,
     "metadata": {},
     "output_type": "execute_result"
    }
   ],
   "source": [
    "fi_s = pd.Series(ri, index = d['feature_names'])\n",
    "fi_s"
   ]
  },
  {
   "cell_type": "markdown",
   "metadata": {},
   "source": [
    "# 앙상블 부스팅 "
   ]
  },
  {
   "cell_type": "code",
   "execution_count": 18,
   "metadata": {},
   "outputs": [],
   "source": [
    "from sklearn.datasets import load_breast_cancer\n",
    "from sklearn.model_selection import train_test_split\n",
    "from sklearn.ensemble import GradientBoostingClassifier\n",
    "from sklearn.metrics import accuracy_score"
   ]
  },
  {
   "cell_type": "code",
   "execution_count": 19,
   "metadata": {},
   "outputs": [],
   "source": [
    "data = load_breast_cancer()\n",
    "X,y =data['data'], data['target']"
   ]
  },
  {
   "cell_type": "code",
   "execution_count": 20,
   "metadata": {},
   "outputs": [
    {
     "data": {
      "text/plain": [
       "((426,), (143,))"
      ]
     },
     "execution_count": 20,
     "metadata": {},
     "output_type": "execute_result"
    }
   ],
   "source": [
    "X_train,X_test, y_train, y_test = train_test_split(X,y , stratify = y, random_state = 1)\n",
    "y_train.shape, y_test.shape"
   ]
  },
  {
   "cell_type": "code",
   "execution_count": 21,
   "metadata": {},
   "outputs": [
    {
     "data": {
      "text/plain": [
       "GradientBoostingClassifier(random_state=1)"
      ]
     },
     "execution_count": 21,
     "metadata": {},
     "output_type": "execute_result"
    }
   ],
   "source": [
    "gb = GradientBoostingClassifier(random_state = 1)\n",
    "gb.fit(X_train,y_train)"
   ]
  },
  {
   "cell_type": "code",
   "execution_count": 22,
   "metadata": {},
   "outputs": [],
   "source": [
    "pred_train = gb.predict(X_train)\n",
    "pred_test = gb.predict(X_test)"
   ]
  },
  {
   "cell_type": "code",
   "execution_count": 23,
   "metadata": {},
   "outputs": [
    {
     "data": {
      "text/plain": [
       "(1.0, 0.958041958041958)"
      ]
     },
     "execution_count": 23,
     "metadata": {},
     "output_type": "execute_result"
    }
   ],
   "source": [
    "#검증\n",
    "accuracy_score(y_train, pred_train), accuracy_score(y_test,pred_test)\n",
    "#데이터 양이 워낙 적어 과적합 날 수 밖에\n",
    "# 학습데이터의 정확도 떨어지면 어쨌든 모델이 단순화되는, 일반화되는 것에 가깝"
   ]
  },
  {
   "cell_type": "code",
   "execution_count": 24,
   "metadata": {},
   "outputs": [],
   "source": [
    "import pandas as pd\n",
    "fi = gb.feature_importances_"
   ]
  },
  {
   "cell_type": "code",
   "execution_count": 25,
   "metadata": {},
   "outputs": [],
   "source": [
    "fi_s = pd.Series(fi, index = data['feature_names'])"
   ]
  },
  {
   "cell_type": "code",
   "execution_count": 26,
   "metadata": {},
   "outputs": [
    {
     "data": {
      "text/plain": [
       "worst radius               0.383760\n",
       "worst concave points       0.285992\n",
       "worst perimeter            0.130660\n",
       "mean concave points        0.046544\n",
       "worst area                 0.042472\n",
       "worst texture              0.041142\n",
       "worst concavity            0.013033\n",
       "area error                 0.010910\n",
       "mean texture               0.009101\n",
       "mean concavity             0.007719\n",
       "radius error               0.004902\n",
       "concavity error            0.003397\n",
       "worst fractal dimension    0.002838\n",
       "mean area                  0.002552\n",
       "worst symmetry             0.002546\n",
       "fractal dimension error    0.002532\n",
       "mean compactness           0.001566\n",
       "compactness error          0.001386\n",
       "mean perimeter             0.001368\n",
       "smoothness error           0.001340\n",
       "symmetry error             0.001265\n",
       "perimeter error            0.000813\n",
       "mean radius                0.000701\n",
       "mean fractal dimension     0.000625\n",
       "texture error              0.000498\n",
       "worst smoothness           0.000144\n",
       "worst compactness          0.000097\n",
       "mean smoothness            0.000051\n",
       "mean symmetry              0.000039\n",
       "concave points error       0.000008\n",
       "dtype: float64"
      ]
     },
     "execution_count": 26,
     "metadata": {},
     "output_type": "execute_result"
    }
   ],
   "source": [
    "fi_s.sort_values(ascending = False)"
   ]
  },
  {
   "cell_type": "code",
   "execution_count": 27,
   "metadata": {},
   "outputs": [],
   "source": [
    "#그리드 서치 이용"
   ]
  },
  {
   "cell_type": "code",
   "execution_count": 28,
   "metadata": {},
   "outputs": [],
   "source": [
    "from sklearn.model_selection import GridSearchCV, RandomizedSearchCV"
   ]
  },
  {
   "cell_type": "code",
   "execution_count": 30,
   "metadata": {},
   "outputs": [],
   "source": [
    "param={\n",
    "    'n_estimators':[100,200,300,400,500],\n",
    "    'learning_rate':[0.001,0.05,0.01,0.5, 0.1],\n",
    "    'max_depth':range(1,5),\n",
    "    'subsample':[0.5,0.7,1]\n",
    "}\n",
    "\n",
    "gb = GradientBoostingClassifier(random_state = 1)\n",
    "\n",
    "gs = GridSearchCV(gb, \n",
    "                 param_grid = param,\n",
    "                 cv = 3,\n",
    "                 scoring = 'accuracy',\n",
    "                 n_jobs = -1)"
   ]
  },
  {
   "cell_type": "code",
   "execution_count": 31,
   "metadata": {},
   "outputs": [
    {
     "data": {
      "text/plain": [
       "GridSearchCV(cv=3, estimator=GradientBoostingClassifier(random_state=1),\n",
       "             n_jobs=-1,\n",
       "             param_grid={'learning_rate': [0.001, 0.05, 0.01, 0.5, 0.1],\n",
       "                         'max_depth': range(1, 5),\n",
       "                         'n_estimators': [100, 200, 300, 400, 500],\n",
       "                         'subsample': [0.5, 0.7, 1]},\n",
       "             scoring='accuracy')"
      ]
     },
     "execution_count": 31,
     "metadata": {},
     "output_type": "execute_result"
    }
   ],
   "source": [
    "gs.fit(X_train,y_train)"
   ]
  },
  {
   "cell_type": "code",
   "execution_count": 32,
   "metadata": {},
   "outputs": [
    {
     "data": {
      "text/plain": [
       "{'learning_rate': 0.05, 'max_depth': 4, 'n_estimators': 200, 'subsample': 0.5}"
      ]
     },
     "execution_count": 32,
     "metadata": {},
     "output_type": "execute_result"
    }
   ],
   "source": [
    "gs.best_params_"
   ]
  },
  {
   "cell_type": "code",
   "execution_count": 33,
   "metadata": {},
   "outputs": [
    {
     "data": {
      "text/html": [
       "<div>\n",
       "<style scoped>\n",
       "    .dataframe tbody tr th:only-of-type {\n",
       "        vertical-align: middle;\n",
       "    }\n",
       "\n",
       "    .dataframe tbody tr th {\n",
       "        vertical-align: top;\n",
       "    }\n",
       "\n",
       "    .dataframe thead th {\n",
       "        text-align: right;\n",
       "    }\n",
       "</style>\n",
       "<table border=\"1\" class=\"dataframe\">\n",
       "  <thead>\n",
       "    <tr style=\"text-align: right;\">\n",
       "      <th></th>\n",
       "      <th>mean_fit_time</th>\n",
       "      <th>std_fit_time</th>\n",
       "      <th>mean_score_time</th>\n",
       "      <th>std_score_time</th>\n",
       "      <th>param_learning_rate</th>\n",
       "      <th>param_max_depth</th>\n",
       "      <th>param_n_estimators</th>\n",
       "      <th>param_subsample</th>\n",
       "      <th>params</th>\n",
       "      <th>split0_test_score</th>\n",
       "      <th>split1_test_score</th>\n",
       "      <th>split2_test_score</th>\n",
       "      <th>mean_test_score</th>\n",
       "      <th>std_test_score</th>\n",
       "      <th>rank_test_score</th>\n",
       "    </tr>\n",
       "  </thead>\n",
       "  <tbody>\n",
       "    <tr>\n",
       "      <th>195</th>\n",
       "      <td>0.276503</td>\n",
       "      <td>0.009870</td>\n",
       "      <td>0.001522</td>\n",
       "      <td>0.000630</td>\n",
       "      <td>0.5</td>\n",
       "      <td>2</td>\n",
       "      <td>100</td>\n",
       "      <td>0.5</td>\n",
       "      <td>{'learning_rate': 0.5, 'max_depth': 2, 'n_esti...</td>\n",
       "      <td>0.964789</td>\n",
       "      <td>0.978873</td>\n",
       "      <td>0.978873</td>\n",
       "      <td>0.974178</td>\n",
       "      <td>0.006640</td>\n",
       "      <td>1</td>\n",
       "    </tr>\n",
       "    <tr>\n",
       "      <th>207</th>\n",
       "      <td>1.428189</td>\n",
       "      <td>0.027914</td>\n",
       "      <td>0.003414</td>\n",
       "      <td>0.000457</td>\n",
       "      <td>0.5</td>\n",
       "      <td>2</td>\n",
       "      <td>500</td>\n",
       "      <td>0.5</td>\n",
       "      <td>{'learning_rate': 0.5, 'max_depth': 2, 'n_esti...</td>\n",
       "      <td>0.964789</td>\n",
       "      <td>0.978873</td>\n",
       "      <td>0.978873</td>\n",
       "      <td>0.974178</td>\n",
       "      <td>0.006640</td>\n",
       "      <td>1</td>\n",
       "    </tr>\n",
       "    <tr>\n",
       "      <th>109</th>\n",
       "      <td>1.188301</td>\n",
       "      <td>0.015864</td>\n",
       "      <td>0.003251</td>\n",
       "      <td>0.000892</td>\n",
       "      <td>0.05</td>\n",
       "      <td>4</td>\n",
       "      <td>200</td>\n",
       "      <td>0.7</td>\n",
       "      <td>{'learning_rate': 0.05, 'max_depth': 4, 'n_est...</td>\n",
       "      <td>0.971831</td>\n",
       "      <td>0.964789</td>\n",
       "      <td>0.985915</td>\n",
       "      <td>0.974178</td>\n",
       "      <td>0.008783</td>\n",
       "      <td>1</td>\n",
       "    </tr>\n",
       "    <tr>\n",
       "      <th>289</th>\n",
       "      <td>1.063881</td>\n",
       "      <td>0.020917</td>\n",
       "      <td>0.002716</td>\n",
       "      <td>0.000512</td>\n",
       "      <td>0.1</td>\n",
       "      <td>4</td>\n",
       "      <td>200</td>\n",
       "      <td>0.7</td>\n",
       "      <td>{'learning_rate': 0.1, 'max_depth': 4, 'n_esti...</td>\n",
       "      <td>0.964789</td>\n",
       "      <td>0.971831</td>\n",
       "      <td>0.985915</td>\n",
       "      <td>0.974178</td>\n",
       "      <td>0.008783</td>\n",
       "      <td>1</td>\n",
       "    </tr>\n",
       "    <tr>\n",
       "      <th>263</th>\n",
       "      <td>1.207778</td>\n",
       "      <td>0.019371</td>\n",
       "      <td>0.005600</td>\n",
       "      <td>0.001486</td>\n",
       "      <td>0.1</td>\n",
       "      <td>2</td>\n",
       "      <td>300</td>\n",
       "      <td>1</td>\n",
       "      <td>{'learning_rate': 0.1, 'max_depth': 2, 'n_esti...</td>\n",
       "      <td>0.957746</td>\n",
       "      <td>0.971831</td>\n",
       "      <td>0.992958</td>\n",
       "      <td>0.974178</td>\n",
       "      <td>0.014470</td>\n",
       "      <td>1</td>\n",
       "    </tr>\n",
       "    <tr>\n",
       "      <th>...</th>\n",
       "      <td>...</td>\n",
       "      <td>...</td>\n",
       "      <td>...</td>\n",
       "      <td>...</td>\n",
       "      <td>...</td>\n",
       "      <td>...</td>\n",
       "      <td>...</td>\n",
       "      <td>...</td>\n",
       "      <td>...</td>\n",
       "      <td>...</td>\n",
       "      <td>...</td>\n",
       "      <td>...</td>\n",
       "      <td>...</td>\n",
       "      <td>...</td>\n",
       "      <td>...</td>\n",
       "    </tr>\n",
       "    <tr>\n",
       "      <th>34</th>\n",
       "      <td>1.801691</td>\n",
       "      <td>0.026239</td>\n",
       "      <td>0.006734</td>\n",
       "      <td>0.006118</td>\n",
       "      <td>0.001</td>\n",
       "      <td>3</td>\n",
       "      <td>200</td>\n",
       "      <td>0.7</td>\n",
       "      <td>{'learning_rate': 0.001, 'max_depth': 3, 'n_es...</td>\n",
       "      <td>0.626761</td>\n",
       "      <td>0.626761</td>\n",
       "      <td>0.626761</td>\n",
       "      <td>0.626761</td>\n",
       "      <td>0.000000</td>\n",
       "      <td>277</td>\n",
       "    </tr>\n",
       "    <tr>\n",
       "      <th>30</th>\n",
       "      <td>0.700589</td>\n",
       "      <td>0.063664</td>\n",
       "      <td>0.001811</td>\n",
       "      <td>0.000612</td>\n",
       "      <td>0.001</td>\n",
       "      <td>3</td>\n",
       "      <td>100</td>\n",
       "      <td>0.5</td>\n",
       "      <td>{'learning_rate': 0.001, 'max_depth': 3, 'n_es...</td>\n",
       "      <td>0.626761</td>\n",
       "      <td>0.626761</td>\n",
       "      <td>0.626761</td>\n",
       "      <td>0.626761</td>\n",
       "      <td>0.000000</td>\n",
       "      <td>277</td>\n",
       "    </tr>\n",
       "    <tr>\n",
       "      <th>31</th>\n",
       "      <td>0.864712</td>\n",
       "      <td>0.117341</td>\n",
       "      <td>0.002831</td>\n",
       "      <td>0.000947</td>\n",
       "      <td>0.001</td>\n",
       "      <td>3</td>\n",
       "      <td>100</td>\n",
       "      <td>0.7</td>\n",
       "      <td>{'learning_rate': 0.001, 'max_depth': 3, 'n_es...</td>\n",
       "      <td>0.626761</td>\n",
       "      <td>0.626761</td>\n",
       "      <td>0.626761</td>\n",
       "      <td>0.626761</td>\n",
       "      <td>0.000000</td>\n",
       "      <td>277</td>\n",
       "    </tr>\n",
       "    <tr>\n",
       "      <th>33</th>\n",
       "      <td>1.068015</td>\n",
       "      <td>0.015749</td>\n",
       "      <td>0.020691</td>\n",
       "      <td>0.022959</td>\n",
       "      <td>0.001</td>\n",
       "      <td>3</td>\n",
       "      <td>200</td>\n",
       "      <td>0.5</td>\n",
       "      <td>{'learning_rate': 0.001, 'max_depth': 3, 'n_es...</td>\n",
       "      <td>0.626761</td>\n",
       "      <td>0.626761</td>\n",
       "      <td>0.626761</td>\n",
       "      <td>0.626761</td>\n",
       "      <td>0.000000</td>\n",
       "      <td>277</td>\n",
       "    </tr>\n",
       "    <tr>\n",
       "      <th>0</th>\n",
       "      <td>0.199987</td>\n",
       "      <td>0.012246</td>\n",
       "      <td>0.001848</td>\n",
       "      <td>0.000599</td>\n",
       "      <td>0.001</td>\n",
       "      <td>1</td>\n",
       "      <td>100</td>\n",
       "      <td>0.5</td>\n",
       "      <td>{'learning_rate': 0.001, 'max_depth': 1, 'n_es...</td>\n",
       "      <td>0.626761</td>\n",
       "      <td>0.626761</td>\n",
       "      <td>0.626761</td>\n",
       "      <td>0.626761</td>\n",
       "      <td>0.000000</td>\n",
       "      <td>277</td>\n",
       "    </tr>\n",
       "  </tbody>\n",
       "</table>\n",
       "<p>300 rows × 15 columns</p>\n",
       "</div>"
      ],
      "text/plain": [
       "     mean_fit_time  std_fit_time  mean_score_time  std_score_time  \\\n",
       "195       0.276503      0.009870         0.001522        0.000630   \n",
       "207       1.428189      0.027914         0.003414        0.000457   \n",
       "109       1.188301      0.015864         0.003251        0.000892   \n",
       "289       1.063881      0.020917         0.002716        0.000512   \n",
       "263       1.207778      0.019371         0.005600        0.001486   \n",
       "..             ...           ...              ...             ...   \n",
       "34        1.801691      0.026239         0.006734        0.006118   \n",
       "30        0.700589      0.063664         0.001811        0.000612   \n",
       "31        0.864712      0.117341         0.002831        0.000947   \n",
       "33        1.068015      0.015749         0.020691        0.022959   \n",
       "0         0.199987      0.012246         0.001848        0.000599   \n",
       "\n",
       "    param_learning_rate param_max_depth param_n_estimators param_subsample  \\\n",
       "195                 0.5               2                100             0.5   \n",
       "207                 0.5               2                500             0.5   \n",
       "109                0.05               4                200             0.7   \n",
       "289                 0.1               4                200             0.7   \n",
       "263                 0.1               2                300               1   \n",
       "..                  ...             ...                ...             ...   \n",
       "34                0.001               3                200             0.7   \n",
       "30                0.001               3                100             0.5   \n",
       "31                0.001               3                100             0.7   \n",
       "33                0.001               3                200             0.5   \n",
       "0                 0.001               1                100             0.5   \n",
       "\n",
       "                                                params  split0_test_score  \\\n",
       "195  {'learning_rate': 0.5, 'max_depth': 2, 'n_esti...           0.964789   \n",
       "207  {'learning_rate': 0.5, 'max_depth': 2, 'n_esti...           0.964789   \n",
       "109  {'learning_rate': 0.05, 'max_depth': 4, 'n_est...           0.971831   \n",
       "289  {'learning_rate': 0.1, 'max_depth': 4, 'n_esti...           0.964789   \n",
       "263  {'learning_rate': 0.1, 'max_depth': 2, 'n_esti...           0.957746   \n",
       "..                                                 ...                ...   \n",
       "34   {'learning_rate': 0.001, 'max_depth': 3, 'n_es...           0.626761   \n",
       "30   {'learning_rate': 0.001, 'max_depth': 3, 'n_es...           0.626761   \n",
       "31   {'learning_rate': 0.001, 'max_depth': 3, 'n_es...           0.626761   \n",
       "33   {'learning_rate': 0.001, 'max_depth': 3, 'n_es...           0.626761   \n",
       "0    {'learning_rate': 0.001, 'max_depth': 1, 'n_es...           0.626761   \n",
       "\n",
       "     split1_test_score  split2_test_score  mean_test_score  std_test_score  \\\n",
       "195           0.978873           0.978873         0.974178        0.006640   \n",
       "207           0.978873           0.978873         0.974178        0.006640   \n",
       "109           0.964789           0.985915         0.974178        0.008783   \n",
       "289           0.971831           0.985915         0.974178        0.008783   \n",
       "263           0.971831           0.992958         0.974178        0.014470   \n",
       "..                 ...                ...              ...             ...   \n",
       "34            0.626761           0.626761         0.626761        0.000000   \n",
       "30            0.626761           0.626761         0.626761        0.000000   \n",
       "31            0.626761           0.626761         0.626761        0.000000   \n",
       "33            0.626761           0.626761         0.626761        0.000000   \n",
       "0             0.626761           0.626761         0.626761        0.000000   \n",
       "\n",
       "     rank_test_score  \n",
       "195                1  \n",
       "207                1  \n",
       "109                1  \n",
       "289                1  \n",
       "263                1  \n",
       "..               ...  \n",
       "34               277  \n",
       "30               277  \n",
       "31               277  \n",
       "33               277  \n",
       "0                277  \n",
       "\n",
       "[300 rows x 15 columns]"
      ]
     },
     "execution_count": 33,
     "metadata": {},
     "output_type": "execute_result"
    }
   ],
   "source": [
    "result_df = pd.DataFrame(gs.cv_results_)\n",
    "result_df.sort_values('rank_test_score')"
   ]
  },
  {
   "cell_type": "code",
   "execution_count": 34,
   "metadata": {},
   "outputs": [
    {
     "data": {
      "text/plain": [
       "0.951048951048951"
      ]
     },
     "execution_count": 34,
     "metadata": {},
     "output_type": "execute_result"
    }
   ],
   "source": [
    "pred_test = gs.predict(X_test)\n",
    "accuracy_score(y_test, pred_test)"
   ]
  },
  {
   "cell_type": "code",
   "execution_count": 35,
   "metadata": {},
   "outputs": [
    {
     "data": {
      "text/plain": [
       "array([0.00278067, 0.02227644, 0.00375299, 0.00889619, 0.00402174,\n",
       "       0.00660803, 0.01243995, 0.0678632 , 0.00579283, 0.00286154,\n",
       "       0.00726701, 0.00815831, 0.00620805, 0.02418745, 0.0072363 ,\n",
       "       0.0008025 , 0.00222562, 0.00133842, 0.00125631, 0.00766437,\n",
       "       0.16701911, 0.02320413, 0.21548976, 0.09680912, 0.00123604,\n",
       "       0.01636319, 0.01633569, 0.23862063, 0.01413482, 0.0071496 ])"
      ]
     },
     "execution_count": 35,
     "metadata": {},
     "output_type": "execute_result"
    }
   ],
   "source": [
    "model = gs.best_estimator_\n",
    "model.feature_importances_"
   ]
  },
  {
   "cell_type": "code",
   "execution_count": null,
   "metadata": {},
   "outputs": [],
   "source": [
    "#XGBOOST\n",
    "#Gradientboost의 느린속도, 과적합을 제어할 수 있는 규제 제공해 성능 높인 버전\n",
    "# 분류, 회귀 다 지원\n",
    "#매개변수 : learning_rate, n_estimators, max_depth"
   ]
  },
  {
   "cell_type": "code",
   "execution_count": 37,
   "metadata": {},
   "outputs": [],
   "source": [
    "from xgboost import XGBClassifier\n",
    "xgb = XGBClassifier(n_estimators = 200,\n",
    "                   learning_rate = 0.5,\n",
    "                   max_depth = 2)"
   ]
  },
  {
   "cell_type": "code",
   "execution_count": 38,
   "metadata": {},
   "outputs": [
    {
     "name": "stdout",
     "output_type": "stream",
     "text": [
      "[17:30:13] WARNING: C:/Users/Administrator/workspace/xgboost-win64_release_1.3.0/src/learner.cc:1061: Starting in XGBoost 1.3.0, the default evaluation metric used with the objective 'binary:logistic' was changed from 'error' to 'logloss'. Explicitly set eval_metric if you'd like to restore the old behavior.\n"
     ]
    },
    {
     "name": "stderr",
     "output_type": "stream",
     "text": [
      "C:\\Users\\Playdata\\anaconda3\\lib\\site-packages\\xgboost\\sklearn.py:888: UserWarning: The use of label encoder in XGBClassifier is deprecated and will be removed in a future release. To remove this warning, do the following: 1) Pass option use_label_encoder=False when constructing XGBClassifier object; and 2) Encode your labels (y) as integers starting with 0, i.e. 0, 1, 2, ..., [num_class - 1].\n",
      "  warnings.warn(label_encoder_deprecation_msg, UserWarning)\n"
     ]
    },
    {
     "data": {
      "text/plain": [
       "XGBClassifier(base_score=0.5, booster='gbtree', colsample_bylevel=1,\n",
       "              colsample_bynode=1, colsample_bytree=1, gamma=0, gpu_id=-1,\n",
       "              importance_type='gain', interaction_constraints='',\n",
       "              learning_rate=0.5, max_delta_step=0, max_depth=2,\n",
       "              min_child_weight=1, missing=nan, monotone_constraints='()',\n",
       "              n_estimators=200, n_jobs=4, num_parallel_tree=1, random_state=0,\n",
       "              reg_alpha=0, reg_lambda=1, scale_pos_weight=1, subsample=1,\n",
       "              tree_method='exact', validate_parameters=1, verbosity=None)"
      ]
     },
     "execution_count": 38,
     "metadata": {},
     "output_type": "execute_result"
    }
   ],
   "source": [
    "xgb.fit(X_train, y_train)"
   ]
  },
  {
   "cell_type": "code",
   "execution_count": null,
   "metadata": {},
   "outputs": [],
   "source": []
  },
  {
   "cell_type": "code",
   "execution_count": null,
   "metadata": {},
   "outputs": [],
   "source": []
  },
  {
   "cell_type": "code",
   "execution_count": null,
   "metadata": {},
   "outputs": [],
   "source": []
  }
 ],
 "metadata": {
  "kernelspec": {
   "display_name": "Python 3",
   "language": "python",
   "name": "python3"
  },
  "language_info": {
   "codemirror_mode": {
    "name": "ipython",
    "version": 3
   },
   "file_extension": ".py",
   "mimetype": "text/x-python",
   "name": "python",
   "nbconvert_exporter": "python",
   "pygments_lexer": "ipython3",
   "version": "3.8.5"
  }
 },
 "nbformat": 4,
 "nbformat_minor": 4
}
