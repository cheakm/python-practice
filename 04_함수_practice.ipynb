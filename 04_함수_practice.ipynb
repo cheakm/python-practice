{
 "cells": [
  {
   "cell_type": "markdown",
   "metadata": {},
   "source": [
    "# 함수\n",
    " def 함수이름([변수],[변수]...) :변수 = 파라미터, 매개변수\n",
    "     실행문\n",
    "     실행문\n",
    "     [return 반환값] #리턴이 실행 안되면 None 반환\n",
    "     \n",
    "- 정보를 처리한다\n",
    "- 정보 : 데이터:변수:리터럴값\n",
    "- 처리한다 : 연산자/함수"
   ]
  },
  {
   "cell_type": "markdown",
   "metadata": {},
   "source": [
    "- 함수이름 : 관례적으로 소문자만 사용, 단어와 단어는 _로 연결\n",
    "  예) 어떤 값을 제공하는 함수 : get_제공하는 값\n",
    "  예2)get_name(): 이 함수 부르면 나한테 이름을 줄꺼야\n",
    "  예3)어떤 값을 변경하는 함수 : set_변경할 값"
   ]
  },
  {
   "cell_type": "code",
   "execution_count": 1,
   "metadata": {},
   "outputs": [],
   "source": [
    "#함수정의 : 코드작성 + 실행(메모리에 올려서 호출할 수 있ㄱ 해줌)\n",
    "def say_hello() : #선언부\n",
    "    print(\"hello\")"
   ]
  },
  {
   "cell_type": "code",
   "execution_count": 2,
   "metadata": {},
   "outputs": [
    {
     "name": "stdout",
     "output_type": "stream",
     "text": [
      "hello\n"
     ]
    }
   ],
   "source": [
    "#호출 : 함수이름([전달할 값])\n",
    "say_hello()"
   ]
  },
  {
   "cell_type": "code",
   "execution_count": 5,
   "metadata": {},
   "outputs": [],
   "source": [
    "def say_hello2(name):\n",
    "    print(f\"{name}님 안녕하세요\")"
   ]
  },
  {
   "cell_type": "code",
   "execution_count": 7,
   "metadata": {},
   "outputs": [
    {
     "name": "stdout",
     "output_type": "stream",
     "text": [
      "홍길동님 안녕하세요\n"
     ]
    }
   ],
   "source": [
    "say_hello2(\"홍길동\")"
   ]
  },
  {
   "cell_type": "code",
   "execution_count": 8,
   "metadata": {},
   "outputs": [],
   "source": [
    "def say_hello3(name):\n",
    "    greeting = f\"{name}님 안녕하세요\"\n",
    "    return greeting"
   ]
  },
  {
   "cell_type": "code",
   "execution_count": 11,
   "metadata": {},
   "outputs": [
    {
     "name": "stdout",
     "output_type": "stream",
     "text": [
      "채경민님 안녕하세요\n"
     ]
    }
   ],
   "source": [
    "g = say_hello3(\"채경민\")\n",
    "print(g)"
   ]
  },
  {
   "cell_type": "code",
   "execution_count": 12,
   "metadata": {},
   "outputs": [
    {
     "name": "stdout",
     "output_type": "stream",
     "text": [
      "채경민님 안녕하세요채경민님 안녕하세요채경민님 안녕하세요\n"
     ]
    }
   ],
   "source": [
    "print(g*3)"
   ]
  },
  {
   "cell_type": "code",
   "execution_count": 13,
   "metadata": {},
   "outputs": [
    {
     "name": "stdout",
     "output_type": "stream",
     "text": [
      "홍길동님 안녕하세요\n"
     ]
    }
   ],
   "source": [
    "r = say_hello2(\"홍길동\")"
   ]
  },
  {
   "cell_type": "code",
   "execution_count": 14,
   "metadata": {},
   "outputs": [
    {
     "name": "stdout",
     "output_type": "stream",
     "text": [
      "None\n"
     ]
    }
   ],
   "source": [
    "print(r) #반환값 없는 함수 호출시"
   ]
  },
  {
   "cell_type": "code",
   "execution_count": 15,
   "metadata": {},
   "outputs": [
    {
     "name": "stdout",
     "output_type": "stream",
     "text": [
      "120\n"
     ]
    }
   ],
   "source": [
    "i = int(\"100\")\n",
    "print(i+20)"
   ]
  },
  {
   "cell_type": "code",
   "execution_count": 16,
   "metadata": {},
   "outputs": [
    {
     "name": "stdout",
     "output_type": "stream",
     "text": [
      "abc\n",
      "None\n"
     ]
    }
   ],
   "source": [
    "j = print(\"abc\")\n",
    "print(j) #none이 나왔다는 건 리턴해주는 값이 없다는 것"
   ]
  },
  {
   "cell_type": "code",
   "execution_count": 18,
   "metadata": {},
   "outputs": [],
   "source": [
    "#두 개의 숫자를 받아 사칙연산 결과를 반환\n",
    "def calculate(num1,num2):\n",
    "    a = num1+num2\n",
    "    b = num1 - num2\n",
    "    c = num1 * num2\n",
    "    d = num1 / num2\n",
    "    return [a,b,c,d]\n",
    "#리턴값 반드시 하나만 가능: 그래서 묶는 것. 파라미터는 0개 이상 가능\n",
    "#만약 리턴 옆자리에 a,b,c,d 이렇게 하면 튜플로 인식됨"
   ]
  },
  {
   "cell_type": "code",
   "execution_count": 19,
   "metadata": {},
   "outputs": [
    {
     "name": "stdout",
     "output_type": "stream",
     "text": [
      "[15, 5, 50, 2.0]\n"
     ]
    }
   ],
   "source": [
    "result = calculate(10,5)\n",
    "print(result)"
   ]
  },
  {
   "cell_type": "code",
   "execution_count": 20,
   "metadata": {},
   "outputs": [
    {
     "name": "stdout",
     "output_type": "stream",
     "text": [
      "덧셈:6, 뺄셈:2, 곱셈:8, 나눗셈:2.0\n"
     ]
    }
   ],
   "source": [
    "a,b,c,d = calculate(4,2) #리스트대입 동일한 갯수의 값 리턴받을 때\n",
    "# 저장할 변수를 각각 지정해서 받는것\n",
    "print(f\"덧셈:{a}, 뺄셈:{b}, 곱셈:{c}, 나눗셈:{d}\")"
   ]
  },
  {
   "cell_type": "code",
   "execution_count": 25,
   "metadata": {},
   "outputs": [],
   "source": [
    "def calculate(num1,num2):\n",
    "    a = num1+num2\n",
    "    b = num1 - num2\n",
    "    c = num1 * num2\n",
    "    d = None\n",
    "        \n",
    "    if num2 !=0:\n",
    "        d = num1/num2\n",
    "    return [a,b,c,d]\n"
   ]
  },
  {
   "cell_type": "code",
   "execution_count": 26,
   "metadata": {},
   "outputs": [],
   "source": [
    "result = calculate(10,0)"
   ]
  },
  {
   "cell_type": "code",
   "execution_count": 27,
   "metadata": {},
   "outputs": [
    {
     "data": {
      "text/plain": [
       "[10, 10, 0, None]"
      ]
     },
     "execution_count": 27,
     "metadata": {},
     "output_type": "execute_result"
    }
   ],
   "source": [
    "result"
   ]
  },
  {
   "cell_type": "markdown",
   "metadata": {},
   "source": [
    "## 매개벼수 선언의 여러가지 문법\n",
    "- positional parameter(argument)\n",
    "    - 매개변수를 순서대로 나열한 것\n",
    "    - 예) def my_func(a,b,c):\n",
    "- 호출할 때 각 파라미터에 전달할 값을 순서대로 나열. 전다랄 값 생략 불가\n",
    "    - 예) my_func(10,20,30)\n",
    "    - 예) my_func(10,20) c에 전달할 값이 없으므로 에러.\n",
    "- a,b,c 가 파라미터. 파라미터에다가 argument를 주는 것\n",
    "- argument 는 호출할때 전달해주는 값(10,20,30)"
   ]
  },
  {
   "cell_type": "code",
   "execution_count": 28,
   "metadata": {},
   "outputs": [],
   "source": [
    "def print_info(name,age,tall):\n",
    "    print(f\"이름:{name}, 나이:{age}, 키:{tall}\")"
   ]
  },
  {
   "cell_type": "code",
   "execution_count": 29,
   "metadata": {},
   "outputs": [
    {
     "name": "stdout",
     "output_type": "stream",
     "text": [
      "이름:홍길동, 나이:20, 키:180\n"
     ]
    }
   ],
   "source": [
    "print_info(\"홍길동\",20,180) #위치 중요"
   ]
  },
  {
   "cell_type": "code",
   "execution_count": 30,
   "metadata": {},
   "outputs": [
    {
     "ename": "TypeError",
     "evalue": "print_info() missing 1 required positional argument: 'tall'",
     "output_type": "error",
     "traceback": [
      "\u001b[1;31m---------------------------------------------------------------------------\u001b[0m",
      "\u001b[1;31mTypeError\u001b[0m                                 Traceback (most recent call last)",
      "\u001b[1;32m<ipython-input-30-3fbebae37151>\u001b[0m in \u001b[0;36m<module>\u001b[1;34m\u001b[0m\n\u001b[1;32m----> 1\u001b[1;33m \u001b[0mprint_info\u001b[0m\u001b[1;33m(\u001b[0m\u001b[1;36m30\u001b[0m\u001b[1;33m,\u001b[0m\u001b[1;36m180\u001b[0m\u001b[1;33m)\u001b[0m \u001b[1;31m# 톨에 넣어줄 값이 없어서 에러\u001b[0m\u001b[1;33m\u001b[0m\u001b[1;33m\u001b[0m\u001b[0m\n\u001b[0m",
      "\u001b[1;31mTypeError\u001b[0m: print_info() missing 1 required positional argument: 'tall'"
     ]
    }
   ],
   "source": [
    "print_info(30,180) # 톨에 넣어줄 값이 없어서 에러"
   ]
  },
  {
   "cell_type": "markdown",
   "metadata": {},
   "source": [
    "## 기본값이 있는 매개변수\n",
    "- 매개변수 선언할 때 값을 대입\n",
    "- 기본값이 있는 매개변수\n",
    "- 제일 많이 쓰는 값을 기본값으로 하거나, 사용자가 입력하지 않을 수 있겠다고 판단시 기본값 사용"
   ]
  },
  {
   "cell_type": "markdown",
   "metadata": {},
   "source": [
    "### 키워드 argument - 키워드 인자\n",
    "- 호출시 전달할 값(argument)를 어떤 파라미터에 대입할 지 변수명을 이용해 지정할 수 있음(순서가 중요해지지 않는 것), 포맷 문자열과 비슷\n",
    "- 호출방법이 두가지 있는 것 : positional 인수와 키워드 인수(기본값 있는 매개변수와 연결됨)\n",
    "- 어떤 매개변수에 어떤 값을 넣겠다고 지정해 호출"
   ]
  },
  {
   "cell_type": "code",
   "execution_count": 31,
   "metadata": {},
   "outputs": [],
   "source": [
    "def print_info2(name = None, age = None, tall = None): # 기본값 있는 매개변수\n",
    "    print(f\"이름:{name}, 나이:{age}, 키:{tall}\")\n",
    "    #만약 기본값이 2개만 설정되있으면 두개까지는 꼭 호출해줘야 함"
   ]
  },
  {
   "cell_type": "code",
   "execution_count": 32,
   "metadata": {},
   "outputs": [
    {
     "name": "stdout",
     "output_type": "stream",
     "text": [
      "이름:홍길동, 나이:20, 키:180\n"
     ]
    }
   ],
   "source": [
    "print_info2(\"홍길동\",20,180) #위치 중요"
   ]
  },
  {
   "cell_type": "code",
   "execution_count": 33,
   "metadata": {},
   "outputs": [
    {
     "name": "stdout",
     "output_type": "stream",
     "text": [
      "이름:홍길동, 나이:None, 키:None\n"
     ]
    }
   ],
   "source": [
    "print_info2(\"홍길동\") # 첫번째 매개변수로 홍길동 넣고, 나이와 키는 디폴트값으로 출력"
   ]
  },
  {
   "cell_type": "code",
   "execution_count": 34,
   "metadata": {},
   "outputs": [
    {
     "name": "stdout",
     "output_type": "stream",
     "text": [
      "이름:홍길동, 나이:30, 키:180\n"
     ]
    }
   ],
   "source": [
    "#키워드 argument\n",
    "print_info2(tall = 180, age = 30, name = \"홍길동\") #순서달라도 값 제대로 나오지 호출과 관련됨"
   ]
  },
  {
   "cell_type": "code",
   "execution_count": 36,
   "metadata": {},
   "outputs": [
    {
     "data": {
      "text/plain": [
       "'이름:이름,나이:20'"
      ]
     },
     "execution_count": 36,
     "metadata": {},
     "output_type": "execute_result"
    }
   ],
   "source": [
    "\"이름:{},나이:{}\".format(\"이름\",20)"
   ]
  },
  {
   "cell_type": "code",
   "execution_count": 37,
   "metadata": {},
   "outputs": [
    {
     "data": {
      "text/plain": [
       "'이름:이름, 나이:20'"
      ]
     },
     "execution_count": 37,
     "metadata": {},
     "output_type": "execute_result"
    }
   ],
   "source": [
    "\"이름:{name}, 나이:{age}\".format(age = 20, name = \"이름\")"
   ]
  },
  {
   "cell_type": "markdown",
   "metadata": {},
   "source": [
    "### 기본값이 있는 매개변수와 기본값이 없는 매개변수 같이 선언 가능\n",
    "- 기본값이 없는 매개변수들을 먼저 선언해야 함.\n",
    "- 기본값이 없는 매개변수는 필수적으로 있어야 일할 수 있는 요소이고\n",
    "- 기본값이 있는 매개변수는 옵션의 개념"
   ]
  },
  {
   "cell_type": "code",
   "execution_count": 38,
   "metadata": {},
   "outputs": [],
   "source": [
    "def print_info3(name,age,tall = None, weight = None):\n",
    "    print(f\"이름:{name}, 나이:{age},키:{tall},몸무게:{weight}\")"
   ]
  },
  {
   "cell_type": "code",
   "execution_count": 39,
   "metadata": {},
   "outputs": [
    {
     "name": "stdout",
     "output_type": "stream",
     "text": [
      "이름:홍길동, 나이:20,키:180,몸무게:None\n"
     ]
    }
   ],
   "source": [
    "print_info3(\"홍길동\",20,180)"
   ]
  },
  {
   "cell_type": "code",
   "execution_count": 42,
   "metadata": {},
   "outputs": [
    {
     "name": "stdout",
     "output_type": "stream",
     "text": [
      "이름:홍길동, 나이:30,키:None,몸무게:None\n"
     ]
    }
   ],
   "source": [
    "print_info3(age = 30,name = \"홍길동\")"
   ]
  },
  {
   "cell_type": "markdown",
   "metadata": {},
   "source": [
    "### 가변인자\n",
    "- def 함수명(*변수명):0~n개의 argument 값들을 튜플로 묶어서 받는다\n",
    "- 관례적으로 변수명은 args."
   ]
  },
  {
   "cell_type": "code",
   "execution_count": 43,
   "metadata": {},
   "outputs": [],
   "source": [
    "# 리스트를 받아 총합계를 구하는 함수\n",
    "def sum_nums(num_list):\n",
    "    print(num_list)"
   ]
  },
  {
   "cell_type": "code",
   "execution_count": 44,
   "metadata": {},
   "outputs": [
    {
     "name": "stdout",
     "output_type": "stream",
     "text": [
      "[1, 2, 3, 4, 5]\n"
     ]
    }
   ],
   "source": [
    "sum_nums([1,2,3,4,5])"
   ]
  },
  {
   "cell_type": "code",
   "execution_count": 56,
   "metadata": {},
   "outputs": [],
   "source": [
    "def sum_nums2(*num_list): #매개변수의 갯수를 정하지 않겠다, 호출시 들어오는 갯수만큼 튜플로 묶어서 처리\n",
    "    print(num_list)\n",
    "    \n",
    "    print(type(num_list))\n",
    "    print(len(num_list))"
   ]
  },
  {
   "cell_type": "code",
   "execution_count": 57,
   "metadata": {},
   "outputs": [
    {
     "name": "stdout",
     "output_type": "stream",
     "text": [
      "(10, 20, 30, 40, 50)\n",
      "<class 'tuple'>\n",
      "5\n"
     ]
    }
   ],
   "source": [
    "nums = [10,20,30,40,50]\n",
    "sum_nums(*nums) # 리스트의 원소들을 풀어서 전달,*없으면 리스트 자체가 하나의 원소로 들어가는 것이고.\n"
   ]
  },
  {
   "cell_type": "code",
   "execution_count": 59,
   "metadata": {},
   "outputs": [
    {
     "name": "stdout",
     "output_type": "stream",
     "text": [
      "([10, 20, 30, 40, 50],)\n",
      "<class 'tuple'>\n",
      "1\n"
     ]
    }
   ],
   "source": [
    "sum_nums2(nums)\n"
   ]
  },
  {
   "cell_type": "code",
   "execution_count": 60,
   "metadata": {},
   "outputs": [
    {
     "name": "stdout",
     "output_type": "stream",
     "text": [
      "()\n",
      "<class 'tuple'>\n",
      "0\n"
     ]
    }
   ],
   "source": [
    "sum_nums2()"
   ]
  },
  {
   "cell_type": "code",
   "execution_count": 61,
   "metadata": {},
   "outputs": [
    {
     "name": "stdout",
     "output_type": "stream",
     "text": [
      "(1, 2, 3)\n",
      "<class 'tuple'>\n",
      "3\n"
     ]
    }
   ],
   "source": [
    "sum_nums2(1,2,3)"
   ]
  },
  {
   "cell_type": "code",
   "execution_count": 62,
   "metadata": {},
   "outputs": [
    {
     "ename": "SyntaxError",
     "evalue": "invalid syntax (<ipython-input-62-0e584d360701>, line 1)",
     "output_type": "error",
     "traceback": [
      "\u001b[1;36m  File \u001b[1;32m\"<ipython-input-62-0e584d360701>\"\u001b[1;36m, line \u001b[1;32m1\u001b[0m\n\u001b[1;33m    - def 함수명(**변수명)\u001b[0m\n\u001b[1;37m      ^\u001b[0m\n\u001b[1;31mSyntaxError\u001b[0m\u001b[1;31m:\u001b[0m invalid syntax\n"
     ]
    }
   ],
   "source": [
    "- def 함수명(**변수명)\n",
    "    - 호출할 때 키워드인자 형태로 전달하고, 가변인수는 이것을 딕셔너리로 처리\n",
    "    - 관례적으로 변수명은 kwargs로 준다"
   ]
  },
  {
   "cell_type": "code",
   "execution_count": 63,
   "metadata": {},
   "outputs": [],
   "source": [
    "def person_info(**info):#info는 딕셔녀리다\n",
    "    print(info)\n",
    "    print(type(info)) #이름, 나이 이런거 받고싶을 때"
   ]
  },
  {
   "cell_type": "code",
   "execution_count": 64,
   "metadata": {},
   "outputs": [
    {
     "name": "stdout",
     "output_type": "stream",
     "text": [
      "{'id': 'id-1', 'pw': '1111', 'name': '김희원'}\n",
      "<class 'dict'>\n"
     ]
    }
   ],
   "source": [
    "d = { \"id\": \"id-1\",\n",
    "    \"pw\":\"1111\",\n",
    "    \"name\":\"김희원\"\n",
    "}\n",
    "person_info(**d) #d라는 딕셔너리를 아리의 형태로 가변인자에 풀어서 넣어줘라는 뜻\n",
    "#person_info(id=\"id-1\",pw=\"1111\", name=\"김희원\") 위에꺼는 이런 형태로 호출하도록 알아서 풀어줘"
   ]
  },
  {
   "cell_type": "code",
   "execution_count": 65,
   "metadata": {},
   "outputs": [
    {
     "name": "stdout",
     "output_type": "stream",
     "text": [
      "{}\n",
      "<class 'dict'>\n"
     ]
    }
   ],
   "source": [
    "person_info()"
   ]
  },
  {
   "cell_type": "code",
   "execution_count": 66,
   "metadata": {},
   "outputs": [
    {
     "name": "stdout",
     "output_type": "stream",
     "text": [
      "{'name': '이순신'}\n",
      "<class 'dict'>\n"
     ]
    }
   ],
   "source": [
    "person_info(name = \"이순신\")"
   ]
  },
  {
   "cell_type": "code",
   "execution_count": 67,
   "metadata": {},
   "outputs": [
    {
     "name": "stdout",
     "output_type": "stream",
     "text": [
      "{'name': '박영희', 'address': '서울', 'age': 20}\n",
      "<class 'dict'>\n"
     ]
    }
   ],
   "source": [
    "person_info(name = \"박영희\", address = \"서울\", age = 20) #d원하는 만큼 키값 너을 수 있어"
   ]
  },
  {
   "cell_type": "markdown",
   "metadata": {},
   "source": [
    "- 하나의 함수 정의당 가변인자는 각각 한개씩만 가능\n",
    "    - *1개짜리, **2개짜리 하나씩은 가능\n",
    "- 가변인자와 일반 매개변수를 같이 선언시 일반 매개변수를 선언해야 함"
   ]
  },
  {
   "cell_type": "code",
   "execution_count": 70,
   "metadata": {},
   "outputs": [],
   "source": [
    "def test(a,b,*args):\n",
    "    print(a,b,args)"
   ]
  },
  {
   "cell_type": "code",
   "execution_count": 71,
   "metadata": {},
   "outputs": [
    {
     "name": "stdout",
     "output_type": "stream",
     "text": [
      "1 2 (3, 4, 5, 6)\n"
     ]
    }
   ],
   "source": [
    "test(1,2,3,4,5,6)"
   ]
  },
  {
   "cell_type": "code",
   "execution_count": 72,
   "metadata": {},
   "outputs": [],
   "source": [
    "def test2(*args, **kwargs):\n",
    "    print(args)\n",
    "    print(kwargs)"
   ]
  },
  {
   "cell_type": "code",
   "execution_count": 74,
   "metadata": {},
   "outputs": [
    {
     "name": "stdout",
     "output_type": "stream",
     "text": [
      "(1, 2, 4, 5)\n",
      "{'name': '이름', 'address': '주소'}\n",
      "None\n"
     ]
    }
   ],
   "source": [
    "i = test2(1,2,4,5, name = \"이름\", address =\"주소\")\n",
    "print(i)"
   ]
  },
  {
   "cell_type": "markdown",
   "metadata": {},
   "source": [
    "### 변수의 유효범위(스코프) "
   ]
  }
 ],
 "metadata": {
  "kernelspec": {
   "display_name": "Python 3",
   "language": "python",
   "name": "python3"
  },
  "language_info": {
   "codemirror_mode": {
    "name": "ipython",
    "version": 3
   },
   "file_extension": ".py",
   "mimetype": "text/x-python",
   "name": "python",
   "nbconvert_exporter": "python",
   "pygments_lexer": "ipython3",
   "version": "3.8.5"
  }
 },
 "nbformat": 4,
 "nbformat_minor": 4
}
