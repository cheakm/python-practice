{
 "cells": [
  {
   "cell_type": "code",
   "execution_count": 1,
   "metadata": {},
   "outputs": [],
   "source": [
    "import numpy as np\n",
    "import matplotlib.pyplot as plt\n",
    "from sklearn.datasets import load_digits"
   ]
  },
  {
   "cell_type": "code",
   "execution_count": 2,
   "metadata": {
    "scrolled": true
   },
   "outputs": [
    {
     "data": {
      "text/plain": [
       "((1797, 64), (1797,))"
      ]
     },
     "execution_count": 2,
     "metadata": {},
     "output_type": "execute_result"
    }
   ],
   "source": [
    "digits = load_digits()\n",
    "X,y = digits['data'], digits['target']\n",
    "X.shape, y.shape"
   ]
  },
  {
   "cell_type": "code",
   "execution_count": 3,
   "metadata": {},
   "outputs": [
    {
     "data": {
      "text/plain": [
       "array([ 0.,  0.,  5., 13.,  9.,  1.,  0.,  0.,  0.,  0., 13., 15., 10.,\n",
       "       15.,  5.,  0.,  0.,  3., 15.,  2.,  0., 11.,  8.,  0.,  0.,  4.,\n",
       "       12.,  0.,  0.,  8.,  8.,  0.,  0.,  5.,  8.,  0.,  0.,  9.,  8.,\n",
       "        0.,  0.,  4., 11.,  0.,  1., 12.,  7.,  0.,  0.,  2., 14.,  5.,\n",
       "       10., 12.,  0.,  0.,  0.,  0.,  6., 13., 10.,  0.,  0.,  0.])"
      ]
     },
     "execution_count": 3,
     "metadata": {},
     "output_type": "execute_result"
    }
   ],
   "source": [
    "X[0]"
   ]
  },
  {
   "cell_type": "code",
   "execution_count": 4,
   "metadata": {},
   "outputs": [],
   "source": [
    "NO0 = X[0].reshape(8,8)"
   ]
  },
  {
   "cell_type": "code",
   "execution_count": 5,
   "metadata": {},
   "outputs": [
    {
     "data": {
      "text/plain": [
       "array([[ 0.,  0.,  5., 13.,  9.,  1.,  0.,  0.],\n",
       "       [ 0.,  0., 13., 15., 10., 15.,  5.,  0.],\n",
       "       [ 0.,  3., 15.,  2.,  0., 11.,  8.,  0.],\n",
       "       [ 0.,  4., 12.,  0.,  0.,  8.,  8.,  0.],\n",
       "       [ 0.,  5.,  8.,  0.,  0.,  9.,  8.,  0.],\n",
       "       [ 0.,  4., 11.,  0.,  1., 12.,  7.,  0.],\n",
       "       [ 0.,  2., 14.,  5., 10., 12.,  0.,  0.],\n",
       "       [ 0.,  0.,  6., 13., 10.,  0.,  0.,  0.]])"
      ]
     },
     "execution_count": 5,
     "metadata": {},
     "output_type": "execute_result"
    }
   ],
   "source": [
    "NO0"
   ]
  },
  {
   "cell_type": "code",
   "execution_count": 6,
   "metadata": {},
   "outputs": [
    {
     "data": {
      "image/png": "[encoded data removed]",
      "text/plain": [
       "<Figure size 432x288 with 1 Axes>"
      ]
     },
     "metadata": {
      "needs_background": "light"
     },
     "output_type": "display_data"
    }
   ],
   "source": [
    "plt.imshow(NO0, cmap = 'Greys')\n",
    "plt.axis('off')\n",
    "plt.title(y[0])\n",
    "plt.show()"
   ]
  },
  {
   "cell_type": "code",
   "execution_count": 7,
   "metadata": {},
   "outputs": [
    {
     "data": {
      "text/plain": [
       "array([0, 1, 2, ..., 8, 9, 8])"
      ]
     },
     "execution_count": 7,
     "metadata": {},
     "output_type": "execute_result"
    }
   ],
   "source": [
    "y"
   ]
  },
  {
   "cell_type": "code",
   "execution_count": 8,
   "metadata": {},
   "outputs": [
    {
     "data": {
      "image/png": "[encoded data removed]",
      "text/plain": [
       "<Figure size 720x720 with 9 Axes>"
      ]
     },
     "metadata": {},
     "output_type": "display_data"
    }
   ],
   "source": [
    "plt.figure(figsize = (10,10))\n",
    "\n",
    "for i in range(9):\n",
    "    plt.subplot(3,3,i+1)\n",
    "    plt.imshow(X[0].reshape(8,8), cmap = 'Blues')\n",
    "    plt.xticks([])\n",
    "    plt.yticks([])\n",
    "    plt.title(y[i], fontdict = {'fontsize':25})\n",
    "    \n",
    "plt.show()"
   ]
  },
  {
   "cell_type": "code",
   "execution_count": 9,
   "metadata": {
    "scrolled": true
   },
   "outputs": [],
   "source": [
    "cnt = np.unique(y, return_counts = True)"
   ]
  },
  {
   "cell_type": "code",
   "execution_count": 10,
   "metadata": {},
   "outputs": [
    {
     "data": {
      "image/png": "[encoded data removed]",
      "text/plain": [
       "<Figure size 432x288 with 1 Axes>"
      ]
     },
     "metadata": {
      "needs_background": "light"
     },
     "output_type": "display_data"
    }
   ],
   "source": [
    "plt.bar(cnt[0],cnt[1])\n",
    "plt.show()"
   ]
  },
  {
   "cell_type": "markdown",
   "metadata": {},
   "source": [
    "### 불균형 데이터셋으로 만들기\n",
    "- y를 9와 나머지로 변경한다. # 9 와 9가 아닌것을 찾게 하고 싶어: 불균형ㄷ\n",
    "- Positive(양성 - 1): 9\n",
    "- Negative(음성 - 0): 0 ~ 8"
   ]
  },
  {
   "cell_type": "code",
   "execution_count": 11,
   "metadata": {},
   "outputs": [
    {
     "data": {
      "text/plain": [
       "(array([False,  True]), array([1617,  180], dtype=int64))"
      ]
     },
     "execution_count": 11,
     "metadata": {},
     "output_type": "execute_result"
    }
   ],
   "source": [
    "y = y==9\n",
    "cnt2 = np.unique(y, return_counts = True)\n",
    "cnt2"
   ]
  },
  {
   "cell_type": "code",
   "execution_count": null,
   "metadata": {},
   "outputs": [],
   "source": []
  },
  {
   "cell_type": "code",
   "execution_count": 12,
   "metadata": {
    "scrolled": true
   },
   "outputs": [
    {
     "data": {
      "image/png": "[encoded data removed]",
      "text/plain": [
       "<Figure size 432x288 with 1 Axes>"
      ]
     },
     "metadata": {
      "needs_background": "light"
     },
     "output_type": "display_data"
    }
   ],
   "source": [
    "plt.bar(cnt2[0], cnt2[1])\n",
    "plt.xticks([0,1], labels = ['neg(0-8)', 'pos(9)'])\n",
    "plt.show()"
   ]
  },
  {
   "cell_type": "code",
   "execution_count": 13,
   "metadata": {},
   "outputs": [],
   "source": [
    "import numpy as np"
   ]
  },
  {
   "cell_type": "code",
   "execution_count": 14,
   "metadata": {},
   "outputs": [
    {
     "name": "stdout",
     "output_type": "stream",
     "text": [
      "[0.89977728 0.10022272]\n",
      "[0.9 0.1]\n"
     ]
    }
   ],
   "source": [
    "from sklearn.model_selection import train_test_split\n",
    "\n",
    "X_train, X_test, y_train, y_test = train_test_split(X,y, stratify= y)\n",
    "print(np.unique(y_train, return_counts = True)[1]/y_train.size)\n",
    "\n",
    "print(np.unique(y_test, return_counts = True)[1]/y_test.size)"
   ]
  },
  {
   "cell_type": "code",
   "execution_count": 15,
   "metadata": {},
   "outputs": [
    {
     "data": {
      "text/plain": [
       "(array([False,  True]), array([1212,  135], dtype=int64))"
      ]
     },
     "execution_count": 15,
     "metadata": {},
     "output_type": "execute_result"
    }
   ],
   "source": [
    "np.unique(y_train, return_counts = True)"
   ]
  },
  {
   "cell_type": "code",
   "execution_count": 16,
   "metadata": {},
   "outputs": [],
   "source": [
    "from sklearn.base import BaseEstimator\n",
    "class MyModel(BaseEstimator):\n",
    "    def fit(self, X, y1):\n",
    "        cnt = np.unique(y1, return_counts = True)\n",
    "        max_idx = cnt[1].argmax()\n",
    "        self.pred = cnt[0][max_idx]\n",
    "        \n",
    "    def predict(self, X):\n",
    "        return np.full(shape=(X.shape[0], 1), fill_value = self.pred)"
   ]
  },
  {
   "cell_type": "code",
   "execution_count": 17,
   "metadata": {},
   "outputs": [],
   "source": [
    "model = MyModel()\n",
    "model.fit(X_train, y_train)\n",
    "pred_train = model.predict(X_train)\n",
    "pred_test = model.predict(X_test)"
   ]
  },
  {
   "cell_type": "code",
   "execution_count": 18,
   "metadata": {},
   "outputs": [
    {
     "data": {
      "text/plain": [
       "(0.8997772828507795, 0.9)"
      ]
     },
     "execution_count": 18,
     "metadata": {},
     "output_type": "execute_result"
    }
   ],
   "source": [
    "from sklearn.metrics import accuracy_score\n",
    "accuracy_score(y_train, pred_train), accuracy_score(y_test, pred_test)"
   ]
  },
  {
   "cell_type": "code",
   "execution_count": 19,
   "metadata": {},
   "outputs": [
    {
     "data": {
      "text/plain": [
       "0.1018363939899833"
      ]
     },
     "execution_count": 19,
     "metadata": {},
     "output_type": "execute_result"
    }
   ],
   "source": [
    "model = MyModel()\n",
    "model.fit(X, digits['target'])\n",
    "pred_X = model.predict(X)\n",
    "accuracy_score(digits['target'], pred_X)"
   ]
  },
  {
   "cell_type": "code",
   "execution_count": 20,
   "metadata": {},
   "outputs": [
    {
     "data": {
      "text/plain": [
       "array([3])"
      ]
     },
     "execution_count": 20,
     "metadata": {},
     "output_type": "execute_result"
    }
   ],
   "source": [
    "np.unique(pred_X)"
   ]
  },
  {
   "cell_type": "code",
   "execution_count": 21,
   "metadata": {},
   "outputs": [
    {
     "data": {
      "text/plain": [
       "array([[ 0.,  0.,  5., ...,  0.,  0.,  0.],\n",
       "       [ 0.,  0.,  0., ..., 10.,  0.,  0.],\n",
       "       [ 0.,  0.,  0., ..., 16.,  9.,  0.],\n",
       "       ...,\n",
       "       [ 0.,  0.,  1., ...,  6.,  0.,  0.],\n",
       "       [ 0.,  0.,  2., ..., 12.,  0.,  0.],\n",
       "       [ 0.,  0., 10., ..., 12.,  1.,  0.]])"
      ]
     },
     "execution_count": 21,
     "metadata": {},
     "output_type": "execute_result"
    }
   ],
   "source": [
    "X"
   ]
  },
  {
   "cell_type": "code",
   "execution_count": 22,
   "metadata": {},
   "outputs": [
    {
     "name": "stdout",
     "output_type": "stream",
     "text": [
      "0.8997772828507795\n",
      "0.9\n"
     ]
    }
   ],
   "source": [
    "from sklearn.metrics import accuracy_score\n",
    "print(accuracy_score(y_train, pred_train))\n",
    "print(accuracy_score(y_test, pred_test))"
   ]
  },
  {
   "cell_type": "code",
   "execution_count": 23,
   "metadata": {},
   "outputs": [
    {
     "data": {
      "text/plain": [
       "0.1018363939899833"
      ]
     },
     "execution_count": 23,
     "metadata": {},
     "output_type": "execute_result"
    }
   ],
   "source": [
    "accuracy_score(digits['target'], pred_X)"
   ]
  },
  {
   "cell_type": "markdown",
   "metadata": {},
   "source": [
    "## 이진 분류 평가점수\n",
    "- ### Accuracy (정확도) \n",
    "    - 전체 데이터 중에 맞게 예측한 것의 비율\n",
    "- ### Recall/Sensitivity(재현율/민감도) : 양성이 중심\n",
    "    - 실제 Positive(양성)인 것 중에 Positive(양성)로 예측 한 것의 비율\n",
    "    - **TPR**(True Positive Rate) 이라고도 한다.\n",
    "    - ex) 스팸 메일 중 스팸메일로 예측한 비율. 금융사기 데이터 중 사기로 예측한 비율\n",
    "- ### Precision(정밀도) : 양성이 중심\n",
    "    - Positive(양성)으로 예측 한 것 중 실제 Positive(양성)인 비율\n",
    "    - **PPV**(Positive Predictive Value) 라고도 한다.\n",
    "    - ex) 스팸메일로 예측한 것 중 스팸메일의 비율. 금융 사기로 예측한 것 중 금융사기인 것의 비율\n",
    "\n",
    "- ### F1 점수 : 둘다 어느정도 높아야 FI점수가 높음(리콜과 프리션은 서로 TRADE OFF 관계)\n",
    "    - 정밀도와 재현율의 조화평균 점수\n",
    "    - recall과 precision이 비슷할 수록 높은 값을 가지게 된다. F1 score가 높다는 것은 recall과 precision이 한쪽으로 치우쳐저 있이 않고 둘다 좋다고 판단할 수 있는 근거가 된다.\n",
    "    \n",
    "### 기타 : 양성을 찾는 것이 중요해서(모델을 이용해 찾고싶은 것) 따라서 음성에 관한 지표가 기타\n",
    "- ### Specificity(특이도): recall의 음성버전-> 음성인데 음성으로 잘 맞춘게 뭐냐\n",
    "    - 실제 Negative(음성)인 것들 중 Negative(음성)으로 맞게 예측 한 것의 비율\n",
    "    - TNR(True Negative Rate) 라고도 한다.\n",
    "- ### Fall out(위양성률) : 음성인데 틀리게 예측한건 몇개냐\n",
    "    - 실제 Negative(음성)인 것들 중 Positive(양성)으로 잘못 예측한 것의 비율. `1 - 특이도`\n",
    "    - **FPR** (False Positive Rate) 라고도 한다.\n",
    "    - $ Fall-Out(FPF) = \\cfrac{FP}{TN+FP}$`mm"
   ]
  },
  {
   "cell_type": "markdown",
   "metadata": {},
   "source": [
    "###   Dummy 모델 혼동행렬\n",
    "> plot_confusion_matrix함수: 버전 2.1.3에서 추가됨. 없다고 에러나는 경우 업데이트 필요 `pip install scikit-learn --upgrade`"
   ]
  },
  {
   "cell_type": "code",
   "execution_count": 24,
   "metadata": {},
   "outputs": [],
   "source": [
    "from sklearn.metrics import confusion_matrix, plot_confusion_matrix, recall_score, precision_score, f1_score, accuracy_score"
   ]
  },
  {
   "cell_type": "code",
   "execution_count": 25,
   "metadata": {},
   "outputs": [
    {
     "name": "stdout",
     "output_type": "stream",
     "text": [
      "train confusion matrix\n",
      "[[1212    0]\n",
      " [ 135    0]]\n",
      "test confusion matrix\n",
      "[[405   0]\n",
      " [ 45   0]]\n"
     ]
    }
   ],
   "source": [
    "print('train confusion matrix')\n",
    "print(confusion_matrix(y_train, pred_train))\n",
    "print('test confusion matrix')\n",
    "print(confusion_matrix(y_test, pred_test))"
   ]
  },
  {
   "cell_type": "code",
   "execution_count": 26,
   "metadata": {},
   "outputs": [
    {
     "data": {
      "text/plain": [
       "DummyClassifier(strategy='most_frequent')"
      ]
     },
     "execution_count": 26,
     "metadata": {},
     "output_type": "execute_result"
    }
   ],
   "source": [
    "from sklearn.dummy import DummyClassifier\n",
    "\n",
    "dummy_model = DummyClassifier(strategy = 'most_frequent')\n",
    "dummy_model.fit(X_train,y_train)"
   ]
  },
  {
   "cell_type": "code",
   "execution_count": 27,
   "metadata": {},
   "outputs": [
    {
     "data": {
      "image/png": "[encoded data removed]",
      "text/plain": [
       "<Figure size 504x504 with 2 Axes>"
      ]
     },
     "metadata": {
      "needs_background": "light"
     },
     "output_type": "display_data"
    }
   ],
   "source": [
    "fig,ax = plt.subplots(1,1, figsize = (7,7))\n",
    "\n",
    "plot_confusion_matrix(dummy_model, X_train, y_train, display_labels = ['Neg','Pos'],\n",
    "                    cmap = 'Blues', ax = ax)\n",
    "\n",
    "plt.show()"
   ]
  },
  {
   "cell_type": "code",
   "execution_count": 28,
   "metadata": {},
   "outputs": [
    {
     "name": "stdout",
     "output_type": "stream",
     "text": [
      "accuracy\n"
     ]
    },
    {
     "data": {
      "text/plain": [
       "(0.8997772828507795, 0.9)"
      ]
     },
     "execution_count": 28,
     "metadata": {},
     "output_type": "execute_result"
    }
   ],
   "source": [
    "print('accuracy')\n",
    "accuracy_score(y_train, pred_train), accuracy_score(y_test, pred_test)"
   ]
  },
  {
   "cell_type": "code",
   "execution_count": 29,
   "metadata": {},
   "outputs": [
    {
     "name": "stdout",
     "output_type": "stream",
     "text": [
      "recall\n"
     ]
    },
    {
     "data": {
      "text/plain": [
       "(0.0, 0.0)"
      ]
     },
     "execution_count": 29,
     "metadata": {},
     "output_type": "execute_result"
    }
   ],
   "source": [
    "print('recall')\n",
    "recall_score(y_train, pred_train), recall_score(y_test, pred_test)"
   ]
  },
  {
   "cell_type": "code",
   "execution_count": 30,
   "metadata": {},
   "outputs": [
    {
     "name": "stdout",
     "output_type": "stream",
     "text": [
      "precision\n"
     ]
    },
    {
     "name": "stderr",
     "output_type": "stream",
     "text": [
      "C:\\Users\\Playdata\\anaconda3\\lib\\site-packages\\sklearn\\metrics\\_classification.py:1221: UndefinedMetricWarning: Precision is ill-defined and being set to 0.0 due to no predicted samples. Use `zero_division` parameter to control this behavior.\n",
      "  _warn_prf(average, modifier, msg_start, len(result))\n"
     ]
    },
    {
     "data": {
      "text/plain": [
       "(0.0, 0.0)"
      ]
     },
     "execution_count": 30,
     "metadata": {},
     "output_type": "execute_result"
    }
   ],
   "source": [
    "print('precision')\n",
    "precision_score(y_train, pred_train), precision_score(y_test, pred_test)"
   ]
  },
  {
   "cell_type": "code",
   "execution_count": 31,
   "metadata": {},
   "outputs": [
    {
     "name": "stdout",
     "output_type": "stream",
     "text": [
      "f1 _score\n"
     ]
    },
    {
     "data": {
      "text/plain": [
       "(0.0, 0.0)"
      ]
     },
     "execution_count": 31,
     "metadata": {},
     "output_type": "execute_result"
    }
   ],
   "source": [
    "print('f1 _score')\n",
    "\n",
    "f1_score(y_train, pred_train), f1_score(y_test, pred_test)"
   ]
  },
  {
   "cell_type": "code",
   "execution_count": 74,
   "metadata": {},
   "outputs": [],
   "source": [
    "### 머신러닝 모델을 이용해 학습\n",
    "from sklearn.tree import DecisionTreeClassifier\n",
    "from sklearn.ensemble import RandomForestClassifier\n",
    "\n",
    "tree = DecisionTreeClassifier(max_depth = 3)\n",
    "rf = RandomForestClassifier(n_estimators = 200)\n",
    "\n",
    "tree.fit(X_train, y_train)\n",
    "rf.fit(X_train, y_train)\n",
    "\n",
    "pred_train_tree = tree.predict(X_train)\n",
    "pred_test_tree = tree.predict(X_test)\n",
    "pred_train_rf = rf.predict(X_train)\n",
    "pred_test_rf = rf.predict(X_test)"
   ]
  },
  {
   "cell_type": "code",
   "execution_count": 75,
   "metadata": {},
   "outputs": [
    {
     "name": "stdout",
     "output_type": "stream",
     "text": [
      "[[1171   41]\n",
      " [  23  112]]\n",
      "[[391  14]\n",
      " [ 10  35]]\n"
     ]
    }
   ],
   "source": [
    "print(confusion_matrix(y_train, pred_train_tree))\n",
    "print(confusion_matrix(y_test, pred_test_tree))"
   ]
  },
  {
   "cell_type": "code",
   "execution_count": 59,
   "metadata": {},
   "outputs": [
    {
     "name": "stdout",
     "output_type": "stream",
     "text": [
      "[[1212    0]\n",
      " [   0  135]]\n",
      "[[405   0]\n",
      " [ 12  33]]\n"
     ]
    }
   ],
   "source": [
    "print(confusion_matrix(y_train, pred_train_rf))\n",
    "print(confusion_matrix(y_test, pred_test_rf))"
   ]
  },
  {
   "cell_type": "code",
   "execution_count": 60,
   "metadata": {},
   "outputs": [
    {
     "data": {
      "text/plain": [
       "(0.9466666666666667,\n",
       " 0.7777777777777778,\n",
       " 0.7142857142857143,\n",
       " 0.7446808510638298)"
      ]
     },
     "execution_count": 60,
     "metadata": {},
     "output_type": "execute_result"
    }
   ],
   "source": [
    "accuracy_score(y_test, pred_test_tree), recall_score(y_test, pred_test_tree), precision_score(y_test, pred_test_tree), f1_score(y_test, pred_test_tree)"
   ]
  },
  {
   "cell_type": "code",
   "execution_count": 61,
   "metadata": {},
   "outputs": [
    {
     "name": "stdout",
     "output_type": "stream",
     "text": [
      "randomforest 모델 평가지표\n"
     ]
    }
   ],
   "source": [
    "print('randomforest 모델 평가지표')"
   ]
  },
  {
   "cell_type": "code",
   "execution_count": 62,
   "metadata": {},
   "outputs": [
    {
     "data": {
      "text/plain": [
       "(0.9733333333333334, 0.7333333333333333, 1.0, 0.846153846153846)"
      ]
     },
     "execution_count": 62,
     "metadata": {},
     "output_type": "execute_result"
    }
   ],
   "source": [
    "accuracy_score(y_test, pred_test_rf), recall_score(y_test, pred_test_rf), precision_score(y_test, pred_test_rf), f1_score(y_test, pred_test_rf)"
   ]
  },
  {
   "cell_type": "code",
   "execution_count": 63,
   "metadata": {
    "scrolled": true
   },
   "outputs": [
    {
     "name": "stdout",
     "output_type": "stream",
     "text": [
      "              precision    recall  f1-score   support\n",
      "\n",
      "       False       0.97      1.00      0.99       405\n",
      "        True       1.00      0.73      0.85        45\n",
      "\n",
      "    accuracy                           0.97       450\n",
      "   macro avg       0.99      0.87      0.92       450\n",
      "weighted avg       0.97      0.97      0.97       450\n",
      "\n"
     ]
    }
   ],
   "source": [
    "### classification_report()\n",
    "\n",
    "from sklearn.metrics import classification_report\n",
    "result = classification_report(y_test, pred_test_rf) #target_names = ['not9', '9'])\n",
    "print(result)"
   ]
  },
  {
   "cell_type": "markdown",
   "metadata": {},
   "source": [
    "## 재현율과 정밀도의 관계"
   ]
  },
  {
   "cell_type": "markdown",
   "metadata": {},
   "source": [
    "**이진 분류의 경우 Precision(정밀도)가 중요한 경우와 Recall(재현율) 중요한 업무가 있다.**\n",
    "\n",
    "#### 재현율이 더 중요한 경우 :실제 Positive(양성)인 것 중에 Positive(양성)로 예측 한 것의 비율\n",
    "- 실제 Positive 데이터를 Negative 로 잘못 판단하면 업무상 큰 영향이 있는 경우. \n",
    "- FN(False Negative)를 낮추는데 촛점을 맞춘다.\n",
    "- 암환자 판정 모델, 보험사기적발 모델 ->파지티브를 틸리면 안돼!! 암환자를 놓치는 것\n",
    "- 재현율을 높이기 위해 : 예를들어 사기인지 아닌지 아리까리해 평소에 쓰던것보다 많이쓴것 같긴한데 엄청쓴건 아니야 -> 이때 사기로 판단. 아리까리하면 POSITIVE로 하자\n",
    "    - 전체 모두를 POSITIVE로 예측해버리면 재현율 1로 올라가(정확도는 떨어지지만)\n",
    "    - 공식을 보면 FN이 낮아져야 재현율 상승 네가티브로 예측했는데 틀린것이니까 POSITIVE로 에측하면 되지\n",
    "\n",
    "\n",
    "#### 정밀도가 더 중요한 경우 Positive(양성)으로 예측 한 것 중 실제 Positive(양성)인 비율\n",
    "- 실제 Negative 데이터를 Positive 로 잘못 판단하면 업무상 큰 영향이 있는 경우.\n",
    "- FP(False Positive)를 낮추는데 초점을 맞춘다.\n",
    "- 스팸메일 판정 - 스팸이 P, 정상메일이 N인데 정상메일을 스팸으로 예측하면 안돼\n",
    "- 아리까리하면 NEGATIVE로 해라, 그러면 정밀도가 올라가\n",
    "    - 공식으로 하면  FP가 낮아져야, 즉 포시티브로 잘못 예측한게 작아져야 하니까 POSITIVE로 예측하지마\n",
    "\n",
    "\n",
    "#### 재현율(RECALL)과 정밀도는 상충관계"
   ]
  },
  {
   "cell_type": "markdown",
   "metadata": {},
   "source": [
    "## 임계값(Threshold) 변경을 통한 재현율, 정밀도 변환\n",
    "- 임계값 : 모델이 분류의 답을 결정할 때 기준값\n",
    "- 정밀도나 재현율을 특히 강조해야 하는 상황일 경우 임계값 변경을 통해 평가 수치를 올릴 수있다.\n",
    "- 단 극단적으로 임계점을 올리나가 낮춰서 한쪽의 점수를 높이면 안된다. (ex: 암환자 예측시 재현율을 너무 높이면 정밀도가 낮아져 걸핏하면 정상인을 암환자로 예측하게 된다.)\n",
    "    \n",
    "### 임계값 변경에 따른  정밀도와 재현율 변화관계\n",
    "- 임계값을 높이면 양성으로 예측하는 기준을 높여서(엄격히 해서) 음성으로 예측되는 샘플이 많아 진다. 그래서 정밀도는 높아지고 재현율은 낮아진다.\n",
    "- 임계값을 낮추면 양성으로 예측하는 기준이 낮아져서 양성으로 예측되는 샘플이 많아 진다. 그래서 재현율은 높아지고 정밀도는 낮아진다.\n",
    "    - **임계값을 낮추면 재현율은 올라가고 정밀도는 낮아진다.**\n",
    "    - **임계값을 높이면 재현율은 낮아지고 정밀도는 올라간다.**\n",
    "- 임계값을 변화시켰을때 **재현율과 정밀도는 음의 상관관계를 가진다.**\n",
    "- 임계값을 변화시켰을때 재현율과 위양성율(Fall-Out/FPR)은 양의 상관관계를 가진다.\n"
   ]
  },
  {
   "cell_type": "code",
   "execution_count": 64,
   "metadata": {},
   "outputs": [
    {
     "data": {
      "text/plain": [
       "array([False, False, False])"
      ]
     },
     "execution_count": 64,
     "metadata": {},
     "output_type": "execute_result"
    }
   ],
   "source": [
    "p = tree.predict(X_test[:3])\n",
    "p"
   ]
  },
  {
   "cell_type": "code",
   "execution_count": 65,
   "metadata": {},
   "outputs": [
    {
     "data": {
      "text/plain": [
       "array([[0.99156627, 0.00843373],\n",
       "       [0.99156627, 0.00843373],\n",
       "       [0.99156627, 0.00843373],\n",
       "       [0.99156627, 0.00843373],\n",
       "       [0.99156627, 0.00843373]])"
      ]
     },
     "execution_count": 65,
     "metadata": {},
     "output_type": "execute_result"
    }
   ],
   "source": [
    "p = tree.predict_proba(X_test[:5])\n",
    "p"
   ]
  },
  {
   "cell_type": "code",
   "execution_count": 66,
   "metadata": {},
   "outputs": [
    {
     "data": {
      "text/plain": [
       "array([[ 0.,  0.,  5., ...,  2.,  0.,  0.],\n",
       "       [ 0.,  1., 15., ...,  1.,  0.,  0.],\n",
       "       [ 0.,  0.,  0., ..., 11.,  2.,  0.],\n",
       "       ...,\n",
       "       [ 0.,  0.,  0., ...,  0.,  0.,  0.],\n",
       "       [ 0.,  2., 11., ..., 14.,  2.,  0.],\n",
       "       [ 0.,  0.,  2., ..., 10.,  0.,  0.]])"
      ]
     },
     "execution_count": 66,
     "metadata": {},
     "output_type": "execute_result"
    }
   ],
   "source": [
    "X_test"
   ]
  },
  {
   "cell_type": "code",
   "execution_count": 67,
   "metadata": {},
   "outputs": [],
   "source": [
    "# 임계값 변화에 다른 recall precision 변화 해보기임계값 변화에 다른 recall precision 변화 해보기"
   ]
  },
  {
   "cell_type": "code",
   "execution_count": 68,
   "metadata": {},
   "outputs": [
    {
     "data": {
      "text/plain": [
       "((8,), (8,), (7,))"
      ]
     },
     "execution_count": 68,
     "metadata": {},
     "output_type": "execute_result"
    }
   ],
   "source": [
    "from sklearn.metrics import precision_recall_curve\n",
    "pos_proba = tree.predict_proba(X_test)[:,1]\n",
    "precisions, recalls, thresholds = precision_recall_curve(y_test, pos_proba)\n",
    "precisions.shape, recalls.shape, thresholds.shape"
   ]
  },
  {
   "cell_type": "code",
   "execution_count": 69,
   "metadata": {
    "scrolled": true
   },
   "outputs": [
    {
     "data": {
      "text/plain": [
       "array([0.00843373, 0.00843373, 0.00843373, 0.00843373, 0.00843373,\n",
       "       0.0297619 , 0.00843373, 0.00843373, 0.00843373, 0.00843373,\n",
       "       0.00843373, 0.00843373, 0.03846154, 0.00843373, 0.00843373,\n",
       "       0.00843373, 0.00843373, 0.00843373, 0.00843373, 0.77165354,\n",
       "       0.00843373, 0.00843373, 0.00843373, 0.0297619 , 0.02173913,\n",
       "       0.00843373, 0.00843373, 0.00843373, 0.00843373, 0.77165354,\n",
       "       0.00843373, 0.77165354, 0.00843373, 0.00843373, 0.07258065,\n",
       "       0.00843373, 0.00843373, 0.00843373, 0.77165354, 0.00843373,\n",
       "       0.00843373, 0.00843373, 0.00843373, 0.00843373, 0.02173913,\n",
       "       0.0297619 , 0.07258065, 0.00843373, 0.00843373, 0.00843373,\n",
       "       0.00843373, 0.00843373, 0.07258065, 0.00843373, 0.00843373,\n",
       "       0.0297619 , 0.00843373, 0.0297619 , 0.00843373, 0.00843373,\n",
       "       0.00843373, 0.00843373, 0.00843373, 0.03846154, 0.00843373,\n",
       "       0.00843373, 0.07258065, 0.00843373, 0.00843373, 0.00843373,\n",
       "       0.03846154, 0.00843373, 0.00843373, 0.52      , 0.07258065,\n",
       "       0.0297619 , 0.00843373, 0.77165354, 0.07258065, 0.00843373,\n",
       "       0.00843373, 0.07258065, 0.0297619 , 0.00843373, 0.0297619 ,\n",
       "       0.00843373, 0.00843373, 0.07258065, 0.07258065, 0.77165354,\n",
       "       0.0297619 , 0.00843373, 0.52      , 0.00843373, 0.00843373,\n",
       "       0.00843373, 0.02173913, 0.0297619 , 0.03846154, 0.00843373,\n",
       "       0.00843373, 0.00843373, 0.00843373, 0.07258065, 0.00843373,\n",
       "       0.0297619 , 0.07258065, 0.07258065, 0.00843373, 0.77165354,\n",
       "       0.00843373, 0.00843373, 0.00843373, 0.03846154, 0.07258065,\n",
       "       0.00843373, 0.07258065, 0.77165354, 0.77165354, 0.77165354,\n",
       "       0.00843373, 0.0297619 , 0.77165354, 0.02173913, 0.0297619 ,\n",
       "       0.00843373, 0.0297619 , 0.00843373, 0.00843373, 0.07258065,\n",
       "       0.00843373, 0.00843373, 0.00843373, 0.00843373, 0.52      ,\n",
       "       0.00843373, 0.02173913, 0.00843373, 0.00843373, 0.07258065,\n",
       "       0.00843373, 0.00843373, 0.77165354, 0.00843373, 0.00843373,\n",
       "       0.0297619 , 0.02173913, 0.00843373, 0.00843373, 0.00843373,\n",
       "       0.00843373, 0.00843373, 0.00843373, 0.00843373, 0.00843373,\n",
       "       0.00843373, 0.00843373, 0.00843373, 0.77165354, 0.00843373,\n",
       "       0.77165354, 0.00843373, 0.77165354, 0.03846154, 0.00843373,\n",
       "       0.00843373, 0.00843373, 0.00843373, 0.00843373, 0.00843373,\n",
       "       0.00843373, 0.02173913, 0.07258065, 0.00843373, 0.00843373,\n",
       "       0.0297619 , 0.00843373, 0.00843373, 0.00843373, 0.0297619 ,\n",
       "       0.00843373, 0.00843373, 0.0297619 , 0.00843373, 0.07258065,\n",
       "       0.00843373, 0.07258065, 0.00843373, 0.77165354, 0.00843373,\n",
       "       0.07258065, 0.00843373, 0.0297619 , 0.77165354, 0.00843373,\n",
       "       0.00843373, 0.00843373, 0.00843373, 0.07258065, 0.02173913,\n",
       "       0.00843373, 0.0297619 , 0.00843373, 0.02173913, 0.00843373,\n",
       "       0.00843373, 0.00843373, 0.07258065, 0.0297619 , 0.0297619 ,\n",
       "       0.00843373, 0.0297619 , 0.00843373, 0.00843373, 0.00843373,\n",
       "       0.00843373, 0.00843373, 0.0297619 , 0.03846154, 0.0297619 ,\n",
       "       0.00843373, 0.77165354, 0.00843373, 0.00843373, 0.0297619 ,\n",
       "       0.00843373, 0.77165354, 0.00843373, 0.02173913, 0.07258065,\n",
       "       0.00843373, 0.07258065, 0.07258065, 0.00843373, 0.00843373,\n",
       "       0.00843373, 0.77165354, 0.00843373, 0.07258065, 0.00843373,\n",
       "       0.77165354, 0.00843373, 0.0297619 , 0.00843373, 0.00843373,\n",
       "       0.77165354, 0.07258065, 0.0297619 , 0.0297619 , 0.07258065,\n",
       "       0.00843373, 0.00843373, 0.07258065, 0.00843373, 0.00843373,\n",
       "       0.03846154, 0.00843373, 0.0297619 , 0.00843373, 0.00843373,\n",
       "       0.07258065, 0.00843373, 0.02173913, 0.0297619 , 0.0297619 ,\n",
       "       0.00843373, 0.00843373, 0.00843373, 0.00843373, 0.00843373,\n",
       "       0.02173913, 0.03846154, 0.00843373, 0.00843373, 0.0297619 ,\n",
       "       0.00843373, 0.00843373, 0.52      , 0.00843373, 0.00843373,\n",
       "       0.00843373, 0.00843373, 0.00843373, 0.07258065, 0.00843373,\n",
       "       0.77165354, 0.00843373, 0.00843373, 0.0297619 , 0.00843373,\n",
       "       0.77165354, 0.00843373, 0.00843373, 0.00843373, 0.00843373,\n",
       "       0.00843373, 0.00843373, 0.00843373, 0.00843373, 0.00843373,\n",
       "       0.07258065, 0.07258065, 0.00843373, 0.00843373, 0.0297619 ,\n",
       "       0.77165354, 0.77165354, 0.00843373, 0.00843373, 0.07258065,\n",
       "       0.52      , 0.07258065, 0.00843373, 0.0297619 , 0.00843373,\n",
       "       0.00843373, 0.00843373, 0.00843373, 0.02173913, 0.00843373,\n",
       "       0.77165354, 0.00843373, 0.52      , 0.00843373, 0.00843373,\n",
       "       0.00843373, 0.77165354, 0.00843373, 0.00843373, 0.0297619 ,\n",
       "       0.02173913, 0.00843373, 0.77165354, 0.00843373, 0.00843373,\n",
       "       0.00843373, 0.00843373, 0.00843373, 0.00843373, 0.00843373,\n",
       "       0.77165354, 0.00843373, 0.77165354, 0.00843373, 0.03846154,\n",
       "       0.07258065, 0.00843373, 0.00843373, 0.00843373, 0.00843373,\n",
       "       0.00843373, 0.00843373, 0.00843373, 0.00843373, 0.00843373,\n",
       "       0.00843373, 0.0297619 , 0.00843373, 0.00843373, 0.07258065,\n",
       "       0.0297619 , 0.00843373, 0.00843373, 0.00843373, 0.0297619 ,\n",
       "       0.00843373, 0.77165354, 0.00843373, 0.00843373, 0.00843373,\n",
       "       0.00843373, 0.77165354, 0.00843373, 0.00843373, 0.00843373,\n",
       "       0.03846154, 0.00843373, 0.07258065, 0.00843373, 0.00843373,\n",
       "       0.00843373, 0.00843373, 0.77165354, 0.00843373, 0.00843373,\n",
       "       0.00843373, 0.00843373, 0.0297619 , 0.00843373, 0.00843373,\n",
       "       0.00843373, 0.00843373, 0.0297619 , 0.77165354, 0.00843373,\n",
       "       0.00843373, 0.07258065, 0.77165354, 0.00843373, 0.77165354,\n",
       "       0.0297619 , 0.00843373, 0.00843373, 0.00843373, 0.00843373,\n",
       "       0.00843373, 0.77165354, 0.02173913, 0.0297619 , 0.0297619 ,\n",
       "       0.00843373, 0.00843373, 0.00843373, 0.00843373, 0.00843373,\n",
       "       0.07258065, 0.0297619 , 0.52      , 0.0297619 , 0.00843373,\n",
       "       0.07258065, 0.0297619 , 0.07258065, 0.0297619 , 0.00843373,\n",
       "       0.03846154, 0.00843373, 0.00843373, 0.00843373, 0.00843373,\n",
       "       0.00843373, 0.77165354, 0.00843373, 0.77165354, 0.00843373,\n",
       "       0.00843373, 0.00843373, 0.77165354, 0.00843373, 0.00843373,\n",
       "       0.0297619 , 0.00843373, 0.0297619 , 0.77165354, 0.00843373,\n",
       "       0.02173913, 0.00843373, 0.00843373, 0.07258065, 0.00843373])"
      ]
     },
     "execution_count": 69,
     "metadata": {},
     "output_type": "execute_result"
    }
   ],
   "source": [
    "tree.predict_proba(X_test)[:,1]"
   ]
  },
  {
   "cell_type": "code",
   "execution_count": 50,
   "metadata": {},
   "outputs": [
    {
     "data": {
      "text/html": [
       "<div>\n",
       "<style scoped>\n",
       "    .dataframe tbody tr th:only-of-type {\n",
       "        vertical-align: middle;\n",
       "    }\n",
       "\n",
       "    .dataframe tbody tr th {\n",
       "        vertical-align: top;\n",
       "    }\n",
       "\n",
       "    .dataframe thead th {\n",
       "        text-align: right;\n",
       "    }\n",
       "</style>\n",
       "<table border=\"1\" class=\"dataframe\">\n",
       "  <thead>\n",
       "    <tr style=\"text-align: right;\">\n",
       "      <th></th>\n",
       "      <th>threshold</th>\n",
       "      <th>precision</th>\n",
       "      <th>recall</th>\n",
       "    </tr>\n",
       "  </thead>\n",
       "  <tbody>\n",
       "    <tr>\n",
       "      <th>0</th>\n",
       "      <td>0.008434</td>\n",
       "      <td>0.100000</td>\n",
       "      <td>1.000000</td>\n",
       "    </tr>\n",
       "    <tr>\n",
       "      <th>1</th>\n",
       "      <td>0.021739</td>\n",
       "      <td>0.233918</td>\n",
       "      <td>0.888889</td>\n",
       "    </tr>\n",
       "    <tr>\n",
       "      <th>2</th>\n",
       "      <td>0.029762</td>\n",
       "      <td>0.251613</td>\n",
       "      <td>0.866667</td>\n",
       "    </tr>\n",
       "    <tr>\n",
       "      <th>3</th>\n",
       "      <td>0.038462</td>\n",
       "      <td>0.365385</td>\n",
       "      <td>0.844444</td>\n",
       "    </tr>\n",
       "    <tr>\n",
       "      <th>4</th>\n",
       "      <td>0.072581</td>\n",
       "      <td>0.413043</td>\n",
       "      <td>0.844444</td>\n",
       "    </tr>\n",
       "    <tr>\n",
       "      <th>5</th>\n",
       "      <td>0.520000</td>\n",
       "      <td>0.714286</td>\n",
       "      <td>0.777778</td>\n",
       "    </tr>\n",
       "    <tr>\n",
       "      <th>6</th>\n",
       "      <td>0.771654</td>\n",
       "      <td>0.738095</td>\n",
       "      <td>0.688889</td>\n",
       "    </tr>\n",
       "  </tbody>\n",
       "</table>\n",
       "</div>"
      ],
      "text/plain": [
       "   threshold  precision    recall\n",
       "0   0.008434   0.100000  1.000000\n",
       "1   0.021739   0.233918  0.888889\n",
       "2   0.029762   0.251613  0.866667\n",
       "3   0.038462   0.365385  0.844444\n",
       "4   0.072581   0.413043  0.844444\n",
       "5   0.520000   0.714286  0.777778\n",
       "6   0.771654   0.738095  0.688889"
      ]
     },
     "execution_count": 50,
     "metadata": {},
     "output_type": "execute_result"
    }
   ],
   "source": [
    "import pandas as pd\n",
    "pd.DataFrame({\n",
    "    'threshold':thresholds,\n",
    "    'precision':precisions[:-1],\n",
    "    'recall':recalls[:-1]\n",
    "})"
   ]
  },
  {
   "cell_type": "code",
   "execution_count": 51,
   "metadata": {
    "collapsed": true
   },
   "outputs": [
    {
     "data": {
      "image/png": "[encoded data removed]",
      "text/plain": [
       "<Figure size 720x720 with 1 Axes>"
      ]
     },
     "metadata": {
      "needs_background": "light"
     },
     "output_type": "display_data"
    }
   ],
   "source": [
    "plt.figure(figsize=(10,10))\n",
    "plt.plot(thresholds, precisions[:-1], label = 'precision')\n",
    "plt.plot(thresholds, recalls[:-1], label = 'recall')\n",
    "\n",
    "plt.legend()\n",
    "plt.grid(True)\n",
    "plt.show()"
   ]
  },
  {
   "cell_type": "markdown",
   "metadata": {},
   "source": [
    "### Binarizer - 임계값 변경\n",
    "- Transformer로 양성 여부를 선택하는 임계값을 변경할 수 있다."
   ]
  },
  {
   "cell_type": "code",
   "execution_count": 77,
   "metadata": {},
   "outputs": [
    {
     "data": {
      "text/plain": [
       "array([[0., 0., 0., 0., 0.]])"
      ]
     },
     "execution_count": 77,
     "metadata": {},
     "output_type": "execute_result"
    }
   ],
   "source": [
    "from sklearn.preprocessing import Binarizer\n",
    "example = [[-0.3, 0.5, 0.7, 0.4, 0.6]]\n",
    "\n",
    "bi = Binarizer(threshold = 0.8)#threshold = 0.8) # 임계값 이상이면 true\n",
    "bi.fit(example)\n",
    "bi.transform(example)"
   ]
  },
  {
   "cell_type": "code",
   "execution_count": 78,
   "metadata": {},
   "outputs": [],
   "source": [
    "Binarizer?"
   ]
  },
  {
   "cell_type": "code",
   "execution_count": 85,
   "metadata": {},
   "outputs": [
    {
     "data": {
      "text/plain": [
       "0.9844444444444445"
      ]
     },
     "execution_count": 85,
     "metadata": {},
     "output_type": "execute_result"
    }
   ],
   "source": [
    "#머신러닝 모델에 적용머신러닝 모델에 적용\n",
    "\n",
    "pos_proba = tree.predict_proba(X_test)\n",
    "pos_proba\n",
    "\n",
    "binarizer = Binarizer(threshold = 0.7)\n",
    "binarizer.fit(pos_proba)\n",
    "predict = binarizer.transform(pos_proba)[:,1]\n",
    "predict\n",
    "\n",
    "accuracy_score(pred_test_tree, predict)\n",
    "\n",
    "#그게 우연히 잘 나눠졌을 수 있어요. 사용한 모델이 큰게 아니고 정제가 잘 되있는 모델이어서 결과가 대체적으로 잘나와요.\n"
   ]
  },
  {
   "cell_type": "code",
   "execution_count": 88,
   "metadata": {},
   "outputs": [
    {
     "data": {
      "text/plain": [
       "(0.7777777777777778, 0.7142857142857143)"
      ]
     },
     "execution_count": 88,
     "metadata": {},
     "output_type": "execute_result"
    }
   ],
   "source": [
    "pos_proba = tree.predict_proba(X_test)\n",
    "pos_proba\n",
    "\n",
    "binarizer = Binarizer(threshold= 0.5)\n",
    "binarizer.fit(pos_proba)\n",
    "predict = binarizer.transform(pos_proba)[:,-1]\n",
    "predict\n",
    "\n",
    "accuracy_score(pred_test_tree, predict)\n",
    "recall_score(y_test, predict), precision_score(y_test, predict)"
   ]
  },
  {
   "cell_type": "markdown",
   "metadata": {},
   "source": [
    "## PR Curve(Precision Recall Curve-정밀도 재현율 곡선)와 AP Score(Average Precision Score)\n",
    "- 0~1사이의 모든 임계값에 대하여 재현율(recall)과 정밀도(precision)의 변화를 이용한 평가 지표\n",
    "- X축에 재현율, Y축에 정밀도를 놓고 임계값이 0 → 1 변화할때 두 값의 변화를 선그래프로 그린다.\n",
    "- AP Score : 0~1사이 값이 나올 수 있고, 1로갈 수록 좋은 거. 1이면 recall, precision 다 1인 것.-> 이런 모델은 없다고 봐도 무방\n",
    "    - PR Curve의 성능평가 지표를 하나의 점수(숫자)로 평가한것.\n",
    "    - PR Curve의 선아래 면적을 계산한 값으로 높을 수록 성능이 우수하다.\n",
    "![image.png](attachment:image.png)   \n",
    "- recall이 크면 precision은 낮기 때문에 우하향의 형태로 나올 수 밖에 없음. recall이 올라가면서 precision은 떨어짐.\n",
    "- precision이 안좋은 모델 : ㄴ자로 그래프 나올때\n",
    "- recall이 올라가는데도 precision은 계속 높은 값을 유지 recall을 올려도 precision 적게떨어짐.: ㄱ자로 그래프 유지 -> AP SCORE 면적 넓어짐 : 면적 넓은게 좋다고 한 이유"
   ]
  },
  {
   "cell_type": "code",
   "execution_count": 91,
   "metadata": {},
   "outputs": [],
   "source": [
    "from sklearn.metrics import precision_recall_curve, plot_precision_recall_curve, average_precision_score"
   ]
  },
  {
   "cell_type": "code",
   "execution_count": 97,
   "metadata": {},
   "outputs": [
    {
     "data": {
      "text/plain": [
       "((8,), (8,), (8,))"
      ]
     },
     "execution_count": 97,
     "metadata": {},
     "output_type": "execute_result"
    }
   ],
   "source": [
    "pos_proba = tree.predict_proba(X_test)[:,1]\n",
    "\n",
    "precisions, recalls, thresholds = precision_recall_curve(y_test, pos_proba)\n",
    "#positive에 대한 확률값만 볼꺼니까\n",
    "\n",
    "thresholds = np.append(thresholds, 1)\n",
    "precisions.shape, recalls.shape, thresholds.shape"
   ]
  },
  {
   "cell_type": "code",
   "execution_count": 94,
   "metadata": {},
   "outputs": [
    {
     "data": {
      "text/plain": [
       "array([0.00843373, 0.00843373, 0.00843373, 0.00843373, 0.00843373,\n",
       "       0.0297619 , 0.00843373, 0.00843373, 0.00843373, 0.00843373,\n",
       "       0.00843373, 0.00843373, 0.03846154, 0.00843373, 0.00843373,\n",
       "       0.00843373, 0.00843373, 0.00843373, 0.00843373, 0.77165354,\n",
       "       0.00843373, 0.00843373, 0.00843373, 0.0297619 , 0.02173913,\n",
       "       0.00843373, 0.00843373, 0.00843373, 0.00843373, 0.77165354,\n",
       "       0.00843373, 0.77165354, 0.00843373, 0.00843373, 0.07258065,\n",
       "       0.00843373, 0.00843373, 0.00843373, 0.77165354, 0.00843373,\n",
       "       0.00843373, 0.00843373, 0.00843373, 0.00843373, 0.02173913,\n",
       "       0.0297619 , 0.07258065, 0.00843373, 0.00843373, 0.00843373,\n",
       "       0.00843373, 0.00843373, 0.07258065, 0.00843373, 0.00843373,\n",
       "       0.0297619 , 0.00843373, 0.0297619 , 0.00843373, 0.00843373,\n",
       "       0.00843373, 0.00843373, 0.00843373, 0.03846154, 0.00843373,\n",
       "       0.00843373, 0.07258065, 0.00843373, 0.00843373, 0.00843373,\n",
       "       0.03846154, 0.00843373, 0.00843373, 0.52      , 0.07258065,\n",
       "       0.0297619 , 0.00843373, 0.77165354, 0.07258065, 0.00843373,\n",
       "       0.00843373, 0.07258065, 0.0297619 , 0.00843373, 0.0297619 ,\n",
       "       0.00843373, 0.00843373, 0.07258065, 0.07258065, 0.77165354,\n",
       "       0.0297619 , 0.00843373, 0.52      , 0.00843373, 0.00843373,\n",
       "       0.00843373, 0.02173913, 0.0297619 , 0.03846154, 0.00843373,\n",
       "       0.00843373, 0.00843373, 0.00843373, 0.07258065, 0.00843373,\n",
       "       0.0297619 , 0.07258065, 0.07258065, 0.00843373, 0.77165354,\n",
       "       0.00843373, 0.00843373, 0.00843373, 0.03846154, 0.07258065,\n",
       "       0.00843373, 0.07258065, 0.77165354, 0.77165354, 0.77165354,\n",
       "       0.00843373, 0.0297619 , 0.77165354, 0.02173913, 0.0297619 ,\n",
       "       0.00843373, 0.0297619 , 0.00843373, 0.00843373, 0.07258065,\n",
       "       0.00843373, 0.00843373, 0.00843373, 0.00843373, 0.52      ,\n",
       "       0.00843373, 0.02173913, 0.00843373, 0.00843373, 0.07258065,\n",
       "       0.00843373, 0.00843373, 0.77165354, 0.00843373, 0.00843373,\n",
       "       0.0297619 , 0.02173913, 0.00843373, 0.00843373, 0.00843373,\n",
       "       0.00843373, 0.00843373, 0.00843373, 0.00843373, 0.00843373,\n",
       "       0.00843373, 0.00843373, 0.00843373, 0.77165354, 0.00843373,\n",
       "       0.77165354, 0.00843373, 0.77165354, 0.03846154, 0.00843373,\n",
       "       0.00843373, 0.00843373, 0.00843373, 0.00843373, 0.00843373,\n",
       "       0.00843373, 0.02173913, 0.07258065, 0.00843373, 0.00843373,\n",
       "       0.0297619 , 0.00843373, 0.00843373, 0.00843373, 0.0297619 ,\n",
       "       0.00843373, 0.00843373, 0.0297619 , 0.00843373, 0.07258065,\n",
       "       0.00843373, 0.07258065, 0.00843373, 0.77165354, 0.00843373,\n",
       "       0.07258065, 0.00843373, 0.0297619 , 0.77165354, 0.00843373,\n",
       "       0.00843373, 0.00843373, 0.00843373, 0.07258065, 0.02173913,\n",
       "       0.00843373, 0.0297619 , 0.00843373, 0.02173913, 0.00843373,\n",
       "       0.00843373, 0.00843373, 0.07258065, 0.0297619 , 0.0297619 ,\n",
       "       0.00843373, 0.0297619 , 0.00843373, 0.00843373, 0.00843373,\n",
       "       0.00843373, 0.00843373, 0.0297619 , 0.03846154, 0.0297619 ,\n",
       "       0.00843373, 0.77165354, 0.00843373, 0.00843373, 0.0297619 ,\n",
       "       0.00843373, 0.77165354, 0.00843373, 0.02173913, 0.07258065,\n",
       "       0.00843373, 0.07258065, 0.07258065, 0.00843373, 0.00843373,\n",
       "       0.00843373, 0.77165354, 0.00843373, 0.07258065, 0.00843373,\n",
       "       0.77165354, 0.00843373, 0.0297619 , 0.00843373, 0.00843373,\n",
       "       0.77165354, 0.07258065, 0.0297619 , 0.0297619 , 0.07258065,\n",
       "       0.00843373, 0.00843373, 0.07258065, 0.00843373, 0.00843373,\n",
       "       0.03846154, 0.00843373, 0.0297619 , 0.00843373, 0.00843373,\n",
       "       0.07258065, 0.00843373, 0.02173913, 0.0297619 , 0.0297619 ,\n",
       "       0.00843373, 0.00843373, 0.00843373, 0.00843373, 0.00843373,\n",
       "       0.02173913, 0.03846154, 0.00843373, 0.00843373, 0.0297619 ,\n",
       "       0.00843373, 0.00843373, 0.52      , 0.00843373, 0.00843373,\n",
       "       0.00843373, 0.00843373, 0.00843373, 0.07258065, 0.00843373,\n",
       "       0.77165354, 0.00843373, 0.00843373, 0.0297619 , 0.00843373,\n",
       "       0.77165354, 0.00843373, 0.00843373, 0.00843373, 0.00843373,\n",
       "       0.00843373, 0.00843373, 0.00843373, 0.00843373, 0.00843373,\n",
       "       0.07258065, 0.07258065, 0.00843373, 0.00843373, 0.0297619 ,\n",
       "       0.77165354, 0.77165354, 0.00843373, 0.00843373, 0.07258065,\n",
       "       0.52      , 0.07258065, 0.00843373, 0.0297619 , 0.00843373,\n",
       "       0.00843373, 0.00843373, 0.00843373, 0.02173913, 0.00843373,\n",
       "       0.77165354, 0.00843373, 0.52      , 0.00843373, 0.00843373,\n",
       "       0.00843373, 0.77165354, 0.00843373, 0.00843373, 0.0297619 ,\n",
       "       0.02173913, 0.00843373, 0.77165354, 0.00843373, 0.00843373,\n",
       "       0.00843373, 0.00843373, 0.00843373, 0.00843373, 0.00843373,\n",
       "       0.77165354, 0.00843373, 0.77165354, 0.00843373, 0.03846154,\n",
       "       0.07258065, 0.00843373, 0.00843373, 0.00843373, 0.00843373,\n",
       "       0.00843373, 0.00843373, 0.00843373, 0.00843373, 0.00843373,\n",
       "       0.00843373, 0.0297619 , 0.00843373, 0.00843373, 0.07258065,\n",
       "       0.0297619 , 0.00843373, 0.00843373, 0.00843373, 0.0297619 ,\n",
       "       0.00843373, 0.77165354, 0.00843373, 0.00843373, 0.00843373,\n",
       "       0.00843373, 0.77165354, 0.00843373, 0.00843373, 0.00843373,\n",
       "       0.03846154, 0.00843373, 0.07258065, 0.00843373, 0.00843373,\n",
       "       0.00843373, 0.00843373, 0.77165354, 0.00843373, 0.00843373,\n",
       "       0.00843373, 0.00843373, 0.0297619 , 0.00843373, 0.00843373,\n",
       "       0.00843373, 0.00843373, 0.0297619 , 0.77165354, 0.00843373,\n",
       "       0.00843373, 0.07258065, 0.77165354, 0.00843373, 0.77165354,\n",
       "       0.0297619 , 0.00843373, 0.00843373, 0.00843373, 0.00843373,\n",
       "       0.00843373, 0.77165354, 0.02173913, 0.0297619 , 0.0297619 ,\n",
       "       0.00843373, 0.00843373, 0.00843373, 0.00843373, 0.00843373,\n",
       "       0.07258065, 0.0297619 , 0.52      , 0.0297619 , 0.00843373,\n",
       "       0.07258065, 0.0297619 , 0.07258065, 0.0297619 , 0.00843373,\n",
       "       0.03846154, 0.00843373, 0.00843373, 0.00843373, 0.00843373,\n",
       "       0.00843373, 0.77165354, 0.00843373, 0.77165354, 0.00843373,\n",
       "       0.00843373, 0.00843373, 0.77165354, 0.00843373, 0.00843373,\n",
       "       0.0297619 , 0.00843373, 0.0297619 , 0.77165354, 0.00843373,\n",
       "       0.02173913, 0.00843373, 0.00843373, 0.07258065, 0.00843373])"
      ]
     },
     "execution_count": 94,
     "metadata": {},
     "output_type": "execute_result"
    }
   ],
   "source": [
    "pos_proba = tree.predict_proba(X_test)[:,1]\n",
    "pos_proba"
   ]
  },
  {
   "cell_type": "code",
   "execution_count": 98,
   "metadata": {},
   "outputs": [
    {
     "data": {
      "text/plain": [
       "array([0.00843373, 0.02173913, 0.0297619 , 0.03846154, 0.07258065,\n",
       "       0.52      , 0.77165354, 1.        ])"
      ]
     },
     "execution_count": 98,
     "metadata": {},
     "output_type": "execute_result"
    }
   ],
   "source": [
    "thresholds"
   ]
  },
  {
   "cell_type": "code",
   "execution_count": 99,
   "metadata": {},
   "outputs": [
    {
     "data": {
      "text/html": [
       "<div>\n",
       "<style scoped>\n",
       "    .dataframe tbody tr th:only-of-type {\n",
       "        vertical-align: middle;\n",
       "    }\n",
       "\n",
       "    .dataframe tbody tr th {\n",
       "        vertical-align: top;\n",
       "    }\n",
       "\n",
       "    .dataframe thead th {\n",
       "        text-align: right;\n",
       "    }\n",
       "</style>\n",
       "<table border=\"1\" class=\"dataframe\">\n",
       "  <thead>\n",
       "    <tr style=\"text-align: right;\">\n",
       "      <th></th>\n",
       "      <th>thresholds</th>\n",
       "      <th>recall</th>\n",
       "      <th>precision</th>\n",
       "    </tr>\n",
       "  </thead>\n",
       "  <tbody>\n",
       "    <tr>\n",
       "      <th>0</th>\n",
       "      <td>0.008434</td>\n",
       "      <td>1.000000</td>\n",
       "      <td>0.100000</td>\n",
       "    </tr>\n",
       "    <tr>\n",
       "      <th>1</th>\n",
       "      <td>0.021739</td>\n",
       "      <td>0.888889</td>\n",
       "      <td>0.233918</td>\n",
       "    </tr>\n",
       "    <tr>\n",
       "      <th>2</th>\n",
       "      <td>0.029762</td>\n",
       "      <td>0.866667</td>\n",
       "      <td>0.251613</td>\n",
       "    </tr>\n",
       "    <tr>\n",
       "      <th>3</th>\n",
       "      <td>0.038462</td>\n",
       "      <td>0.844444</td>\n",
       "      <td>0.365385</td>\n",
       "    </tr>\n",
       "    <tr>\n",
       "      <th>4</th>\n",
       "      <td>0.072581</td>\n",
       "      <td>0.844444</td>\n",
       "      <td>0.413043</td>\n",
       "    </tr>\n",
       "    <tr>\n",
       "      <th>5</th>\n",
       "      <td>0.520000</td>\n",
       "      <td>0.777778</td>\n",
       "      <td>0.714286</td>\n",
       "    </tr>\n",
       "    <tr>\n",
       "      <th>6</th>\n",
       "      <td>0.771654</td>\n",
       "      <td>0.688889</td>\n",
       "      <td>0.738095</td>\n",
       "    </tr>\n",
       "    <tr>\n",
       "      <th>7</th>\n",
       "      <td>1.000000</td>\n",
       "      <td>0.000000</td>\n",
       "      <td>1.000000</td>\n",
       "    </tr>\n",
       "  </tbody>\n",
       "</table>\n",
       "</div>"
      ],
      "text/plain": [
       "   thresholds    recall  precision\n",
       "0    0.008434  1.000000   0.100000\n",
       "1    0.021739  0.888889   0.233918\n",
       "2    0.029762  0.866667   0.251613\n",
       "3    0.038462  0.844444   0.365385\n",
       "4    0.072581  0.844444   0.413043\n",
       "5    0.520000  0.777778   0.714286\n",
       "6    0.771654  0.688889   0.738095\n",
       "7    1.000000  0.000000   1.000000"
      ]
     },
     "execution_count": 99,
     "metadata": {},
     "output_type": "execute_result"
    }
   ],
   "source": [
    "pd.DataFrame({\n",
    "    'thresholds':thresholds,\n",
    "    'recall':recalls,\n",
    "    'precision':precisions\n",
    "})"
   ]
  },
  {
   "cell_type": "code",
   "execution_count": 100,
   "metadata": {},
   "outputs": [
    {
     "data": {
      "image/png": "[encoded data removed]",
      "text/plain": [
       "<Figure size 504x504 with 1 Axes>"
      ]
     },
     "metadata": {
      "needs_background": "light"
     },
     "output_type": "display_data"
    }
   ],
   "source": [
    "plt.figure(figsize=(7,7))\n",
    "plt.plot(recalls, precisions, marker ='o')\n",
    "plt.xlabel('recall')\n",
    "plt.ylabel('precision')\n",
    "plt.grid(True)\n",
    "plt.show()"
   ]
  },
  {
   "cell_type": "code",
   "execution_count": 107,
   "metadata": {},
   "outputs": [
    {
     "data": {
      "image/png": "[encoded data removed]",
      "text/plain": [
       "<Figure size 504x504 with 1 Axes>"
      ]
     },
     "metadata": {
      "needs_background": "light"
     },
     "output_type": "display_data"
    }
   ],
   "source": [
    "fig,ax = plt.subplots(1,1,figsize =(7,7))\n",
    "#plt.gca()\n",
    "\n",
    "plot_precision_recall_curve(tree,\n",
    "                           X_test,\n",
    "                           y_test,\n",
    "                           ax=ax)\n",
    "plt.grid(True)\n",
    "plt.show()\n",
    "#원래는 내부적을 axes 를 만들어 쓰는데, 내가 만든 axes 에 받아서 만들어라"
   ]
  },
  {
   "cell_type": "code",
   "execution_count": 105,
   "metadata": {},
   "outputs": [
    {
     "data": {
      "text/plain": [
       "array([[ 0.,  0.,  5., ...,  2.,  0.,  0.],\n",
       "       [ 0.,  1., 15., ...,  1.,  0.,  0.],\n",
       "       [ 0.,  0.,  0., ..., 11.,  2.,  0.],\n",
       "       ...,\n",
       "       [ 0.,  0.,  0., ...,  0.,  0.,  0.],\n",
       "       [ 0.,  2., 11., ..., 14.,  2.,  0.],\n",
       "       [ 0.,  0.,  2., ..., 10.,  0.,  0.]])"
      ]
     },
     "execution_count": 105,
     "metadata": {},
     "output_type": "execute_result"
    }
   ],
   "source": [
    "X_test"
   ]
  },
  {
   "cell_type": "code",
   "execution_count": 108,
   "metadata": {},
   "outputs": [
    {
     "data": {
      "text/plain": [
       "0.6213945934390805"
      ]
     },
     "execution_count": 108,
     "metadata": {},
     "output_type": "execute_result"
    }
   ],
   "source": [
    "average_precision_score(y_test, pos_proba)"
   ]
  },
  {
   "cell_type": "code",
   "execution_count": 109,
   "metadata": {},
   "outputs": [],
   "source": [
    "#trainset 에 대해 pr curve, ap score\n",
    "\n",
    "pos_proba_train = tree.predict_proba(X_train)[:,1]\n",
    "\n",
    "precisions_train, recalls_train, thresholds_train = precision_recall_curve(y_train, pos_proba_train)\n",
    "thresholds_train = np.append(thresholds_train,1)\n"
   ]
  },
  {
   "cell_type": "code",
   "execution_count": 111,
   "metadata": {},
   "outputs": [],
   "source": [
    "pos_proba_train_rf = rf.predict_proba(X_train)[:,1]\n",
    "precisions_train_rf, recalls_train_rf, thresholds_train_rf = precision_recall_curve(y_train, pos_proba_train_rf)"
   ]
  },
  {
   "cell_type": "code",
   "execution_count": 113,
   "metadata": {},
   "outputs": [
    {
     "data": {
      "text/html": [
       "<div>\n",
       "<style scoped>\n",
       "    .dataframe tbody tr th:only-of-type {\n",
       "        vertical-align: middle;\n",
       "    }\n",
       "\n",
       "    .dataframe tbody tr th {\n",
       "        vertical-align: top;\n",
       "    }\n",
       "\n",
       "    .dataframe thead th {\n",
       "        text-align: right;\n",
       "    }\n",
       "</style>\n",
       "<table border=\"1\" class=\"dataframe\">\n",
       "  <thead>\n",
       "    <tr style=\"text-align: right;\">\n",
       "      <th></th>\n",
       "      <th>threshold</th>\n",
       "      <th>recall</th>\n",
       "      <th>precision</th>\n",
       "    </tr>\n",
       "  </thead>\n",
       "  <tbody>\n",
       "    <tr>\n",
       "      <th>0</th>\n",
       "      <td>0.008434</td>\n",
       "      <td>1.000000</td>\n",
       "      <td>0.100223</td>\n",
       "    </tr>\n",
       "    <tr>\n",
       "      <th>1</th>\n",
       "      <td>0.021739</td>\n",
       "      <td>0.948148</td>\n",
       "      <td>0.247582</td>\n",
       "    </tr>\n",
       "    <tr>\n",
       "      <th>2</th>\n",
       "      <td>0.029762</td>\n",
       "      <td>0.940741</td>\n",
       "      <td>0.269639</td>\n",
       "    </tr>\n",
       "    <tr>\n",
       "      <th>3</th>\n",
       "      <td>0.038462</td>\n",
       "      <td>0.903704</td>\n",
       "      <td>0.402640</td>\n",
       "    </tr>\n",
       "    <tr>\n",
       "      <th>4</th>\n",
       "      <td>0.072581</td>\n",
       "      <td>0.896296</td>\n",
       "      <td>0.436823</td>\n",
       "    </tr>\n",
       "    <tr>\n",
       "      <th>5</th>\n",
       "      <td>0.520000</td>\n",
       "      <td>0.829630</td>\n",
       "      <td>0.732026</td>\n",
       "    </tr>\n",
       "    <tr>\n",
       "      <th>6</th>\n",
       "      <td>0.771654</td>\n",
       "      <td>0.733333</td>\n",
       "      <td>0.773438</td>\n",
       "    </tr>\n",
       "    <tr>\n",
       "      <th>7</th>\n",
       "      <td>1.000000</td>\n",
       "      <td>0.007407</td>\n",
       "      <td>1.000000</td>\n",
       "    </tr>\n",
       "    <tr>\n",
       "      <th>8</th>\n",
       "      <td>1.000000</td>\n",
       "      <td>0.000000</td>\n",
       "      <td>1.000000</td>\n",
       "    </tr>\n",
       "  </tbody>\n",
       "</table>\n",
       "</div>"
      ],
      "text/plain": [
       "   threshold    recall  precision\n",
       "0   0.008434  1.000000   0.100223\n",
       "1   0.021739  0.948148   0.247582\n",
       "2   0.029762  0.940741   0.269639\n",
       "3   0.038462  0.903704   0.402640\n",
       "4   0.072581  0.896296   0.436823\n",
       "5   0.520000  0.829630   0.732026\n",
       "6   0.771654  0.733333   0.773438\n",
       "7   1.000000  0.007407   1.000000\n",
       "8   1.000000  0.000000   1.000000"
      ]
     },
     "execution_count": 113,
     "metadata": {},
     "output_type": "execute_result"
    }
   ],
   "source": [
    "pd.DataFrame(dict(threshold= thresholds_train, recall = recalls_train, precision=precisions_train))"
   ]
  },
  {
   "cell_type": "code",
   "execution_count": 115,
   "metadata": {
    "collapsed": true
   },
   "outputs": [
    {
     "data": {
      "text/html": [
       "<div>\n",
       "<style scoped>\n",
       "    .dataframe tbody tr th:only-of-type {\n",
       "        vertical-align: middle;\n",
       "    }\n",
       "\n",
       "    .dataframe tbody tr th {\n",
       "        vertical-align: top;\n",
       "    }\n",
       "\n",
       "    .dataframe thead th {\n",
       "        text-align: right;\n",
       "    }\n",
       "</style>\n",
       "<table border=\"1\" class=\"dataframe\">\n",
       "  <thead>\n",
       "    <tr style=\"text-align: right;\">\n",
       "      <th></th>\n",
       "      <th>threshold</th>\n",
       "      <th>recall</th>\n",
       "      <th>precision</th>\n",
       "    </tr>\n",
       "  </thead>\n",
       "  <tbody>\n",
       "    <tr>\n",
       "      <th>0</th>\n",
       "      <td>0.680</td>\n",
       "      <td>1.000000</td>\n",
       "      <td>1.0</td>\n",
       "    </tr>\n",
       "    <tr>\n",
       "      <th>1</th>\n",
       "      <td>0.685</td>\n",
       "      <td>0.992593</td>\n",
       "      <td>1.0</td>\n",
       "    </tr>\n",
       "    <tr>\n",
       "      <th>2</th>\n",
       "      <td>0.690</td>\n",
       "      <td>0.985185</td>\n",
       "      <td>1.0</td>\n",
       "    </tr>\n",
       "    <tr>\n",
       "      <th>3</th>\n",
       "      <td>0.695</td>\n",
       "      <td>0.977778</td>\n",
       "      <td>1.0</td>\n",
       "    </tr>\n",
       "    <tr>\n",
       "      <th>4</th>\n",
       "      <td>0.715</td>\n",
       "      <td>0.962963</td>\n",
       "      <td>1.0</td>\n",
       "    </tr>\n",
       "    <tr>\n",
       "      <th>5</th>\n",
       "      <td>0.720</td>\n",
       "      <td>0.955556</td>\n",
       "      <td>1.0</td>\n",
       "    </tr>\n",
       "    <tr>\n",
       "      <th>6</th>\n",
       "      <td>0.730</td>\n",
       "      <td>0.948148</td>\n",
       "      <td>1.0</td>\n",
       "    </tr>\n",
       "    <tr>\n",
       "      <th>7</th>\n",
       "      <td>0.735</td>\n",
       "      <td>0.933333</td>\n",
       "      <td>1.0</td>\n",
       "    </tr>\n",
       "    <tr>\n",
       "      <th>8</th>\n",
       "      <td>0.740</td>\n",
       "      <td>0.925926</td>\n",
       "      <td>1.0</td>\n",
       "    </tr>\n",
       "    <tr>\n",
       "      <th>9</th>\n",
       "      <td>0.745</td>\n",
       "      <td>0.911111</td>\n",
       "      <td>1.0</td>\n",
       "    </tr>\n",
       "    <tr>\n",
       "      <th>10</th>\n",
       "      <td>0.750</td>\n",
       "      <td>0.888889</td>\n",
       "      <td>1.0</td>\n",
       "    </tr>\n",
       "    <tr>\n",
       "      <th>11</th>\n",
       "      <td>0.760</td>\n",
       "      <td>0.881481</td>\n",
       "      <td>1.0</td>\n",
       "    </tr>\n",
       "    <tr>\n",
       "      <th>12</th>\n",
       "      <td>0.765</td>\n",
       "      <td>0.874074</td>\n",
       "      <td>1.0</td>\n",
       "    </tr>\n",
       "    <tr>\n",
       "      <th>13</th>\n",
       "      <td>0.770</td>\n",
       "      <td>0.859259</td>\n",
       "      <td>1.0</td>\n",
       "    </tr>\n",
       "    <tr>\n",
       "      <th>14</th>\n",
       "      <td>0.780</td>\n",
       "      <td>0.851852</td>\n",
       "      <td>1.0</td>\n",
       "    </tr>\n",
       "    <tr>\n",
       "      <th>15</th>\n",
       "      <td>0.785</td>\n",
       "      <td>0.844444</td>\n",
       "      <td>1.0</td>\n",
       "    </tr>\n",
       "    <tr>\n",
       "      <th>16</th>\n",
       "      <td>0.790</td>\n",
       "      <td>0.837037</td>\n",
       "      <td>1.0</td>\n",
       "    </tr>\n",
       "    <tr>\n",
       "      <th>17</th>\n",
       "      <td>0.795</td>\n",
       "      <td>0.829630</td>\n",
       "      <td>1.0</td>\n",
       "    </tr>\n",
       "    <tr>\n",
       "      <th>18</th>\n",
       "      <td>0.800</td>\n",
       "      <td>0.807407</td>\n",
       "      <td>1.0</td>\n",
       "    </tr>\n",
       "    <tr>\n",
       "      <th>19</th>\n",
       "      <td>0.805</td>\n",
       "      <td>0.800000</td>\n",
       "      <td>1.0</td>\n",
       "    </tr>\n",
       "    <tr>\n",
       "      <th>20</th>\n",
       "      <td>0.810</td>\n",
       "      <td>0.785185</td>\n",
       "      <td>1.0</td>\n",
       "    </tr>\n",
       "    <tr>\n",
       "      <th>21</th>\n",
       "      <td>0.815</td>\n",
       "      <td>0.770370</td>\n",
       "      <td>1.0</td>\n",
       "    </tr>\n",
       "    <tr>\n",
       "      <th>22</th>\n",
       "      <td>0.820</td>\n",
       "      <td>0.762963</td>\n",
       "      <td>1.0</td>\n",
       "    </tr>\n",
       "    <tr>\n",
       "      <th>23</th>\n",
       "      <td>0.835</td>\n",
       "      <td>0.748148</td>\n",
       "      <td>1.0</td>\n",
       "    </tr>\n",
       "    <tr>\n",
       "      <th>24</th>\n",
       "      <td>0.840</td>\n",
       "      <td>0.740741</td>\n",
       "      <td>1.0</td>\n",
       "    </tr>\n",
       "    <tr>\n",
       "      <th>25</th>\n",
       "      <td>0.845</td>\n",
       "      <td>0.733333</td>\n",
       "      <td>1.0</td>\n",
       "    </tr>\n",
       "    <tr>\n",
       "      <th>26</th>\n",
       "      <td>0.850</td>\n",
       "      <td>0.703704</td>\n",
       "      <td>1.0</td>\n",
       "    </tr>\n",
       "    <tr>\n",
       "      <th>27</th>\n",
       "      <td>0.855</td>\n",
       "      <td>0.681481</td>\n",
       "      <td>1.0</td>\n",
       "    </tr>\n",
       "    <tr>\n",
       "      <th>28</th>\n",
       "      <td>0.860</td>\n",
       "      <td>0.659259</td>\n",
       "      <td>1.0</td>\n",
       "    </tr>\n",
       "    <tr>\n",
       "      <th>29</th>\n",
       "      <td>0.865</td>\n",
       "      <td>0.644444</td>\n",
       "      <td>1.0</td>\n",
       "    </tr>\n",
       "    <tr>\n",
       "      <th>30</th>\n",
       "      <td>0.870</td>\n",
       "      <td>0.614815</td>\n",
       "      <td>1.0</td>\n",
       "    </tr>\n",
       "    <tr>\n",
       "      <th>31</th>\n",
       "      <td>0.875</td>\n",
       "      <td>0.592593</td>\n",
       "      <td>1.0</td>\n",
       "    </tr>\n",
       "    <tr>\n",
       "      <th>32</th>\n",
       "      <td>0.880</td>\n",
       "      <td>0.570370</td>\n",
       "      <td>1.0</td>\n",
       "    </tr>\n",
       "    <tr>\n",
       "      <th>33</th>\n",
       "      <td>0.885</td>\n",
       "      <td>0.548148</td>\n",
       "      <td>1.0</td>\n",
       "    </tr>\n",
       "    <tr>\n",
       "      <th>34</th>\n",
       "      <td>0.890</td>\n",
       "      <td>0.540741</td>\n",
       "      <td>1.0</td>\n",
       "    </tr>\n",
       "    <tr>\n",
       "      <th>35</th>\n",
       "      <td>0.895</td>\n",
       "      <td>0.488889</td>\n",
       "      <td>1.0</td>\n",
       "    </tr>\n",
       "    <tr>\n",
       "      <th>36</th>\n",
       "      <td>0.900</td>\n",
       "      <td>0.474074</td>\n",
       "      <td>1.0</td>\n",
       "    </tr>\n",
       "    <tr>\n",
       "      <th>37</th>\n",
       "      <td>0.905</td>\n",
       "      <td>0.444444</td>\n",
       "      <td>1.0</td>\n",
       "    </tr>\n",
       "    <tr>\n",
       "      <th>38</th>\n",
       "      <td>0.910</td>\n",
       "      <td>0.414815</td>\n",
       "      <td>1.0</td>\n",
       "    </tr>\n",
       "    <tr>\n",
       "      <th>39</th>\n",
       "      <td>0.915</td>\n",
       "      <td>0.407407</td>\n",
       "      <td>1.0</td>\n",
       "    </tr>\n",
       "    <tr>\n",
       "      <th>40</th>\n",
       "      <td>0.920</td>\n",
       "      <td>0.392593</td>\n",
       "      <td>1.0</td>\n",
       "    </tr>\n",
       "    <tr>\n",
       "      <th>41</th>\n",
       "      <td>0.925</td>\n",
       "      <td>0.377778</td>\n",
       "      <td>1.0</td>\n",
       "    </tr>\n",
       "    <tr>\n",
       "      <th>42</th>\n",
       "      <td>0.930</td>\n",
       "      <td>0.355556</td>\n",
       "      <td>1.0</td>\n",
       "    </tr>\n",
       "    <tr>\n",
       "      <th>43</th>\n",
       "      <td>0.935</td>\n",
       "      <td>0.325926</td>\n",
       "      <td>1.0</td>\n",
       "    </tr>\n",
       "    <tr>\n",
       "      <th>44</th>\n",
       "      <td>0.940</td>\n",
       "      <td>0.311111</td>\n",
       "      <td>1.0</td>\n",
       "    </tr>\n",
       "    <tr>\n",
       "      <th>45</th>\n",
       "      <td>0.945</td>\n",
       "      <td>0.303704</td>\n",
       "      <td>1.0</td>\n",
       "    </tr>\n",
       "    <tr>\n",
       "      <th>46</th>\n",
       "      <td>0.950</td>\n",
       "      <td>0.266667</td>\n",
       "      <td>1.0</td>\n",
       "    </tr>\n",
       "    <tr>\n",
       "      <th>47</th>\n",
       "      <td>0.955</td>\n",
       "      <td>0.229630</td>\n",
       "      <td>1.0</td>\n",
       "    </tr>\n",
       "    <tr>\n",
       "      <th>48</th>\n",
       "      <td>0.960</td>\n",
       "      <td>0.170370</td>\n",
       "      <td>1.0</td>\n",
       "    </tr>\n",
       "    <tr>\n",
       "      <th>49</th>\n",
       "      <td>0.965</td>\n",
       "      <td>0.140741</td>\n",
       "      <td>1.0</td>\n",
       "    </tr>\n",
       "    <tr>\n",
       "      <th>50</th>\n",
       "      <td>0.970</td>\n",
       "      <td>0.133333</td>\n",
       "      <td>1.0</td>\n",
       "    </tr>\n",
       "    <tr>\n",
       "      <th>51</th>\n",
       "      <td>0.975</td>\n",
       "      <td>0.111111</td>\n",
       "      <td>1.0</td>\n",
       "    </tr>\n",
       "    <tr>\n",
       "      <th>52</th>\n",
       "      <td>0.980</td>\n",
       "      <td>0.059259</td>\n",
       "      <td>1.0</td>\n",
       "    </tr>\n",
       "    <tr>\n",
       "      <th>53</th>\n",
       "      <td>0.985</td>\n",
       "      <td>0.037037</td>\n",
       "      <td>1.0</td>\n",
       "    </tr>\n",
       "    <tr>\n",
       "      <th>54</th>\n",
       "      <td>0.990</td>\n",
       "      <td>0.029630</td>\n",
       "      <td>1.0</td>\n",
       "    </tr>\n",
       "    <tr>\n",
       "      <th>55</th>\n",
       "      <td>0.995</td>\n",
       "      <td>0.014815</td>\n",
       "      <td>1.0</td>\n",
       "    </tr>\n",
       "    <tr>\n",
       "      <th>56</th>\n",
       "      <td>1.000</td>\n",
       "      <td>0.000000</td>\n",
       "      <td>1.0</td>\n",
       "    </tr>\n",
       "  </tbody>\n",
       "</table>\n",
       "</div>"
      ],
      "text/plain": [
       "    threshold    recall  precision\n",
       "0       0.680  1.000000        1.0\n",
       "1       0.685  0.992593        1.0\n",
       "2       0.690  0.985185        1.0\n",
       "3       0.695  0.977778        1.0\n",
       "4       0.715  0.962963        1.0\n",
       "5       0.720  0.955556        1.0\n",
       "6       0.730  0.948148        1.0\n",
       "7       0.735  0.933333        1.0\n",
       "8       0.740  0.925926        1.0\n",
       "9       0.745  0.911111        1.0\n",
       "10      0.750  0.888889        1.0\n",
       "11      0.760  0.881481        1.0\n",
       "12      0.765  0.874074        1.0\n",
       "13      0.770  0.859259        1.0\n",
       "14      0.780  0.851852        1.0\n",
       "15      0.785  0.844444        1.0\n",
       "16      0.790  0.837037        1.0\n",
       "17      0.795  0.829630        1.0\n",
       "18      0.800  0.807407        1.0\n",
       "19      0.805  0.800000        1.0\n",
       "20      0.810  0.785185        1.0\n",
       "21      0.815  0.770370        1.0\n",
       "22      0.820  0.762963        1.0\n",
       "23      0.835  0.748148        1.0\n",
       "24      0.840  0.740741        1.0\n",
       "25      0.845  0.733333        1.0\n",
       "26      0.850  0.703704        1.0\n",
       "27      0.855  0.681481        1.0\n",
       "28      0.860  0.659259        1.0\n",
       "29      0.865  0.644444        1.0\n",
       "30      0.870  0.614815        1.0\n",
       "31      0.875  0.592593        1.0\n",
       "32      0.880  0.570370        1.0\n",
       "33      0.885  0.548148        1.0\n",
       "34      0.890  0.540741        1.0\n",
       "35      0.895  0.488889        1.0\n",
       "36      0.900  0.474074        1.0\n",
       "37      0.905  0.444444        1.0\n",
       "38      0.910  0.414815        1.0\n",
       "39      0.915  0.407407        1.0\n",
       "40      0.920  0.392593        1.0\n",
       "41      0.925  0.377778        1.0\n",
       "42      0.930  0.355556        1.0\n",
       "43      0.935  0.325926        1.0\n",
       "44      0.940  0.311111        1.0\n",
       "45      0.945  0.303704        1.0\n",
       "46      0.950  0.266667        1.0\n",
       "47      0.955  0.229630        1.0\n",
       "48      0.960  0.170370        1.0\n",
       "49      0.965  0.140741        1.0\n",
       "50      0.970  0.133333        1.0\n",
       "51      0.975  0.111111        1.0\n",
       "52      0.980  0.059259        1.0\n",
       "53      0.985  0.037037        1.0\n",
       "54      0.990  0.029630        1.0\n",
       "55      0.995  0.014815        1.0\n",
       "56      1.000  0.000000        1.0"
      ]
     },
     "execution_count": 115,
     "metadata": {},
     "output_type": "execute_result"
    }
   ],
   "source": [
    "pd.DataFrame(dict(threshold = np.append(thresholds_train_rf,1),recall =recalls_train_rf, precision = precisions_train_rf))"
   ]
  },
  {
   "cell_type": "code",
   "execution_count": 116,
   "metadata": {},
   "outputs": [
    {
     "data": {
      "image/png": "[encoded data removed]",
      "text/plain": [
       "<Figure size 504x504 with 1 Axes>"
      ]
     },
     "metadata": {
      "needs_background": "light"
     },
     "output_type": "display_data"
    }
   ],
   "source": [
    "plt.figure(figsize=(7,7))\n",
    "ax = plt.gca() # 현재 axes get\n",
    "plot_precision_recall_curve(tree,X_train,y_train, ax = ax)\n",
    "plot_precision_recall_curve(rf, X_train, y_train, ax = ax)\n",
    "\n",
    "plt.grid(True)\n",
    "plt.show()"
   ]
  },
  {
   "cell_type": "code",
   "execution_count": 117,
   "metadata": {},
   "outputs": [
    {
     "data": {
      "text/plain": [
       "0.6884785157756024"
      ]
     },
     "execution_count": 117,
     "metadata": {},
     "output_type": "execute_result"
    }
   ],
   "source": [
    "average_precision_score(y_train, pos_proba_train)"
   ]
  },
  {
   "cell_type": "code",
   "execution_count": 118,
   "metadata": {},
   "outputs": [
    {
     "data": {
      "text/plain": [
       "1.0"
      ]
     },
     "execution_count": 118,
     "metadata": {},
     "output_type": "execute_result"
    }
   ],
   "source": [
    "average_precision_score(y_train, pos_proba_train_rf)"
   ]
  },
  {
   "cell_type": "code",
   "execution_count": null,
   "metadata": {},
   "outputs": [],
   "source": []
  },
  {
   "cell_type": "code",
   "execution_count": null,
   "metadata": {},
   "outputs": [],
   "source": []
  },
  {
   "cell_type": "code",
   "execution_count": null,
   "metadata": {},
   "outputs": [],
   "source": []
  },
  {
   "cell_type": "code",
   "execution_count": null,
   "metadata": {},
   "outputs": [],
   "source": []
  }
 ],
 "metadata": {
  "kernelspec": {
   "display_name": "Python 3",
   "language": "python",
   "name": "python3"
  },
  "language_info": {
   "codemirror_mode": {
    "name": "ipython",
    "version": 3
   },
   "file_extension": ".py",
   "mimetype": "text/x-python",
   "name": "python",
   "nbconvert_exporter": "python",
   "pygments_lexer": "ipython3",
   "version": "3.8.5"
  }
 },
 "nbformat": 4,
 "nbformat_minor": 4
}
